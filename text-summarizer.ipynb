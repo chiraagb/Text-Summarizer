{
 "cells": [
  {
   "cell_type": "markdown",
   "metadata": {},
   "source": [
    "# Text Summarization with Frequency based algorithm"
   ]
  },
  {
   "cell_type": "code",
   "execution_count": 1,
   "metadata": {},
   "outputs": [],
   "source": [
    "import re\n",
    "import nltk\n",
    "import string"
   ]
  },
  {
   "cell_type": "markdown",
   "metadata": {},
   "source": [
    "### Preprocessing the text"
   ]
  },
  {
   "cell_type": "code",
   "execution_count": 2,
   "metadata": {},
   "outputs": [],
   "source": [
    "original_text = '''Artificial intelligence is human like intelligence. \n",
    "                   It is the study of intelligent artificial agents. \n",
    "                   Science and engineering to produce intelligent machines. \n",
    "                   Solve problems and have intelligence. \n",
    "                   Related to intelligent behavior. \n",
    "                   Developing of reasoning machines. \n",
    "                   Learn from mistakes and successes. \n",
    "                   Artificial intelligence is related to reasoning in everyday situations.'''"
   ]
  },
  {
   "cell_type": "code",
   "execution_count": 3,
   "metadata": {},
   "outputs": [
    {
     "data": {
      "text/plain": [
       "'Artificial intelligence is human like intelligence. \\n                   It is the study of intelligent artificial agents. \\n                   Science and engineering to produce intelligent machines. \\n                   Solve problems and have intelligence. \\n                   Related to intelligent behavior. \\n                   Developing of reasoning machines. \\n                   Learn from mistakes and successes. \\n                   Artificial intelligence is related to reasoning in everyday situations.'"
      ]
     },
     "execution_count": 3,
     "metadata": {},
     "output_type": "execute_result"
    }
   ],
   "source": [
    "original_text"
   ]
  },
  {
   "cell_type": "code",
   "execution_count": 4,
   "metadata": {},
   "outputs": [],
   "source": [
    "# To remove the one or more spaces and replace with a single space.\n",
    "original_text = re.sub(r'\\s+',' ',original_text)"
   ]
  },
  {
   "cell_type": "code",
   "execution_count": 5,
   "metadata": {},
   "outputs": [
    {
     "data": {
      "text/plain": [
       "'Artificial intelligence is human like intelligence. It is the study of intelligent artificial agents. Science and engineering to produce intelligent machines. Solve problems and have intelligence. Related to intelligent behavior. Developing of reasoning machines. Learn from mistakes and successes. Artificial intelligence is related to reasoning in everyday situations.'"
      ]
     },
     "execution_count": 5,
     "metadata": {},
     "output_type": "execute_result"
    }
   ],
   "source": [
    "original_text"
   ]
  },
  {
   "cell_type": "markdown",
   "metadata": {},
   "source": [
    "### Lowercase the letters and remove the stop words(which are not so useful)"
   ]
  },
  {
   "cell_type": "code",
   "execution_count": 6,
   "metadata": {},
   "outputs": [
    {
     "name": "stderr",
     "output_type": "stream",
     "text": [
      "[nltk_data] Downloading package punkt to\n",
      "[nltk_data]     C:\\Users\\chirag\\AppData\\Roaming\\nltk_data...\n",
      "[nltk_data]   Package punkt is already up-to-date!\n"
     ]
    },
    {
     "data": {
      "text/plain": [
       "True"
      ]
     },
     "execution_count": 6,
     "metadata": {},
     "output_type": "execute_result"
    }
   ],
   "source": [
    "nltk.download('punkt')"
   ]
  },
  {
   "cell_type": "code",
   "execution_count": 7,
   "metadata": {},
   "outputs": [
    {
     "name": "stderr",
     "output_type": "stream",
     "text": [
      "[nltk_data] Downloading package stopwords to\n",
      "[nltk_data]     C:\\Users\\chirag\\AppData\\Roaming\\nltk_data...\n",
      "[nltk_data]   Package stopwords is already up-to-date!\n"
     ]
    },
    {
     "data": {
      "text/plain": [
       "True"
      ]
     },
     "execution_count": 7,
     "metadata": {},
     "output_type": "execute_result"
    }
   ],
   "source": [
    "nltk.download('stopwords')"
   ]
  },
  {
   "cell_type": "code",
   "execution_count": 8,
   "metadata": {},
   "outputs": [
    {
     "name": "stdout",
     "output_type": "stream",
     "text": [
      "['i', 'me', 'my', 'myself', 'we', 'our', 'ours', 'ourselves', 'you', \"you're\", \"you've\", \"you'll\", \"you'd\", 'your', 'yours', 'yourself', 'yourselves', 'he', 'him', 'his', 'himself', 'she', \"she's\", 'her', 'hers', 'herself', 'it', \"it's\", 'its', 'itself', 'they', 'them', 'their', 'theirs', 'themselves', 'what', 'which', 'who', 'whom', 'this', 'that', \"that'll\", 'these', 'those', 'am', 'is', 'are', 'was', 'were', 'be', 'been', 'being', 'have', 'has', 'had', 'having', 'do', 'does', 'did', 'doing', 'a', 'an', 'the', 'and', 'but', 'if', 'or', 'because', 'as', 'until', 'while', 'of', 'at', 'by', 'for', 'with', 'about', 'against', 'between', 'into', 'through', 'during', 'before', 'after', 'above', 'below', 'to', 'from', 'up', 'down', 'in', 'out', 'on', 'off', 'over', 'under', 'again', 'further', 'then', 'once', 'here', 'there', 'when', 'where', 'why', 'how', 'all', 'any', 'both', 'each', 'few', 'more', 'most', 'other', 'some', 'such', 'no', 'nor', 'not', 'only', 'own', 'same', 'so', 'than', 'too', 'very', 's', 't', 'can', 'will', 'just', 'don', \"don't\", 'should', \"should've\", 'now', 'd', 'll', 'm', 'o', 're', 've', 'y', 'ain', 'aren', \"aren't\", 'couldn', \"couldn't\", 'didn', \"didn't\", 'doesn', \"doesn't\", 'hadn', \"hadn't\", 'hasn', \"hasn't\", 'haven', \"haven't\", 'isn', \"isn't\", 'ma', 'mightn', \"mightn't\", 'mustn', \"mustn't\", 'needn', \"needn't\", 'shan', \"shan't\", 'shouldn', \"shouldn't\", 'wasn', \"wasn't\", 'weren', \"weren't\", 'won', \"won't\", 'wouldn', \"wouldn't\"]\n"
     ]
    }
   ],
   "source": [
    "stopwords = nltk.corpus.stopwords.words('english')\n",
    "print(stopwords)"
   ]
  },
  {
   "cell_type": "code",
   "execution_count": 9,
   "metadata": {},
   "outputs": [
    {
     "data": {
      "text/plain": [
       "179"
      ]
     },
     "execution_count": 9,
     "metadata": {},
     "output_type": "execute_result"
    }
   ],
   "source": [
    "len(stopwords)"
   ]
  },
  {
   "cell_type": "code",
   "execution_count": 10,
   "metadata": {},
   "outputs": [
    {
     "data": {
      "text/plain": [
       "'!\"#$%&\\'()*+,-./:;<=>?@[\\\\]^_`{|}~'"
      ]
     },
     "execution_count": 10,
     "metadata": {},
     "output_type": "execute_result"
    }
   ],
   "source": [
    "string.punctuation"
   ]
  },
  {
   "cell_type": "code",
   "execution_count": 11,
   "metadata": {},
   "outputs": [],
   "source": [
    "def preprocess(text):\n",
    "    #lowercase the sentences\n",
    "    formatted_text = text.lower()\n",
    "    tokens = []\n",
    "    for token in nltk.word_tokenize(formatted_text):\n",
    "        tokens.append(token)\n",
    "    # print(tokens)\n",
    "\n",
    "    #remove stopwords and remove punctuation\n",
    "    tokens = [word for word in tokens if word not in stopwords and word not in string.punctuation]\n",
    "    formatted_text = ' '.join(element for element in tokens)\n",
    "    # return tokens\n",
    "    return formatted_text"
   ]
  },
  {
   "cell_type": "code",
   "execution_count": 12,
   "metadata": {},
   "outputs": [],
   "source": [
    "formatted_text = preprocess(original_text)"
   ]
  },
  {
   "cell_type": "code",
   "execution_count": 13,
   "metadata": {},
   "outputs": [
    {
     "data": {
      "text/plain": [
       "'artificial intelligence human like intelligence study intelligent artificial agents science engineering produce intelligent machines solve problems intelligence related intelligent behavior developing reasoning machines learn mistakes successes artificial intelligence related reasoning everyday situations'"
      ]
     },
     "execution_count": 13,
     "metadata": {},
     "output_type": "execute_result"
    }
   ],
   "source": [
    "formatted_text"
   ]
  },
  {
   "cell_type": "markdown",
   "metadata": {},
   "source": [
    "### Word Frequency"
   ]
  },
  {
   "cell_type": "code",
   "execution_count": 14,
   "metadata": {},
   "outputs": [],
   "source": [
    "word_frequency = nltk.FreqDist(nltk.word_tokenize(formatted_text))\n"
   ]
  },
  {
   "cell_type": "code",
   "execution_count": 15,
   "metadata": {},
   "outputs": [
    {
     "data": {
      "text/plain": [
       "FreqDist({'intelligence': 4, 'artificial': 3, 'intelligent': 3, 'machines': 2, 'related': 2, 'reasoning': 2, 'human': 1, 'like': 1, 'study': 1, 'agents': 1, ...})"
      ]
     },
     "execution_count": 15,
     "metadata": {},
     "output_type": "execute_result"
    }
   ],
   "source": [
    "word_frequency"
   ]
  },
  {
   "cell_type": "code",
   "execution_count": 16,
   "metadata": {},
   "outputs": [
    {
     "data": {
      "text/plain": [
       "3"
      ]
     },
     "execution_count": 16,
     "metadata": {},
     "output_type": "execute_result"
    }
   ],
   "source": [
    "word_frequency['artificial']"
   ]
  },
  {
   "cell_type": "code",
   "execution_count": 17,
   "metadata": {},
   "outputs": [
    {
     "data": {
      "text/plain": [
       "4"
      ]
     },
     "execution_count": 17,
     "metadata": {},
     "output_type": "execute_result"
    }
   ],
   "source": [
    "word_frequency['intelligence']"
   ]
  },
  {
   "cell_type": "code",
   "execution_count": 18,
   "metadata": {},
   "outputs": [
    {
     "data": {
      "text/plain": [
       "dict_keys(['artificial', 'intelligence', 'human', 'like', 'study', 'intelligent', 'agents', 'science', 'engineering', 'produce', 'machines', 'solve', 'problems', 'related', 'behavior', 'developing', 'reasoning', 'learn', 'mistakes', 'successes', 'everyday', 'situations'])"
      ]
     },
     "execution_count": 18,
     "metadata": {},
     "output_type": "execute_result"
    }
   ],
   "source": [
    "word_frequency.keys()"
   ]
  },
  {
   "cell_type": "code",
   "execution_count": 19,
   "metadata": {},
   "outputs": [
    {
     "data": {
      "text/plain": [
       "22"
      ]
     },
     "execution_count": 19,
     "metadata": {},
     "output_type": "execute_result"
    }
   ],
   "source": [
    "len(word_frequency.keys())"
   ]
  },
  {
   "cell_type": "code",
   "execution_count": 20,
   "metadata": {},
   "outputs": [
    {
     "data": {
      "text/plain": [
       "4"
      ]
     },
     "execution_count": 20,
     "metadata": {},
     "output_type": "execute_result"
    }
   ],
   "source": [
    "highest_frequency = max(word_frequency.values())\n",
    "highest_frequency"
   ]
  },
  {
   "cell_type": "code",
   "execution_count": 21,
   "metadata": {},
   "outputs": [],
   "source": [
    "for word in word_frequency.keys():\n",
    "    # print(word)\n",
    "    word_frequency[word] = (word_frequency[word]/highest_frequency)"
   ]
  },
  {
   "cell_type": "code",
   "execution_count": 22,
   "metadata": {},
   "outputs": [
    {
     "data": {
      "text/plain": [
       "FreqDist({'intelligence': 1.0, 'artificial': 0.75, 'intelligent': 0.75, 'machines': 0.5, 'related': 0.5, 'reasoning': 0.5, 'human': 0.25, 'like': 0.25, 'study': 0.25, 'agents': 0.25, ...})"
      ]
     },
     "execution_count": 22,
     "metadata": {},
     "output_type": "execute_result"
    }
   ],
   "source": [
    "word_frequency"
   ]
  },
  {
   "cell_type": "markdown",
   "metadata": {},
   "source": [
    "### Sentence Tokenization"
   ]
  },
  {
   "cell_type": "code",
   "execution_count": 23,
   "metadata": {},
   "outputs": [
    {
     "data": {
      "text/plain": [
       "['Mr Ibn La-Ahad went home', ' He arrived early', '']"
      ]
     },
     "execution_count": 23,
     "metadata": {},
     "output_type": "execute_result"
    }
   ],
   "source": [
    "'Mr Ibn La-Ahad went home. He arrived early.'.split('.')"
   ]
  },
  {
   "cell_type": "code",
   "execution_count": 24,
   "metadata": {},
   "outputs": [
    {
     "data": {
      "text/plain": [
       "['Mr', ' Ibn La-Ahad went home', ' He arrived early', '']"
      ]
     },
     "execution_count": 24,
     "metadata": {},
     "output_type": "execute_result"
    }
   ],
   "source": [
    "'Mr. Ibn La-Ahad went home. He arrived early.'.split('.')"
   ]
  },
  {
   "cell_type": "code",
   "execution_count": 25,
   "metadata": {},
   "outputs": [
    {
     "data": {
      "text/plain": [
       "['Mr Ibn La-Ahad went home.', 'He arrived early.']"
      ]
     },
     "execution_count": 25,
     "metadata": {},
     "output_type": "execute_result"
    }
   ],
   "source": [
    "nltk.sent_tokenize('Mr Ibn La-Ahad went home. He arrived early.')"
   ]
  },
  {
   "cell_type": "code",
   "execution_count": 26,
   "metadata": {},
   "outputs": [],
   "source": [
    "sentence_list = nltk.sent_tokenize(original_text)"
   ]
  },
  {
   "cell_type": "code",
   "execution_count": 27,
   "metadata": {},
   "outputs": [
    {
     "data": {
      "text/plain": [
       "['Artificial intelligence is human like intelligence.',\n",
       " 'It is the study of intelligent artificial agents.',\n",
       " 'Science and engineering to produce intelligent machines.',\n",
       " 'Solve problems and have intelligence.',\n",
       " 'Related to intelligent behavior.',\n",
       " 'Developing of reasoning machines.',\n",
       " 'Learn from mistakes and successes.',\n",
       " 'Artificial intelligence is related to reasoning in everyday situations.']"
      ]
     },
     "execution_count": 27,
     "metadata": {},
     "output_type": "execute_result"
    }
   ],
   "source": [
    "sentence_list"
   ]
  },
  {
   "cell_type": "code",
   "execution_count": 28,
   "metadata": {},
   "outputs": [
    {
     "data": {
      "text/plain": [
       "FreqDist({'intelligence': 1.0, 'artificial': 0.75, 'intelligent': 0.75, 'machines': 0.5, 'related': 0.5, 'reasoning': 0.5, 'human': 0.25, 'like': 0.25, 'study': 0.25, 'agents': 0.25, ...})"
      ]
     },
     "execution_count": 28,
     "metadata": {},
     "output_type": "execute_result"
    }
   ],
   "source": [
    "word_frequency"
   ]
  },
  {
   "cell_type": "code",
   "execution_count": 31,
   "metadata": {},
   "outputs": [],
   "source": [
    "score_sentences = {}\n",
    "for sentence in sentence_list:\n",
    "    # print(sentence)\n",
    "    for word in nltk.word_tokenize(sentence.lower()):\n",
    "        # print(word)\n",
    "\n",
    "        if sentence not in score_sentences.keys():\n",
    "            score_sentences[sentence] = word_frequency[word]\n",
    "        else:\n",
    "            score_sentences[sentence] += word_frequency[word]\n"
   ]
  },
  {
   "cell_type": "code",
   "execution_count": 32,
   "metadata": {},
   "outputs": [
    {
     "data": {
      "text/plain": [
       "{'Artificial intelligence is human like intelligence.': 3.25,\n",
       " 'It is the study of intelligent artificial agents.': 2.0,\n",
       " 'Science and engineering to produce intelligent machines.': 2.0,\n",
       " 'Solve problems and have intelligence.': 1.5,\n",
       " 'Related to intelligent behavior.': 1.5,\n",
       " 'Developing of reasoning machines.': 1.25,\n",
       " 'Learn from mistakes and successes.': 0.75,\n",
       " 'Artificial intelligence is related to reasoning in everyday situations.': 3.25}"
      ]
     },
     "execution_count": 32,
     "metadata": {},
     "output_type": "execute_result"
    }
   ],
   "source": [
    "score_sentences"
   ]
  },
  {
   "cell_type": "code",
   "execution_count": 33,
   "metadata": {},
   "outputs": [
    {
     "data": {
      "text/plain": [
       "3.25"
      ]
     },
     "execution_count": 33,
     "metadata": {},
     "output_type": "execute_result"
    }
   ],
   "source": [
    "score_sentences['Artificial intelligence is related to reasoning in everyday situations.']"
   ]
  },
  {
   "cell_type": "code",
   "execution_count": 34,
   "metadata": {},
   "outputs": [
    {
     "data": {
      "text/plain": [
       "dict_keys(['Artificial intelligence is human like intelligence.', 'It is the study of intelligent artificial agents.', 'Science and engineering to produce intelligent machines.', 'Solve problems and have intelligence.', 'Related to intelligent behavior.', 'Developing of reasoning machines.', 'Learn from mistakes and successes.', 'Artificial intelligence is related to reasoning in everyday situations.'])"
      ]
     },
     "execution_count": 34,
     "metadata": {},
     "output_type": "execute_result"
    }
   ],
   "source": [
    "score_sentences.keys()"
   ]
  },
  {
   "cell_type": "code",
   "execution_count": 35,
   "metadata": {},
   "outputs": [],
   "source": [
    "import heapq\n",
    "best_sentences = heapq.nlargest(3,score_sentences,key = score_sentences.get)"
   ]
  },
  {
   "cell_type": "code",
   "execution_count": 36,
   "metadata": {},
   "outputs": [
    {
     "data": {
      "text/plain": [
       "['Artificial intelligence is human like intelligence.',\n",
       " 'Artificial intelligence is related to reasoning in everyday situations.',\n",
       " 'It is the study of intelligent artificial agents.']"
      ]
     },
     "execution_count": 36,
     "metadata": {},
     "output_type": "execute_result"
    }
   ],
   "source": [
    "best_sentences"
   ]
  },
  {
   "cell_type": "code",
   "execution_count": 37,
   "metadata": {},
   "outputs": [
    {
     "data": {
      "text/plain": [
       "'Artificial intelligence is human like intelligence. Artificial intelligence is related to reasoning in everyday situations. It is the study of intelligent artificial agents.'"
      ]
     },
     "execution_count": 37,
     "metadata": {},
     "output_type": "execute_result"
    }
   ],
   "source": [
    "summary = ' '.join(best_sentences)\n",
    "summary"
   ]
  },
  {
   "cell_type": "code",
   "execution_count": 38,
   "metadata": {},
   "outputs": [
    {
     "data": {
      "text/plain": [
       "'Artificial intelligence is human like intelligence. It is the study of intelligent artificial agents. Science and engineering to produce intelligent machines. Solve problems and have intelligence. Related to intelligent behavior. Developing of reasoning machines. Learn from mistakes and successes. Artificial intelligence is related to reasoning in everyday situations.'"
      ]
     },
     "execution_count": 38,
     "metadata": {},
     "output_type": "execute_result"
    }
   ],
   "source": [
    "original_text"
   ]
  },
  {
   "cell_type": "markdown",
   "metadata": {},
   "source": [
    "### Visualizing the summary in HTML"
   ]
  },
  {
   "cell_type": "code",
   "execution_count": 39,
   "metadata": {},
   "outputs": [],
   "source": [
    "from IPython.core.display import HTML"
   ]
  },
  {
   "cell_type": "code",
   "execution_count": 47,
   "metadata": {},
   "outputs": [
    {
     "data": {
      "text/html": [
       "<h1>Summary</h1>"
      ],
      "text/plain": [
       "<IPython.core.display.HTML object>"
      ]
     },
     "metadata": {},
     "output_type": "display_data"
    },
    {
     "data": {
      "text/html": [
       " <mark>Artificial intelligence is human like intelligence.</mark> <mark>It is the study of intelligent artificial agents.</mark> Science and engineering to produce intelligent machines. Solve problems and have intelligence. Related to intelligent behavior. Developing of reasoning machines. Learn from mistakes and successes. <mark>Artificial intelligence is related to reasoning in everyday situations.</mark>"
      ],
      "text/plain": [
       "<IPython.core.display.HTML object>"
      ]
     },
     "metadata": {},
     "output_type": "display_data"
    }
   ],
   "source": [
    "text = ''\n",
    "display(HTML(f'<h1>Summary</h1>'))\n",
    "for sentence in sentence_list:\n",
    "    # print(sentence)\n",
    "    # text += sentence\n",
    "    if sentence in best_sentences:\n",
    "        text += ' ' + sentence.replace(sentence, f\"<mark>{sentence}</mark>\")\n",
    "    else:\n",
    "        text += ' ' + sentence\n",
    "display(HTML(f'''{text}'''))"
   ]
  },
  {
   "cell_type": "markdown",
   "metadata": {},
   "source": [
    "### Extracting texts from Internet"
   ]
  },
  {
   "cell_type": "code",
   "execution_count": 48,
   "metadata": {},
   "outputs": [],
   "source": [
    "from goose3 import Goose"
   ]
  },
  {
   "cell_type": "code",
   "execution_count": 50,
   "metadata": {},
   "outputs": [],
   "source": [
    "g = Goose()\n",
    "url = 'https://en.wikipedia.org/wiki/Baldwin_IV_of_Jerusalem'\n",
    "\n",
    "article = g.extract(url)"
   ]
  },
  {
   "cell_type": "code",
   "execution_count": 51,
   "metadata": {},
   "outputs": [
    {
     "data": {
      "text/plain": [
       "{'meta': {'description': '',\n",
       "  'lang': 'en',\n",
       "  'keywords': '',\n",
       "  'favicon': '/static/apple-touch/wikipedia.png',\n",
       "  'canonical': 'https://en.wikipedia.org/wiki/Baldwin_IV_of_Jerusalem',\n",
       "  'encoding': 'UTF-8'},\n",
       " 'image': None,\n",
       " 'domain': 'en.wikipedia.org',\n",
       " 'title': 'Baldwin IV of Jerusalem - Wikipedia',\n",
       " 'cleaned_text': 'Baldwin IV (French: Baudouin; 1161–1185), called the Leper King, was King of Jerusalem from 1174 until his death in 1185. He was admired by his contemporaries and later historians for his willpower and dedication to the Latin kingdom in the face of debilitating leprosy, which eventually left him blind and unable to use either his hands or his feet. Choosing competent advisers, Baldwin ruled a thriving realm and succeeded in protecting it from the Ayyubid Muslim ruler Saladin.\\n\\nBaldwin developed the first symptoms of his leprosy as a child but was only diagnosed after his accession on the death of his father, King Amalric. Thereafter his hands and face became increasingly disfigured. Count Raymond III of Tripoli ruled the kingdom in Baldwin\\'s name until the king reached the age of majority in 1176. As soon as he assumed government, Baldwin planned an invasion of Egypt, which fell through due to his vassals\\' uncooperativeness. Saladin in turn attacked Baldwin\\'s kingdom in 1177, but the king and the nobleman Raynald of Châtillon repelled him at Montgisard, earning Baldwin fame. The young king mastered horse riding despite gradually losing sensation in his extremities and was able to fight in battles until his last years.\\n\\nLeprosy precluded Baldwin from marrying. He hoped to abdicate when his sister, Sibylla, married William of Montferrat in 1176, but William died the next year. In 1180, in order to forestall a coup by Count Raymond III of Tripoli and Prince Bohemond III of Antioch, Baldwin had Sibylla marry Guy of Lusignan. Guy was opposed by a large fraction of the nobility, and soon permanently impaired his relationship with Baldwin. The internal discord that followed forced Baldwin to remain king, as only he was capable of uniting the quarreling nobility. Baldwin again repelled Saladin in 1182, but leprosy rendered him blind and unable to walk or use his hands in 1183. He disinherited Guy and had Sibylla\\'s son, Baldwin V, crowned co-king before having himself taken in a litter to lift Saladin\\'s siege of Kerak. Baldwin failed to have Sibylla\\'s marriage to Guy annulled and Guy\\'s fief of Ascalon confiscated. In early 1185, he arranged for Raymond to rule as regent for Sibylla\\'s son and died before 16 May.\\n\\nBaldwin was born in mid-1161. His parents were Amalric, then the count of Jaffa and Ascalon, and Agnes of Courtenay. Baldwin\\'s godfather was his paternal uncle, King Baldwin III, who joked that his christening present was the Kingdom of Jerusalem. The king was then young and recently married, so a nephew\\'s accession seemed unlikely, but he died childless in 1163. Amalric was his heir, but the nobles of the kingdom were strongly opposed to Amalric\\'s wife, Agnes; they were likely threatened by the prospect of her increased influence. The High Court forced Amalric to agree to an annulment of his marriage on the grounds of consanguinity in order to be accepted as king. Amalric succeeded in having his and Agnes\\'s children, Sibylla and Baldwin, declared legitimate despite the annulment. Baldwin grew up without a mother, who soon married the nobleman Hugh of Ibelin and only saw Baldwin on public occasions. He also seldom saw his sister, Sibylla, who was raised in the Convent of Saint Lazarus by their grandaunt Ioveta. At the age of six Baldwin gained a stepmother, Maria Komnene, with whom he was not close. The queen was an ambitious woman who likely saw Baldwin as an obstacle to her own children.\\n\\nThe Kingdom of Jerusalem and other crusader states were ruled by Franks, French-speaking Catholics who had arrived in the Levant from Western Europe and remained Western in culture. Amalric ensured that Baldwin, as the heir apparent, received a good education. The nine-year-old prince was sent to live with William of Tyre, a sophisticated and well-traveled cleric who was famed for his learning. William noticed that, unlike other children in the playground, Baldwin did not cry when pinched by his peers. After a while it became apparent to the tutor that Baldwin could feel no pain in his right arm. The king hired Arabs to treat Baldwin and to teach him horse riding, an essential skill for a Frankish nobleman. Having sensation in only one hand, Baldwin needed to learn to control the horse in battle using solely his knees, and mastered riding despite the handicap. Leprosy was suspected, but there were no visible symptoms yet and physicians hesitated to diagnose because of the stigma the boy would face. Had the diagnosis been made when he was a child, Baldwin might have been required by law to enter the Order of St Lazarus, a military order composed of affected knights and serjeants.\\n\\nAs an adolescent, Baldwin was precocious, determined, and optimistic in the face of his illness. He took after his father in good looks, body shape, and manner of walking and expressing himself. Baldwin was a quick learner, but he stuttered. He enjoyed listening to stories and history lessons. His tutor, William, remarked on Baldwin\\'s excellent memory, stating that he forgot neither kindness nor slights done to him by others.\\n\\nAmalric attempted to have Sibylla marry the French Count Stephen I of Sancerre, who would rule the kingdom as regent on Baldwin\\'s behalf if Amalric died early. When physicians informed him that Baldwin could develop leprosy, Amalric may have begun viewing Sibylla and Stephen as eventual monarchs instead of Baldwin, but the match fell through. In June 1174, the king came down with dysentery. He died on 11 July, leaving an underage heir, as he had feared might happen.\\n\\nUpon Amalric\\'s death, the High Court convened to discuss the succession. Though he had not yet been diagnosed, the High Court must have been aware of the royal physicians\\' suspicions that Baldwin had contracted leprosy. Yet there was no viable alternative. Baldwin was the king\\'s only son; from his second marriage Amalric had two daughters, of which only Isabella survived infancy. Female succession was expressly allowed, but Sibylla was an unmarried adolescent and Isabella only two years old. The male candidates, Amalric\\'s cousins Prince Bohemond III of Antioch, Baldwin of Antioch, and Count Raymond III of Tripoli, were politically unsuitable: Bohemond was bound to distant Antioch, Baldwin in the service of Byzantine Emperor Manuel I Komnenos, and Raymond virtually a stranger to the barons.\\n\\nAfter three days of deliberations, Baldwin IV was chosen, with the expectation that a husband would be found for Sibylla to succeed him if he proved to be affected. The young king\\'s coronation by the Latin patriarch of Jerusalem, Amalric of Nesle, took place immediately in the Church of the Holy Sepulchre. Medieval rulers were normally crowned on Sundays, but in Baldwin\\'s case 15 July 1174 was chosen instead because it was the 75th anniversary of the First Crusade\\'s seizure of Jerusalem.\\n\\nUntil he reached the age of majority, which was 15 in the Kingdom of Jerusalem, Baldwin needed a regent to rule in his name. The government was initially assumed by the seneschal, Miles of Plancy. Shortly thereafter Count Raymond III of Tripoli arrived in Jerusalem and succeeded in claiming regency as the king\\'s closest kinsman. Miles was murdered while trying to extend his hold on the government. No new seneschal was appointed for two years, and so the young and sickly king presided over burdensome High Court meetings when the regent was away on military duties or in Tripoli.\\n\\nBaldwin\\'s mother, Agnes, returned to court when Raymond became regent. She is frequently accused by historians of exploiting her son\\'s condition for self-gain, but the contemporary sources, including Baldwin\\'s tutor, William of Tyre, are biased against her. Having grown up without her since the age of two, Baldwin IV had no memories of his mother, but she became devotedly kind to him and he developed a strong attachment to her.\\n\\nDuring the regency it became clear that the king was indeed affected by leprosy. It is not clear from whom he caught it, but it must have been someone with whom he spent a lot of time and who did not exhibit easily visible symptoms. Puberty may have accelerated the development of the lepromatous form of the illness. His condition worsened rapidly. Most severely affected were his limbs and face, which made his subjects uneasy when they approached him. Yet, contrary to the common practice and to the surprise of Muslim observers, Baldwin was never segregated. As a leper, Baldwin could not marry or expect to have children. It thus became a priority to arrange a marriage for Baldwin\\'s sister and heir presumptive, Sibylla. Raymond\\'s choice was William of Montferrat, son of Margrave William V of Montferrat in Piedmont, Italy, and cousin of both the Holy Roman Emperor Frederick Barbarossa and King Louis VII of France.\\n\\nOn the second anniversary of his coronation, 15 July 1176, Baldwin reached the age of majority and Raymond\\'s regency lapsed. At the suggestion of his mother, the king appointed his loyal and capable maternal uncle, Joscelin of Courtenay, to the office of seneschal and arranged for him to marry a rich heiress, Agnes of Milly. The change in government signalled a new Frankish approach to the Egyptian ruler Saladin, who had been allowed by Raymond to encircle the crusader states by conquering Muslim principalities in Syria. Baldwin did not ratify Raymond\\'s peace treaty with Saladin, firmly agreeing with Joscelin that the sultan\\'s power needed to be curbed.\\n\\nAs soon as he took over the government, Baldwin began planning a full-scale attack on Egypt with his advisers. The king took advantage of Saladin\\'s campaign in Aleppo to lead a raid around Damascus. This was his first experience of warfare. Despite having use of only one hand, he refused to delegate his military duties and took part in fighting. He and his advisers then decided to intervene in Saladin\\'s war against the Order of Assassins. On 1 August, Baldwin and Raymond led the armies of Jerusalem and Tripoli, respectively, in a raid of the Beqaa Valley (modern-day Lebanon), where they defeated the garrison of Damascus, forcing Saladin to abandon his campaign.\\n\\nWilliam of Montferrat married Baldwin\\'s sister, Sibylla, in November 1176 despite misgivings of the nobles who no longer trusted his cousin Emperor Frederick\\'s ability to aid the kingdom. Baldwin offered to resign the throne to William according to Sicard of Cremona; if he did, William declined because he knew he lacked the support of the nobility.\\n\\nIn order to carry out his attack on Egypt, Baldwin needed naval support. He thus sent Raynald of Châtillon to lead an embassy to Emperor Manuel, Raynald\\'s stepson-in-law, in Constantinople in the winter of 1176–77. Manuel agreed to take part in the invasion in return for the establishment of Byzantine protectorate over the kingdom and restoration of the Orthodox patriarch, Leontius II, in Jerusalem. As Raynald\\'s mission was successful, Baldwin consented to his marriage with the lady of Oultrejordain, Stephanie of Milly.\\n\\nIn April 1177, William of Monferrat fell sick with malaria in Ascalon, of which he had been made count on his marriage to the king\\'s sister. Baldwin visited him and became gravely ill too. William died in June, leaving Sibylla pregnant and incapacitated Baldwin without a deputy ahead of a major war offensive. The king entrusted the government and military command to Raynald, snubbing the count of Tripoli. Baldwin\\'s first cousin Count Philip I of Flanders arrived in the East in September. He brought to Baldwin financial aid from another cousin, King Henry II of England. Henry was invested because he and Baldwin both belonged to the Angevin family. Still in sickbed in Ascalon, the king had himself taken back to Jerusalem in a litter and convened a general council, on the advice of which he offered regency to Philip. Philip declined, and Raynald retained his post.\\n\\nThe Byzantines sent a war fleet in preparation of the invasion of Egypt, but to Baldwin\\'s regret, they withdrew due to uncooperativeness of Philip of Flanders, Bohemond of Antioch, Raymond of Tripoli, and the grand master of the Knights Hospitaller, Roger de Moulins. Saladin\\'s power remained unchecked, and the Byzantine alliance collapsed. Despite the hostility of the Latin patriarch, Amalric of Nesle, Baldwin continued to court the Greek patriarch, Leontius, in hopes that the Byzantines would remain committed to his kingdom.\\n\\nPhilip left the Kingdom of Jerusalem with his troops in late October 1177 to help Raymond of Tripoli attack the Muslim-held city of Hama. With the Frankish army in northern Syria, Saladin seized the opportunity to invade Baldwin\\'s kingdom on 18 November. Though still recovering from malaria, Baldwin rode to meet the sultan, while the Knights Templar hurried to defend Gaza. The king took his humble host to Ascalon, where in desperation he issued an arrière-ban, summoning all able-bodied men. Saladin reached Ascalon on 22 November and Baldwin led the troops out to meet him. Seeing how drastically outnumbered he was, the king retreated into the city. Saladin too saw the strength in his numbers and confidently proceeded towards Jerusalem. Baldwin managed to contact the Templars, however, and ordered them to abandon Gaza and join him. Contrary to the sultan\\'s expectation, Baldwin and Raynald then rode out of Ascalon, joined up with the Templars, and attacked his dispersed army at Montgisard. The young king was in the forefront. Saladin, who barely survived, suffered a crushing defeat.\\n\\nNot having enough men to launch an offensive on the retreating Muslims, Baldwin decided to fortify the Damascene frontier. The Templars convinced him to build a castle, Le Chastellet, on the upper River Jordan; he was reluctant because the Franks had promised not to mark that part of the border. After protests of local Muslims, Saladin offered money to Baldwin in exchange for aborting the construction, but the king refused. In 1178, Baldwin hosted the patriarch of the Syriac Orthodox Church, Michael the Syrian, in Jerusalem and won his lasting loyalty to Frankish cause.\\n\\nIn April 1179, Baldwin intended to round up the sheep passing from Damascus to Banias. Saladin\\'s nephew Farrukh Shah was sent to investigate the king\\'s movement but suddenly ran into him, and a skirmish followed. The elderly but exceptionally able constable, Humphrey II of Toron, sustained fatal wounds while protecting the king. Weeks later Baldwin rode out to intercept Beduin raids of Beirut and Sidon, and in June Saladin\\'s raiding party routed Baldwin\\'s. The king was unhorsed and carried to safety on a knight\\'s back because he could not remount on his own. In late August, Baldwin summoned a host to Tiberias to respond to Saladin\\'s siege of Le Chastellet, but the castle fell before the relic of the True Cross could be fetched from Jerusalem to accompany the Christian troops.\\n\\nIn the winter of 1177–78, the king\\'s widowed sister, Sibylla, gave birth to a son, Baldwin, named after the king. A year of official mourning for the child\\'s father, William, concluded in June 1178, and it became appropriate to seek another husband for her. Baldwin of Ibelin\\'s suit was well known, but not entertained. In order to avoid antagonizing the Ibelins, however, Baldwin had allowed Balian of Ibelin to marry the king\\'s stepmother, Queen Maria, in late 1177. In July 1178, King Baldwin began associating Sibylla with him in some public acts, thereby acknowledging her as next in line to the throne. He began contemplating her marriage to Duke Hugh III of Burgundy, and wrote to the king of France: \"To be deprived of the use of one\\'s limbs is of little help to one in carrying out the work of government ... It is not fitting that a hand so weak as mine should hold power when fear of Arab aggression daily presses upon the Holy City and when my sickness increases the enemy\\'s daring.\"\\n\\nDuring the Holy Week in 1180, the prince of Antioch and the count of Tripoli marched with their armies to Jerusalem. It is most likely that their intention was to force the king to have Sibylla marry Baldwin of Ibelin and to then abdicate. The king had never approved of Baldwin\\'s ambition to marry his sister, and though he did wish to abdicate, he was not keen on having terms forced on him. Baldwin acted decisively before his kinsmen\\'s armies reached Jerusalem: he arranged for Sibylla to marry a Poitevin knight, Guy of Lusignan. Raymond and Bohemond had no option but to accept the fait accompli, and the coup was foiled.\\n\\nBaldwin had hoped to abdicate, but was prevented by deep divisions within his court that emerged following Sibylla\\'s marriage to Guy. He proposed a two-year truce with Saladin, who was glad to accept in order to campaign freely in northern Syria. Baldwin sent his uncle and chief minister, Joscelin, to assure the Byzantine court that Jerusalem still needed their protection. During Joscelin\\'s absence, from mid-1180 to mid-1181, the full burden of government fell on the shoulders of the king, whose health was deteriorating. He relied chiefly on his mother in this period.\\n\\nTo secure Guy\\'s position and prevent the emergence of an alternative claimant, Baldwin had his 8-year-old half-sister, Isabella, solemnly betrothed to the teenaged lord of Toron, Humphrey IV, in October 1180. Isabella was then sent to live at Kerak Castle with the lady of Oultrejourdain, Humphrey\\'s mother, as far as possible from her maternal kin and potential conspirators. By the terms of the marriage contract, Humphrey ceded Toron to Baldwin, who thus prevented the union of two great fiefs under one vassal and strengthened his position against the count of Tripoli.\\n\\nBaldwin made use of the truce with Saladin to strengthen the position of his maternal kin, granting Maron and Chastelneuf to Joscelin and usufruct of Toron to Agnes, while associating Guy and Sibylla with him in public acts. He remained unreconciled with Raymond, however, and forbade the count to enter the kingdom in early 1182 due to suspicions of another conspiracy. Baldwin likely intended to charge Raymond with treason and deprive him of the Principality of Galilee, a fief of Jerusalem held by Raymond through marriage to Eschiva of Bures. The law prevented the king from seizing the fief without the assent of the High Court, and the High Court urged the king to reconcile with Raymond. The king reluctantly heeded his vassals\\' advice.\\n\\nBaldwin\\'s truce with Saladin was due to expire in May 1182, but was broken in mid-1181 by Raynald, who seized a merchant caravan on its way from Egypt to Damascus. Raynald ignored the king\\'s request to make restitution to Saladin, who was then preparing to annex the Zengid-ruled Aleppo. The king, who consistently acted against Saladin\\'s attempts to expand into northern Syria, decided to oppose him. The recent anti-Catholic coup in Constantinople gave Saladin confidence to attack the Kingdom of Jerusalem. In July, Baldwin marched with his host to relieve the Muslims\\' siege of Bethsan, and his outnumbered army won the Battle of Le Forbelet. Historian Bernard Hamilton attributes the victory to the respect and loyalty commanded by Baldwin, who stayed on the battlefield despite his illness and intense heat.\\n\\nThe defeated sultan took his host to besiege Beirut, while another army from Egypt attacked the south of the kingdom. Baldwin knew that he was being provoked into dividing his forces. Deciding that Beirut was of a greater strategic importance, he ignored the southern attack and moved with his troops to Tyre. From there he procured assistance from the Italian maritime republics in lifting Saladin\\'s naval blockade of Beirut. Saladin abandoned the siege, but declined to make a truce, worrying Baldwin and his advisers. He proceeded north to fight the Zengids, thereby expanding his realm, while Baldwin led an attack on Saladin\\'s Damascene territory, then on Bosra, before finally laying siege and capturing Cave de Sueth. In the winter of 1182–3, after agreeing on a strategy with his council, Baldwin attacked Damascus again. He threatened to destroy a mosque in Darayya, but local Christians convinced him not to for fear of losing their churches in retaliation.\\n\\nBaldwin could not walk unsupported or use his hands from 1183. Due to an inability to blink, his cornea dried and he became blind. He nevertheless had to summon his troops in response to Saladin\\'s march south following the Egyptian conquest of Aleppo in June. The king then developed a life-threatening fever. He was attended by his mother and the new patriarch, Heraclius, at nearby Nazareth. Having summoned the High Court to his bedside, Baldwin entrusted the government to his brother-in-law, Guy, who was next in line to succeed him. Guy\\'s appointment to regency was meant to be permanent. Baldwin retained only the royal title and authority over the city of Jerusalem, but he had Guy swear that, while Baldwin lived, he would not make himself king or alienate parts of the royal demesne.\\n\\nFearing discontent among his barons, Baldwin had failed to give Guy any experience in military leadership prior to making him regent. Indeed, the great lords of the kingdom, the independent rulers of Antioch and Tripoli, and the grand masters of the military orders refused to cooperate with Guy. Baldwin recovered unexpectedly and returned to Jerusalem. Having found that coastal climate suited his health, Baldwin offered Jerusalem to Guy in exchange for Tyre. Guy brusquely refused, possibly because Tyre was more lucrative, leaving Baldwin gravely insulted.\\n\\nThe wedding of Baldwin\\'s half-sister, Isabella, and Humphrey IV of Toron was celebrated in Kerak in late 1183. Saladin attacked during the festivities and laid siege to the castle, hoping to capture the king\\'s half-sister and her husband. The retired king had gathered a council in Jerusalem to inform him about the government of the kingdom when news about the siege reached him. He immediately dismissed Guy from regency and resumed power, as the defense of such a vital fortress and the king\\'s half-sister within it could not be entrusted to the man who had proven unable to command the troops. Guy\\'s removal from regency was effectively disinheritance; at the council\\'s insistence, deliberations about the succession followed. The proposal of the king\\'s mother that Sibylla\\'s five-year-old son, Baldwin, be made co-king was accepted, and the boy was crowned on 20 November.\\n\\nIn late November, Baldwin IV ordered the lighting of a beacon on the Tower of David, which may have been the first in a chain of such beacons, in order to hearten the defenders of the intensely bombarded Kerak. Baldwin accompanied his troops again, but having become blind and immobile, this time he went in a litter slung between two horses. His presence was essential to unite the discordant barons. Even his humiliated brother-in-law led his men. Warned by his scouts about the king\\'s approach and concerned about having left Egypt unguarded, Saladin abandoned the siege on 4 December. Baldwin entered Kerak triumphantly.\\n\\nThe question of regency for his nephew troubled Baldwin. The only way to ensure that Guy could not claim it was to have his marriage to Sibylla annulled. Baldwin discussed this with the patriarch, Heraclius. Baldwin may have intended to claim that he had forced Sibylla to marry Guy and that the marriage was unlawful because of that. Sibylla\\'s unwavering loyalty to Guy thwarted his plans, as the couple refused to appear at court.\\n\\nEarly in 1184, Baldwin ordered Guy to attend him as vassal in Jerusalem. Guy declined, citing poor health, and this was repeated several times. Baldwin then had himself carried to Ascalon in the company of the High Court. Guy refused to let him into the city. From the battlements and towers the inhabitants witnessed the king ceremoniously knocking and demanding admission. He was welcomed in Jaffa, where he installed a governor, thereby depriving Guy of half of his county. In Acre, Baldwin summoned his council, probably to discuss the seizure of Guy\\'s fief. The patriarch and the grand masters begged Baldwin to forgive Guy in order to avoid a civil war. This was as unacceptable to Baldwin as it would have been to any contemporary king. The patriarch and the grand masters stormed out of the council, swaying the rest of the assembly to withhold support for the action.\\n\\nBaldwin was reconciled with the patriarch and the grand masters by June, when he sent them to Europe on a diplomatic mission to seek aid for the kingdom, and informed them by letter that Saladin was once more besieging Kerak. Again, Saladin abandoned the siege when the litter-bound king approached with his army. Once in Kerak, Baldwin ordered and financed the reparations of the damaged castle.\\n\\nIn late 1184, Baldwin was shocked to learn about Guy\\'s massacre of the Beduin of the royal fief of Darum, who were under royal protection and who provided information about the Egyptians\\' movements. He soon developed a fever. When he returned to Jerusalem in late 1184 or early 1185, Baldwin bestowed regency on Raymond of Tripoli, the man whom he had never trusted, but to whom he could find no better alternative. At the time he expected to survive the illness, having done so twice before, but within weeks it became apparent that it would be his last. On his deathbed he summoned the High Court to appoint a permanent regent for his nephew, Baldwin V, and Raymond was chosen. The dying king then ordered that homage be rendered to his nephew as king and to Raymond as regent, to be followed by a solemn crown-wearing ceremony at the Church of the Holy Sepulchre.\\n\\nBaldwin died, attended by his vassals, in March 1185 or before 16 May 1185 at the latest, when his nephew is recorded as the sole king. He was buried in the Church of the Holy Sepulchre, close to his father, King Amalric. His tomb would remain untouched along with the other royal tombs of the kingdom until 1809–1810, when they were destroyed by the Othodox greeks, as said tombs layed in their section of the Church of the Holy Sepulchre.[106][107] It is unclear if the remains of those kings were exhumed; some researchers hypothesize that some of them may still be in unmarked pits under the church\\'s pavement.[108]\\n\\nThe young Baldwin V died the next year. Sibylla, who succeeded her son, made Guy king. Baldwin IV\\'s realm was destroyed by Saladin following his decisive victory over Guy at the Horns of Hattin in 1187. Sibylla and their daughters died in 1190, leaving Isabella I as the heir to the defeated kingdom.\\n\\nChristian defeat at Hattin two years after Baldwin\\'s death marred the king\\'s legacy, with historians tracing fatal discord to Baldwin\\'s reign. Yet, while Baldwin was on the throne, the kingdom lost no territory and flourished economically and spiritually. Baldwin understood the importance of curbing Saladin\\'s power, which was reflected in his choice of ministers. He did not devise strategy or diplomacy alone, and delegated Church patronage and finances to his mother, Agnes, and uncle, Joscelin, respectively. His chief contribution was his determination not to abdicate before finding a suitable successor, despite leprosy making government an unbearable burden. As was clear during his reign and especially in its disastrous aftermath, Baldwin alone preserved unity in the kingdom.\\n\\nContemporary Christian theologians were divided on the issue of leprosy. Pope Alexander III showed little sympathy when writing about Baldwin, declaring leprosy a \"just judgement of God\", but another school of thought encouraged the faithful to see Christ in the affected. Baldwin\\'s reign may have led to a lesser stigmatization of the illness in the 13th-century Kingdom of Jerusalem. His subjects\\' acceptance of his illness confounded Muslims. Imad ad-Din al-Isfahani wrote:\\n\\nBaldwin\\'s public image may have been aided by his chastity, seen as evidence of extraordinary sanctity, and his success against Saladin was interpreted as a sign of God\\'s favour. After the disastrous Seventh Crusade, a crusader was told by an old man in Damascus:\\n\\nAlong his perceived sanctity, Baldwin was primarily a knight, both in character and in upbringing, and to contemporaries his most distinctive traits were his courage and honourableness.\\n• Kingdom of Heaven – film portraying King Baldwin (played by Edward Norton) as a fragile but courageous young king who mostly remains secluded in his palace and wears a silver mask to hide his leprosy, although he is shown leading his troops on horseback. There are no historical accounts of Baldwin actually wearing a mask to hide his leprosy.\\n• None Hamilton, Bernard (2000). The Leper King and His Heirs: Baldwin IV and the Crusader Kingdom of Jerusalem. Cambridge University Press. ISBN .\\n• None Mitchell, Piers D. (2000). \"An evaluation of the leprosy of King Baldwin IV of Jerusalem in the context of the medieval world\". The Leper King and His Heirs: Baldwin IV and the Crusader Kingdom of Jerusalem. By Hamilton, Bernard. Cambridge University Press. pp. 245–258. ISBN .\\n• None Riley-Smith, Jonathan (1973). The feudal nobility and the kingdom of Jerusalem, 1147–1277. Macmillan.\\n• None Runciman, Steven (1952). A History of the Crusades: The Kingdom of Jerusalem and the Frankish East, 1100–1187. Vol. 2. Cambridge University Press. ISBN .',\n",
       " 'opengraph': {'image': ['https://upload.wikimedia.org/wikipedia/commons/b/b2/Baldwin_IV_in_battle.jpg',\n",
       "   'https://upload.wikimedia.org/wikipedia/commons/b/b2/Baldwin_IV_in_battle.jpg'],\n",
       "  'image:width': ['1200', '800', '640'],\n",
       "  'image:height': ['1029', '686', '549'],\n",
       "  'title': 'Baldwin IV of Jerusalem - Wikipedia',\n",
       "  'type': 'website'},\n",
       " 'tags': [],\n",
       " 'tweets': [],\n",
       " 'movies': [],\n",
       " 'links': ['/wiki/Baldwin_IV,_Count_of_Flanders',\n",
       "  '/wiki/Baldwin_IV,_Count_of_Hainaut',\n",
       "  '/wiki/Wade_Baldwin_IV',\n",
       "  '/wiki/French_language',\n",
       "  '/wiki/King_of_Jerusalem',\n",
       "  '/wiki/Latin_kingdom',\n",
       "  '/wiki/Leprosy',\n",
       "  '/wiki/Saladin',\n",
       "  '/wiki/King_Amalric',\n",
       "  '/wiki/Raymond_III_of_Tripoli',\n",
       "  '/wiki/Raynald_of_Ch%C3%A2tillon',\n",
       "  '/wiki/Battle_of_Montgisard',\n",
       "  '/wiki/Leprosy_stigma',\n",
       "  '/wiki/Abdicate',\n",
       "  '/wiki/Sibylla_of_Jerusalem',\n",
       "  '/wiki/William_of_Montferrat,_Count_of_Jaffa_and_Ascalon',\n",
       "  '/wiki/Bohemond_III_of_Antioch',\n",
       "  '/wiki/Guy_of_Lusignan',\n",
       "  '/wiki/Baldwin_V_of_Jerusalem',\n",
       "  '/wiki/Co-king',\n",
       "  '/wiki/Siege_of_Kerak',\n",
       "  '/wiki/County_of_Jaffa_and_Ascalon',\n",
       "  '/w/index.php?title=Baldwin_IV_of_Jerusalem&action=edit&section=1',\n",
       "  '/wiki/Amalric_of_Jerusalem',\n",
       "  '/wiki/Count_of_Jaffa_and_Ascalon',\n",
       "  '/wiki/Agnes_of_Courtenay',\n",
       "  '/wiki/King_Baldwin_III',\n",
       "  '/wiki/Kingdom_of_Jerusalem',\n",
       "  '/wiki/High_Court_of_Jerusalem',\n",
       "  '/wiki/Annulment',\n",
       "  '/wiki/Consanguinity',\n",
       "  '/wiki/Sibylla_of_Jerusalem',\n",
       "  '/wiki/Legitimacy_(family_law)',\n",
       "  '/wiki/Hugh_of_Ibelin',\n",
       "  '/wiki/Convent_of_Saint_Lazarus',\n",
       "  '/wiki/Ioveta_of_Bethany',\n",
       "  '/wiki/Maria_Komnene,_Queen_of_Jerusalem',\n",
       "  '/wiki/File:BaldwinIV.jpg',\n",
       "  '/wiki/Estoire_d%27Eracles',\n",
       "  '/wiki/Crusader_states',\n",
       "  '/wiki/Franks',\n",
       "  '/wiki/Catholics',\n",
       "  '/wiki/Levant',\n",
       "  '/wiki/Western_Europe',\n",
       "  '/wiki/Western_culture',\n",
       "  '/wiki/Heir_apparent',\n",
       "  '/wiki/William_of_Tyre',\n",
       "  '/wiki/Medicine_in_the_medieval_Islamic_world',\n",
       "  '/wiki/Leprosy',\n",
       "  '/wiki/Leprosy_stigma',\n",
       "  '/wiki/Order_of_St_Lazarus',\n",
       "  '/wiki/Military_order_(religious_society)',\n",
       "  '/wiki/Serjeanty',\n",
       "  '/wiki/Stephen_I_of_Sancerre',\n",
       "  '/wiki/Regent',\n",
       "  '/wiki/Dysentery',\n",
       "  '/w/index.php?title=Baldwin_IV_of_Jerusalem&action=edit&section=2',\n",
       "  '/wiki/File:Coronation_of_Baldwin_IV.jpg',\n",
       "  '/w/index.php?title=Histoire_d%27Outre_Mer&action=edit&redlink=1',\n",
       "  '/wiki/Isabella_I_of_Jerusalem',\n",
       "  '/wiki/Bohemond_III_of_Antioch',\n",
       "  '/wiki/Baldwin_of_Antioch',\n",
       "  '/wiki/Raymond_III_of_Tripoli',\n",
       "  '/wiki/Principality_of_Antioch',\n",
       "  '/wiki/Byzantine_Emperor',\n",
       "  '/wiki/Manuel_I_Komnenos',\n",
       "  '/wiki/Coronation',\n",
       "  '/wiki/Latin_patriarch_of_Jerusalem',\n",
       "  '/wiki/Amalric_of_Nesle',\n",
       "  '/wiki/Church_of_the_Holy_Sepulchre',\n",
       "  '/wiki/First_Crusade',\n",
       "  '/wiki/Siege_of_Jerusalem_(1099)',\n",
       "  '/w/index.php?title=Baldwin_IV_of_Jerusalem&action=edit&section=3',\n",
       "  '/wiki/Age_of_majority',\n",
       "  '/wiki/Seneschal_of_the_Kingdom_of_Jerusalem',\n",
       "  '/wiki/Miles_of_Plancy',\n",
       "  '/wiki/County_of_Tripoli',\n",
       "  '/wiki/Lepromatous_leprosy',\n",
       "  '/wiki/Arranged_marriages',\n",
       "  '/wiki/William_of_Montferrat,_Count_of_Jaffa_and_Ascalon',\n",
       "  '/wiki/William_V_of_Montferrat',\n",
       "  '/wiki/Piedmont',\n",
       "  '/wiki/Holy_Roman_Emperor',\n",
       "  '/wiki/Frederick_Barbarossa',\n",
       "  '/wiki/Louis_VII_of_France',\n",
       "  '/w/index.php?title=Baldwin_IV_of_Jerusalem&action=edit&section=4',\n",
       "  '/wiki/Joscelin_III_of_Courtenay',\n",
       "  '/wiki/Saladin',\n",
       "  '/w/index.php?title=Baldwin_IV_of_Jerusalem&action=edit&section=5',\n",
       "  '/wiki/File:Map_Crusader_states_1165-en.svg',\n",
       "  '/wiki/Fatimid_Caliphate',\n",
       "  '/wiki/Aleppo',\n",
       "  '/wiki/Damascus',\n",
       "  '/wiki/Order_of_Assassins',\n",
       "  '/wiki/Beqaa_Valley',\n",
       "  '/wiki/Abdication',\n",
       "  '/wiki/Sicard_of_Cremona',\n",
       "  '/wiki/Raynald_of_Ch%C3%A2tillon',\n",
       "  '/wiki/Constantinople',\n",
       "  '/wiki/Orthodox_Patriarch_of_Jerusalem',\n",
       "  '/wiki/Leontius_II_of_Jerusalem',\n",
       "  '/wiki/Lady_of_Oultrejordain',\n",
       "  '/wiki/Stephanie_of_Milly',\n",
       "  '/wiki/Malaria',\n",
       "  '/wiki/Ascalon',\n",
       "  '/wiki/Count_of_Jaffa_and_Ascalon',\n",
       "  '/wiki/Philip_I_of_Flanders',\n",
       "  '/wiki/Henry_II_of_England',\n",
       "  '/wiki/Angevin_kings_of_England',\n",
       "  '/wiki/Grand_master_of_the_Knights_Hospitaller',\n",
       "  '/wiki/Roger_de_Moulins',\n",
       "  '/w/index.php?title=Baldwin_IV_of_Jerusalem&action=edit&section=6',\n",
       "  '/wiki/Hama',\n",
       "  '/wiki/Knights_Templar',\n",
       "  '/wiki/Gaza_City',\n",
       "  '/wiki/Arri%C3%A8re-ban',\n",
       "  '/wiki/Battle_of_Montgisard',\n",
       "  '/wiki/File:Ateret-S-164.jpg',\n",
       "  '/w/index.php?title=Le_Chastellet&action=edit&redlink=1',\n",
       "  '/wiki/River_Jordan',\n",
       "  '/wiki/Syriac_Orthodox_Church',\n",
       "  '/wiki/Michael_the_Syrian',\n",
       "  '/wiki/Banias',\n",
       "  '/wiki/Farrukh_Shah',\n",
       "  '/wiki/Humphrey_II_of_Toron',\n",
       "  '/wiki/Beduin',\n",
       "  '/wiki/Lordship_of_Beirut',\n",
       "  '/wiki/Lordship_of_Sidon',\n",
       "  '/wiki/Rout',\n",
       "  '/wiki/Tiberias',\n",
       "  '/wiki/Siege_of_Le_Chastellet',\n",
       "  '/wiki/Relic_of_the_True_Cross',\n",
       "  '/w/index.php?title=Baldwin_IV_of_Jerusalem&action=edit&section=7',\n",
       "  '/wiki/File:Wedding_of_Sibyl_and_Guy_ahead_of_a_coup.jpg',\n",
       "  '/wiki/Baldwin_V_of_Jerusalem',\n",
       "  '/wiki/Official_mourning',\n",
       "  '/wiki/Baldwin_of_Ibelin',\n",
       "  '/wiki/House_of_Ibelin',\n",
       "  '/wiki/Balian_of_Ibelin',\n",
       "  '/wiki/Hugh_III_of_Burgundy',\n",
       "  '/wiki/Holy_Week',\n",
       "  '/wiki/Guy_of_Lusignan',\n",
       "  '/wiki/Fait_accompli',\n",
       "  '/wiki/Lord_of_Toron',\n",
       "  '/wiki/Humphrey_IV',\n",
       "  '/wiki/Kerak_Castle',\n",
       "  '/wiki/Baldwin_II_of_Jerusalem',\n",
       "  '/wiki/Morphia_of_Melitene',\n",
       "  '/wiki/Eremburga_of_Maine',\n",
       "  '/wiki/Fulk_V_of_Anjou',\n",
       "  '/wiki/Melisende_of_Jerusalem',\n",
       "  '/wiki/Alice_of_Antioch',\n",
       "  '/wiki/Hodierna_of_Jerusalem',\n",
       "  '/wiki/Geoffrey_V_of_Anjou',\n",
       "  '/wiki/Sibylla_of_Anjou',\n",
       "  '/wiki/Baldwin_III_of_Jerusalem',\n",
       "  '/wiki/Joscelin_III_of_Courtenay',\n",
       "  '/wiki/Agnes_of_Courtenay',\n",
       "  '/wiki/Amalric_of_Jerusalem',\n",
       "  '/wiki/Maria_Komnene,_Queen_of_Jerusalem',\n",
       "  '/wiki/Balian_of_Ibelin',\n",
       "  '/wiki/Stephanie_of_Milly',\n",
       "  '/wiki/Raynald_of_Ch%C3%A2tillon',\n",
       "  '/wiki/Constance_of_Antioch',\n",
       "  '/wiki/Raymond_III_of_Tripoli',\n",
       "  '/wiki/Henry_II_of_England',\n",
       "  '/wiki/Philip_I_of_Flanders',\n",
       "  '/wiki/William_of_Montferrat,_Count_of_Jaffa_and_Ascalon',\n",
       "  '/wiki/Sibylla_of_Jerusalem',\n",
       "  '/wiki/Guy_of_Lusignan',\n",
       "  '/wiki/Isabella_I_of_Jerusalem',\n",
       "  '/wiki/Humphrey_IV_of_Toron',\n",
       "  '/wiki/Bohemond_III_of_Antioch',\n",
       "  '/wiki/Maria_of_Antioch',\n",
       "  '/wiki/Manuel_I_Komnenos',\n",
       "  '/wiki/Baldwin_of_Antioch',\n",
       "  '/wiki/Baldwin_V_of_Jerusalem',\n",
       "  '/w/index.php?title=Baldwin_IV_of_Jerusalem&action=edit&section=8',\n",
       "  '/wiki/Usufruct',\n",
       "  '/wiki/Principality_of_Galilee',\n",
       "  '/wiki/Vassals_of_the_Kingdom_of_Jerusalem',\n",
       "  '/wiki/Eschiva_of_Bures',\n",
       "  '/wiki/File:Dirham_Saladin.jpg',\n",
       "  '/wiki/Dirham',\n",
       "  '/wiki/Merchant_caravan',\n",
       "  '/wiki/Zengid',\n",
       "  '/wiki/Aleppo',\n",
       "  '/wiki/Massacre_of_the_Latins',\n",
       "  '/wiki/Bethsan',\n",
       "  '/wiki/Battle_of_Le_Forbelet',\n",
       "  '/wiki/Tyre,_Lebanon',\n",
       "  '/wiki/Maritime_republics',\n",
       "  '/wiki/Bosra',\n",
       "  '/wiki/Cave_de_Sueth',\n",
       "  '/wiki/Darayya',\n",
       "  '/w/index.php?title=Baldwin_IV_of_Jerusalem&action=edit&section=9',\n",
       "  '/w/index.php?title=Baldwin_IV_of_Jerusalem&action=edit&section=10',\n",
       "  '/wiki/Cornea',\n",
       "  '/wiki/Heraclius_of_Jerusalem',\n",
       "  '/wiki/Nazareth',\n",
       "  '/wiki/Royal_demesne',\n",
       "  '/wiki/File:Karak_castle_in_Jordan.JPG',\n",
       "  '/wiki/Siege_of_Kerak',\n",
       "  '/wiki/Co-king',\n",
       "  '/wiki/Tower_of_David',\n",
       "  '/w/index.php?title=Baldwin_IV_of_Jerusalem&action=edit&section=11',\n",
       "  '/w/index.php?title=Baldwin_IV_of_Jerusalem&action=edit&section=12',\n",
       "  '/wiki/File:Death_of_Baldwin_IV_and_coronation_of_Baldwin_V.jpg',\n",
       "  '/wiki/Darum',\n",
       "  '/wiki/Homage_(feudal)',\n",
       "  '#cite_note-106',\n",
       "  '#cite_note-107',\n",
       "  '#cite_note-reem-108',\n",
       "  '/wiki/Battle_of_Hattin',\n",
       "  '/w/index.php?title=Baldwin_IV_of_Jerusalem&action=edit&section=13',\n",
       "  '/wiki/File:Schlacht_von_Montgisard_2.jpg',\n",
       "  '/wiki/Charles-Philippe_Larivi%C3%A8re',\n",
       "  '/wiki/Pope_Alexander_III',\n",
       "  '/wiki/God_in_Christianity',\n",
       "  '/wiki/Christ',\n",
       "  '/wiki/Imad_ad-Din_al-Isfahani',\n",
       "  '/wiki/Seventh_Crusade',\n",
       "  '/wiki/Wikipedia:Accuracy_dispute',\n",
       "  '/wiki/Talk:Baldwin_IV_of_Jerusalem#Dispute',\n",
       "  '/wiki/Wikipedia:Reliable_sources',\n",
       "  '/wiki/Help:Maintenance_template_removal',\n",
       "  '/w/index.php?title=Baldwin_IV_of_Jerusalem&action=edit&section=14',\n",
       "  '/wiki/Kingdom_of_Heaven_(film)',\n",
       "  '/wiki/Edward_Norton',\n",
       "  '/w/index.php?title=Baldwin_IV_of_Jerusalem&action=edit&section=15',\n",
       "  '#cite_ref-106',\n",
       "  '/wiki/Isabel_Burton',\n",
       "  'https://books.google.com/books?id=smULAAAAYAAJ&pg=PA68',\n",
       "  '#cite_ref-107',\n",
       "  'https://books.google.com/books?id=X0jH6VPi4-gC&pg=PA65',\n",
       "  '/wiki/ISBN_(identifier)',\n",
       "  '/wiki/Special:BookSources/978-0-521-39038-5',\n",
       "  '#cite_ref-reem_108-0',\n",
       "  'https://halshs.archives-ouvertes.fr/halshs-03822984',\n",
       "  '/wiki/ISBN_(identifier)',\n",
       "  '/wiki/Special:BookSources/978-9654067676',\n",
       "  '/w/index.php?title=Baldwin_IV_of_Jerusalem&action=edit&section=16',\n",
       "  'https://commons.wikimedia.org/wiki/Category:Baldwin_IV_of_Jerusalem',\n",
       "  'https://en.wikisource.org/wiki/1911_Encyclop%C3%A6dia_Britannica/Baldwin_IV.',\n",
       "  '/wiki/Wikisource',\n",
       "  '/wiki/Encyclop%C3%A6dia_Britannica_Eleventh_Edition',\n",
       "  'https://books.google.com/books?id=IySQoHdviNkC&q=Joscelin+loyal+kinsman&pg=PA232',\n",
       "  '/wiki/ISBN_(identifier)',\n",
       "  '/wiki/Special:BookSources/9780521017473',\n",
       "  'https://books.google.com/books?id=7seGnQEACAAJ',\n",
       "  '/wiki/ISBN_(identifier)',\n",
       "  '/wiki/Special:BookSources/9780521017473',\n",
       "  '/wiki/Jonathan_Riley-Smith',\n",
       "  '/wiki/Steven_Runciman',\n",
       "  'https://archive.org/details/historyofcrusade0002runc/@',\n",
       "  '/wiki/ISBN_(identifier)',\n",
       "  '/wiki/Special:BookSources/0241298768',\n",
       "  '/wiki/Amalric_of_Jerusalem',\n",
       "  '/wiki/King_of_Jerusalem',\n",
       "  '/wiki/Baldwin_V_of_Jerusalem',\n",
       "  '/wiki/Baldwin_V_of_Jerusalem',\n",
       "  '/wiki/King_of_Jerusalem',\n",
       "  '/wiki/Kingdom_of_Jerusalem',\n",
       "  '/wiki/Godfrey_of_Bouillon',\n",
       "  '/wiki/Church_of_the_Holy_Sepulchre',\n",
       "  '/wiki/Baldwin_I_of_Jerusalem',\n",
       "  '/wiki/Baldwin_II_of_Jerusalem',\n",
       "  '/wiki/Melisende,_Queen_of_Jerusalem',\n",
       "  '/wiki/Fulk,_King_of_Jerusalem',\n",
       "  '/wiki/Baldwin_III_of_Jerusalem',\n",
       "  '/wiki/Amalric_of_Jerusalem',\n",
       "  '/wiki/Baldwin_V_of_Jerusalem',\n",
       "  '/wiki/Sibylla,_Queen_of_Jerusalem',\n",
       "  '/wiki/Guy_of_Lusignan',\n",
       "  '/wiki/Isabella_I_of_Jerusalem',\n",
       "  '/wiki/Conrad_of_Montferrat',\n",
       "  '/wiki/Henry_II,_Count_of_Champagne',\n",
       "  '/wiki/Aimery_of_Cyprus',\n",
       "  '/wiki/Maria_of_Montferrat',\n",
       "  '/wiki/John_of_Brienne',\n",
       "  '/wiki/Isabella_II_of_Jerusalem',\n",
       "  '/wiki/Conrad_IV_of_Germany',\n",
       "  '/wiki/Conradin',\n",
       "  '/wiki/Hugh_III_of_Cyprus',\n",
       "  '/wiki/John_I_of_Cyprus',\n",
       "  '/wiki/Henry_II_of_Cyprus',\n",
       "  '/wiki/File:Arms_of_the_Kingdom_of_Jerusalem_(Str%C3%B6hl).svg',\n",
       "  '/wiki/Family_tree_of_Kingdom_of_Jerusalem_monarchs',\n",
       "  '/wiki/File:046CupolaSPietro.jpg',\n",
       "  '/wiki/Portal:Catholic_Church',\n",
       "  '/wiki/Help:Authority_control',\n",
       "  'https://www.wikidata.org/wiki/Q296850#identifiers',\n",
       "  'http://id.worldcat.org/fast/141779/',\n",
       "  'https://isni.org/isni/0000000116049755',\n",
       "  'https://isni.org/isni/0000000397216176',\n",
       "  'https://viaf.org/viaf/292322887',\n",
       "  'https://viaf.org/viaf/334159474307127662243',\n",
       "  'https://authority.bibsys.no/authority/rest/authorities/html/9051668',\n",
       "  'https://catalogue.bnf.fr/ark:/12148/cb119431538',\n",
       "  'https://data.bnf.fr/ark:/12148/cb119431538',\n",
       "  'https://d-nb.info/gnd/118652095',\n",
       "  'http://uli.nli.org.il/F/?func=find-b&local_base=NLX10&find_code=UID&request=987007258342505171',\n",
       "  'https://id.loc.gov/authorities/n84128630',\n",
       "  'https://libris.kb.se/fcrtthlz2nhrgwn',\n",
       "  'http://data.bibliotheken.nl/id/thes/p116678895',\n",
       "  'http://mak.bn.org.pl/cgi-bin/KHW/makwww.exe?BM=1&NU=1&IM=4&WI=9810600961705606',\n",
       "  'https://wikidata-externalid-url.toolforge.org/?p=8034&url_prefix=https://opac.vatlib.it/auth/detail/&id=495/46315',\n",
       "  'https://www.deutsche-biographie.de/pnd118652095.html?language=en',\n",
       "  'https://www.idref.fr/027376532'],\n",
       " 'authors': ['Contributors to Wikimedia projects'],\n",
       " 'publish_date': '2002-11-06T17:34:15Z'}"
      ]
     },
     "execution_count": 51,
     "metadata": {},
     "output_type": "execute_result"
    }
   ],
   "source": [
    "article.infos"
   ]
  },
  {
   "cell_type": "code",
   "execution_count": 52,
   "metadata": {},
   "outputs": [
    {
     "data": {
      "text/plain": [
       "'Baldwin IV of Jerusalem - Wikipedia'"
      ]
     },
     "execution_count": 52,
     "metadata": {},
     "output_type": "execute_result"
    }
   ],
   "source": [
    "article.title"
   ]
  },
  {
   "cell_type": "code",
   "execution_count": 53,
   "metadata": {},
   "outputs": [
    {
     "data": {
      "text/plain": [
       "'Baldwin IV (French: Baudouin; 1161–1185), called the Leper King, was King of Jerusalem from 1174 until his death in 1185. He was admired by his contemporaries and later historians for his willpower and dedication to the Latin kingdom in the face of debilitating leprosy, which eventually left him blind and unable to use either his hands or his feet. Choosing competent advisers, Baldwin ruled a thriving realm and succeeded in protecting it from the Ayyubid Muslim ruler Saladin.\\n\\nBaldwin developed the first symptoms of his leprosy as a child but was only diagnosed after his accession on the death of his father, King Amalric. Thereafter his hands and face became increasingly disfigured. Count Raymond III of Tripoli ruled the kingdom in Baldwin\\'s name until the king reached the age of majority in 1176. As soon as he assumed government, Baldwin planned an invasion of Egypt, which fell through due to his vassals\\' uncooperativeness. Saladin in turn attacked Baldwin\\'s kingdom in 1177, but the king and the nobleman Raynald of Châtillon repelled him at Montgisard, earning Baldwin fame. The young king mastered horse riding despite gradually losing sensation in his extremities and was able to fight in battles until his last years.\\n\\nLeprosy precluded Baldwin from marrying. He hoped to abdicate when his sister, Sibylla, married William of Montferrat in 1176, but William died the next year. In 1180, in order to forestall a coup by Count Raymond III of Tripoli and Prince Bohemond III of Antioch, Baldwin had Sibylla marry Guy of Lusignan. Guy was opposed by a large fraction of the nobility, and soon permanently impaired his relationship with Baldwin. The internal discord that followed forced Baldwin to remain king, as only he was capable of uniting the quarreling nobility. Baldwin again repelled Saladin in 1182, but leprosy rendered him blind and unable to walk or use his hands in 1183. He disinherited Guy and had Sibylla\\'s son, Baldwin V, crowned co-king before having himself taken in a litter to lift Saladin\\'s siege of Kerak. Baldwin failed to have Sibylla\\'s marriage to Guy annulled and Guy\\'s fief of Ascalon confiscated. In early 1185, he arranged for Raymond to rule as regent for Sibylla\\'s son and died before 16 May.\\n\\nBaldwin was born in mid-1161. His parents were Amalric, then the count of Jaffa and Ascalon, and Agnes of Courtenay. Baldwin\\'s godfather was his paternal uncle, King Baldwin III, who joked that his christening present was the Kingdom of Jerusalem. The king was then young and recently married, so a nephew\\'s accession seemed unlikely, but he died childless in 1163. Amalric was his heir, but the nobles of the kingdom were strongly opposed to Amalric\\'s wife, Agnes; they were likely threatened by the prospect of her increased influence. The High Court forced Amalric to agree to an annulment of his marriage on the grounds of consanguinity in order to be accepted as king. Amalric succeeded in having his and Agnes\\'s children, Sibylla and Baldwin, declared legitimate despite the annulment. Baldwin grew up without a mother, who soon married the nobleman Hugh of Ibelin and only saw Baldwin on public occasions. He also seldom saw his sister, Sibylla, who was raised in the Convent of Saint Lazarus by their grandaunt Ioveta. At the age of six Baldwin gained a stepmother, Maria Komnene, with whom he was not close. The queen was an ambitious woman who likely saw Baldwin as an obstacle to her own children.\\n\\nThe Kingdom of Jerusalem and other crusader states were ruled by Franks, French-speaking Catholics who had arrived in the Levant from Western Europe and remained Western in culture. Amalric ensured that Baldwin, as the heir apparent, received a good education. The nine-year-old prince was sent to live with William of Tyre, a sophisticated and well-traveled cleric who was famed for his learning. William noticed that, unlike other children in the playground, Baldwin did not cry when pinched by his peers. After a while it became apparent to the tutor that Baldwin could feel no pain in his right arm. The king hired Arabs to treat Baldwin and to teach him horse riding, an essential skill for a Frankish nobleman. Having sensation in only one hand, Baldwin needed to learn to control the horse in battle using solely his knees, and mastered riding despite the handicap. Leprosy was suspected, but there were no visible symptoms yet and physicians hesitated to diagnose because of the stigma the boy would face. Had the diagnosis been made when he was a child, Baldwin might have been required by law to enter the Order of St Lazarus, a military order composed of affected knights and serjeants.\\n\\nAs an adolescent, Baldwin was precocious, determined, and optimistic in the face of his illness. He took after his father in good looks, body shape, and manner of walking and expressing himself. Baldwin was a quick learner, but he stuttered. He enjoyed listening to stories and history lessons. His tutor, William, remarked on Baldwin\\'s excellent memory, stating that he forgot neither kindness nor slights done to him by others.\\n\\nAmalric attempted to have Sibylla marry the French Count Stephen I of Sancerre, who would rule the kingdom as regent on Baldwin\\'s behalf if Amalric died early. When physicians informed him that Baldwin could develop leprosy, Amalric may have begun viewing Sibylla and Stephen as eventual monarchs instead of Baldwin, but the match fell through. In June 1174, the king came down with dysentery. He died on 11 July, leaving an underage heir, as he had feared might happen.\\n\\nUpon Amalric\\'s death, the High Court convened to discuss the succession. Though he had not yet been diagnosed, the High Court must have been aware of the royal physicians\\' suspicions that Baldwin had contracted leprosy. Yet there was no viable alternative. Baldwin was the king\\'s only son; from his second marriage Amalric had two daughters, of which only Isabella survived infancy. Female succession was expressly allowed, but Sibylla was an unmarried adolescent and Isabella only two years old. The male candidates, Amalric\\'s cousins Prince Bohemond III of Antioch, Baldwin of Antioch, and Count Raymond III of Tripoli, were politically unsuitable: Bohemond was bound to distant Antioch, Baldwin in the service of Byzantine Emperor Manuel I Komnenos, and Raymond virtually a stranger to the barons.\\n\\nAfter three days of deliberations, Baldwin IV was chosen, with the expectation that a husband would be found for Sibylla to succeed him if he proved to be affected. The young king\\'s coronation by the Latin patriarch of Jerusalem, Amalric of Nesle, took place immediately in the Church of the Holy Sepulchre. Medieval rulers were normally crowned on Sundays, but in Baldwin\\'s case 15 July 1174 was chosen instead because it was the 75th anniversary of the First Crusade\\'s seizure of Jerusalem.\\n\\nUntil he reached the age of majority, which was 15 in the Kingdom of Jerusalem, Baldwin needed a regent to rule in his name. The government was initially assumed by the seneschal, Miles of Plancy. Shortly thereafter Count Raymond III of Tripoli arrived in Jerusalem and succeeded in claiming regency as the king\\'s closest kinsman. Miles was murdered while trying to extend his hold on the government. No new seneschal was appointed for two years, and so the young and sickly king presided over burdensome High Court meetings when the regent was away on military duties or in Tripoli.\\n\\nBaldwin\\'s mother, Agnes, returned to court when Raymond became regent. She is frequently accused by historians of exploiting her son\\'s condition for self-gain, but the contemporary sources, including Baldwin\\'s tutor, William of Tyre, are biased against her. Having grown up without her since the age of two, Baldwin IV had no memories of his mother, but she became devotedly kind to him and he developed a strong attachment to her.\\n\\nDuring the regency it became clear that the king was indeed affected by leprosy. It is not clear from whom he caught it, but it must have been someone with whom he spent a lot of time and who did not exhibit easily visible symptoms. Puberty may have accelerated the development of the lepromatous form of the illness. His condition worsened rapidly. Most severely affected were his limbs and face, which made his subjects uneasy when they approached him. Yet, contrary to the common practice and to the surprise of Muslim observers, Baldwin was never segregated. As a leper, Baldwin could not marry or expect to have children. It thus became a priority to arrange a marriage for Baldwin\\'s sister and heir presumptive, Sibylla. Raymond\\'s choice was William of Montferrat, son of Margrave William V of Montferrat in Piedmont, Italy, and cousin of both the Holy Roman Emperor Frederick Barbarossa and King Louis VII of France.\\n\\nOn the second anniversary of his coronation, 15 July 1176, Baldwin reached the age of majority and Raymond\\'s regency lapsed. At the suggestion of his mother, the king appointed his loyal and capable maternal uncle, Joscelin of Courtenay, to the office of seneschal and arranged for him to marry a rich heiress, Agnes of Milly. The change in government signalled a new Frankish approach to the Egyptian ruler Saladin, who had been allowed by Raymond to encircle the crusader states by conquering Muslim principalities in Syria. Baldwin did not ratify Raymond\\'s peace treaty with Saladin, firmly agreeing with Joscelin that the sultan\\'s power needed to be curbed.\\n\\nAs soon as he took over the government, Baldwin began planning a full-scale attack on Egypt with his advisers. The king took advantage of Saladin\\'s campaign in Aleppo to lead a raid around Damascus. This was his first experience of warfare. Despite having use of only one hand, he refused to delegate his military duties and took part in fighting. He and his advisers then decided to intervene in Saladin\\'s war against the Order of Assassins. On 1 August, Baldwin and Raymond led the armies of Jerusalem and Tripoli, respectively, in a raid of the Beqaa Valley (modern-day Lebanon), where they defeated the garrison of Damascus, forcing Saladin to abandon his campaign.\\n\\nWilliam of Montferrat married Baldwin\\'s sister, Sibylla, in November 1176 despite misgivings of the nobles who no longer trusted his cousin Emperor Frederick\\'s ability to aid the kingdom. Baldwin offered to resign the throne to William according to Sicard of Cremona; if he did, William declined because he knew he lacked the support of the nobility.\\n\\nIn order to carry out his attack on Egypt, Baldwin needed naval support. He thus sent Raynald of Châtillon to lead an embassy to Emperor Manuel, Raynald\\'s stepson-in-law, in Constantinople in the winter of 1176–77. Manuel agreed to take part in the invasion in return for the establishment of Byzantine protectorate over the kingdom and restoration of the Orthodox patriarch, Leontius II, in Jerusalem. As Raynald\\'s mission was successful, Baldwin consented to his marriage with the lady of Oultrejordain, Stephanie of Milly.\\n\\nIn April 1177, William of Monferrat fell sick with malaria in Ascalon, of which he had been made count on his marriage to the king\\'s sister. Baldwin visited him and became gravely ill too. William died in June, leaving Sibylla pregnant and incapacitated Baldwin without a deputy ahead of a major war offensive. The king entrusted the government and military command to Raynald, snubbing the count of Tripoli. Baldwin\\'s first cousin Count Philip I of Flanders arrived in the East in September. He brought to Baldwin financial aid from another cousin, King Henry II of England. Henry was invested because he and Baldwin both belonged to the Angevin family. Still in sickbed in Ascalon, the king had himself taken back to Jerusalem in a litter and convened a general council, on the advice of which he offered regency to Philip. Philip declined, and Raynald retained his post.\\n\\nThe Byzantines sent a war fleet in preparation of the invasion of Egypt, but to Baldwin\\'s regret, they withdrew due to uncooperativeness of Philip of Flanders, Bohemond of Antioch, Raymond of Tripoli, and the grand master of the Knights Hospitaller, Roger de Moulins. Saladin\\'s power remained unchecked, and the Byzantine alliance collapsed. Despite the hostility of the Latin patriarch, Amalric of Nesle, Baldwin continued to court the Greek patriarch, Leontius, in hopes that the Byzantines would remain committed to his kingdom.\\n\\nPhilip left the Kingdom of Jerusalem with his troops in late October 1177 to help Raymond of Tripoli attack the Muslim-held city of Hama. With the Frankish army in northern Syria, Saladin seized the opportunity to invade Baldwin\\'s kingdom on 18 November. Though still recovering from malaria, Baldwin rode to meet the sultan, while the Knights Templar hurried to defend Gaza. The king took his humble host to Ascalon, where in desperation he issued an arrière-ban, summoning all able-bodied men. Saladin reached Ascalon on 22 November and Baldwin led the troops out to meet him. Seeing how drastically outnumbered he was, the king retreated into the city. Saladin too saw the strength in his numbers and confidently proceeded towards Jerusalem. Baldwin managed to contact the Templars, however, and ordered them to abandon Gaza and join him. Contrary to the sultan\\'s expectation, Baldwin and Raynald then rode out of Ascalon, joined up with the Templars, and attacked his dispersed army at Montgisard. The young king was in the forefront. Saladin, who barely survived, suffered a crushing defeat.\\n\\nNot having enough men to launch an offensive on the retreating Muslims, Baldwin decided to fortify the Damascene frontier. The Templars convinced him to build a castle, Le Chastellet, on the upper River Jordan; he was reluctant because the Franks had promised not to mark that part of the border. After protests of local Muslims, Saladin offered money to Baldwin in exchange for aborting the construction, but the king refused. In 1178, Baldwin hosted the patriarch of the Syriac Orthodox Church, Michael the Syrian, in Jerusalem and won his lasting loyalty to Frankish cause.\\n\\nIn April 1179, Baldwin intended to round up the sheep passing from Damascus to Banias. Saladin\\'s nephew Farrukh Shah was sent to investigate the king\\'s movement but suddenly ran into him, and a skirmish followed. The elderly but exceptionally able constable, Humphrey II of Toron, sustained fatal wounds while protecting the king. Weeks later Baldwin rode out to intercept Beduin raids of Beirut and Sidon, and in June Saladin\\'s raiding party routed Baldwin\\'s. The king was unhorsed and carried to safety on a knight\\'s back because he could not remount on his own. In late August, Baldwin summoned a host to Tiberias to respond to Saladin\\'s siege of Le Chastellet, but the castle fell before the relic of the True Cross could be fetched from Jerusalem to accompany the Christian troops.\\n\\nIn the winter of 1177–78, the king\\'s widowed sister, Sibylla, gave birth to a son, Baldwin, named after the king. A year of official mourning for the child\\'s father, William, concluded in June 1178, and it became appropriate to seek another husband for her. Baldwin of Ibelin\\'s suit was well known, but not entertained. In order to avoid antagonizing the Ibelins, however, Baldwin had allowed Balian of Ibelin to marry the king\\'s stepmother, Queen Maria, in late 1177. In July 1178, King Baldwin began associating Sibylla with him in some public acts, thereby acknowledging her as next in line to the throne. He began contemplating her marriage to Duke Hugh III of Burgundy, and wrote to the king of France: \"To be deprived of the use of one\\'s limbs is of little help to one in carrying out the work of government ... It is not fitting that a hand so weak as mine should hold power when fear of Arab aggression daily presses upon the Holy City and when my sickness increases the enemy\\'s daring.\"\\n\\nDuring the Holy Week in 1180, the prince of Antioch and the count of Tripoli marched with their armies to Jerusalem. It is most likely that their intention was to force the king to have Sibylla marry Baldwin of Ibelin and to then abdicate. The king had never approved of Baldwin\\'s ambition to marry his sister, and though he did wish to abdicate, he was not keen on having terms forced on him. Baldwin acted decisively before his kinsmen\\'s armies reached Jerusalem: he arranged for Sibylla to marry a Poitevin knight, Guy of Lusignan. Raymond and Bohemond had no option but to accept the fait accompli, and the coup was foiled.\\n\\nBaldwin had hoped to abdicate, but was prevented by deep divisions within his court that emerged following Sibylla\\'s marriage to Guy. He proposed a two-year truce with Saladin, who was glad to accept in order to campaign freely in northern Syria. Baldwin sent his uncle and chief minister, Joscelin, to assure the Byzantine court that Jerusalem still needed their protection. During Joscelin\\'s absence, from mid-1180 to mid-1181, the full burden of government fell on the shoulders of the king, whose health was deteriorating. He relied chiefly on his mother in this period.\\n\\nTo secure Guy\\'s position and prevent the emergence of an alternative claimant, Baldwin had his 8-year-old half-sister, Isabella, solemnly betrothed to the teenaged lord of Toron, Humphrey IV, in October 1180. Isabella was then sent to live at Kerak Castle with the lady of Oultrejourdain, Humphrey\\'s mother, as far as possible from her maternal kin and potential conspirators. By the terms of the marriage contract, Humphrey ceded Toron to Baldwin, who thus prevented the union of two great fiefs under one vassal and strengthened his position against the count of Tripoli.\\n\\nBaldwin made use of the truce with Saladin to strengthen the position of his maternal kin, granting Maron and Chastelneuf to Joscelin and usufruct of Toron to Agnes, while associating Guy and Sibylla with him in public acts. He remained unreconciled with Raymond, however, and forbade the count to enter the kingdom in early 1182 due to suspicions of another conspiracy. Baldwin likely intended to charge Raymond with treason and deprive him of the Principality of Galilee, a fief of Jerusalem held by Raymond through marriage to Eschiva of Bures. The law prevented the king from seizing the fief without the assent of the High Court, and the High Court urged the king to reconcile with Raymond. The king reluctantly heeded his vassals\\' advice.\\n\\nBaldwin\\'s truce with Saladin was due to expire in May 1182, but was broken in mid-1181 by Raynald, who seized a merchant caravan on its way from Egypt to Damascus. Raynald ignored the king\\'s request to make restitution to Saladin, who was then preparing to annex the Zengid-ruled Aleppo. The king, who consistently acted against Saladin\\'s attempts to expand into northern Syria, decided to oppose him. The recent anti-Catholic coup in Constantinople gave Saladin confidence to attack the Kingdom of Jerusalem. In July, Baldwin marched with his host to relieve the Muslims\\' siege of Bethsan, and his outnumbered army won the Battle of Le Forbelet. Historian Bernard Hamilton attributes the victory to the respect and loyalty commanded by Baldwin, who stayed on the battlefield despite his illness and intense heat.\\n\\nThe defeated sultan took his host to besiege Beirut, while another army from Egypt attacked the south of the kingdom. Baldwin knew that he was being provoked into dividing his forces. Deciding that Beirut was of a greater strategic importance, he ignored the southern attack and moved with his troops to Tyre. From there he procured assistance from the Italian maritime republics in lifting Saladin\\'s naval blockade of Beirut. Saladin abandoned the siege, but declined to make a truce, worrying Baldwin and his advisers. He proceeded north to fight the Zengids, thereby expanding his realm, while Baldwin led an attack on Saladin\\'s Damascene territory, then on Bosra, before finally laying siege and capturing Cave de Sueth. In the winter of 1182–3, after agreeing on a strategy with his council, Baldwin attacked Damascus again. He threatened to destroy a mosque in Darayya, but local Christians convinced him not to for fear of losing their churches in retaliation.\\n\\nBaldwin could not walk unsupported or use his hands from 1183. Due to an inability to blink, his cornea dried and he became blind. He nevertheless had to summon his troops in response to Saladin\\'s march south following the Egyptian conquest of Aleppo in June. The king then developed a life-threatening fever. He was attended by his mother and the new patriarch, Heraclius, at nearby Nazareth. Having summoned the High Court to his bedside, Baldwin entrusted the government to his brother-in-law, Guy, who was next in line to succeed him. Guy\\'s appointment to regency was meant to be permanent. Baldwin retained only the royal title and authority over the city of Jerusalem, but he had Guy swear that, while Baldwin lived, he would not make himself king or alienate parts of the royal demesne.\\n\\nFearing discontent among his barons, Baldwin had failed to give Guy any experience in military leadership prior to making him regent. Indeed, the great lords of the kingdom, the independent rulers of Antioch and Tripoli, and the grand masters of the military orders refused to cooperate with Guy. Baldwin recovered unexpectedly and returned to Jerusalem. Having found that coastal climate suited his health, Baldwin offered Jerusalem to Guy in exchange for Tyre. Guy brusquely refused, possibly because Tyre was more lucrative, leaving Baldwin gravely insulted.\\n\\nThe wedding of Baldwin\\'s half-sister, Isabella, and Humphrey IV of Toron was celebrated in Kerak in late 1183. Saladin attacked during the festivities and laid siege to the castle, hoping to capture the king\\'s half-sister and her husband. The retired king had gathered a council in Jerusalem to inform him about the government of the kingdom when news about the siege reached him. He immediately dismissed Guy from regency and resumed power, as the defense of such a vital fortress and the king\\'s half-sister within it could not be entrusted to the man who had proven unable to command the troops. Guy\\'s removal from regency was effectively disinheritance; at the council\\'s insistence, deliberations about the succession followed. The proposal of the king\\'s mother that Sibylla\\'s five-year-old son, Baldwin, be made co-king was accepted, and the boy was crowned on 20 November.\\n\\nIn late November, Baldwin IV ordered the lighting of a beacon on the Tower of David, which may have been the first in a chain of such beacons, in order to hearten the defenders of the intensely bombarded Kerak. Baldwin accompanied his troops again, but having become blind and immobile, this time he went in a litter slung between two horses. His presence was essential to unite the discordant barons. Even his humiliated brother-in-law led his men. Warned by his scouts about the king\\'s approach and concerned about having left Egypt unguarded, Saladin abandoned the siege on 4 December. Baldwin entered Kerak triumphantly.\\n\\nThe question of regency for his nephew troubled Baldwin. The only way to ensure that Guy could not claim it was to have his marriage to Sibylla annulled. Baldwin discussed this with the patriarch, Heraclius. Baldwin may have intended to claim that he had forced Sibylla to marry Guy and that the marriage was unlawful because of that. Sibylla\\'s unwavering loyalty to Guy thwarted his plans, as the couple refused to appear at court.\\n\\nEarly in 1184, Baldwin ordered Guy to attend him as vassal in Jerusalem. Guy declined, citing poor health, and this was repeated several times. Baldwin then had himself carried to Ascalon in the company of the High Court. Guy refused to let him into the city. From the battlements and towers the inhabitants witnessed the king ceremoniously knocking and demanding admission. He was welcomed in Jaffa, where he installed a governor, thereby depriving Guy of half of his county. In Acre, Baldwin summoned his council, probably to discuss the seizure of Guy\\'s fief. The patriarch and the grand masters begged Baldwin to forgive Guy in order to avoid a civil war. This was as unacceptable to Baldwin as it would have been to any contemporary king. The patriarch and the grand masters stormed out of the council, swaying the rest of the assembly to withhold support for the action.\\n\\nBaldwin was reconciled with the patriarch and the grand masters by June, when he sent them to Europe on a diplomatic mission to seek aid for the kingdom, and informed them by letter that Saladin was once more besieging Kerak. Again, Saladin abandoned the siege when the litter-bound king approached with his army. Once in Kerak, Baldwin ordered and financed the reparations of the damaged castle.\\n\\nIn late 1184, Baldwin was shocked to learn about Guy\\'s massacre of the Beduin of the royal fief of Darum, who were under royal protection and who provided information about the Egyptians\\' movements. He soon developed a fever. When he returned to Jerusalem in late 1184 or early 1185, Baldwin bestowed regency on Raymond of Tripoli, the man whom he had never trusted, but to whom he could find no better alternative. At the time he expected to survive the illness, having done so twice before, but within weeks it became apparent that it would be his last. On his deathbed he summoned the High Court to appoint a permanent regent for his nephew, Baldwin V, and Raymond was chosen. The dying king then ordered that homage be rendered to his nephew as king and to Raymond as regent, to be followed by a solemn crown-wearing ceremony at the Church of the Holy Sepulchre.\\n\\nBaldwin died, attended by his vassals, in March 1185 or before 16 May 1185 at the latest, when his nephew is recorded as the sole king. He was buried in the Church of the Holy Sepulchre, close to his father, King Amalric. His tomb would remain untouched along with the other royal tombs of the kingdom until 1809–1810, when they were destroyed by the Othodox greeks, as said tombs layed in their section of the Church of the Holy Sepulchre.[106][107] It is unclear if the remains of those kings were exhumed; some researchers hypothesize that some of them may still be in unmarked pits under the church\\'s pavement.[108]\\n\\nThe young Baldwin V died the next year. Sibylla, who succeeded her son, made Guy king. Baldwin IV\\'s realm was destroyed by Saladin following his decisive victory over Guy at the Horns of Hattin in 1187. Sibylla and their daughters died in 1190, leaving Isabella I as the heir to the defeated kingdom.\\n\\nChristian defeat at Hattin two years after Baldwin\\'s death marred the king\\'s legacy, with historians tracing fatal discord to Baldwin\\'s reign. Yet, while Baldwin was on the throne, the kingdom lost no territory and flourished economically and spiritually. Baldwin understood the importance of curbing Saladin\\'s power, which was reflected in his choice of ministers. He did not devise strategy or diplomacy alone, and delegated Church patronage and finances to his mother, Agnes, and uncle, Joscelin, respectively. His chief contribution was his determination not to abdicate before finding a suitable successor, despite leprosy making government an unbearable burden. As was clear during his reign and especially in its disastrous aftermath, Baldwin alone preserved unity in the kingdom.\\n\\nContemporary Christian theologians were divided on the issue of leprosy. Pope Alexander III showed little sympathy when writing about Baldwin, declaring leprosy a \"just judgement of God\", but another school of thought encouraged the faithful to see Christ in the affected. Baldwin\\'s reign may have led to a lesser stigmatization of the illness in the 13th-century Kingdom of Jerusalem. His subjects\\' acceptance of his illness confounded Muslims. Imad ad-Din al-Isfahani wrote:\\n\\nBaldwin\\'s public image may have been aided by his chastity, seen as evidence of extraordinary sanctity, and his success against Saladin was interpreted as a sign of God\\'s favour. After the disastrous Seventh Crusade, a crusader was told by an old man in Damascus:\\n\\nAlong his perceived sanctity, Baldwin was primarily a knight, both in character and in upbringing, and to contemporaries his most distinctive traits were his courage and honourableness.\\n• Kingdom of Heaven – film portraying King Baldwin (played by Edward Norton) as a fragile but courageous young king who mostly remains secluded in his palace and wears a silver mask to hide his leprosy, although he is shown leading his troops on horseback. There are no historical accounts of Baldwin actually wearing a mask to hide his leprosy.\\n• None Hamilton, Bernard (2000). The Leper King and His Heirs: Baldwin IV and the Crusader Kingdom of Jerusalem. Cambridge University Press. ISBN .\\n• None Mitchell, Piers D. (2000). \"An evaluation of the leprosy of King Baldwin IV of Jerusalem in the context of the medieval world\". The Leper King and His Heirs: Baldwin IV and the Crusader Kingdom of Jerusalem. By Hamilton, Bernard. Cambridge University Press. pp. 245–258. ISBN .\\n• None Riley-Smith, Jonathan (1973). The feudal nobility and the kingdom of Jerusalem, 1147–1277. Macmillan.\\n• None Runciman, Steven (1952). A History of the Crusades: The Kingdom of Jerusalem and the Frankish East, 1100–1187. Vol. 2. Cambridge University Press. ISBN .'"
      ]
     },
     "execution_count": 53,
     "metadata": {},
     "output_type": "execute_result"
    }
   ],
   "source": [
    "article.cleaned_text"
   ]
  },
  {
   "cell_type": "code",
   "execution_count": 54,
   "metadata": {},
   "outputs": [
    {
     "data": {
      "text/plain": [
       "29316"
      ]
     },
     "execution_count": 54,
     "metadata": {},
     "output_type": "execute_result"
    }
   ],
   "source": [
    "len(article.cleaned_text)"
   ]
  },
  {
   "cell_type": "code",
   "execution_count": 55,
   "metadata": {},
   "outputs": [
    {
     "data": {
      "text/plain": [
       "\"baldwin iv french baudouin 1161–1185 called leper king king jerusalem 1174 death 1185. admired contemporaries later historians willpower dedication latin kingdom face debilitating leprosy eventually left blind unable use either hands feet choosing competent advisers baldwin ruled thriving realm succeeded protecting ayyubid muslim ruler saladin baldwin developed first symptoms leprosy child diagnosed accession death father king amalric thereafter hands face became increasingly disfigured count raymond iii tripoli ruled kingdom baldwin 's name king reached age majority 1176. soon assumed government baldwin planned invasion egypt fell due vassals uncooperativeness saladin turn attacked baldwin 's kingdom 1177 king nobleman raynald châtillon repelled montgisard earning baldwin fame young king mastered horse riding despite gradually losing sensation extremities able fight battles last years leprosy precluded baldwin marrying hoped abdicate sister sibylla married william montferrat 1176 william died next year 1180 order forestall coup count raymond iii tripoli prince bohemond iii antioch baldwin sibylla marry guy lusignan guy opposed large fraction nobility soon permanently impaired relationship baldwin internal discord followed forced baldwin remain king capable uniting quarreling nobility baldwin repelled saladin 1182 leprosy rendered blind unable walk use hands 1183. disinherited guy sibylla 's son baldwin v crowned co-king taken litter lift saladin 's siege kerak baldwin failed sibylla 's marriage guy annulled guy 's fief ascalon confiscated early 1185 arranged raymond rule regent sibylla 's son died 16 may baldwin born mid-1161 parents amalric count jaffa ascalon agnes courtenay baldwin 's godfather paternal uncle king baldwin iii joked christening present kingdom jerusalem king young recently married nephew 's accession seemed unlikely died childless 1163. amalric heir nobles kingdom strongly opposed amalric 's wife agnes likely threatened prospect increased influence high court forced amalric agree annulment marriage grounds consanguinity order accepted king amalric succeeded agnes 's children sibylla baldwin declared legitimate despite annulment baldwin grew without mother soon married nobleman hugh ibelin saw baldwin public occasions also seldom saw sister sibylla raised convent saint lazarus grandaunt ioveta age six baldwin gained stepmother maria komnene close queen ambitious woman likely saw baldwin obstacle children kingdom jerusalem crusader states ruled franks french-speaking catholics arrived levant western europe remained western culture amalric ensured baldwin heir apparent received good education nine-year-old prince sent live william tyre sophisticated well-traveled cleric famed learning william noticed unlike children playground baldwin cry pinched peers became apparent tutor baldwin could feel pain right arm king hired arabs treat baldwin teach horse riding essential skill frankish nobleman sensation one hand baldwin needed learn control horse battle using solely knees mastered riding despite handicap leprosy suspected visible symptoms yet physicians hesitated diagnose stigma boy would face diagnosis made child baldwin might required law enter order st lazarus military order composed affected knights serjeants adolescent baldwin precocious determined optimistic face illness took father good looks body shape manner walking expressing baldwin quick learner stuttered enjoyed listening stories history lessons tutor william remarked baldwin 's excellent memory stating forgot neither kindness slights done others amalric attempted sibylla marry french count stephen sancerre would rule kingdom regent baldwin 's behalf amalric died early physicians informed baldwin could develop leprosy amalric may begun viewing sibylla stephen eventual monarchs instead baldwin match fell june 1174 king came dysentery died 11 july leaving underage heir feared might happen upon amalric 's death high court convened discuss succession though yet diagnosed high court must aware royal physicians suspicions baldwin contracted leprosy yet viable alternative baldwin king 's son second marriage amalric two daughters isabella survived infancy female succession expressly allowed sibylla unmarried adolescent isabella two years old male candidates amalric 's cousins prince bohemond iii antioch baldwin antioch count raymond iii tripoli politically unsuitable bohemond bound distant antioch baldwin service byzantine emperor manuel komnenos raymond virtually stranger barons three days deliberations baldwin iv chosen expectation husband would found sibylla succeed proved affected young king 's coronation latin patriarch jerusalem amalric nesle took place immediately church holy sepulchre medieval rulers normally crowned sundays baldwin 's case 15 july 1174 chosen instead 75th anniversary first crusade 's seizure jerusalem reached age majority 15 kingdom jerusalem baldwin needed regent rule name government initially assumed seneschal miles plancy shortly thereafter count raymond iii tripoli arrived jerusalem succeeded claiming regency king 's closest kinsman miles murdered trying extend hold government new seneschal appointed two years young sickly king presided burdensome high court meetings regent away military duties tripoli baldwin 's mother agnes returned court raymond became regent frequently accused historians exploiting son 's condition self-gain contemporary sources including baldwin 's tutor william tyre biased grown without since age two baldwin iv memories mother became devotedly kind developed strong attachment regency became clear king indeed affected leprosy clear caught must someone spent lot time exhibit easily visible symptoms puberty may accelerated development lepromatous form illness condition worsened rapidly severely affected limbs face made subjects uneasy approached yet contrary common practice surprise muslim observers baldwin never segregated leper baldwin could marry expect children thus became priority arrange marriage baldwin 's sister heir presumptive sibylla raymond 's choice william montferrat son margrave william v montferrat piedmont italy cousin holy roman emperor frederick barbarossa king louis vii france second anniversary coronation 15 july 1176 baldwin reached age majority raymond 's regency lapsed suggestion mother king appointed loyal capable maternal uncle joscelin courtenay office seneschal arranged marry rich heiress agnes milly change government signalled new frankish approach egyptian ruler saladin allowed raymond encircle crusader states conquering muslim principalities syria baldwin ratify raymond 's peace treaty saladin firmly agreeing joscelin sultan 's power needed curbed soon took government baldwin began planning full-scale attack egypt advisers king took advantage saladin 's campaign aleppo lead raid around damascus first experience warfare despite use one hand refused delegate military duties took part fighting advisers decided intervene saladin 's war order assassins 1 august baldwin raymond led armies jerusalem tripoli respectively raid beqaa valley modern-day lebanon defeated garrison damascus forcing saladin abandon campaign william montferrat married baldwin 's sister sibylla november 1176 despite misgivings nobles longer trusted cousin emperor frederick 's ability aid kingdom baldwin offered resign throne william according sicard cremona william declined knew lacked support nobility order carry attack egypt baldwin needed naval support thus sent raynald châtillon lead embassy emperor manuel raynald 's stepson-in-law constantinople winter 1176–77 manuel agreed take part invasion return establishment byzantine protectorate kingdom restoration orthodox patriarch leontius ii jerusalem raynald 's mission successful baldwin consented marriage lady oultrejordain stephanie milly april 1177 william monferrat fell sick malaria ascalon made count marriage king 's sister baldwin visited became gravely ill william died june leaving sibylla pregnant incapacitated baldwin without deputy ahead major war offensive king entrusted government military command raynald snubbing count tripoli baldwin 's first cousin count philip flanders arrived east september brought baldwin financial aid another cousin king henry ii england henry invested baldwin belonged angevin family still sickbed ascalon king taken back jerusalem litter convened general council advice offered regency philip philip declined raynald retained post byzantines sent war fleet preparation invasion egypt baldwin 's regret withdrew due uncooperativeness philip flanders bohemond antioch raymond tripoli grand master knights hospitaller roger de moulins saladin 's power remained unchecked byzantine alliance collapsed despite hostility latin patriarch amalric nesle baldwin continued court greek patriarch leontius hopes byzantines would remain committed kingdom philip left kingdom jerusalem troops late october 1177 help raymond tripoli attack muslim-held city hama frankish army northern syria saladin seized opportunity invade baldwin 's kingdom 18 november though still recovering malaria baldwin rode meet sultan knights templar hurried defend gaza king took humble host ascalon desperation issued arrière-ban summoning able-bodied men saladin reached ascalon 22 november baldwin led troops meet seeing drastically outnumbered king retreated city saladin saw strength numbers confidently proceeded towards jerusalem baldwin managed contact templars however ordered abandon gaza join contrary sultan 's expectation baldwin raynald rode ascalon joined templars attacked dispersed army montgisard young king forefront saladin barely survived suffered crushing defeat enough men launch offensive retreating muslims baldwin decided fortify damascene frontier templars convinced build castle le chastellet upper river jordan reluctant franks promised mark part border protests local muslims saladin offered money baldwin exchange aborting construction king refused 1178 baldwin hosted patriarch syriac orthodox church michael syrian jerusalem lasting loyalty frankish cause april 1179 baldwin intended round sheep passing damascus banias saladin 's nephew farrukh shah sent investigate king 's movement suddenly ran skirmish followed elderly exceptionally able constable humphrey ii toron sustained fatal wounds protecting king weeks later baldwin rode intercept beduin raids beirut sidon june saladin 's raiding party routed baldwin 's king unhorsed carried safety knight 's back could remount late august baldwin summoned host tiberias respond saladin 's siege le chastellet castle fell relic true cross could fetched jerusalem accompany christian troops winter 1177–78 king 's widowed sister sibylla gave birth son baldwin named king year official mourning child 's father william concluded june 1178 became appropriate seek another husband baldwin ibelin 's suit well known entertained order avoid antagonizing ibelins however baldwin allowed balian ibelin marry king 's stepmother queen maria late 1177. july 1178 king baldwin began associating sibylla public acts thereby acknowledging next line throne began contemplating marriage duke hugh iii burgundy wrote king france `` deprived use one 's limbs little help one carrying work government ... fitting hand weak mine hold power fear arab aggression daily presses upon holy city sickness increases enemy 's daring '' holy week 1180 prince antioch count tripoli marched armies jerusalem likely intention force king sibylla marry baldwin ibelin abdicate king never approved baldwin 's ambition marry sister though wish abdicate keen terms forced baldwin acted decisively kinsmen 's armies reached jerusalem arranged sibylla marry poitevin knight guy lusignan raymond bohemond option accept fait accompli coup foiled baldwin hoped abdicate prevented deep divisions within court emerged following sibylla 's marriage guy proposed two-year truce saladin glad accept order campaign freely northern syria baldwin sent uncle chief minister joscelin assure byzantine court jerusalem still needed protection joscelin 's absence mid-1180 mid-1181 full burden government fell shoulders king whose health deteriorating relied chiefly mother period secure guy 's position prevent emergence alternative claimant baldwin 8-year-old half-sister isabella solemnly betrothed teenaged lord toron humphrey iv october 1180. isabella sent live kerak castle lady oultrejourdain humphrey 's mother far possible maternal kin potential conspirators terms marriage contract humphrey ceded toron baldwin thus prevented union two great fiefs one vassal strengthened position count tripoli baldwin made use truce saladin strengthen position maternal kin granting maron chastelneuf joscelin usufruct toron agnes associating guy sibylla public acts remained unreconciled raymond however forbade count enter kingdom early 1182 due suspicions another conspiracy baldwin likely intended charge raymond treason deprive principality galilee fief jerusalem held raymond marriage eschiva bures law prevented king seizing fief without assent high court high court urged king reconcile raymond king reluctantly heeded vassals advice baldwin 's truce saladin due expire may 1182 broken mid-1181 raynald seized merchant caravan way egypt damascus raynald ignored king 's request make restitution saladin preparing annex zengid-ruled aleppo king consistently acted saladin 's attempts expand northern syria decided oppose recent anti-catholic coup constantinople gave saladin confidence attack kingdom jerusalem july baldwin marched host relieve muslims siege bethsan outnumbered army battle le forbelet historian bernard hamilton attributes victory respect loyalty commanded baldwin stayed battlefield despite illness intense heat defeated sultan took host besiege beirut another army egypt attacked south kingdom baldwin knew provoked dividing forces deciding beirut greater strategic importance ignored southern attack moved troops tyre procured assistance italian maritime republics lifting saladin 's naval blockade beirut saladin abandoned siege declined make truce worrying baldwin advisers proceeded north fight zengids thereby expanding realm baldwin led attack saladin 's damascene territory bosra finally laying siege capturing cave de sueth winter 1182–3 agreeing strategy council baldwin attacked damascus threatened destroy mosque darayya local christians convinced fear losing churches retaliation baldwin could walk unsupported use hands 1183. due inability blink cornea dried became blind nevertheless summon troops response saladin 's march south following egyptian conquest aleppo june king developed life-threatening fever attended mother new patriarch heraclius nearby nazareth summoned high court bedside baldwin entrusted government brother-in-law guy next line succeed guy 's appointment regency meant permanent baldwin retained royal title authority city jerusalem guy swear baldwin lived would make king alienate parts royal demesne fearing discontent among barons baldwin failed give guy experience military leadership prior making regent indeed great lords kingdom independent rulers antioch tripoli grand masters military orders refused cooperate guy baldwin recovered unexpectedly returned jerusalem found coastal climate suited health baldwin offered jerusalem guy exchange tyre guy brusquely refused possibly tyre lucrative leaving baldwin gravely insulted wedding baldwin 's half-sister isabella humphrey iv toron celebrated kerak late 1183. saladin attacked festivities laid siege castle hoping capture king 's half-sister husband retired king gathered council jerusalem inform government kingdom news siege reached immediately dismissed guy regency resumed power defense vital fortress king 's half-sister within could entrusted man proven unable command troops guy 's removal regency effectively disinheritance council 's insistence deliberations succession followed proposal king 's mother sibylla 's five-year-old son baldwin made co-king accepted boy crowned 20 november late november baldwin iv ordered lighting beacon tower david may first chain beacons order hearten defenders intensely bombarded kerak baldwin accompanied troops become blind immobile time went litter slung two horses presence essential unite discordant barons even humiliated brother-in-law led men warned scouts king 's approach concerned left egypt unguarded saladin abandoned siege 4 december baldwin entered kerak triumphantly question regency nephew troubled baldwin way ensure guy could claim marriage sibylla annulled baldwin discussed patriarch heraclius baldwin may intended claim forced sibylla marry guy marriage unlawful sibylla 's unwavering loyalty guy thwarted plans couple refused appear court early 1184 baldwin ordered guy attend vassal jerusalem guy declined citing poor health repeated several times baldwin carried ascalon company high court guy refused let city battlements towers inhabitants witnessed king ceremoniously knocking demanding admission welcomed jaffa installed governor thereby depriving guy half county acre baldwin summoned council probably discuss seizure guy 's fief patriarch grand masters begged baldwin forgive guy order avoid civil war unacceptable baldwin would contemporary king patriarch grand masters stormed council swaying rest assembly withhold support action baldwin reconciled patriarch grand masters june sent europe diplomatic mission seek aid kingdom informed letter saladin besieging kerak saladin abandoned siege litter-bound king approached army kerak baldwin ordered financed reparations damaged castle late 1184 baldwin shocked learn guy 's massacre beduin royal fief darum royal protection provided information egyptians movements soon developed fever returned jerusalem late 1184 early 1185 baldwin bestowed regency raymond tripoli man never trusted could find better alternative time expected survive illness done twice within weeks became apparent would last deathbed summoned high court appoint permanent regent nephew baldwin v raymond chosen dying king ordered homage rendered nephew king raymond regent followed solemn crown-wearing ceremony church holy sepulchre baldwin died attended vassals march 1185 16 may 1185 latest nephew recorded sole king buried church holy sepulchre close father king amalric tomb would remain untouched along royal tombs kingdom 1809–1810 destroyed othodox greeks said tombs layed section church holy sepulchre 106 107 unclear remains kings exhumed researchers hypothesize may still unmarked pits church 's pavement 108 young baldwin v died next year sibylla succeeded son made guy king baldwin iv 's realm destroyed saladin following decisive victory guy horns hattin 1187. sibylla daughters died 1190 leaving isabella heir defeated kingdom christian defeat hattin two years baldwin 's death marred king 's legacy historians tracing fatal discord baldwin 's reign yet baldwin throne kingdom lost territory flourished economically spiritually baldwin understood importance curbing saladin 's power reflected choice ministers devise strategy diplomacy alone delegated church patronage finances mother agnes uncle joscelin respectively chief contribution determination abdicate finding suitable successor despite leprosy making government unbearable burden clear reign especially disastrous aftermath baldwin alone preserved unity kingdom contemporary christian theologians divided issue leprosy pope alexander iii showed little sympathy writing baldwin declaring leprosy `` judgement god '' another school thought encouraged faithful see christ affected baldwin 's reign may led lesser stigmatization illness 13th-century kingdom jerusalem subjects acceptance illness confounded muslims imad ad-din al-isfahani wrote baldwin 's public image may aided chastity seen evidence extraordinary sanctity success saladin interpreted sign god 's favour disastrous seventh crusade crusader told old man damascus along perceived sanctity baldwin primarily knight character upbringing contemporaries distinctive traits courage honourableness • kingdom heaven – film portraying king baldwin played edward norton fragile courageous young king mostly remains secluded palace wears silver mask hide leprosy although shown leading troops horseback historical accounts baldwin actually wearing mask hide leprosy • none hamilton bernard 2000 leper king heirs baldwin iv crusader kingdom jerusalem cambridge university press isbn • none mitchell piers d. 2000 `` evaluation leprosy king baldwin iv jerusalem context medieval world '' leper king heirs baldwin iv crusader kingdom jerusalem hamilton bernard cambridge university press pp 245–258 isbn • none riley-smith jonathan 1973 feudal nobility kingdom jerusalem 1147–1277 macmillan • none runciman steven 1952 history crusades kingdom jerusalem frankish east 1100–1187 vol 2. cambridge university press isbn\""
      ]
     },
     "execution_count": 55,
     "metadata": {},
     "output_type": "execute_result"
    }
   ],
   "source": [
    "formatted_article = preprocess(article.cleaned_text)\n",
    "formatted_article"
   ]
  },
  {
   "cell_type": "code",
   "execution_count": 56,
   "metadata": {},
   "outputs": [
    {
     "data": {
      "text/plain": [
       "20901"
      ]
     },
     "execution_count": 56,
     "metadata": {},
     "output_type": "execute_result"
    }
   ],
   "source": [
    "len(formatted_article)"
   ]
  },
  {
   "cell_type": "code",
   "execution_count": 57,
   "metadata": {},
   "outputs": [],
   "source": [
    "def summarize(text, number_of_best_sentences, percentage = 0):\n",
    "  original_text = text\n",
    "  formatted_text = preprocess(original_text)\n",
    "\n",
    "  word_frequency = nltk.FreqDist(nltk.word_tokenize(formatted_text))\n",
    "  highest_frequency = max(word_frequency.values())\n",
    "  for word in word_frequency.keys():\n",
    "    word_frequency[word] = (word_frequency[word] / highest_frequency)\n",
    "  sentence_list = nltk.sent_tokenize(original_text)\n",
    "  \n",
    "  score_sentences = {}\n",
    "  for sentence in sentence_list:\n",
    "    for word in nltk.word_tokenize(sentence):\n",
    "      if word in word_frequency.keys():\n",
    "        if sentence not in score_sentences.keys():\n",
    "          score_sentences[sentence] = word_frequency[word]\n",
    "        else:\n",
    "          score_sentences[sentence] += word_frequency[word]\n",
    "\n",
    "  import heapq\n",
    "  if percentage > 0:\n",
    "    best_sentences = heapq.nlargest(int(len(sentence_list) * percentage), score_sentences, key=score_sentences.get)\n",
    "  else:\n",
    "    best_sentences = heapq.nlargest(number_of_best_sentences, score_sentences, key=score_sentences.get)\n",
    "\n",
    "  return sentence_list, best_sentences, word_frequency, score_sentences"
   ]
  },
  {
   "cell_type": "code",
   "execution_count": 67,
   "metadata": {},
   "outputs": [],
   "source": [
    "sentence_list , best_sentences, word_frequency, score_sentences = summarize(article.cleaned_text,100)"
   ]
  },
  {
   "cell_type": "code",
   "execution_count": 68,
   "metadata": {},
   "outputs": [
    {
     "data": {
      "text/plain": [
       "253"
      ]
     },
     "execution_count": 68,
     "metadata": {},
     "output_type": "execute_result"
    }
   ],
   "source": [
    "len(sentence_list)"
   ]
  },
  {
   "cell_type": "code",
   "execution_count": 69,
   "metadata": {},
   "outputs": [
    {
     "data": {
      "text/plain": [
       "47.43083003952569"
      ]
     },
     "execution_count": 69,
     "metadata": {},
     "output_type": "execute_result"
    }
   ],
   "source": [
    "# If we select 120 sentences then our summary will contain thirty-percent of the text\n",
    "(120/len(sentence_list)) * 100"
   ]
  },
  {
   "cell_type": "code",
   "execution_count": 70,
   "metadata": {},
   "outputs": [
    {
     "data": {
      "text/plain": [
       "['Baldwin IV (French: Baudouin; 1161–1185), called the Leper King, was King of Jerusalem from 1174 until his death in 1185.',\n",
       " 'He was admired by his contemporaries and later historians for his willpower and dedication to the Latin kingdom in the face of debilitating leprosy, which eventually left him blind and unable to use either his hands or his feet.',\n",
       " 'Choosing competent advisers, Baldwin ruled a thriving realm and succeeded in protecting it from the Ayyubid Muslim ruler Saladin.',\n",
       " 'Baldwin developed the first symptoms of his leprosy as a child but was only diagnosed after his accession on the death of his father, King Amalric.',\n",
       " 'Thereafter his hands and face became increasingly disfigured.',\n",
       " \"Count Raymond III of Tripoli ruled the kingdom in Baldwin's name until the king reached the age of majority in 1176.\",\n",
       " \"As soon as he assumed government, Baldwin planned an invasion of Egypt, which fell through due to his vassals' uncooperativeness.\",\n",
       " \"Saladin in turn attacked Baldwin's kingdom in 1177, but the king and the nobleman Raynald of Châtillon repelled him at Montgisard, earning Baldwin fame.\",\n",
       " 'The young king mastered horse riding despite gradually losing sensation in his extremities and was able to fight in battles until his last years.',\n",
       " 'Leprosy precluded Baldwin from marrying.',\n",
       " 'He hoped to abdicate when his sister, Sibylla, married William of Montferrat in 1176, but William died the next year.',\n",
       " 'In 1180, in order to forestall a coup by Count Raymond III of Tripoli and Prince Bohemond III of Antioch, Baldwin had Sibylla marry Guy of Lusignan.',\n",
       " 'Guy was opposed by a large fraction of the nobility, and soon permanently impaired his relationship with Baldwin.',\n",
       " 'The internal discord that followed forced Baldwin to remain king, as only he was capable of uniting the quarreling nobility.',\n",
       " 'Baldwin again repelled Saladin in 1182, but leprosy rendered him blind and unable to walk or use his hands in 1183.',\n",
       " \"He disinherited Guy and had Sibylla's son, Baldwin V, crowned co-king before having himself taken in a litter to lift Saladin's siege of Kerak.\",\n",
       " \"Baldwin failed to have Sibylla's marriage to Guy annulled and Guy's fief of Ascalon confiscated.\",\n",
       " \"In early 1185, he arranged for Raymond to rule as regent for Sibylla's son and died before 16 May.\",\n",
       " 'Baldwin was born in mid-1161.',\n",
       " 'His parents were Amalric, then the count of Jaffa and Ascalon, and Agnes of Courtenay.',\n",
       " \"Baldwin's godfather was his paternal uncle, King Baldwin III, who joked that his christening present was the Kingdom of Jerusalem.\",\n",
       " \"The king was then young and recently married, so a nephew's accession seemed unlikely, but he died childless in 1163.\",\n",
       " \"Amalric was his heir, but the nobles of the kingdom were strongly opposed to Amalric's wife, Agnes; they were likely threatened by the prospect of her increased influence.\",\n",
       " 'The High Court forced Amalric to agree to an annulment of his marriage on the grounds of consanguinity in order to be accepted as king.',\n",
       " \"Amalric succeeded in having his and Agnes's children, Sibylla and Baldwin, declared legitimate despite the annulment.\",\n",
       " 'Baldwin grew up without a mother, who soon married the nobleman Hugh of Ibelin and only saw Baldwin on public occasions.',\n",
       " 'He also seldom saw his sister, Sibylla, who was raised in the Convent of Saint Lazarus by their grandaunt Ioveta.',\n",
       " 'At the age of six Baldwin gained a stepmother, Maria Komnene, with whom he was not close.',\n",
       " 'The queen was an ambitious woman who likely saw Baldwin as an obstacle to her own children.',\n",
       " 'The Kingdom of Jerusalem and other crusader states were ruled by Franks, French-speaking Catholics who had arrived in the Levant from Western Europe and remained Western in culture.',\n",
       " 'Amalric ensured that Baldwin, as the heir apparent, received a good education.',\n",
       " 'The nine-year-old prince was sent to live with William of Tyre, a sophisticated and well-traveled cleric who was famed for his learning.',\n",
       " 'William noticed that, unlike other children in the playground, Baldwin did not cry when pinched by his peers.',\n",
       " 'After a while it became apparent to the tutor that Baldwin could feel no pain in his right arm.',\n",
       " 'The king hired Arabs to treat Baldwin and to teach him horse riding, an essential skill for a Frankish nobleman.',\n",
       " 'Having sensation in only one hand, Baldwin needed to learn to control the horse in battle using solely his knees, and mastered riding despite the handicap.',\n",
       " 'Leprosy was suspected, but there were no visible symptoms yet and physicians hesitated to diagnose because of the stigma the boy would face.',\n",
       " 'Had the diagnosis been made when he was a child, Baldwin might have been required by law to enter the Order of St Lazarus, a military order composed of affected knights and serjeants.',\n",
       " 'As an adolescent, Baldwin was precocious, determined, and optimistic in the face of his illness.',\n",
       " 'He took after his father in good looks, body shape, and manner of walking and expressing himself.',\n",
       " 'Baldwin was a quick learner, but he stuttered.',\n",
       " 'He enjoyed listening to stories and history lessons.',\n",
       " \"His tutor, William, remarked on Baldwin's excellent memory, stating that he forgot neither kindness nor slights done to him by others.\",\n",
       " \"Amalric attempted to have Sibylla marry the French Count Stephen I of Sancerre, who would rule the kingdom as regent on Baldwin's behalf if Amalric died early.\",\n",
       " 'When physicians informed him that Baldwin could develop leprosy, Amalric may have begun viewing Sibylla and Stephen as eventual monarchs instead of Baldwin, but the match fell through.',\n",
       " 'In June 1174, the king came down with dysentery.',\n",
       " 'He died on 11 July, leaving an underage heir, as he had feared might happen.',\n",
       " \"Upon Amalric's death, the High Court convened to discuss the succession.\",\n",
       " \"Though he had not yet been diagnosed, the High Court must have been aware of the royal physicians' suspicions that Baldwin had contracted leprosy.\",\n",
       " 'Yet there was no viable alternative.',\n",
       " \"Baldwin was the king's only son; from his second marriage Amalric had two daughters, of which only Isabella survived infancy.\",\n",
       " 'Female succession was expressly allowed, but Sibylla was an unmarried adolescent and Isabella only two years old.',\n",
       " \"The male candidates, Amalric's cousins Prince Bohemond III of Antioch, Baldwin of Antioch, and Count Raymond III of Tripoli, were politically unsuitable: Bohemond was bound to distant Antioch, Baldwin in the service of Byzantine Emperor Manuel I Komnenos, and Raymond virtually a stranger to the barons.\",\n",
       " 'After three days of deliberations, Baldwin IV was chosen, with the expectation that a husband would be found for Sibylla to succeed him if he proved to be affected.',\n",
       " \"The young king's coronation by the Latin patriarch of Jerusalem, Amalric of Nesle, took place immediately in the Church of the Holy Sepulchre.\",\n",
       " \"Medieval rulers were normally crowned on Sundays, but in Baldwin's case 15 July 1174 was chosen instead because it was the 75th anniversary of the First Crusade's seizure of Jerusalem.\",\n",
       " 'Until he reached the age of majority, which was 15 in the Kingdom of Jerusalem, Baldwin needed a regent to rule in his name.',\n",
       " 'The government was initially assumed by the seneschal, Miles of Plancy.',\n",
       " \"Shortly thereafter Count Raymond III of Tripoli arrived in Jerusalem and succeeded in claiming regency as the king's closest kinsman.\",\n",
       " 'Miles was murdered while trying to extend his hold on the government.',\n",
       " 'No new seneschal was appointed for two years, and so the young and sickly king presided over burdensome High Court meetings when the regent was away on military duties or in Tripoli.',\n",
       " \"Baldwin's mother, Agnes, returned to court when Raymond became regent.\",\n",
       " \"She is frequently accused by historians of exploiting her son's condition for self-gain, but the contemporary sources, including Baldwin's tutor, William of Tyre, are biased against her.\",\n",
       " 'Having grown up without her since the age of two, Baldwin IV had no memories of his mother, but she became devotedly kind to him and he developed a strong attachment to her.',\n",
       " 'During the regency it became clear that the king was indeed affected by leprosy.',\n",
       " 'It is not clear from whom he caught it, but it must have been someone with whom he spent a lot of time and who did not exhibit easily visible symptoms.',\n",
       " 'Puberty may have accelerated the development of the lepromatous form of the illness.',\n",
       " 'His condition worsened rapidly.',\n",
       " 'Most severely affected were his limbs and face, which made his subjects uneasy when they approached him.',\n",
       " 'Yet, contrary to the common practice and to the surprise of Muslim observers, Baldwin was never segregated.',\n",
       " 'As a leper, Baldwin could not marry or expect to have children.',\n",
       " \"It thus became a priority to arrange a marriage for Baldwin's sister and heir presumptive, Sibylla.\",\n",
       " \"Raymond's choice was William of Montferrat, son of Margrave William V of Montferrat in Piedmont, Italy, and cousin of both the Holy Roman Emperor Frederick Barbarossa and King Louis VII of France.\",\n",
       " \"On the second anniversary of his coronation, 15 July 1176, Baldwin reached the age of majority and Raymond's regency lapsed.\",\n",
       " 'At the suggestion of his mother, the king appointed his loyal and capable maternal uncle, Joscelin of Courtenay, to the office of seneschal and arranged for him to marry a rich heiress, Agnes of Milly.',\n",
       " 'The change in government signalled a new Frankish approach to the Egyptian ruler Saladin, who had been allowed by Raymond to encircle the crusader states by conquering Muslim principalities in Syria.',\n",
       " \"Baldwin did not ratify Raymond's peace treaty with Saladin, firmly agreeing with Joscelin that the sultan's power needed to be curbed.\",\n",
       " 'As soon as he took over the government, Baldwin began planning a full-scale attack on Egypt with his advisers.',\n",
       " \"The king took advantage of Saladin's campaign in Aleppo to lead a raid around Damascus.\",\n",
       " 'This was his first experience of warfare.',\n",
       " 'Despite having use of only one hand, he refused to delegate his military duties and took part in fighting.',\n",
       " \"He and his advisers then decided to intervene in Saladin's war against the Order of Assassins.\",\n",
       " 'On 1 August, Baldwin and Raymond led the armies of Jerusalem and Tripoli, respectively, in a raid of the Beqaa Valley (modern-day Lebanon), where they defeated the garrison of Damascus, forcing Saladin to abandon his campaign.',\n",
       " \"William of Montferrat married Baldwin's sister, Sibylla, in November 1176 despite misgivings of the nobles who no longer trusted his cousin Emperor Frederick's ability to aid the kingdom.\",\n",
       " 'Baldwin offered to resign the throne to William according to Sicard of Cremona; if he did, William declined because he knew he lacked the support of the nobility.',\n",
       " 'In order to carry out his attack on Egypt, Baldwin needed naval support.',\n",
       " \"He thus sent Raynald of Châtillon to lead an embassy to Emperor Manuel, Raynald's stepson-in-law, in Constantinople in the winter of 1176–77.\",\n",
       " 'Manuel agreed to take part in the invasion in return for the establishment of Byzantine protectorate over the kingdom and restoration of the Orthodox patriarch, Leontius II, in Jerusalem.',\n",
       " \"As Raynald's mission was successful, Baldwin consented to his marriage with the lady of Oultrejordain, Stephanie of Milly.\",\n",
       " \"In April 1177, William of Monferrat fell sick with malaria in Ascalon, of which he had been made count on his marriage to the king's sister.\",\n",
       " 'Baldwin visited him and became gravely ill too.',\n",
       " 'William died in June, leaving Sibylla pregnant and incapacitated Baldwin without a deputy ahead of a major war offensive.',\n",
       " 'The king entrusted the government and military command to Raynald, snubbing the count of Tripoli.',\n",
       " \"Baldwin's first cousin Count Philip I of Flanders arrived in the East in September.\",\n",
       " 'He brought to Baldwin financial aid from another cousin, King Henry II of England.',\n",
       " 'Henry was invested because he and Baldwin both belonged to the Angevin family.',\n",
       " 'Still in sickbed in Ascalon, the king had himself taken back to Jerusalem in a litter and convened a general council, on the advice of which he offered regency to Philip.',\n",
       " 'Philip declined, and Raynald retained his post.',\n",
       " \"The Byzantines sent a war fleet in preparation of the invasion of Egypt, but to Baldwin's regret, they withdrew due to uncooperativeness of Philip of Flanders, Bohemond of Antioch, Raymond of Tripoli, and the grand master of the Knights Hospitaller, Roger de Moulins.\",\n",
       " \"Saladin's power remained unchecked, and the Byzantine alliance collapsed.\",\n",
       " 'Despite the hostility of the Latin patriarch, Amalric of Nesle, Baldwin continued to court the Greek patriarch, Leontius, in hopes that the Byzantines would remain committed to his kingdom.',\n",
       " 'Philip left the Kingdom of Jerusalem with his troops in late October 1177 to help Raymond of Tripoli attack the Muslim-held city of Hama.',\n",
       " \"With the Frankish army in northern Syria, Saladin seized the opportunity to invade Baldwin's kingdom on 18 November.\",\n",
       " 'Though still recovering from malaria, Baldwin rode to meet the sultan, while the Knights Templar hurried to defend Gaza.',\n",
       " 'The king took his humble host to Ascalon, where in desperation he issued an arrière-ban, summoning all able-bodied men.',\n",
       " 'Saladin reached Ascalon on 22 November and Baldwin led the troops out to meet him.',\n",
       " 'Seeing how drastically outnumbered he was, the king retreated into the city.',\n",
       " 'Saladin too saw the strength in his numbers and confidently proceeded towards Jerusalem.',\n",
       " 'Baldwin managed to contact the Templars, however, and ordered them to abandon Gaza and join him.',\n",
       " \"Contrary to the sultan's expectation, Baldwin and Raynald then rode out of Ascalon, joined up with the Templars, and attacked his dispersed army at Montgisard.\",\n",
       " 'The young king was in the forefront.',\n",
       " 'Saladin, who barely survived, suffered a crushing defeat.',\n",
       " 'Not having enough men to launch an offensive on the retreating Muslims, Baldwin decided to fortify the Damascene frontier.',\n",
       " 'The Templars convinced him to build a castle, Le Chastellet, on the upper River Jordan; he was reluctant because the Franks had promised not to mark that part of the border.',\n",
       " 'After protests of local Muslims, Saladin offered money to Baldwin in exchange for aborting the construction, but the king refused.',\n",
       " 'In 1178, Baldwin hosted the patriarch of the Syriac Orthodox Church, Michael the Syrian, in Jerusalem and won his lasting loyalty to Frankish cause.',\n",
       " 'In April 1179, Baldwin intended to round up the sheep passing from Damascus to Banias.',\n",
       " \"Saladin's nephew Farrukh Shah was sent to investigate the king's movement but suddenly ran into him, and a skirmish followed.\",\n",
       " 'The elderly but exceptionally able constable, Humphrey II of Toron, sustained fatal wounds while protecting the king.',\n",
       " \"Weeks later Baldwin rode out to intercept Beduin raids of Beirut and Sidon, and in June Saladin's raiding party routed Baldwin's.\",\n",
       " \"The king was unhorsed and carried to safety on a knight's back because he could not remount on his own.\",\n",
       " \"In late August, Baldwin summoned a host to Tiberias to respond to Saladin's siege of Le Chastellet, but the castle fell before the relic of the True Cross could be fetched from Jerusalem to accompany the Christian troops.\",\n",
       " \"In the winter of 1177–78, the king's widowed sister, Sibylla, gave birth to a son, Baldwin, named after the king.\",\n",
       " \"A year of official mourning for the child's father, William, concluded in June 1178, and it became appropriate to seek another husband for her.\",\n",
       " \"Baldwin of Ibelin's suit was well known, but not entertained.\",\n",
       " \"In order to avoid antagonizing the Ibelins, however, Baldwin had allowed Balian of Ibelin to marry the king's stepmother, Queen Maria, in late 1177.\",\n",
       " 'In July 1178, King Baldwin began associating Sibylla with him in some public acts, thereby acknowledging her as next in line to the throne.',\n",
       " 'He began contemplating her marriage to Duke Hugh III of Burgundy, and wrote to the king of France: \"To be deprived of the use of one\\'s limbs is of little help to one in carrying out the work of government ...',\n",
       " 'It is not fitting that a hand so weak as mine should hold power when fear of Arab aggression daily presses upon the Holy City and when my sickness increases the enemy\\'s daring.\"',\n",
       " 'During the Holy Week in 1180, the prince of Antioch and the count of Tripoli marched with their armies to Jerusalem.',\n",
       " 'It is most likely that their intention was to force the king to have Sibylla marry Baldwin of Ibelin and to then abdicate.',\n",
       " \"The king had never approved of Baldwin's ambition to marry his sister, and though he did wish to abdicate, he was not keen on having terms forced on him.\",\n",
       " \"Baldwin acted decisively before his kinsmen's armies reached Jerusalem: he arranged for Sibylla to marry a Poitevin knight, Guy of Lusignan.\",\n",
       " 'Raymond and Bohemond had no option but to accept the fait accompli, and the coup was foiled.',\n",
       " \"Baldwin had hoped to abdicate, but was prevented by deep divisions within his court that emerged following Sibylla's marriage to Guy.\",\n",
       " 'He proposed a two-year truce with Saladin, who was glad to accept in order to campaign freely in northern Syria.',\n",
       " 'Baldwin sent his uncle and chief minister, Joscelin, to assure the Byzantine court that Jerusalem still needed their protection.',\n",
       " \"During Joscelin's absence, from mid-1180 to mid-1181, the full burden of government fell on the shoulders of the king, whose health was deteriorating.\",\n",
       " 'He relied chiefly on his mother in this period.',\n",
       " \"To secure Guy's position and prevent the emergence of an alternative claimant, Baldwin had his 8-year-old half-sister, Isabella, solemnly betrothed to the teenaged lord of Toron, Humphrey IV, in October 1180.\",\n",
       " \"Isabella was then sent to live at Kerak Castle with the lady of Oultrejourdain, Humphrey's mother, as far as possible from her maternal kin and potential conspirators.\",\n",
       " 'By the terms of the marriage contract, Humphrey ceded Toron to Baldwin, who thus prevented the union of two great fiefs under one vassal and strengthened his position against the count of Tripoli.',\n",
       " 'Baldwin made use of the truce with Saladin to strengthen the position of his maternal kin, granting Maron and Chastelneuf to Joscelin and usufruct of Toron to Agnes, while associating Guy and Sibylla with him in public acts.',\n",
       " 'He remained unreconciled with Raymond, however, and forbade the count to enter the kingdom in early 1182 due to suspicions of another conspiracy.',\n",
       " 'Baldwin likely intended to charge Raymond with treason and deprive him of the Principality of Galilee, a fief of Jerusalem held by Raymond through marriage to Eschiva of Bures.',\n",
       " 'The law prevented the king from seizing the fief without the assent of the High Court, and the High Court urged the king to reconcile with Raymond.',\n",
       " \"The king reluctantly heeded his vassals' advice.\",\n",
       " \"Baldwin's truce with Saladin was due to expire in May 1182, but was broken in mid-1181 by Raynald, who seized a merchant caravan on its way from Egypt to Damascus.\",\n",
       " \"Raynald ignored the king's request to make restitution to Saladin, who was then preparing to annex the Zengid-ruled Aleppo.\",\n",
       " \"The king, who consistently acted against Saladin's attempts to expand into northern Syria, decided to oppose him.\",\n",
       " 'The recent anti-Catholic coup in Constantinople gave Saladin confidence to attack the Kingdom of Jerusalem.',\n",
       " \"In July, Baldwin marched with his host to relieve the Muslims' siege of Bethsan, and his outnumbered army won the Battle of Le Forbelet.\",\n",
       " 'Historian Bernard Hamilton attributes the victory to the respect and loyalty commanded by Baldwin, who stayed on the battlefield despite his illness and intense heat.',\n",
       " 'The defeated sultan took his host to besiege Beirut, while another army from Egypt attacked the south of the kingdom.',\n",
       " 'Baldwin knew that he was being provoked into dividing his forces.',\n",
       " 'Deciding that Beirut was of a greater strategic importance, he ignored the southern attack and moved with his troops to Tyre.',\n",
       " \"From there he procured assistance from the Italian maritime republics in lifting Saladin's naval blockade of Beirut.\",\n",
       " 'Saladin abandoned the siege, but declined to make a truce, worrying Baldwin and his advisers.',\n",
       " \"He proceeded north to fight the Zengids, thereby expanding his realm, while Baldwin led an attack on Saladin's Damascene territory, then on Bosra, before finally laying siege and capturing Cave de Sueth.\",\n",
       " 'In the winter of 1182–3, after agreeing on a strategy with his council, Baldwin attacked Damascus again.',\n",
       " 'He threatened to destroy a mosque in Darayya, but local Christians convinced him not to for fear of losing their churches in retaliation.',\n",
       " 'Baldwin could not walk unsupported or use his hands from 1183.',\n",
       " 'Due to an inability to blink, his cornea dried and he became blind.',\n",
       " \"He nevertheless had to summon his troops in response to Saladin's march south following the Egyptian conquest of Aleppo in June.\",\n",
       " 'The king then developed a life-threatening fever.',\n",
       " 'He was attended by his mother and the new patriarch, Heraclius, at nearby Nazareth.',\n",
       " 'Having summoned the High Court to his bedside, Baldwin entrusted the government to his brother-in-law, Guy, who was next in line to succeed him.',\n",
       " \"Guy's appointment to regency was meant to be permanent.\",\n",
       " 'Baldwin retained only the royal title and authority over the city of Jerusalem, but he had Guy swear that, while Baldwin lived, he would not make himself king or alienate parts of the royal demesne.',\n",
       " 'Fearing discontent among his barons, Baldwin had failed to give Guy any experience in military leadership prior to making him regent.',\n",
       " 'Indeed, the great lords of the kingdom, the independent rulers of Antioch and Tripoli, and the grand masters of the military orders refused to cooperate with Guy.',\n",
       " 'Baldwin recovered unexpectedly and returned to Jerusalem.',\n",
       " 'Having found that coastal climate suited his health, Baldwin offered Jerusalem to Guy in exchange for Tyre.',\n",
       " 'Guy brusquely refused, possibly because Tyre was more lucrative, leaving Baldwin gravely insulted.',\n",
       " \"The wedding of Baldwin's half-sister, Isabella, and Humphrey IV of Toron was celebrated in Kerak in late 1183.\",\n",
       " \"Saladin attacked during the festivities and laid siege to the castle, hoping to capture the king's half-sister and her husband.\",\n",
       " 'The retired king had gathered a council in Jerusalem to inform him about the government of the kingdom when news about the siege reached him.',\n",
       " \"He immediately dismissed Guy from regency and resumed power, as the defense of such a vital fortress and the king's half-sister within it could not be entrusted to the man who had proven unable to command the troops.\",\n",
       " \"Guy's removal from regency was effectively disinheritance; at the council's insistence, deliberations about the succession followed.\",\n",
       " \"The proposal of the king's mother that Sibylla's five-year-old son, Baldwin, be made co-king was accepted, and the boy was crowned on 20 November.\",\n",
       " 'In late November, Baldwin IV ordered the lighting of a beacon on the Tower of David, which may have been the first in a chain of such beacons, in order to hearten the defenders of the intensely bombarded Kerak.',\n",
       " 'Baldwin accompanied his troops again, but having become blind and immobile, this time he went in a litter slung between two horses.',\n",
       " 'His presence was essential to unite the discordant barons.',\n",
       " 'Even his humiliated brother-in-law led his men.',\n",
       " \"Warned by his scouts about the king's approach and concerned about having left Egypt unguarded, Saladin abandoned the siege on 4 December.\",\n",
       " 'Baldwin entered Kerak triumphantly.',\n",
       " 'The question of regency for his nephew troubled Baldwin.',\n",
       " 'The only way to ensure that Guy could not claim it was to have his marriage to Sibylla annulled.',\n",
       " 'Baldwin discussed this with the patriarch, Heraclius.',\n",
       " 'Baldwin may have intended to claim that he had forced Sibylla to marry Guy and that the marriage was unlawful because of that.',\n",
       " \"Sibylla's unwavering loyalty to Guy thwarted his plans, as the couple refused to appear at court.\",\n",
       " 'Early in 1184, Baldwin ordered Guy to attend him as vassal in Jerusalem.',\n",
       " 'Guy declined, citing poor health, and this was repeated several times.',\n",
       " 'Baldwin then had himself carried to Ascalon in the company of the High Court.',\n",
       " 'Guy refused to let him into the city.',\n",
       " 'From the battlements and towers the inhabitants witnessed the king ceremoniously knocking and demanding admission.',\n",
       " 'He was welcomed in Jaffa, where he installed a governor, thereby depriving Guy of half of his county.',\n",
       " \"In Acre, Baldwin summoned his council, probably to discuss the seizure of Guy's fief.\",\n",
       " 'The patriarch and the grand masters begged Baldwin to forgive Guy in order to avoid a civil war.',\n",
       " 'This was as unacceptable to Baldwin as it would have been to any contemporary king.',\n",
       " 'The patriarch and the grand masters stormed out of the council, swaying the rest of the assembly to withhold support for the action.',\n",
       " 'Baldwin was reconciled with the patriarch and the grand masters by June, when he sent them to Europe on a diplomatic mission to seek aid for the kingdom, and informed them by letter that Saladin was once more besieging Kerak.',\n",
       " 'Again, Saladin abandoned the siege when the litter-bound king approached with his army.',\n",
       " 'Once in Kerak, Baldwin ordered and financed the reparations of the damaged castle.',\n",
       " \"In late 1184, Baldwin was shocked to learn about Guy's massacre of the Beduin of the royal fief of Darum, who were under royal protection and who provided information about the Egyptians' movements.\",\n",
       " 'He soon developed a fever.',\n",
       " 'When he returned to Jerusalem in late 1184 or early 1185, Baldwin bestowed regency on Raymond of Tripoli, the man whom he had never trusted, but to whom he could find no better alternative.',\n",
       " 'At the time he expected to survive the illness, having done so twice before, but within weeks it became apparent that it would be his last.',\n",
       " 'On his deathbed he summoned the High Court to appoint a permanent regent for his nephew, Baldwin V, and Raymond was chosen.',\n",
       " 'The dying king then ordered that homage be rendered to his nephew as king and to Raymond as regent, to be followed by a solemn crown-wearing ceremony at the Church of the Holy Sepulchre.',\n",
       " 'Baldwin died, attended by his vassals, in March 1185 or before 16 May 1185 at the latest, when his nephew is recorded as the sole king.',\n",
       " 'He was buried in the Church of the Holy Sepulchre, close to his father, King Amalric.',\n",
       " 'His tomb would remain untouched along with the other royal tombs of the kingdom until 1809–1810, when they were destroyed by the Othodox greeks, as said tombs layed in their section of the Church of the Holy Sepulchre.',\n",
       " \"[106][107] It is unclear if the remains of those kings were exhumed; some researchers hypothesize that some of them may still be in unmarked pits under the church's pavement.\",\n",
       " '[108]\\n\\nThe young Baldwin V died the next year.',\n",
       " 'Sibylla, who succeeded her son, made Guy king.',\n",
       " \"Baldwin IV's realm was destroyed by Saladin following his decisive victory over Guy at the Horns of Hattin in 1187.\",\n",
       " 'Sibylla and their daughters died in 1190, leaving Isabella I as the heir to the defeated kingdom.',\n",
       " \"Christian defeat at Hattin two years after Baldwin's death marred the king's legacy, with historians tracing fatal discord to Baldwin's reign.\",\n",
       " 'Yet, while Baldwin was on the throne, the kingdom lost no territory and flourished economically and spiritually.',\n",
       " \"Baldwin understood the importance of curbing Saladin's power, which was reflected in his choice of ministers.\",\n",
       " 'He did not devise strategy or diplomacy alone, and delegated Church patronage and finances to his mother, Agnes, and uncle, Joscelin, respectively.',\n",
       " 'His chief contribution was his determination not to abdicate before finding a suitable successor, despite leprosy making government an unbearable burden.',\n",
       " 'As was clear during his reign and especially in its disastrous aftermath, Baldwin alone preserved unity in the kingdom.',\n",
       " 'Contemporary Christian theologians were divided on the issue of leprosy.',\n",
       " 'Pope Alexander III showed little sympathy when writing about Baldwin, declaring leprosy a \"just judgement of God\", but another school of thought encouraged the faithful to see Christ in the affected.',\n",
       " \"Baldwin's reign may have led to a lesser stigmatization of the illness in the 13th-century Kingdom of Jerusalem.\",\n",
       " \"His subjects' acceptance of his illness confounded Muslims.\",\n",
       " \"Imad ad-Din al-Isfahani wrote:\\n\\nBaldwin's public image may have been aided by his chastity, seen as evidence of extraordinary sanctity, and his success against Saladin was interpreted as a sign of God's favour.\",\n",
       " 'After the disastrous Seventh Crusade, a crusader was told by an old man in Damascus:\\n\\nAlong his perceived sanctity, Baldwin was primarily a knight, both in character and in upbringing, and to contemporaries his most distinctive traits were his courage and honourableness.',\n",
       " '• Kingdom of Heaven – film portraying King Baldwin (played by Edward Norton) as a fragile but courageous young king who mostly remains secluded in his palace and wears a silver mask to hide his leprosy, although he is shown leading his troops on horseback.',\n",
       " 'There are no historical accounts of Baldwin actually wearing a mask to hide his leprosy.',\n",
       " '• None Hamilton, Bernard (2000).',\n",
       " 'The Leper King and His Heirs: Baldwin IV and the Crusader Kingdom of Jerusalem.',\n",
       " 'Cambridge University Press.',\n",
       " 'ISBN .',\n",
       " '• None Mitchell, Piers D. (2000).',\n",
       " '\"An evaluation of the leprosy of King Baldwin IV of Jerusalem in the context of the medieval world\".',\n",
       " 'The Leper King and His Heirs: Baldwin IV and the Crusader Kingdom of Jerusalem.',\n",
       " 'By Hamilton, Bernard.',\n",
       " 'Cambridge University Press.',\n",
       " 'pp.',\n",
       " '245–258.',\n",
       " 'ISBN .',\n",
       " '• None Riley-Smith, Jonathan (1973).',\n",
       " 'The feudal nobility and the kingdom of Jerusalem, 1147–1277.',\n",
       " 'Macmillan.',\n",
       " '• None Runciman, Steven (1952).',\n",
       " 'A History of the Crusades: The Kingdom of Jerusalem and the Frankish East, 1100–1187.',\n",
       " 'Vol.',\n",
       " '2.',\n",
       " 'Cambridge University Press.',\n",
       " 'ISBN .']"
      ]
     },
     "execution_count": 70,
     "metadata": {},
     "output_type": "execute_result"
    }
   ],
   "source": [
    "sentence_list"
   ]
  },
  {
   "cell_type": "code",
   "execution_count": 71,
   "metadata": {},
   "outputs": [
    {
     "data": {
      "text/plain": [
       "[\"Christian defeat at Hattin two years after Baldwin's death marred the king's legacy, with historians tracing fatal discord to Baldwin's reign.\",\n",
       " \"The proposal of the king's mother that Sibylla's five-year-old son, Baldwin, be made co-king was accepted, and the boy was crowned on 20 November.\",\n",
       " \"Saladin's nephew Farrukh Shah was sent to investigate the king's movement but suddenly ran into him, and a skirmish followed.\",\n",
       " \"In the winter of 1177–78, the king's widowed sister, Sibylla, gave birth to a son, Baldwin, named after the king.\",\n",
       " \"William of Montferrat married Baldwin's sister, Sibylla, in November 1176 despite misgivings of the nobles who no longer trusted his cousin Emperor Frederick's ability to aid the kingdom.\",\n",
       " 'He began contemplating her marriage to Duke Hugh III of Burgundy, and wrote to the king of France: \"To be deprived of the use of one\\'s limbs is of little help to one in carrying out the work of government ...',\n",
       " \"He immediately dismissed Guy from regency and resumed power, as the defense of such a vital fortress and the king's half-sister within it could not be entrusted to the man who had proven unable to command the troops.\",\n",
       " \"Count Raymond III of Tripoli ruled the kingdom in Baldwin's name until the king reached the age of majority in 1176.\",\n",
       " \"He disinherited Guy and had Sibylla's son, Baldwin V, crowned co-king before having himself taken in a litter to lift Saladin's siege of Kerak.\",\n",
       " \"Guy's removal from regency was effectively disinheritance; at the council's insistence, deliberations about the succession followed.\",\n",
       " \"In April 1177, William of Monferrat fell sick with malaria in Ascalon, of which he had been made count on his marriage to the king's sister.\",\n",
       " \"Imad ad-Din al-Isfahani wrote:\\n\\nBaldwin's public image may have been aided by his chastity, seen as evidence of extraordinary sanctity, and his success against Saladin was interpreted as a sign of God's favour.\",\n",
       " \"She is frequently accused by historians of exploiting her son's condition for self-gain, but the contemporary sources, including Baldwin's tutor, William of Tyre, are biased against her.\",\n",
       " \"Saladin in turn attacked Baldwin's kingdom in 1177, but the king and the nobleman Raynald of Châtillon repelled him at Montgisard, earning Baldwin fame.\",\n",
       " \"Medieval rulers were normally crowned on Sundays, but in Baldwin's case 15 July 1174 was chosen instead because it was the 75th anniversary of the First Crusade's seizure of Jerusalem.\",\n",
       " \"Baldwin failed to have Sibylla's marriage to Guy annulled and Guy's fief of Ascalon confiscated.\",\n",
       " \"Baldwin did not ratify Raymond's peace treaty with Saladin, firmly agreeing with Joscelin that the sultan's power needed to be curbed.\",\n",
       " \"In order to avoid antagonizing the Ibelins, however, Baldwin had allowed Balian of Ibelin to marry the king's stepmother, Queen Maria, in late 1177.\",\n",
       " \"The king had never approved of Baldwin's ambition to marry his sister, and though he did wish to abdicate, he was not keen on having terms forced on him.\",\n",
       " \"Baldwin was the king's only son; from his second marriage Amalric had two daughters, of which only Isabella survived infancy.\",\n",
       " \"The king was then young and recently married, so a nephew's accession seemed unlikely, but he died childless in 1163.\",\n",
       " \"Weeks later Baldwin rode out to intercept Beduin raids of Beirut and Sidon, and in June Saladin's raiding party routed Baldwin's.\",\n",
       " \"Saladin attacked during the festivities and laid siege to the castle, hoping to capture the king's half-sister and her husband.\",\n",
       " \"During Joscelin's absence, from mid-1180 to mid-1181, the full burden of government fell on the shoulders of the king, whose health was deteriorating.\",\n",
       " \"The young king's coronation by the Latin patriarch of Jerusalem, Amalric of Nesle, took place immediately in the Church of the Holy Sepulchre.\",\n",
       " \"Warned by his scouts about the king's approach and concerned about having left Egypt unguarded, Saladin abandoned the siege on 4 December.\",\n",
       " \"Shortly thereafter Count Raymond III of Tripoli arrived in Jerusalem and succeeded in claiming regency as the king's closest kinsman.\",\n",
       " \"The king was unhorsed and carried to safety on a knight's back because he could not remount on his own.\",\n",
       " \"The king took advantage of Saladin's campaign in Aleppo to lead a raid around Damascus.\",\n",
       " \"The king, who consistently acted against Saladin's attempts to expand into northern Syria, decided to oppose him.\",\n",
       " 'The dying king then ordered that homage be rendered to his nephew as king and to Raymond as regent, to be followed by a solemn crown-wearing ceremony at the Church of the Holy Sepulchre.',\n",
       " \"Raynald ignored the king's request to make restitution to Saladin, who was then preparing to annex the Zengid-ruled Aleppo.\",\n",
       " \"Amalric attempted to have Sibylla marry the French Count Stephen I of Sancerre, who would rule the kingdom as regent on Baldwin's behalf if Amalric died early.\",\n",
       " 'The law prevented the king from seizing the fief without the assent of the High Court, and the High Court urged the king to reconcile with Raymond.',\n",
       " \"In late August, Baldwin summoned a host to Tiberias to respond to Saladin's siege of Le Chastellet, but the castle fell before the relic of the True Cross could be fetched from Jerusalem to accompany the Christian troops.\",\n",
       " \"Amalric was his heir, but the nobles of the kingdom were strongly opposed to Amalric's wife, Agnes; they were likely threatened by the prospect of her increased influence.\",\n",
       " \"Baldwin had hoped to abdicate, but was prevented by deep divisions within his court that emerged following Sibylla's marriage to Guy.\",\n",
       " 'The retired king had gathered a council in Jerusalem to inform him about the government of the kingdom when news about the siege reached him.',\n",
       " \"Baldwin's mother, Agnes, returned to court when Raymond became regent.\",\n",
       " \"In early 1185, he arranged for Raymond to rule as regent for Sibylla's son and died before 16 May.\",\n",
       " \"With the Frankish army in northern Syria, Saladin seized the opportunity to invade Baldwin's kingdom on 18 November.\",\n",
       " \"It thus became a priority to arrange a marriage for Baldwin's sister and heir presumptive, Sibylla.\",\n",
       " \"He proceeded north to fight the Zengids, thereby expanding his realm, while Baldwin led an attack on Saladin's Damascene territory, then on Bosra, before finally laying siege and capturing Cave de Sueth.\",\n",
       " \"A year of official mourning for the child's father, William, concluded in June 1178, and it became appropriate to seek another husband for her.\",\n",
       " \"On the second anniversary of his coronation, 15 July 1176, Baldwin reached the age of majority and Raymond's regency lapsed.\",\n",
       " \"In late 1184, Baldwin was shocked to learn about Guy's massacre of the Beduin of the royal fief of Darum, who were under royal protection and who provided information about the Egyptians' movements.\",\n",
       " '• Kingdom of Heaven – film portraying King Baldwin (played by Edward Norton) as a fragile but courageous young king who mostly remains secluded in his palace and wears a silver mask to hide his leprosy, although he is shown leading his troops on horseback.',\n",
       " \"[106][107] It is unclear if the remains of those kings were exhumed; some researchers hypothesize that some of them may still be in unmarked pits under the church's pavement.\",\n",
       " \"The Byzantines sent a war fleet in preparation of the invasion of Egypt, but to Baldwin's regret, they withdrew due to uncooperativeness of Philip of Flanders, Bohemond of Antioch, Raymond of Tripoli, and the grand master of the Knights Hospitaller, Roger de Moulins.\",\n",
       " \"Isabella was then sent to live at Kerak Castle with the lady of Oultrejourdain, Humphrey's mother, as far as possible from her maternal kin and potential conspirators.\",\n",
       " \"Baldwin acted decisively before his kinsmen's armies reached Jerusalem: he arranged for Sibylla to marry a Poitevin knight, Guy of Lusignan.\",\n",
       " \"Sibylla's unwavering loyalty to Guy thwarted his plans, as the couple refused to appear at court.\",\n",
       " \"Baldwin's reign may have led to a lesser stigmatization of the illness in the 13th-century Kingdom of Jerusalem.\",\n",
       " 'No new seneschal was appointed for two years, and so the young and sickly king presided over burdensome High Court meetings when the regent was away on military duties or in Tripoli.',\n",
       " 'It is not fitting that a hand so weak as mine should hold power when fear of Arab aggression daily presses upon the Holy City and when my sickness increases the enemy\\'s daring.\"',\n",
       " 'During the regency it became clear that the king was indeed affected by leprosy.',\n",
       " \"Baldwin's truce with Saladin was due to expire in May 1182, but was broken in mid-1181 by Raynald, who seized a merchant caravan on its way from Egypt to Damascus.\",\n",
       " \"Contrary to the sultan's expectation, Baldwin and Raynald then rode out of Ascalon, joined up with the Templars, and attacked his dispersed army at Montgisard.\",\n",
       " \"To secure Guy's position and prevent the emergence of an alternative claimant, Baldwin had his 8-year-old half-sister, Isabella, solemnly betrothed to the teenaged lord of Toron, Humphrey IV, in October 1180.\",\n",
       " \"Amalric succeeded in having his and Agnes's children, Sibylla and Baldwin, declared legitimate despite the annulment.\",\n",
       " \"In Acre, Baldwin summoned his council, probably to discuss the seizure of Guy's fief.\",\n",
       " 'The young king mastered horse riding despite gradually losing sensation in his extremities and was able to fight in battles until his last years.',\n",
       " 'At the suggestion of his mother, the king appointed his loyal and capable maternal uncle, Joscelin of Courtenay, to the office of seneschal and arranged for him to marry a rich heiress, Agnes of Milly.',\n",
       " \"He nevertheless had to summon his troops in response to Saladin's march south following the Egyptian conquest of Aleppo in June.\",\n",
       " \"He thus sent Raynald of Châtillon to lead an embassy to Emperor Manuel, Raynald's stepson-in-law, in Constantinople in the winter of 1176–77.\",\n",
       " \"As Raynald's mission was successful, Baldwin consented to his marriage with the lady of Oultrejordain, Stephanie of Milly.\",\n",
       " 'Baldwin retained only the royal title and authority over the city of Jerusalem, but he had Guy swear that, while Baldwin lived, he would not make himself king or alienate parts of the royal demesne.',\n",
       " 'The king entrusted the government and military command to Raynald, snubbing the count of Tripoli.',\n",
       " \"Raymond's choice was William of Montferrat, son of Margrave William V of Montferrat in Piedmont, Italy, and cousin of both the Holy Roman Emperor Frederick Barbarossa and King Louis VII of France.\",\n",
       " \"His tutor, William, remarked on Baldwin's excellent memory, stating that he forgot neither kindness nor slights done to him by others.\",\n",
       " 'The High Court forced Amalric to agree to an annulment of his marriage on the grounds of consanguinity in order to be accepted as king.',\n",
       " \"Guy's appointment to regency was meant to be permanent.\",\n",
       " \"The wedding of Baldwin's half-sister, Isabella, and Humphrey IV of Toron was celebrated in Kerak in late 1183.\",\n",
       " 'Baldwin died, attended by his vassals, in March 1185 or before 16 May 1185 at the latest, when his nephew is recorded as the sole king.',\n",
       " \"The male candidates, Amalric's cousins Prince Bohemond III of Antioch, Baldwin of Antioch, and Count Raymond III of Tripoli, were politically unsuitable: Bohemond was bound to distant Antioch, Baldwin in the service of Byzantine Emperor Manuel I Komnenos, and Raymond virtually a stranger to the barons.\",\n",
       " \"Baldwin understood the importance of curbing Saladin's power, which was reflected in his choice of ministers.\",\n",
       " \"He and his advisers then decided to intervene in Saladin's war against the Order of Assassins.\",\n",
       " \"Baldwin's first cousin Count Philip I of Flanders arrived in the East in September.\",\n",
       " 'Still in sickbed in Ascalon, the king had himself taken back to Jerusalem in a litter and convened a general council, on the advice of which he offered regency to Philip.',\n",
       " \"Upon Amalric's death, the High Court convened to discuss the succession.\",\n",
       " \"Saladin's power remained unchecked, and the Byzantine alliance collapsed.\",\n",
       " \"Baldwin IV's realm was destroyed by Saladin following his decisive victory over Guy at the Horns of Hattin in 1187.\",\n",
       " \"Baldwin's godfather was his paternal uncle, King Baldwin III, who joked that his christening present was the Kingdom of Jerusalem.\",\n",
       " \"From there he procured assistance from the Italian maritime republics in lifting Saladin's naval blockade of Beirut.\",\n",
       " \"Baldwin of Ibelin's suit was well known, but not entertained.\",\n",
       " 'The internal discord that followed forced Baldwin to remain king, as only he was capable of uniting the quarreling nobility.',\n",
       " 'The king took his humble host to Ascalon, where in desperation he issued an arrière-ban, summoning all able-bodied men.',\n",
       " 'It is most likely that their intention was to force the king to have Sibylla marry Baldwin of Ibelin and to then abdicate.',\n",
       " 'Again, Saladin abandoned the siege when the litter-bound king approached with his army.',\n",
       " 'After protests of local Muslims, Saladin offered money to Baldwin in exchange for aborting the construction, but the king refused.',\n",
       " 'Sibylla, who succeeded her son, made Guy king.',\n",
       " 'He was admired by his contemporaries and later historians for his willpower and dedication to the Latin kingdom in the face of debilitating leprosy, which eventually left him blind and unable to use either his hands or his feet.',\n",
       " 'The king hired Arabs to treat Baldwin and to teach him horse riding, an essential skill for a Frankish nobleman.',\n",
       " 'Despite the hostility of the Latin patriarch, Amalric of Nesle, Baldwin continued to court the Greek patriarch, Leontius, in hopes that the Byzantines would remain committed to his kingdom.',\n",
       " 'This was as unacceptable to Baldwin as it would have been to any contemporary king.',\n",
       " 'The elderly but exceptionally able constable, Humphrey II of Toron, sustained fatal wounds while protecting the king.',\n",
       " 'Seeing how drastically outnumbered he was, the king retreated into the city.',\n",
       " 'The young king was in the forefront.',\n",
       " 'From the battlements and towers the inhabitants witnessed the king ceremoniously knocking and demanding admission.',\n",
       " 'He remained unreconciled with Raymond, however, and forbade the count to enter the kingdom in early 1182 due to suspicions of another conspiracy.']"
      ]
     },
     "execution_count": 71,
     "metadata": {},
     "output_type": "execute_result"
    }
   ],
   "source": [
    "best_sentences"
   ]
  },
  {
   "cell_type": "code",
   "execution_count": 72,
   "metadata": {},
   "outputs": [
    {
     "data": {
      "text/plain": [
       "FreqDist({'baldwin': 1.0, \"'s\": 0.6204379562043796, 'king': 0.4744525547445255, 'saladin': 0.25547445255474455, 'jerusalem': 0.22627737226277372, 'guy': 0.21897810218978103, 'kingdom': 0.2116788321167883, 'sibylla': 0.1897810218978102, 'raymond': 0.16058394160583941, 'amalric': 0.11678832116788321, ...})"
      ]
     },
     "execution_count": 72,
     "metadata": {},
     "output_type": "execute_result"
    }
   ],
   "source": [
    "word_frequency"
   ]
  },
  {
   "cell_type": "code",
   "execution_count": 73,
   "metadata": {},
   "outputs": [
    {
     "data": {
      "text/plain": [
       "{'Baldwin IV (French: Baudouin; 1161–1185), called the Leper King, was King of Jerusalem from 1174 until his death in 1185.': 0.0948905109489051,\n",
       " 'He was admired by his contemporaries and later historians for his willpower and dedication to the Latin kingdom in the face of debilitating leprosy, which eventually left him blind and unable to use either his hands or his feet.': 0.5985401459854014,\n",
       " 'Choosing competent advisers, Baldwin ruled a thriving realm and succeeded in protecting it from the Ayyubid Muslim ruler Saladin.': 0.14598540145985403,\n",
       " 'Baldwin developed the first symptoms of his leprosy as a child but was only diagnosed after his accession on the death of his father, King Amalric.': 0.29927007299270075,\n",
       " 'Thereafter his hands and face became increasingly disfigured.': 0.1532846715328467,\n",
       " \"Count Raymond III of Tripoli ruled the kingdom in Baldwin's name until the king reached the age of majority in 1176.\": 1.467153284671533,\n",
       " \"As soon as he assumed government, Baldwin planned an invasion of Egypt, which fell through due to his vassals' uncooperativeness.\": 0.27007299270072993,\n",
       " \"Saladin in turn attacked Baldwin's kingdom in 1177, but the king and the nobleman Raynald of Châtillon repelled him at Montgisard, earning Baldwin fame.\": 1.4233576642335768,\n",
       " 'The young king mastered horse riding despite gradually losing sensation in his extremities and was able to fight in battles until his last years.': 0.7664233576642334,\n",
       " 'Leprosy precluded Baldwin from marrying.': 0.014598540145985401,\n",
       " 'He hoped to abdicate when his sister, Sibylla, married William of Montferrat in 1176, but William died the next year.': 0.27007299270072993,\n",
       " 'In 1180, in order to forestall a coup by Count Raymond III of Tripoli and Prince Bohemond III of Antioch, Baldwin had Sibylla marry Guy of Lusignan.': 0.18248175182481752,\n",
       " 'Guy was opposed by a large fraction of the nobility, and soon permanently impaired his relationship with Baldwin.': 0.11678832116788322,\n",
       " 'The internal discord that followed forced Baldwin to remain king, as only he was capable of uniting the quarreling nobility.': 0.6350364963503649,\n",
       " 'Baldwin again repelled Saladin in 1182, but leprosy rendered him blind and unable to walk or use his hands in 1183.': 0.29197080291970806,\n",
       " \"He disinherited Guy and had Sibylla's son, Baldwin V, crowned co-king before having himself taken in a litter to lift Saladin's siege of Kerak.\": 1.4525547445255473,\n",
       " \"Baldwin failed to have Sibylla's marriage to Guy annulled and Guy's fief of Ascalon confiscated.\": 1.4014598540145986,\n",
       " \"In early 1185, he arranged for Raymond to rule as regent for Sibylla's son and died before 16 May.\": 0.9270072992700731,\n",
       " 'Baldwin was born in mid-1161.': 0.014598540145985401,\n",
       " 'His parents were Amalric, then the count of Jaffa and Ascalon, and Agnes of Courtenay.': 0.09489051094890512,\n",
       " \"Baldwin's godfather was his paternal uncle, King Baldwin III, who joked that his christening present was the Kingdom of Jerusalem.\": 0.6861313868613138,\n",
       " \"The king was then young and recently married, so a nephew's accession seemed unlikely, but he died childless in 1163.\": 1.328467153284672,\n",
       " \"Amalric was his heir, but the nobles of the kingdom were strongly opposed to Amalric's wife, Agnes; they were likely threatened by the prospect of her increased influence.\": 0.9781021897810218,\n",
       " 'The High Court forced Amalric to agree to an annulment of his marriage on the grounds of consanguinity in order to be accepted as king.': 0.7153284671532847,\n",
       " \"Amalric succeeded in having his and Agnes's children, Sibylla and Baldwin, declared legitimate despite the annulment.\": 0.7664233576642335,\n",
       " 'Baldwin grew up without a mother, who soon married the nobleman Hugh of Ibelin and only saw Baldwin on public occasions.': 0.2554744525547445,\n",
       " 'He also seldom saw his sister, Sibylla, who was raised in the Convent of Saint Lazarus by their grandaunt Ioveta.': 0.10948905109489052,\n",
       " 'At the age of six Baldwin gained a stepmother, Maria Komnene, with whom he was not close.': 0.0802919708029197,\n",
       " 'The queen was an ambitious woman who likely saw Baldwin as an obstacle to her own children.': 0.12408759124087593,\n",
       " 'The Kingdom of Jerusalem and other crusader states were ruled by Franks, French-speaking Catholics who had arrived in the Levant from Western Europe and remained Western in culture.': 0.12408759124087591,\n",
       " 'Amalric ensured that Baldwin, as the heir apparent, received a good education.': 0.09489051094890512,\n",
       " 'The nine-year-old prince was sent to live with William of Tyre, a sophisticated and well-traveled cleric who was famed for his learning.': 0.1386861313868613,\n",
       " 'William noticed that, unlike other children in the playground, Baldwin did not cry when pinched by his peers.': 0.07299270072992702,\n",
       " 'After a while it became apparent to the tutor that Baldwin could feel no pain in his right arm.': 0.21167883211678828,\n",
       " 'The king hired Arabs to treat Baldwin and to teach him horse riding, an essential skill for a Frankish nobleman.': 0.5839416058394159,\n",
       " 'Having sensation in only one hand, Baldwin needed to learn to control the horse in battle using solely his knees, and mastered riding despite the handicap.': 0.291970802919708,\n",
       " 'Leprosy was suspected, but there were no visible symptoms yet and physicians hesitated to diagnose because of the stigma the boy would face.': 0.23357664233576647,\n",
       " 'Had the diagnosis been made when he was a child, Baldwin might have been required by law to enter the Order of St Lazarus, a military order composed of affected knights and serjeants.': 0.3138686131386861,\n",
       " 'As an adolescent, Baldwin was precocious, determined, and optimistic in the face of his illness.': 0.11678832116788321,\n",
       " 'He took after his father in good looks, body shape, and manner of walking and expressing himself.': 0.1386861313868613,\n",
       " 'Baldwin was a quick learner, but he stuttered.': 0.021897810218978103,\n",
       " 'He enjoyed listening to stories and history lessons.': 0.0437956204379562,\n",
       " \"His tutor, William, remarked on Baldwin's excellent memory, stating that he forgot neither kindness nor slights done to him by others.\": 0.7226277372262773,\n",
       " \"Amalric attempted to have Sibylla marry the French Count Stephen I of Sancerre, who would rule the kingdom as regent on Baldwin's behalf if Amalric died early.\": 1.1532846715328469,\n",
       " 'When physicians informed him that Baldwin could develop leprosy, Amalric may have begun viewing Sibylla and Stephen as eventual monarchs instead of Baldwin, but the match fell through.': 0.37226277372262767,\n",
       " 'In June 1174, the king came down with dysentery.': 0.510948905109489,\n",
       " 'He died on 11 July, leaving an underage heir, as he had feared might happen.': 0.17518248175182483,\n",
       " \"Upon Amalric's death, the High Court convened to discuss the succession.\": 0.7007299270072992,\n",
       " \"Though he had not yet been diagnosed, the High Court must have been aware of the royal physicians' suspicions that Baldwin had contracted leprosy.\": 0.26277372262773724,\n",
       " 'Yet there was no viable alternative.': 0.029197080291970802,\n",
       " \"Baldwin was the king's only son; from his second marriage Amalric had two daughters, of which only Isabella survived infancy.\": 1.3430656934306568,\n",
       " 'Female succession was expressly allowed, but Sibylla was an unmarried adolescent and Isabella only two years old.': 0.1678832116788321,\n",
       " \"The male candidates, Amalric's cousins Prince Bohemond III of Antioch, Baldwin of Antioch, and Count Raymond III of Tripoli, were politically unsuitable: Bohemond was bound to distant Antioch, Baldwin in the service of Byzantine Emperor Manuel I Komnenos, and Raymond virtually a stranger to the barons.\": 0.7153284671532846,\n",
       " 'After three days of deliberations, Baldwin IV was chosen, with the expectation that a husband would be found for Sibylla to succeed him if he proved to be affected.': 0.21897810218978103,\n",
       " \"The young king's coronation by the Latin patriarch of Jerusalem, Amalric of Nesle, took place immediately in the Church of the Holy Sepulchre.\": 1.3065693430656935,\n",
       " \"Medieval rulers were normally crowned on Sundays, but in Baldwin's case 15 July 1174 was chosen instead because it was the 75th anniversary of the First Crusade's seizure of Jerusalem.\": 1.408759124087591,\n",
       " 'Until he reached the age of majority, which was 15 in the Kingdom of Jerusalem, Baldwin needed a regent to rule in his name.': 0.25547445255474455,\n",
       " 'The government was initially assumed by the seneschal, Miles of Plancy.': 0.12408759124087591,\n",
       " \"Shortly thereafter Count Raymond III of Tripoli arrived in Jerusalem and succeeded in claiming regency as the king's closest kinsman.\": 1.248175182481752,\n",
       " 'Miles was murdered while trying to extend his hold on the government.': 0.11678832116788321,\n",
       " 'No new seneschal was appointed for two years, and so the young and sickly king presided over burdensome High Court meetings when the regent was away on military duties or in Tripoli.': 0.8175182481751824,\n",
       " \"Baldwin's mother, Agnes, returned to court when Raymond became regent.\": 0.9416058394160585,\n",
       " \"She is frequently accused by historians of exploiting her son's condition for self-gain, but the contemporary sources, including Baldwin's tutor, William of Tyre, are biased against her.\": 1.4306569343065696,\n",
       " 'Having grown up without her since the age of two, Baldwin IV had no memories of his mother, but she became devotedly kind to him and he developed a strong attachment to her.': 0.3357664233576642,\n",
       " 'During the regency it became clear that the king was indeed affected by leprosy.': 0.7883211678832116,\n",
       " 'It is not clear from whom he caught it, but it must have been someone with whom he spent a lot of time and who did not exhibit easily visible symptoms.': 0.1386861313868613,\n",
       " 'Puberty may have accelerated the development of the lepromatous form of the illness.': 0.14598540145985403,\n",
       " 'His condition worsened rapidly.': 0.029197080291970802,\n",
       " 'Most severely affected were his limbs and face, which made his subjects uneasy when they approached him.': 0.17518248175182483,\n",
       " 'Yet, contrary to the common practice and to the surprise of Muslim observers, Baldwin was never segregated.': 0.07299270072992702,\n",
       " 'As a leper, Baldwin could not marry or expect to have children.': 0.1970802919708029,\n",
       " \"It thus became a priority to arrange a marriage for Baldwin's sister and heir presumptive, Sibylla.\": 0.9124087591240876,\n",
       " \"Raymond's choice was William of Montferrat, son of Margrave William V of Montferrat in Piedmont, Italy, and cousin of both the Holy Roman Emperor Frederick Barbarossa and King Louis VII of France.\": 0.7226277372262774,\n",
       " \"On the second anniversary of his coronation, 15 July 1176, Baldwin reached the age of majority and Raymond's regency lapsed.\": 0.8832116788321168,\n",
       " 'At the suggestion of his mother, the king appointed his loyal and capable maternal uncle, Joscelin of Courtenay, to the office of seneschal and arranged for him to marry a rich heiress, Agnes of Milly.': 0.7664233576642334,\n",
       " 'The change in government signalled a new Frankish approach to the Egyptian ruler Saladin, who had been allowed by Raymond to encircle the crusader states by conquering Muslim principalities in Syria.': 0.24087591240875914,\n",
       " \"Baldwin did not ratify Raymond's peace treaty with Saladin, firmly agreeing with Joscelin that the sultan's power needed to be curbed.\": 1.394160583941606,\n",
       " 'As soon as he took over the government, Baldwin began planning a full-scale attack on Egypt with his advisers.': 0.2773722627737226,\n",
       " \"The king took advantage of Saladin's campaign in Aleppo to lead a raid around Damascus.\": 1.2116788321167886,\n",
       " 'This was his first experience of warfare.': 0.0583941605839416,\n",
       " 'Despite having use of only one hand, he refused to delegate his military duties and took part in fighting.': 0.291970802919708,\n",
       " \"He and his advisers then decided to intervene in Saladin's war against the Order of Assassins.\": 0.708029197080292,\n",
       " 'On 1 August, Baldwin and Raymond led the armies of Jerusalem and Tripoli, respectively, in a raid of the Beqaa Valley (modern-day Lebanon), where they defeated the garrison of Damascus, forcing Saladin to abandon his campaign.': 0.17518248175182483,\n",
       " \"William of Montferrat married Baldwin's sister, Sibylla, in November 1176 despite misgivings of the nobles who no longer trusted his cousin Emperor Frederick's ability to aid the kingdom.\": 1.715328467153285,\n",
       " 'Baldwin offered to resign the throne to William according to Sicard of Cremona; if he did, William declined because he knew he lacked the support of the nobility.': 0.1678832116788321,\n",
       " 'In order to carry out his attack on Egypt, Baldwin needed naval support.': 0.19708029197080293,\n",
       " \"He thus sent Raynald of Châtillon to lead an embassy to Emperor Manuel, Raynald's stepson-in-law, in Constantinople in the winter of 1176–77.\": 0.7518248175182481,\n",
       " 'Manuel agreed to take part in the invasion in return for the establishment of Byzantine protectorate over the kingdom and restoration of the Orthodox patriarch, Leontius II, in Jerusalem.': 0.3722627737226277,\n",
       " \"As Raynald's mission was successful, Baldwin consented to his marriage with the lady of Oultrejordain, Stephanie of Milly.\": 0.7518248175182481,\n",
       " \"In April 1177, William of Monferrat fell sick with malaria in Ascalon, of which he had been made count on his marriage to the king's sister.\": 1.4452554744525548,\n",
       " 'Baldwin visited him and became gravely ill too.': 0.10218978102189781,\n",
       " 'William died in June, leaving Sibylla pregnant and incapacitated Baldwin without a deputy ahead of a major war offensive.': 0.2043795620437956,\n",
       " 'The king entrusted the government and military command to Raynald, snubbing the count of Tripoli.': 0.7299270072992701,\n",
       " \"Baldwin's first cousin Count Philip I of Flanders arrived in the East in September.\": 0.7080291970802919,\n",
       " 'He brought to Baldwin financial aid from another cousin, King Henry II of England.': 0.1021897810218978,\n",
       " 'Henry was invested because he and Baldwin both belonged to the Angevin family.': 0.021897810218978103,\n",
       " 'Still in sickbed in Ascalon, the king had himself taken back to Jerusalem in a litter and convened a general council, on the advice of which he offered regency to Philip.': 0.7080291970802919,\n",
       " 'Philip declined, and Raynald retained his post.': 0.051094890510948905,\n",
       " \"The Byzantines sent a war fleet in preparation of the invasion of Egypt, but to Baldwin's regret, they withdrew due to uncooperativeness of Philip of Flanders, Bohemond of Antioch, Raymond of Tripoli, and the grand master of the Knights Hospitaller, Roger de Moulins.\": 0.8613138686131385,\n",
       " \"Saladin's power remained unchecked, and the Byzantine alliance collapsed.\": 0.7007299270072992,\n",
       " 'Despite the hostility of the Latin patriarch, Amalric of Nesle, Baldwin continued to court the Greek patriarch, Leontius, in hopes that the Byzantines would remain committed to his kingdom.': 0.5693430656934306,\n",
       " 'Philip left the Kingdom of Jerusalem with his troops in late October 1177 to help Raymond of Tripoli attack the Muslim-held city of Hama.': 0.24817518248175185,\n",
       " \"With the Frankish army in northern Syria, Saladin seized the opportunity to invade Baldwin's kingdom on 18 November.\": 0.927007299270073,\n",
       " 'Though still recovering from malaria, Baldwin rode to meet the sultan, while the Knights Templar hurried to defend Gaza.': 0.13138686131386862,\n",
       " 'The king took his humble host to Ascalon, where in desperation he issued an arrière-ban, summoning all able-bodied men.': 0.6204379562043795,\n",
       " 'Saladin reached Ascalon on 22 November and Baldwin led the troops out to meet him.': 0.16058394160583941,\n",
       " 'Seeing how drastically outnumbered he was, the king retreated into the city.': 0.5401459854014597,\n",
       " 'Saladin too saw the strength in his numbers and confidently proceeded towards Jerusalem.': 0.072992700729927,\n",
       " 'Baldwin managed to contact the Templars, however, and ordered them to abandon Gaza and join him.': 0.0948905109489051,\n",
       " \"Contrary to the sultan's expectation, Baldwin and Raynald then rode out of Ascalon, joined up with the Templars, and attacked his dispersed army at Montgisard.\": 0.7737226277372261,\n",
       " 'The young king was in the forefront.': 0.5328467153284672,\n",
       " 'Saladin, who barely survived, suffered a crushing defeat.': 0.0510948905109489,\n",
       " 'Not having enough men to launch an offensive on the retreating Muslims, Baldwin decided to fortify the Damascene frontier.': 0.0948905109489051,\n",
       " 'The Templars convinced him to build a castle, Le Chastellet, on the upper River Jordan; he was reluctant because the Franks had promised not to mark that part of the border.': 0.11678832116788324,\n",
       " 'After protests of local Muslims, Saladin offered money to Baldwin in exchange for aborting the construction, but the king refused.': 0.6058394160583942,\n",
       " 'In 1178, Baldwin hosted the patriarch of the Syriac Orthodox Church, Michael the Syrian, in Jerusalem and won his lasting loyalty to Frankish cause.': 0.1386861313868613,\n",
       " 'In April 1179, Baldwin intended to round up the sheep passing from Damascus to Banias.': 0.0510948905109489,\n",
       " \"Saladin's nephew Farrukh Shah was sent to investigate the king's movement but suddenly ran into him, and a skirmish followed.\": 1.8759124087591244,\n",
       " 'The elderly but exceptionally able constable, Humphrey II of Toron, sustained fatal wounds while protecting the king.': 0.5547445255474452,\n",
       " \"Weeks later Baldwin rode out to intercept Beduin raids of Beirut and Sidon, and in June Saladin's raiding party routed Baldwin's.\": 1.3138686131386863,\n",
       " \"The king was unhorsed and carried to safety on a knight's back because he could not remount on his own.\": 1.2335766423357664,\n",
       " \"In late August, Baldwin summoned a host to Tiberias to respond to Saladin's siege of Le Chastellet, but the castle fell before the relic of the True Cross could be fetched from Jerusalem to accompany the Christian troops.\": 1.021897810218978,\n",
       " \"In the winter of 1177–78, the king's widowed sister, Sibylla, gave birth to a son, Baldwin, named after the king.\": 1.7445255474452557,\n",
       " \"A year of official mourning for the child's father, William, concluded in June 1178, and it became appropriate to seek another husband for her.\": 0.8905109489051094,\n",
       " \"Baldwin of Ibelin's suit was well known, but not entertained.\": 0.6496350364963503,\n",
       " \"In order to avoid antagonizing the Ibelins, however, Baldwin had allowed Balian of Ibelin to marry the king's stepmother, Queen Maria, in late 1177.\": 1.3868613138686132,\n",
       " 'In July 1178, King Baldwin began associating Sibylla with him in some public acts, thereby acknowledging her as next in line to the throne.': 0.19708029197080293,\n",
       " 'He began contemplating her marriage to Duke Hugh III of Burgundy, and wrote to the king of France: \"To be deprived of the use of one\\'s limbs is of little help to one in carrying out the work of government ...': 1.54014598540146,\n",
       " 'It is not fitting that a hand so weak as mine should hold power when fear of Arab aggression daily presses upon the Holy City and when my sickness increases the enemy\\'s daring.\"': 0.7956204379562044,\n",
       " 'During the Holy Week in 1180, the prince of Antioch and the count of Tripoli marched with their armies to Jerusalem.': 0.16788321167883213,\n",
       " 'It is most likely that their intention was to force the king to have Sibylla marry Baldwin of Ibelin and to then abdicate.': 0.6204379562043795,\n",
       " \"The king had never approved of Baldwin's ambition to marry his sister, and though he did wish to abdicate, he was not keen on having terms forced on him.\": 1.3649635036496355,\n",
       " \"Baldwin acted decisively before his kinsmen's armies reached Jerusalem: he arranged for Sibylla to marry a Poitevin knight, Guy of Lusignan.\": 0.8248175182481752,\n",
       " 'Raymond and Bohemond had no option but to accept the fait accompli, and the coup was foiled.': 0.06569343065693431,\n",
       " \"Baldwin had hoped to abdicate, but was prevented by deep divisions within his court that emerged following Sibylla's marriage to Guy.\": 0.9489051094890512,\n",
       " 'He proposed a two-year truce with Saladin, who was glad to accept in order to campaign freely in northern Syria.': 0.1897810218978102,\n",
       " 'Baldwin sent his uncle and chief minister, Joscelin, to assure the Byzantine court that Jerusalem still needed their protection.': 0.291970802919708,\n",
       " \"During Joscelin's absence, from mid-1180 to mid-1181, the full burden of government fell on the shoulders of the king, whose health was deteriorating.\": 1.3065693430656937,\n",
       " 'He relied chiefly on his mother in this period.': 0.08759124087591241,\n",
       " \"To secure Guy's position and prevent the emergence of an alternative claimant, Baldwin had his 8-year-old half-sister, Isabella, solemnly betrothed to the teenaged lord of Toron, Humphrey IV, in October 1180.\": 0.7737226277372261,\n",
       " \"Isabella was then sent to live at Kerak Castle with the lady of Oultrejourdain, Humphrey's mother, as far as possible from her maternal kin and potential conspirators.\": 0.8321167883211679,\n",
       " 'By the terms of the marriage contract, Humphrey ceded Toron to Baldwin, who thus prevented the union of two great fiefs under one vassal and strengthened his position against the count of Tripoli.': 0.4087591240875912,\n",
       " 'Baldwin made use of the truce with Saladin to strengthen the position of his maternal kin, granting Maron and Chastelneuf to Joscelin and usufruct of Toron to Agnes, while associating Guy and Sibylla with him in public acts.': 0.2554744525547445,\n",
       " 'He remained unreconciled with Raymond, however, and forbade the count to enter the kingdom in early 1182 due to suspicions of another conspiracy.': 0.5255474452554745,\n",
       " 'Baldwin likely intended to charge Raymond with treason and deprive him of the Principality of Galilee, a fief of Jerusalem held by Raymond through marriage to Eschiva of Bures.': 0.20437956204379565,\n",
       " 'The law prevented the king from seizing the fief without the assent of the High Court, and the High Court urged the king to reconcile with Raymond.': 1.0802919708029195,\n",
       " \"The king reluctantly heeded his vassals' advice.\": 0.5255474452554744,\n",
       " \"Baldwin's truce with Saladin was due to expire in May 1182, but was broken in mid-1181 by Raynald, who seized a merchant caravan on its way from Egypt to Damascus.\": 0.7810218978102188,\n",
       " \"Raynald ignored the king's request to make restitution to Saladin, who was then preparing to annex the Zengid-ruled Aleppo.\": 1.1605839416058399,\n",
       " \"The king, who consistently acted against Saladin's attempts to expand into northern Syria, decided to oppose him.\": 1.1824817518248179,\n",
       " 'The recent anti-Catholic coup in Constantinople gave Saladin confidence to attack the Kingdom of Jerusalem.': 0.0948905109489051,\n",
       " \"In July, Baldwin marched with his host to relieve the Muslims' siege of Bethsan, and his outnumbered army won the Battle of Le Forbelet.\": 0.16788321167883213,\n",
       " 'Historian Bernard Hamilton attributes the victory to the respect and loyalty commanded by Baldwin, who stayed on the battlefield despite his illness and intense heat.': 0.1897810218978102,\n",
       " 'The defeated sultan took his host to besiege Beirut, while another army from Egypt attacked the south of the kingdom.': 0.4744525547445255,\n",
       " 'Baldwin knew that he was being provoked into dividing his forces.': 0.0364963503649635,\n",
       " 'Deciding that Beirut was of a greater strategic importance, he ignored the southern attack and moved with his troops to Tyre.': 0.16058394160583941,\n",
       " \"From there he procured assistance from the Italian maritime republics in lifting Saladin's naval blockade of Beirut.\": 0.6788321167883211,\n",
       " 'Saladin abandoned the siege, but declined to make a truce, worrying Baldwin and his advisers.': 0.2043795620437956,\n",
       " \"He proceeded north to fight the Zengids, thereby expanding his realm, while Baldwin led an attack on Saladin's Damascene territory, then on Bosra, before finally laying siege and capturing Cave de Sueth.\": 0.9051094890510949,\n",
       " 'In the winter of 1182–3, after agreeing on a strategy with his council, Baldwin attacked Damascus again.': 0.1386861313868613,\n",
       " 'He threatened to destroy a mosque in Darayya, but local Christians convinced him not to for fear of losing their churches in retaliation.': 0.10218978102189781,\n",
       " 'Baldwin could not walk unsupported or use his hands from 1183.': 0.16058394160583941,\n",
       " 'Due to an inability to blink, his cornea dried and he became blind.': 0.1313868613138686,\n",
       " \"He nevertheless had to summon his troops in response to Saladin's march south following the Egyptian conquest of Aleppo in June.\": 0.7591240875912408,\n",
       " 'The king then developed a life-threatening fever.': 0.5255474452554744,\n",
       " 'He was attended by his mother and the new patriarch, Heraclius, at nearby Nazareth.': 0.18248175182481752,\n",
       " 'Having summoned the High Court to his bedside, Baldwin entrusted the government to his brother-in-law, Guy, who was next in line to succeed him.': 0.21167883211678834,\n",
       " \"Guy's appointment to regency was meant to be permanent.\": 0.7153284671532847,\n",
       " 'Baldwin retained only the royal title and authority over the city of Jerusalem, but he had Guy swear that, while Baldwin lived, he would not make himself king or alienate parts of the royal demesne.': 0.7445255474452553,\n",
       " 'Fearing discontent among his barons, Baldwin had failed to give Guy any experience in military leadership prior to making him regent.': 0.20437956204379565,\n",
       " 'Indeed, the great lords of the kingdom, the independent rulers of Antioch and Tripoli, and the grand masters of the military orders refused to cooperate with Guy.': 0.4233576642335766,\n",
       " 'Baldwin recovered unexpectedly and returned to Jerusalem.': 0.0364963503649635,\n",
       " 'Having found that coastal climate suited his health, Baldwin offered Jerusalem to Guy in exchange for Tyre.': 0.10218978102189781,\n",
       " 'Guy brusquely refused, possibly because Tyre was more lucrative, leaving Baldwin gravely insulted.': 0.11678832116788321,\n",
       " \"The wedding of Baldwin's half-sister, Isabella, and Humphrey IV of Toron was celebrated in Kerak in late 1183.\": 0.7153284671532847,\n",
       " \"Saladin attacked during the festivities and laid siege to the castle, hoping to capture the king's half-sister and her husband.\": 1.313868613138686,\n",
       " 'The retired king had gathered a council in Jerusalem to inform him about the government of the kingdom when news about the siege reached him.': 0.948905109489051,\n",
       " \"He immediately dismissed Guy from regency and resumed power, as the defense of such a vital fortress and the king's half-sister within it could not be entrusted to the man who had proven unable to command the troops.\": 1.5109489051094893,\n",
       " \"Guy's removal from regency was effectively disinheritance; at the council's insistence, deliberations about the succession followed.\": 1.445255474452555,\n",
       " \"The proposal of the king's mother that Sibylla's five-year-old son, Baldwin, be made co-king was accepted, and the boy was crowned on 20 November.\": 1.9708029197080295,\n",
       " 'In late November, Baldwin IV ordered the lighting of a beacon on the Tower of David, which may have been the first in a chain of such beacons, in order to hearten the defenders of the intensely bombarded Kerak.': 0.32846715328467146,\n",
       " 'Baldwin accompanied his troops again, but having become blind and immobile, this time he went in a litter slung between two horses.': 0.2262773722627737,\n",
       " 'His presence was essential to unite the discordant barons.': 0.058394160583941604,\n",
       " 'Even his humiliated brother-in-law led his men.': 0.08029197080291971,\n",
       " \"Warned by his scouts about the king's approach and concerned about having left Egypt unguarded, Saladin abandoned the siege on 4 December.\": 1.2481751824817524,\n",
       " 'Baldwin entered Kerak triumphantly.': 0.014598540145985401,\n",
       " 'The question of regency for his nephew troubled Baldwin.': 0.12408759124087593,\n",
       " 'The only way to ensure that Guy could not claim it was to have his marriage to Sibylla annulled.': 0.20437956204379562,\n",
       " 'Baldwin discussed this with the patriarch, Heraclius.': 0.08029197080291971,\n",
       " 'Baldwin may have intended to claim that he had forced Sibylla to marry Guy and that the marriage was unlawful because of that.': 0.2992700729927007,\n",
       " \"Sibylla's unwavering loyalty to Guy thwarted his plans, as the couple refused to appear at court.\": 0.8248175182481752,\n",
       " 'Early in 1184, Baldwin ordered Guy to attend him as vassal in Jerusalem.': 0.08029197080291971,\n",
       " 'Guy declined, citing poor health, and this was repeated several times.': 0.08759124087591243,\n",
       " 'Baldwin then had himself carried to Ascalon in the company of the High Court.': 0.021897810218978103,\n",
       " 'Guy refused to let him into the city.': 0.08759124087591241,\n",
       " 'From the battlements and towers the inhabitants witnessed the king ceremoniously knocking and demanding admission.': 0.5328467153284671,\n",
       " 'He was welcomed in Jaffa, where he installed a governor, thereby depriving Guy of half of his county.': 0.06569343065693431,\n",
       " \"In Acre, Baldwin summoned his council, probably to discuss the seizure of Guy's fief.\": 0.7664233576642335,\n",
       " 'The patriarch and the grand masters begged Baldwin to forgive Guy in order to avoid a civil war.': 0.2773722627737226,\n",
       " 'This was as unacceptable to Baldwin as it would have been to any contemporary king.': 0.5620437956204379,\n",
       " 'The patriarch and the grand masters stormed out of the council, swaying the rest of the assembly to withhold support for the action.': 0.24817518248175177,\n",
       " 'Baldwin was reconciled with the patriarch and the grand masters by June, when he sent them to Europe on a diplomatic mission to seek aid for the kingdom, and informed them by letter that Saladin was once more besieging Kerak.': 0.4963503649635036,\n",
       " 'Again, Saladin abandoned the siege when the litter-bound king approached with his army.': 0.6204379562043795,\n",
       " 'Once in Kerak, Baldwin ordered and financed the reparations of the damaged castle.': 0.0948905109489051,\n",
       " \"In late 1184, Baldwin was shocked to learn about Guy's massacre of the Beduin of the royal fief of Darum, who were under royal protection and who provided information about the Egyptians' movements.\": 0.8832116788321168,\n",
       " 'He soon developed a fever.': 0.08029197080291971,\n",
       " 'When he returned to Jerusalem in late 1184 or early 1185, Baldwin bestowed regency on Raymond of Tripoli, the man whom he had never trusted, but to whom he could find no better alternative.': 0.3941605839416058,\n",
       " 'At the time he expected to survive the illness, having done so twice before, but within weeks it became apparent that it would be his last.': 0.3065693430656934,\n",
       " 'On his deathbed he summoned the High Court to appoint a permanent regent for his nephew, Baldwin V, and Raymond was chosen.': 0.18248175182481752,\n",
       " 'The dying king then ordered that homage be rendered to his nephew as king and to Raymond as regent, to be followed by a solemn crown-wearing ceremony at the Church of the Holy Sepulchre.': 1.1678832116788322,\n",
       " 'Baldwin died, attended by his vassals, in March 1185 or before 16 May 1185 at the latest, when his nephew is recorded as the sole king.': 0.7153284671532847,\n",
       " 'He was buried in the Church of the Holy Sepulchre, close to his father, King Amalric.': 0.051094890510948905,\n",
       " 'His tomb would remain untouched along with the other royal tombs of the kingdom until 1809–1810, when they were destroyed by the Othodox greeks, as said tombs layed in their section of the Church of the Holy Sepulchre.': 0.44525547445255464,\n",
       " \"[106][107] It is unclear if the remains of those kings were exhumed; some researchers hypothesize that some of them may still be in unmarked pits under the church's pavement.\": 0.8613138686131386,\n",
       " '[108]\\n\\nThe young Baldwin V died the next year.': 0.17518248175182483,\n",
       " 'Sibylla, who succeeded her son, made Guy king.': 0.6058394160583942,\n",
       " \"Baldwin IV's realm was destroyed by Saladin following his decisive victory over Guy at the Horns of Hattin in 1187.\": 0.7007299270072992,\n",
       " 'Sibylla and their daughters died in 1190, leaving Isabella I as the heir to the defeated kingdom.': 0.3868613138686131,\n",
       " \"Christian defeat at Hattin two years after Baldwin's death marred the king's legacy, with historians tracing fatal discord to Baldwin's reign.\": 2.5547445255474455,\n",
       " 'Yet, while Baldwin was on the throne, the kingdom lost no territory and flourished economically and spiritually.': 0.27737226277372257,\n",
       " \"Baldwin understood the importance of curbing Saladin's power, which was reflected in his choice of ministers.\": 0.7153284671532846,\n",
       " 'He did not devise strategy or diplomacy alone, and delegated Church patronage and finances to his mother, Agnes, and uncle, Joscelin, respectively.': 0.17518248175182483,\n",
       " 'His chief contribution was his determination not to abdicate before finding a suitable successor, despite leprosy making government an unbearable burden.': 0.36496350364963503,\n",
       " 'As was clear during his reign and especially in its disastrous aftermath, Baldwin alone preserved unity in the kingdom.': 0.31386861313868614,\n",
       " 'Contemporary Christian theologians were divided on the issue of leprosy.': 0.12408759124087591,\n",
       " 'Pope Alexander III showed little sympathy when writing about Baldwin, declaring leprosy a \"just judgement of God\", but another school of thought encouraged the faithful to see Christ in the affected.': 0.3065693430656934,\n",
       " \"Baldwin's reign may have led to a lesser stigmatization of the illness in the 13th-century Kingdom of Jerusalem.\": 0.8175182481751825,\n",
       " \"His subjects' acceptance of his illness confounded Muslims.\": 0.07299270072992702,\n",
       " \"Imad ad-Din al-Isfahani wrote:\\n\\nBaldwin's public image may have been aided by his chastity, seen as evidence of extraordinary sanctity, and his success against Saladin was interpreted as a sign of God's favour.\": 1.4452554744525548,\n",
       " 'After the disastrous Seventh Crusade, a crusader was told by an old man in Damascus:\\n\\nAlong his perceived sanctity, Baldwin was primarily a knight, both in character and in upbringing, and to contemporaries his most distinctive traits were his courage and honourableness.': 0.20437956204379557,\n",
       " '• Kingdom of Heaven – film portraying King Baldwin (played by Edward Norton) as a fragile but courageous young king who mostly remains secluded in his palace and wears a silver mask to hide his leprosy, although he is shown leading his troops on horseback.': 0.875912408759124,\n",
       " 'There are no historical accounts of Baldwin actually wearing a mask to hide his leprosy.': 0.16058394160583941,\n",
       " '• None Hamilton, Bernard (2000).': 0.0510948905109489,\n",
       " '• None Mitchell, Piers D. (2000).': 0.0510948905109489,\n",
       " '\"An evaluation of the leprosy of King Baldwin IV of Jerusalem in the context of the medieval world\".': 0.18248175182481752,\n",
       " 'pp.': 0.0072992700729927005,\n",
       " '245–258.': 0.0072992700729927005,\n",
       " '• None Riley-Smith, Jonathan (1973).': 0.0437956204379562,\n",
       " 'The feudal nobility and the kingdom of Jerusalem, 1147–1277.': 0.2554744525547445,\n",
       " '• None Runciman, Steven (1952).': 0.0437956204379562,\n",
       " 'A History of the Crusades: The Kingdom of Jerusalem and the Frankish East, 1100–1187.': 0.0072992700729927005}"
      ]
     },
     "execution_count": 73,
     "metadata": {},
     "output_type": "execute_result"
    }
   ],
   "source": [
    "score_sentences"
   ]
  },
  {
   "cell_type": "code",
   "execution_count": 74,
   "metadata": {},
   "outputs": [],
   "source": [
    "def visualize(title, sentence_list, best_sentences):\n",
    "  from IPython.core.display import HTML\n",
    "  text = ''\n",
    "\n",
    "  display(HTML(f'<h1>Summary - {title}</h1>'))\n",
    "  for sentence in sentence_list:\n",
    "    if sentence in best_sentences:\n",
    "      text += ' ' + str(sentence).replace(sentence, f\"<mark>{sentence}</mark>\")\n",
    "    else:\n",
    "      text += ' ' + sentence\n",
    "  display(HTML(f\"\"\" {text} \"\"\"))"
   ]
  },
  {
   "cell_type": "code",
   "execution_count": 75,
   "metadata": {},
   "outputs": [
    {
     "data": {
      "text/html": [
       "<h1>Summary - Baldwin IV of Jerusalem - Wikipedia</h1>"
      ],
      "text/plain": [
       "<IPython.core.display.HTML object>"
      ]
     },
     "metadata": {},
     "output_type": "display_data"
    },
    {
     "data": {
      "text/html": [
       "  Baldwin IV (French: Baudouin; 1161–1185), called the Leper King, was King of Jerusalem from 1174 until his death in 1185. <mark>He was admired by his contemporaries and later historians for his willpower and dedication to the Latin kingdom in the face of debilitating leprosy, which eventually left him blind and unable to use either his hands or his feet.</mark> Choosing competent advisers, Baldwin ruled a thriving realm and succeeded in protecting it from the Ayyubid Muslim ruler Saladin. Baldwin developed the first symptoms of his leprosy as a child but was only diagnosed after his accession on the death of his father, King Amalric. Thereafter his hands and face became increasingly disfigured. <mark>Count Raymond III of Tripoli ruled the kingdom in Baldwin's name until the king reached the age of majority in 1176.</mark> As soon as he assumed government, Baldwin planned an invasion of Egypt, which fell through due to his vassals' uncooperativeness. <mark>Saladin in turn attacked Baldwin's kingdom in 1177, but the king and the nobleman Raynald of Châtillon repelled him at Montgisard, earning Baldwin fame.</mark> <mark>The young king mastered horse riding despite gradually losing sensation in his extremities and was able to fight in battles until his last years.</mark> Leprosy precluded Baldwin from marrying. He hoped to abdicate when his sister, Sibylla, married William of Montferrat in 1176, but William died the next year. In 1180, in order to forestall a coup by Count Raymond III of Tripoli and Prince Bohemond III of Antioch, Baldwin had Sibylla marry Guy of Lusignan. Guy was opposed by a large fraction of the nobility, and soon permanently impaired his relationship with Baldwin. <mark>The internal discord that followed forced Baldwin to remain king, as only he was capable of uniting the quarreling nobility.</mark> Baldwin again repelled Saladin in 1182, but leprosy rendered him blind and unable to walk or use his hands in 1183. <mark>He disinherited Guy and had Sibylla's son, Baldwin V, crowned co-king before having himself taken in a litter to lift Saladin's siege of Kerak.</mark> <mark>Baldwin failed to have Sibylla's marriage to Guy annulled and Guy's fief of Ascalon confiscated.</mark> <mark>In early 1185, he arranged for Raymond to rule as regent for Sibylla's son and died before 16 May.</mark> Baldwin was born in mid-1161. His parents were Amalric, then the count of Jaffa and Ascalon, and Agnes of Courtenay. <mark>Baldwin's godfather was his paternal uncle, King Baldwin III, who joked that his christening present was the Kingdom of Jerusalem.</mark> <mark>The king was then young and recently married, so a nephew's accession seemed unlikely, but he died childless in 1163.</mark> <mark>Amalric was his heir, but the nobles of the kingdom were strongly opposed to Amalric's wife, Agnes; they were likely threatened by the prospect of her increased influence.</mark> <mark>The High Court forced Amalric to agree to an annulment of his marriage on the grounds of consanguinity in order to be accepted as king.</mark> <mark>Amalric succeeded in having his and Agnes's children, Sibylla and Baldwin, declared legitimate despite the annulment.</mark> Baldwin grew up without a mother, who soon married the nobleman Hugh of Ibelin and only saw Baldwin on public occasions. He also seldom saw his sister, Sibylla, who was raised in the Convent of Saint Lazarus by their grandaunt Ioveta. At the age of six Baldwin gained a stepmother, Maria Komnene, with whom he was not close. The queen was an ambitious woman who likely saw Baldwin as an obstacle to her own children. The Kingdom of Jerusalem and other crusader states were ruled by Franks, French-speaking Catholics who had arrived in the Levant from Western Europe and remained Western in culture. Amalric ensured that Baldwin, as the heir apparent, received a good education. The nine-year-old prince was sent to live with William of Tyre, a sophisticated and well-traveled cleric who was famed for his learning. William noticed that, unlike other children in the playground, Baldwin did not cry when pinched by his peers. After a while it became apparent to the tutor that Baldwin could feel no pain in his right arm. <mark>The king hired Arabs to treat Baldwin and to teach him horse riding, an essential skill for a Frankish nobleman.</mark> Having sensation in only one hand, Baldwin needed to learn to control the horse in battle using solely his knees, and mastered riding despite the handicap. Leprosy was suspected, but there were no visible symptoms yet and physicians hesitated to diagnose because of the stigma the boy would face. Had the diagnosis been made when he was a child, Baldwin might have been required by law to enter the Order of St Lazarus, a military order composed of affected knights and serjeants. As an adolescent, Baldwin was precocious, determined, and optimistic in the face of his illness. He took after his father in good looks, body shape, and manner of walking and expressing himself. Baldwin was a quick learner, but he stuttered. He enjoyed listening to stories and history lessons. <mark>His tutor, William, remarked on Baldwin's excellent memory, stating that he forgot neither kindness nor slights done to him by others.</mark> <mark>Amalric attempted to have Sibylla marry the French Count Stephen I of Sancerre, who would rule the kingdom as regent on Baldwin's behalf if Amalric died early.</mark> When physicians informed him that Baldwin could develop leprosy, Amalric may have begun viewing Sibylla and Stephen as eventual monarchs instead of Baldwin, but the match fell through. In June 1174, the king came down with dysentery. He died on 11 July, leaving an underage heir, as he had feared might happen. <mark>Upon Amalric's death, the High Court convened to discuss the succession.</mark> Though he had not yet been diagnosed, the High Court must have been aware of the royal physicians' suspicions that Baldwin had contracted leprosy. Yet there was no viable alternative. <mark>Baldwin was the king's only son; from his second marriage Amalric had two daughters, of which only Isabella survived infancy.</mark> Female succession was expressly allowed, but Sibylla was an unmarried adolescent and Isabella only two years old. <mark>The male candidates, Amalric's cousins Prince Bohemond III of Antioch, Baldwin of Antioch, and Count Raymond III of Tripoli, were politically unsuitable: Bohemond was bound to distant Antioch, Baldwin in the service of Byzantine Emperor Manuel I Komnenos, and Raymond virtually a stranger to the barons.</mark> After three days of deliberations, Baldwin IV was chosen, with the expectation that a husband would be found for Sibylla to succeed him if he proved to be affected. <mark>The young king's coronation by the Latin patriarch of Jerusalem, Amalric of Nesle, took place immediately in the Church of the Holy Sepulchre.</mark> <mark>Medieval rulers were normally crowned on Sundays, but in Baldwin's case 15 July 1174 was chosen instead because it was the 75th anniversary of the First Crusade's seizure of Jerusalem.</mark> Until he reached the age of majority, which was 15 in the Kingdom of Jerusalem, Baldwin needed a regent to rule in his name. The government was initially assumed by the seneschal, Miles of Plancy. <mark>Shortly thereafter Count Raymond III of Tripoli arrived in Jerusalem and succeeded in claiming regency as the king's closest kinsman.</mark> Miles was murdered while trying to extend his hold on the government. <mark>No new seneschal was appointed for two years, and so the young and sickly king presided over burdensome High Court meetings when the regent was away on military duties or in Tripoli.</mark> <mark>Baldwin's mother, Agnes, returned to court when Raymond became regent.</mark> <mark>She is frequently accused by historians of exploiting her son's condition for self-gain, but the contemporary sources, including Baldwin's tutor, William of Tyre, are biased against her.</mark> Having grown up without her since the age of two, Baldwin IV had no memories of his mother, but she became devotedly kind to him and he developed a strong attachment to her. <mark>During the regency it became clear that the king was indeed affected by leprosy.</mark> It is not clear from whom he caught it, but it must have been someone with whom he spent a lot of time and who did not exhibit easily visible symptoms. Puberty may have accelerated the development of the lepromatous form of the illness. His condition worsened rapidly. Most severely affected were his limbs and face, which made his subjects uneasy when they approached him. Yet, contrary to the common practice and to the surprise of Muslim observers, Baldwin was never segregated. As a leper, Baldwin could not marry or expect to have children. <mark>It thus became a priority to arrange a marriage for Baldwin's sister and heir presumptive, Sibylla.</mark> <mark>Raymond's choice was William of Montferrat, son of Margrave William V of Montferrat in Piedmont, Italy, and cousin of both the Holy Roman Emperor Frederick Barbarossa and King Louis VII of France.</mark> <mark>On the second anniversary of his coronation, 15 July 1176, Baldwin reached the age of majority and Raymond's regency lapsed.</mark> <mark>At the suggestion of his mother, the king appointed his loyal and capable maternal uncle, Joscelin of Courtenay, to the office of seneschal and arranged for him to marry a rich heiress, Agnes of Milly.</mark> The change in government signalled a new Frankish approach to the Egyptian ruler Saladin, who had been allowed by Raymond to encircle the crusader states by conquering Muslim principalities in Syria. <mark>Baldwin did not ratify Raymond's peace treaty with Saladin, firmly agreeing with Joscelin that the sultan's power needed to be curbed.</mark> As soon as he took over the government, Baldwin began planning a full-scale attack on Egypt with his advisers. <mark>The king took advantage of Saladin's campaign in Aleppo to lead a raid around Damascus.</mark> This was his first experience of warfare. Despite having use of only one hand, he refused to delegate his military duties and took part in fighting. <mark>He and his advisers then decided to intervene in Saladin's war against the Order of Assassins.</mark> On 1 August, Baldwin and Raymond led the armies of Jerusalem and Tripoli, respectively, in a raid of the Beqaa Valley (modern-day Lebanon), where they defeated the garrison of Damascus, forcing Saladin to abandon his campaign. <mark>William of Montferrat married Baldwin's sister, Sibylla, in November 1176 despite misgivings of the nobles who no longer trusted his cousin Emperor Frederick's ability to aid the kingdom.</mark> Baldwin offered to resign the throne to William according to Sicard of Cremona; if he did, William declined because he knew he lacked the support of the nobility. In order to carry out his attack on Egypt, Baldwin needed naval support. <mark>He thus sent Raynald of Châtillon to lead an embassy to Emperor Manuel, Raynald's stepson-in-law, in Constantinople in the winter of 1176–77.</mark> Manuel agreed to take part in the invasion in return for the establishment of Byzantine protectorate over the kingdom and restoration of the Orthodox patriarch, Leontius II, in Jerusalem. <mark>As Raynald's mission was successful, Baldwin consented to his marriage with the lady of Oultrejordain, Stephanie of Milly.</mark> <mark>In April 1177, William of Monferrat fell sick with malaria in Ascalon, of which he had been made count on his marriage to the king's sister.</mark> Baldwin visited him and became gravely ill too. William died in June, leaving Sibylla pregnant and incapacitated Baldwin without a deputy ahead of a major war offensive. <mark>The king entrusted the government and military command to Raynald, snubbing the count of Tripoli.</mark> <mark>Baldwin's first cousin Count Philip I of Flanders arrived in the East in September.</mark> He brought to Baldwin financial aid from another cousin, King Henry II of England. Henry was invested because he and Baldwin both belonged to the Angevin family. <mark>Still in sickbed in Ascalon, the king had himself taken back to Jerusalem in a litter and convened a general council, on the advice of which he offered regency to Philip.</mark> Philip declined, and Raynald retained his post. <mark>The Byzantines sent a war fleet in preparation of the invasion of Egypt, but to Baldwin's regret, they withdrew due to uncooperativeness of Philip of Flanders, Bohemond of Antioch, Raymond of Tripoli, and the grand master of the Knights Hospitaller, Roger de Moulins.</mark> <mark>Saladin's power remained unchecked, and the Byzantine alliance collapsed.</mark> <mark>Despite the hostility of the Latin patriarch, Amalric of Nesle, Baldwin continued to court the Greek patriarch, Leontius, in hopes that the Byzantines would remain committed to his kingdom.</mark> Philip left the Kingdom of Jerusalem with his troops in late October 1177 to help Raymond of Tripoli attack the Muslim-held city of Hama. <mark>With the Frankish army in northern Syria, Saladin seized the opportunity to invade Baldwin's kingdom on 18 November.</mark> Though still recovering from malaria, Baldwin rode to meet the sultan, while the Knights Templar hurried to defend Gaza. <mark>The king took his humble host to Ascalon, where in desperation he issued an arrière-ban, summoning all able-bodied men.</mark> Saladin reached Ascalon on 22 November and Baldwin led the troops out to meet him. <mark>Seeing how drastically outnumbered he was, the king retreated into the city.</mark> Saladin too saw the strength in his numbers and confidently proceeded towards Jerusalem. Baldwin managed to contact the Templars, however, and ordered them to abandon Gaza and join him. <mark>Contrary to the sultan's expectation, Baldwin and Raynald then rode out of Ascalon, joined up with the Templars, and attacked his dispersed army at Montgisard.</mark> <mark>The young king was in the forefront.</mark> Saladin, who barely survived, suffered a crushing defeat. Not having enough men to launch an offensive on the retreating Muslims, Baldwin decided to fortify the Damascene frontier. The Templars convinced him to build a castle, Le Chastellet, on the upper River Jordan; he was reluctant because the Franks had promised not to mark that part of the border. <mark>After protests of local Muslims, Saladin offered money to Baldwin in exchange for aborting the construction, but the king refused.</mark> In 1178, Baldwin hosted the patriarch of the Syriac Orthodox Church, Michael the Syrian, in Jerusalem and won his lasting loyalty to Frankish cause. In April 1179, Baldwin intended to round up the sheep passing from Damascus to Banias. <mark>Saladin's nephew Farrukh Shah was sent to investigate the king's movement but suddenly ran into him, and a skirmish followed.</mark> <mark>The elderly but exceptionally able constable, Humphrey II of Toron, sustained fatal wounds while protecting the king.</mark> <mark>Weeks later Baldwin rode out to intercept Beduin raids of Beirut and Sidon, and in June Saladin's raiding party routed Baldwin's.</mark> <mark>The king was unhorsed and carried to safety on a knight's back because he could not remount on his own.</mark> <mark>In late August, Baldwin summoned a host to Tiberias to respond to Saladin's siege of Le Chastellet, but the castle fell before the relic of the True Cross could be fetched from Jerusalem to accompany the Christian troops.</mark> <mark>In the winter of 1177–78, the king's widowed sister, Sibylla, gave birth to a son, Baldwin, named after the king.</mark> <mark>A year of official mourning for the child's father, William, concluded in June 1178, and it became appropriate to seek another husband for her.</mark> <mark>Baldwin of Ibelin's suit was well known, but not entertained.</mark> <mark>In order to avoid antagonizing the Ibelins, however, Baldwin had allowed Balian of Ibelin to marry the king's stepmother, Queen Maria, in late 1177.</mark> In July 1178, King Baldwin began associating Sibylla with him in some public acts, thereby acknowledging her as next in line to the throne. <mark>He began contemplating her marriage to Duke Hugh III of Burgundy, and wrote to the king of France: \"To be deprived of the use of one's limbs is of little help to one in carrying out the work of government ...</mark> <mark>It is not fitting that a hand so weak as mine should hold power when fear of Arab aggression daily presses upon the Holy City and when my sickness increases the enemy's daring.\"</mark> During the Holy Week in 1180, the prince of Antioch and the count of Tripoli marched with their armies to Jerusalem. <mark>It is most likely that their intention was to force the king to have Sibylla marry Baldwin of Ibelin and to then abdicate.</mark> <mark>The king had never approved of Baldwin's ambition to marry his sister, and though he did wish to abdicate, he was not keen on having terms forced on him.</mark> <mark>Baldwin acted decisively before his kinsmen's armies reached Jerusalem: he arranged for Sibylla to marry a Poitevin knight, Guy of Lusignan.</mark> Raymond and Bohemond had no option but to accept the fait accompli, and the coup was foiled. <mark>Baldwin had hoped to abdicate, but was prevented by deep divisions within his court that emerged following Sibylla's marriage to Guy.</mark> He proposed a two-year truce with Saladin, who was glad to accept in order to campaign freely in northern Syria. Baldwin sent his uncle and chief minister, Joscelin, to assure the Byzantine court that Jerusalem still needed their protection. <mark>During Joscelin's absence, from mid-1180 to mid-1181, the full burden of government fell on the shoulders of the king, whose health was deteriorating.</mark> He relied chiefly on his mother in this period. <mark>To secure Guy's position and prevent the emergence of an alternative claimant, Baldwin had his 8-year-old half-sister, Isabella, solemnly betrothed to the teenaged lord of Toron, Humphrey IV, in October 1180.</mark> <mark>Isabella was then sent to live at Kerak Castle with the lady of Oultrejourdain, Humphrey's mother, as far as possible from her maternal kin and potential conspirators.</mark> By the terms of the marriage contract, Humphrey ceded Toron to Baldwin, who thus prevented the union of two great fiefs under one vassal and strengthened his position against the count of Tripoli. Baldwin made use of the truce with Saladin to strengthen the position of his maternal kin, granting Maron and Chastelneuf to Joscelin and usufruct of Toron to Agnes, while associating Guy and Sibylla with him in public acts. <mark>He remained unreconciled with Raymond, however, and forbade the count to enter the kingdom in early 1182 due to suspicions of another conspiracy.</mark> Baldwin likely intended to charge Raymond with treason and deprive him of the Principality of Galilee, a fief of Jerusalem held by Raymond through marriage to Eschiva of Bures. <mark>The law prevented the king from seizing the fief without the assent of the High Court, and the High Court urged the king to reconcile with Raymond.</mark> The king reluctantly heeded his vassals' advice. <mark>Baldwin's truce with Saladin was due to expire in May 1182, but was broken in mid-1181 by Raynald, who seized a merchant caravan on its way from Egypt to Damascus.</mark> <mark>Raynald ignored the king's request to make restitution to Saladin, who was then preparing to annex the Zengid-ruled Aleppo.</mark> <mark>The king, who consistently acted against Saladin's attempts to expand into northern Syria, decided to oppose him.</mark> The recent anti-Catholic coup in Constantinople gave Saladin confidence to attack the Kingdom of Jerusalem. In July, Baldwin marched with his host to relieve the Muslims' siege of Bethsan, and his outnumbered army won the Battle of Le Forbelet. Historian Bernard Hamilton attributes the victory to the respect and loyalty commanded by Baldwin, who stayed on the battlefield despite his illness and intense heat. The defeated sultan took his host to besiege Beirut, while another army from Egypt attacked the south of the kingdom. Baldwin knew that he was being provoked into dividing his forces. Deciding that Beirut was of a greater strategic importance, he ignored the southern attack and moved with his troops to Tyre. <mark>From there he procured assistance from the Italian maritime republics in lifting Saladin's naval blockade of Beirut.</mark> Saladin abandoned the siege, but declined to make a truce, worrying Baldwin and his advisers. <mark>He proceeded north to fight the Zengids, thereby expanding his realm, while Baldwin led an attack on Saladin's Damascene territory, then on Bosra, before finally laying siege and capturing Cave de Sueth.</mark> In the winter of 1182–3, after agreeing on a strategy with his council, Baldwin attacked Damascus again. He threatened to destroy a mosque in Darayya, but local Christians convinced him not to for fear of losing their churches in retaliation. Baldwin could not walk unsupported or use his hands from 1183. Due to an inability to blink, his cornea dried and he became blind. <mark>He nevertheless had to summon his troops in response to Saladin's march south following the Egyptian conquest of Aleppo in June.</mark> The king then developed a life-threatening fever. He was attended by his mother and the new patriarch, Heraclius, at nearby Nazareth. Having summoned the High Court to his bedside, Baldwin entrusted the government to his brother-in-law, Guy, who was next in line to succeed him. <mark>Guy's appointment to regency was meant to be permanent.</mark> <mark>Baldwin retained only the royal title and authority over the city of Jerusalem, but he had Guy swear that, while Baldwin lived, he would not make himself king or alienate parts of the royal demesne.</mark> Fearing discontent among his barons, Baldwin had failed to give Guy any experience in military leadership prior to making him regent. Indeed, the great lords of the kingdom, the independent rulers of Antioch and Tripoli, and the grand masters of the military orders refused to cooperate with Guy. Baldwin recovered unexpectedly and returned to Jerusalem. Having found that coastal climate suited his health, Baldwin offered Jerusalem to Guy in exchange for Tyre. Guy brusquely refused, possibly because Tyre was more lucrative, leaving Baldwin gravely insulted. <mark>The wedding of Baldwin's half-sister, Isabella, and Humphrey IV of Toron was celebrated in Kerak in late 1183.</mark> <mark>Saladin attacked during the festivities and laid siege to the castle, hoping to capture the king's half-sister and her husband.</mark> <mark>The retired king had gathered a council in Jerusalem to inform him about the government of the kingdom when news about the siege reached him.</mark> <mark>He immediately dismissed Guy from regency and resumed power, as the defense of such a vital fortress and the king's half-sister within it could not be entrusted to the man who had proven unable to command the troops.</mark> <mark>Guy's removal from regency was effectively disinheritance; at the council's insistence, deliberations about the succession followed.</mark> <mark>The proposal of the king's mother that Sibylla's five-year-old son, Baldwin, be made co-king was accepted, and the boy was crowned on 20 November.</mark> In late November, Baldwin IV ordered the lighting of a beacon on the Tower of David, which may have been the first in a chain of such beacons, in order to hearten the defenders of the intensely bombarded Kerak. Baldwin accompanied his troops again, but having become blind and immobile, this time he went in a litter slung between two horses. His presence was essential to unite the discordant barons. Even his humiliated brother-in-law led his men. <mark>Warned by his scouts about the king's approach and concerned about having left Egypt unguarded, Saladin abandoned the siege on 4 December.</mark> Baldwin entered Kerak triumphantly. The question of regency for his nephew troubled Baldwin. The only way to ensure that Guy could not claim it was to have his marriage to Sibylla annulled. Baldwin discussed this with the patriarch, Heraclius. Baldwin may have intended to claim that he had forced Sibylla to marry Guy and that the marriage was unlawful because of that. <mark>Sibylla's unwavering loyalty to Guy thwarted his plans, as the couple refused to appear at court.</mark> Early in 1184, Baldwin ordered Guy to attend him as vassal in Jerusalem. Guy declined, citing poor health, and this was repeated several times. Baldwin then had himself carried to Ascalon in the company of the High Court. Guy refused to let him into the city. <mark>From the battlements and towers the inhabitants witnessed the king ceremoniously knocking and demanding admission.</mark> He was welcomed in Jaffa, where he installed a governor, thereby depriving Guy of half of his county. <mark>In Acre, Baldwin summoned his council, probably to discuss the seizure of Guy's fief.</mark> The patriarch and the grand masters begged Baldwin to forgive Guy in order to avoid a civil war. <mark>This was as unacceptable to Baldwin as it would have been to any contemporary king.</mark> The patriarch and the grand masters stormed out of the council, swaying the rest of the assembly to withhold support for the action. Baldwin was reconciled with the patriarch and the grand masters by June, when he sent them to Europe on a diplomatic mission to seek aid for the kingdom, and informed them by letter that Saladin was once more besieging Kerak. <mark>Again, Saladin abandoned the siege when the litter-bound king approached with his army.</mark> Once in Kerak, Baldwin ordered and financed the reparations of the damaged castle. <mark>In late 1184, Baldwin was shocked to learn about Guy's massacre of the Beduin of the royal fief of Darum, who were under royal protection and who provided information about the Egyptians' movements.</mark> He soon developed a fever. When he returned to Jerusalem in late 1184 or early 1185, Baldwin bestowed regency on Raymond of Tripoli, the man whom he had never trusted, but to whom he could find no better alternative. At the time he expected to survive the illness, having done so twice before, but within weeks it became apparent that it would be his last. On his deathbed he summoned the High Court to appoint a permanent regent for his nephew, Baldwin V, and Raymond was chosen. <mark>The dying king then ordered that homage be rendered to his nephew as king and to Raymond as regent, to be followed by a solemn crown-wearing ceremony at the Church of the Holy Sepulchre.</mark> <mark>Baldwin died, attended by his vassals, in March 1185 or before 16 May 1185 at the latest, when his nephew is recorded as the sole king.</mark> He was buried in the Church of the Holy Sepulchre, close to his father, King Amalric. His tomb would remain untouched along with the other royal tombs of the kingdom until 1809–1810, when they were destroyed by the Othodox greeks, as said tombs layed in their section of the Church of the Holy Sepulchre. <mark>[106][107] It is unclear if the remains of those kings were exhumed; some researchers hypothesize that some of them may still be in unmarked pits under the church's pavement.</mark> [108]\n",
       "\n",
       "The young Baldwin V died the next year. <mark>Sibylla, who succeeded her son, made Guy king.</mark> <mark>Baldwin IV's realm was destroyed by Saladin following his decisive victory over Guy at the Horns of Hattin in 1187.</mark> Sibylla and their daughters died in 1190, leaving Isabella I as the heir to the defeated kingdom. <mark>Christian defeat at Hattin two years after Baldwin's death marred the king's legacy, with historians tracing fatal discord to Baldwin's reign.</mark> Yet, while Baldwin was on the throne, the kingdom lost no territory and flourished economically and spiritually. <mark>Baldwin understood the importance of curbing Saladin's power, which was reflected in his choice of ministers.</mark> He did not devise strategy or diplomacy alone, and delegated Church patronage and finances to his mother, Agnes, and uncle, Joscelin, respectively. His chief contribution was his determination not to abdicate before finding a suitable successor, despite leprosy making government an unbearable burden. As was clear during his reign and especially in its disastrous aftermath, Baldwin alone preserved unity in the kingdom. Contemporary Christian theologians were divided on the issue of leprosy. Pope Alexander III showed little sympathy when writing about Baldwin, declaring leprosy a \"just judgement of God\", but another school of thought encouraged the faithful to see Christ in the affected. <mark>Baldwin's reign may have led to a lesser stigmatization of the illness in the 13th-century Kingdom of Jerusalem.</mark> His subjects' acceptance of his illness confounded Muslims. <mark>Imad ad-Din al-Isfahani wrote:\n",
       "\n",
       "Baldwin's public image may have been aided by his chastity, seen as evidence of extraordinary sanctity, and his success against Saladin was interpreted as a sign of God's favour.</mark> After the disastrous Seventh Crusade, a crusader was told by an old man in Damascus:\n",
       "\n",
       "Along his perceived sanctity, Baldwin was primarily a knight, both in character and in upbringing, and to contemporaries his most distinctive traits were his courage and honourableness. <mark>• Kingdom of Heaven – film portraying King Baldwin (played by Edward Norton) as a fragile but courageous young king who mostly remains secluded in his palace and wears a silver mask to hide his leprosy, although he is shown leading his troops on horseback.</mark> There are no historical accounts of Baldwin actually wearing a mask to hide his leprosy. • None Hamilton, Bernard (2000). The Leper King and His Heirs: Baldwin IV and the Crusader Kingdom of Jerusalem. Cambridge University Press. ISBN . • None Mitchell, Piers D. (2000). \"An evaluation of the leprosy of King Baldwin IV of Jerusalem in the context of the medieval world\". The Leper King and His Heirs: Baldwin IV and the Crusader Kingdom of Jerusalem. By Hamilton, Bernard. Cambridge University Press. pp. 245–258. ISBN . • None Riley-Smith, Jonathan (1973). The feudal nobility and the kingdom of Jerusalem, 1147–1277. Macmillan. • None Runciman, Steven (1952). A History of the Crusades: The Kingdom of Jerusalem and the Frankish East, 1100–1187. Vol. 2. Cambridge University Press. ISBN . "
      ],
      "text/plain": [
       "<IPython.core.display.HTML object>"
      ]
     },
     "metadata": {},
     "output_type": "display_data"
    }
   ],
   "source": [
    "visualize(article.title,sentence_list,best_sentences)"
   ]
  },
  {
   "cell_type": "markdown",
   "metadata": {},
   "source": [
    "### Summarizing multiple texts"
   ]
  },
  {
   "cell_type": "code",
   "execution_count": 76,
   "metadata": {},
   "outputs": [],
   "source": [
    "article_list = ['https://en.wikipedia.org/wiki/Balian_of_Ibelin',\n",
    "                'https://en.wikipedia.org/wiki/Baldwin_IV_of_Jerusalem',\n",
    "                'https://en.wikipedia.org/wiki/Saladin']"
   ]
  },
  {
   "cell_type": "code",
   "execution_count": 82,
   "metadata": {},
   "outputs": [
    {
     "data": {
      "text/html": [
       "<h1>Summary - Balian of Ibelin - Wikipedia</h1>"
      ],
      "text/plain": [
       "<IPython.core.display.HTML object>"
      ]
     },
     "metadata": {},
     "output_type": "display_data"
    },
    {
     "data": {
      "text/html": [
       "  <mark>12th-century nobleman in the Kingdom of Jerusalem\n",
       "\n",
       "Balian of Ibelin (French: Balian d'Ibelin; 1143–1193), also known as Barisan the Younger, was a crusader noble of the Kingdom of Jerusalem in the 12th century.</mark> He was lord of Ibelin from 1170 to 1193. <mark>As the leader of the defense of the city during the siege of Jerusalem in 1187, he surrendered Jerusalem to Saladin on 2 October 1187.</mark> <mark>[1]\n",
       "\n",
       "Balian was the youngest son of Barisan of Ibelin, and brother of Hugh and Baldwin.</mark> His father, a knight in the County of Jaffa, had been rewarded with the lordship of Ibelin after the revolt of Hugh II of Le Puiset. Barisan married Helvis of Ramla, heiress of the wealthy lordship of Ramla. <mark>Balian's name was also Barisan, but he seems to have adapted the name to the Old French \"Balian\" c. 1175–76; he is sometimes known as Balian the Younger or Balian II when his father is also referred to as Balian.</mark> He is also called Balian of Ramla or Balian of Nablus. In Latin his name appears variously as Balian, Barisan, Barisanus, Balianus, Balisan, and Balisanus. <mark>Arabic sources call him Balian ibn Barzan which translates \"Balian, son of Barzan.\"</mark> <mark>His precise year of birth is unknown, but he was of the age of majority (usually 15) by 1158, when he first appears in charters, having been described as under-age (\"infra annos\") in 1156.</mark> <mark>After the death of Balian's eldest brother Hugh c. 1169, the castle of Ibelin passed to the next brother, Baldwin.</mark> Baldwin, preferring to remain lord of Ramla, gave it to Balian. <mark>Balian held Ibelin as a vassal of his brother, and indirectly as a rear-vassal of the king, from whom Baldwin held Ramla.</mark> Baldwin supported Raymond III of Tripoli over Miles of Plancy as regent for King Baldwin IV in 1174, and in 1177 the brothers were present at the Battle of Montgisard, leading the vanguard victoriously against the strongest point of the Muslim line. <mark>That year Balian also married Maria Comnena, widow of King Amalric I, becoming stepfather to Amalric's younger daughter Isabella.</mark> He received the lordship of Nablus, which had been a dower gift to Maria following her marriage to Amalric. <mark>In 1179, Baldwin of Ramla was captured by Saladin after the Battle of Jacob's Ford, and Balian helped arrange for his ransom and release the next year; the ransom was eventually paid by Byzantine emperor Manuel I Comnenus, Maria's great-uncle.</mark> <mark>In 1183 Balian and Baldwin supported Raymond against Guy of Lusignan, husband of Amalric's elder daughter Sibylla and by now regent for Baldwin IV, who was dying of leprosy.</mark> The king had his 5-year-old nephew Baldwin of Montferrat crowned as co-king in his own lifetime, in an attempt to prevent Guy from ascending. Shortly before his death in spring 1185, Baldwin IV ordered a formal crown-wearing by his nephew at the Church of the Holy Sepulchre. <mark>It was Balian himself—a notably tall man—who carried the child Baldwin V on his shoulder at the ceremony, signifying the support of Isabella's family for her nephew.</mark> Soon after, the eight-year-old boy became sole king. <mark>When he, too, died in 1186, Balian and Maria, with Raymond's support, put forward Maria's daughter Isabella, then about 14, as a candidate for the throne.</mark> However, her husband, Humphrey IV of Toron, refused the crown and swore fealty to Guy. <mark>Balian reluctantly also paid homage to Guy, while his brother refused to do so and exiled himself to Antioch.</mark> <mark>Baldwin placed Balian in charge of raising his son Thomas, the future lord of Ramla, who did not go with his father to Antioch.</mark> Balian remained in the kingdom, as an advisor to Guy. <mark>At the end of 1186, Saladin, the sultan of Egypt and Damascus, threatened the borders of the kingdom after Guy's ally Raynald of Châtillon, Lord of Oultrejordain, had attacked a Muslim caravan.</mark> <mark>Saladin was allied with the garrison of Tiberias in the north of the kingdom, a territory held by Raymond III.</mark> <mark>Guy gathered his army at Nazareth, planning to besiege Tiberias, but Balian disagreed with this, and instead suggested that Guy send an emissary to Raymond in Tripoli, hoping the two could be reconciled before Guy made a foolish attack on Saladin's larger army.</mark> <mark>The first embassy was a failure and the situation remained unchanged throughout the early months of 1187.</mark> After Easter of that year, Balian, Gerard of Ridefort (Grand Master of the Knights Templar), Roger de Moulins (Grand Master of the Knights Hospitaller), Reginald of Sidon, and Joscius, Archbishop of Tyre were sent on a new embassy to Tripoli. <mark>During the journey they stopped at Balian's fief of Nablus, and Balian planned to remain behind briefly while the others went ahead.</mark> <mark>On May 1, the Templars and Hospitallers were defeated by Saladin's son al-Afdal at the Battle of Cresson; Balian was still a day behind, and had also stopped at Sebastea to celebrate a feast day.</mark> <mark>After reaching the castle of La Fève, where the Templars and Hospitallers had camped, he found that the place was deserted, and soon heard news of the disastrous battle from the few survivors.</mark> Raymond heard about the battle as well and met the embassy at Tiberias, and agreed to accompany them back to Jerusalem. <mark>Since al-Afdal's army had been allowed to enter the kingdom through their alliance with Raymond, the count now regretted his actions and reconciled with Guy.</mark> Guy marched north and camped at Sephoria, but insisted on marching the army across a dry and barren plain to relieve Tiberias. <mark>The army had no water and was constantly harassed by Saladin's troops, and was finally surrounded at the Horns of Hattin outside Tiberias early in July.</mark> In the Battle of Hattin that followed on July 4, Balian and Joscelin III of Edessa commanded the rearguard, but the crusader army was completely defeated. <mark>The anonymous text, De Expugnatione Terrae Sanctae per Saladinum Libellus claims that Balian, Raymond and Reginald of Sidon fled the field in the middle of the battle, trampling \"the Christians, the Turks and the Cross\" in the process—but this is not corroborated by other accounts, and likely reflects the author's hostility to the Poleins (a European born in the Levant).</mark> <mark>The defeat led to a changing of the guard in Jerusalem: King Guy was taken prisoner, and nearly every town and castle soon fell to Saladin.</mark> Balian, Raymond, Reginald, and Payen of Haifa were among the few leading nobles who managed to escape to Tyre. Raymond and Reginald soon left to attend to the defence of their own territories, and Tyre came under the leadership of Conrad of Montferrat, who had arrived not long after Hattin. Balian was to become one of his closest allies. Leaving Tyre, Balian asked Saladin for permission to return through the lines to Jerusalem to escort his wife and their children to Tripoli. <mark>Saladin allowed this, provided that Balian leave the city and take an oath to never raise arms against him.</mark> <mark>When Balian and his small group of knights arrived in the city, the inhabitants begged them to stay, and Balian was absolved of his oath to Saladin by Patriarch Eraclius, who argued that the greater need of Christendom was stronger than his oath to a non-Christian.</mark> <mark>Balian was recruited to lead the defense of the city, but he found that there were under fourteen, possibly as few as two, other knights there, so he created 60 new knights from the ranks of the burgesses.</mark> <mark>Queen Sibylla seems to have played little part in the defence, and oaths were taken to Balian as lord.</mark> With Eraclius, he prepared for the inevitable siege by storing food and money. <mark>Saladin indeed began the siege of Jerusalem on 20 September 1187, after he had conquered almost all of the rest of the kingdom, including Ibelin, Nablus, Ramla, and Ascalon.</mark> <mark>The sultan felt no ill-will to Balian for breaking his oath, and arranged for an escort to accompany Maria and their children to Tripoli.</mark> <mark>As the highest ranking lord remaining in Jerusalem, Balian, as Ibn al-Athir wrote, was seen by the Muslims as holding a rank \"more or less equal to that of a king.\"</mark> Saladin was able to knock down portions of the walls, but was unable to gain entrance to the city. <mark>Balian then rode out to meet with the sultan, to report to him that the defenders would rather kill each other and destroy the city than see it taken by force.</mark> <mark>After negotiations, it was decided that the city would be handed over peacefully, and that Saladin would free seven thousand men for 30,000 bezants; two women or ten children would be permitted to take the place of one man for the same price.</mark> Balian handed over the keys to the Tower of David (the citadel) on October 2. There was a 50-day period for the payment of ransoms. <mark>Those who could not pay for their freedom were forced into slavery; Saladin freed some of them, however, and allowed for an orderly march away from Jerusalem, preventing the sort of massacre that had occurred when the Crusaders captured the city in 1099.</mark> Balian and Patriarch Eraclius had offered themselves as hostages for the ransoming of the remaining Frankish citizens, but Saladin had refused. The ransomed inhabitants marched away in three columns. <mark>Balian and the Patriarch led the third, which was the last to leave the city, probably around November 20.</mark> Balian joined his wife and children in Tripoli. <mark>Balian as king-maker, and the Third Crusade\n",
       "\n",
       "The fall of Jerusalem, and the death of Sibylla at the Siege of Acre in 1190, led to a dispute over the throne of the kingdom.</mark> <mark>Balian's stepdaughter Isabella was now rightful queen, but Guy refused to concede his title, and Isabella's husband Humphrey—who had let her cause down in 1186—remained loyal to him.</mark> <mark>If Isabella were to succeed, she needed a politically acceptable and militarily competent husband, the obvious candidate being Conrad of Montferrat, who also had some claim as Baldwin V's paternal uncle.</mark> Balian and Maria seized Isabella and talked her into agreeing to a divorce. <mark>There were precedents: the annulment of Amalric I's marriage to Agnes of Courtenay, and the unsuccessful attempts to force Sibylla to divorce Guy.</mark> <mark>Isabella's marriage was annulled by Ubaldo Lanfranchi, Archbishop of Pisa, who was Papal legate, and Philip of Dreux, Bishop of Beauvais.</mark> <mark>The Bishop of Beauvais then married her to Conrad (controversially, since his brother had been married to her half-sister and it was uncertain whether he had been divorced by his Byzantine wife).</mark> <mark>The succession dispute was prolonged by the arrival of Richard I of England and Philip II of France on the Third Crusade: Richard supported Guy, as a Poitevin vassal, while Philip supported Conrad, his late father's cousin.</mark> <mark>Balian and Maria's role in Isabella's divorce and their support for Conrad as king earned them the bitter hatred of Richard and his supporters.</mark> <mark>Ambroise, who wrote a poetic account of the crusade, called Balian \"more false than a goblin\" and said he \"should be hunted with dogs\".</mark> <mark>The anonymous author of the Itinerarium Peregrinorum et Gesta Regis Ricardi wrote that Balian was a member of a \"council of consummate iniquity\" around Conrad, accused him of taking Conrad's bribes, and said of Maria and Balian as a couple:\n",
       "\n",
       "On 28 April 1192, only days after his kingship was confirmed by election, Conrad was assassinated in Tyre.</mark> <mark>It is said that one of the two assassins responsible had entered Balian's household in Tyre some months previously, pretending to be a servant, in order to stalk his victim; the other may have similarly infiltrated Reginald of Sidon's or Conrad's own household.</mark> Richard was widely suspected of involvement in the murder. Isabella, who was expecting her first child (Maria of Montferrat), married Henry II of Champagne only a week later. <mark>Balian became one of Henry's advisors, and later that year (along with William of Tiberias), he commanded the rearguard of Richard's army at the Battle of Jaffa of 1192.</mark> Later, he helped negotiate the Treaty of Jaffa in 1192 between Richard and Saladin, essentially ending the crusade. <mark>Under this treaty, Ibelin remained under Saladin's control, but many sites along the coast which had been reconquered during the crusade were allowed to remain in Christian hands.</mark> After Richard departed, Saladin compensated Balian with the castle of Caymont and five other nearby sites, all outside Acre. Balian died in 1193, in his early fifties. <mark>With Maria Komnene he had four children:\n",
       "• Helvis of Ibelin, who married (1) Reginald of Sidon; (2) Guy of Montfort.</mark> • John of Ibelin, Lord of Beirut and constable of Jerusalem, and regent for his niece Maria of Montferrat, Queen of Jerusalem. He married (1) Helvis of Nephin; (2) Melisende of Arsuf. <mark>• Margaret, who married (1) Hugh II of Saint Omer (stepson of Raymond III of Tripoli); (2) Walter III of Cæsarea.</mark> <mark>• Philip of Ibelin, Regent of Cyprus, who married Alice of Montbéliard, and sired John of Ibelin, Count of Jaffa and Ascalon\n",
       "\n",
       "Balian's squire Ernoul, who was with him on the embassy to Tripoli in 1187, wrote parts of the Old French continuation of the Latin chronicle of William of Tyre (William had died in 1186, before the fall of Jerusalem).</mark> <mark>Although this family of manuscripts now often bears his name, his account survives in only fragments within it, mainly for the period 1186–88, with a heavy bias in favour of the Ibelin family.</mark> Balian became a common name in the Ibelin family in the 13th century. <mark>Balian, lord of Beirut, son of John and grandson of the above Balian, succeeded his father as lord of Beirut in 1236.</mark> <mark>Balian of Beirut's brother, also named John, had a son named Balian; this Balian was lord of Arsuf and married Plaisance of Antioch.</mark> <mark>The name also passed into the family of the Greniers of Sidon, since Balian's daughter Helvis and Reginald of Sidon named their son Balian.</mark> <mark>A highly fictionalized version of Balian, played by English actor Orlando Bloom, is the protagonist of Ridley Scott's 2005 film Kingdom of Heaven.</mark> • De Expugnatione Terrae Sanctae per Saladinum, translated by James A. Brundage, in The Crusades: A Documentary Survey. Marquette University Press, 1962. • William of Tyre, A History of Deeds Done Beyond the Sea. E. A. Babcock and A. C. Krey, trans. Columbia University Press, 1943. • Ambroise, The History of the Holy War, translated by Marianne Ailes. Boydell Press, 2003. • Chronicle of the Third Crusade, a Translation of Itinerarium Peregrinorum et Gesta Regis Ricardi, translated by Helen J. Nicholson. Ashgate, 1997. • Peter W. Edbury , The Conquest of Jerusalem and the Third Crusade: Sources in Translation. Ashgate, 1996. • Peter W. Edbury, John of Ibelin and the Kingdom of Jerusalem. Boydell Press, 1997. <mark>• H. E. Mayer, \"Carving Up Crusaders: The Early Ibelins and Ramlas\", in Outremer: Studies in the history of the Crusading Kingdom of Jerusalem presented to Joshua Prawer.</mark> Yad Izhak Ben-Zvi Institute, 1982. • None Pirie-Gordon, H. (1912). \"The Reigning Princes of Galilee\". The English Historical Review. Oxford Academic. XXVII (CVII, July): 445–461. doi:10.1093/ehr/XXVII.CVII.445. • None Runciman, Steven (1952). A History of the Crusades, Volume II: The Kingdom of Jerusalem and the Frankish East. Cambridge: Cambridge University Press. "
      ],
      "text/plain": [
       "<IPython.core.display.HTML object>"
      ]
     },
     "metadata": {},
     "output_type": "display_data"
    },
    {
     "data": {
      "text/html": [
       "<h1>Summary - Baldwin IV of Jerusalem - Wikipedia</h1>"
      ],
      "text/plain": [
       "<IPython.core.display.HTML object>"
      ]
     },
     "metadata": {},
     "output_type": "display_data"
    },
    {
     "data": {
      "text/html": [
       "  Baldwin IV (French: Baudouin; 1161–1185), called the Leper King, was King of Jerusalem from 1174 until his death in 1185. <mark>He was admired by his contemporaries and later historians for his willpower and dedication to the Latin kingdom in the face of debilitating leprosy, which eventually left him blind and unable to use either his hands or his feet.</mark> Choosing competent advisers, Baldwin ruled a thriving realm and succeeded in protecting it from the Ayyubid Muslim ruler Saladin. <mark>Baldwin developed the first symptoms of his leprosy as a child but was only diagnosed after his accession on the death of his father, King Amalric.</mark> Thereafter his hands and face became increasingly disfigured. <mark>Count Raymond III of Tripoli ruled the kingdom in Baldwin's name until the king reached the age of majority in 1176.</mark> As soon as he assumed government, Baldwin planned an invasion of Egypt, which fell through due to his vassals' uncooperativeness. <mark>Saladin in turn attacked Baldwin's kingdom in 1177, but the king and the nobleman Raynald of Châtillon repelled him at Montgisard, earning Baldwin fame.</mark> <mark>The young king mastered horse riding despite gradually losing sensation in his extremities and was able to fight in battles until his last years.</mark> Leprosy precluded Baldwin from marrying. He hoped to abdicate when his sister, Sibylla, married William of Montferrat in 1176, but William died the next year. In 1180, in order to forestall a coup by Count Raymond III of Tripoli and Prince Bohemond III of Antioch, Baldwin had Sibylla marry Guy of Lusignan. Guy was opposed by a large fraction of the nobility, and soon permanently impaired his relationship with Baldwin. <mark>The internal discord that followed forced Baldwin to remain king, as only he was capable of uniting the quarreling nobility.</mark> <mark>Baldwin again repelled Saladin in 1182, but leprosy rendered him blind and unable to walk or use his hands in 1183.</mark> <mark>He disinherited Guy and had Sibylla's son, Baldwin V, crowned co-king before having himself taken in a litter to lift Saladin's siege of Kerak.</mark> <mark>Baldwin failed to have Sibylla's marriage to Guy annulled and Guy's fief of Ascalon confiscated.</mark> <mark>In early 1185, he arranged for Raymond to rule as regent for Sibylla's son and died before 16 May.</mark> Baldwin was born in mid-1161. His parents were Amalric, then the count of Jaffa and Ascalon, and Agnes of Courtenay. <mark>Baldwin's godfather was his paternal uncle, King Baldwin III, who joked that his christening present was the Kingdom of Jerusalem.</mark> <mark>The king was then young and recently married, so a nephew's accession seemed unlikely, but he died childless in 1163.</mark> <mark>Amalric was his heir, but the nobles of the kingdom were strongly opposed to Amalric's wife, Agnes; they were likely threatened by the prospect of her increased influence.</mark> <mark>The High Court forced Amalric to agree to an annulment of his marriage on the grounds of consanguinity in order to be accepted as king.</mark> <mark>Amalric succeeded in having his and Agnes's children, Sibylla and Baldwin, declared legitimate despite the annulment.</mark> Baldwin grew up without a mother, who soon married the nobleman Hugh of Ibelin and only saw Baldwin on public occasions. He also seldom saw his sister, Sibylla, who was raised in the Convent of Saint Lazarus by their grandaunt Ioveta. At the age of six Baldwin gained a stepmother, Maria Komnene, with whom he was not close. The queen was an ambitious woman who likely saw Baldwin as an obstacle to her own children. The Kingdom of Jerusalem and other crusader states were ruled by Franks, French-speaking Catholics who had arrived in the Levant from Western Europe and remained Western in culture. Amalric ensured that Baldwin, as the heir apparent, received a good education. The nine-year-old prince was sent to live with William of Tyre, a sophisticated and well-traveled cleric who was famed for his learning. William noticed that, unlike other children in the playground, Baldwin did not cry when pinched by his peers. After a while it became apparent to the tutor that Baldwin could feel no pain in his right arm. <mark>The king hired Arabs to treat Baldwin and to teach him horse riding, an essential skill for a Frankish nobleman.</mark> <mark>Having sensation in only one hand, Baldwin needed to learn to control the horse in battle using solely his knees, and mastered riding despite the handicap.</mark> Leprosy was suspected, but there were no visible symptoms yet and physicians hesitated to diagnose because of the stigma the boy would face. <mark>Had the diagnosis been made when he was a child, Baldwin might have been required by law to enter the Order of St Lazarus, a military order composed of affected knights and serjeants.</mark> As an adolescent, Baldwin was precocious, determined, and optimistic in the face of his illness. He took after his father in good looks, body shape, and manner of walking and expressing himself. Baldwin was a quick learner, but he stuttered. He enjoyed listening to stories and history lessons. <mark>His tutor, William, remarked on Baldwin's excellent memory, stating that he forgot neither kindness nor slights done to him by others.</mark> <mark>Amalric attempted to have Sibylla marry the French Count Stephen I of Sancerre, who would rule the kingdom as regent on Baldwin's behalf if Amalric died early.</mark> <mark>When physicians informed him that Baldwin could develop leprosy, Amalric may have begun viewing Sibylla and Stephen as eventual monarchs instead of Baldwin, but the match fell through.</mark> <mark>In June 1174, the king came down with dysentery.</mark> He died on 11 July, leaving an underage heir, as he had feared might happen. <mark>Upon Amalric's death, the High Court convened to discuss the succession.</mark> Though he had not yet been diagnosed, the High Court must have been aware of the royal physicians' suspicions that Baldwin had contracted leprosy. Yet there was no viable alternative. <mark>Baldwin was the king's only son; from his second marriage Amalric had two daughters, of which only Isabella survived infancy.</mark> Female succession was expressly allowed, but Sibylla was an unmarried adolescent and Isabella only two years old. <mark>The male candidates, Amalric's cousins Prince Bohemond III of Antioch, Baldwin of Antioch, and Count Raymond III of Tripoli, were politically unsuitable: Bohemond was bound to distant Antioch, Baldwin in the service of Byzantine Emperor Manuel I Komnenos, and Raymond virtually a stranger to the barons.</mark> After three days of deliberations, Baldwin IV was chosen, with the expectation that a husband would be found for Sibylla to succeed him if he proved to be affected. <mark>The young king's coronation by the Latin patriarch of Jerusalem, Amalric of Nesle, took place immediately in the Church of the Holy Sepulchre.</mark> <mark>Medieval rulers were normally crowned on Sundays, but in Baldwin's case 15 July 1174 was chosen instead because it was the 75th anniversary of the First Crusade's seizure of Jerusalem.</mark> Until he reached the age of majority, which was 15 in the Kingdom of Jerusalem, Baldwin needed a regent to rule in his name. The government was initially assumed by the seneschal, Miles of Plancy. <mark>Shortly thereafter Count Raymond III of Tripoli arrived in Jerusalem and succeeded in claiming regency as the king's closest kinsman.</mark> Miles was murdered while trying to extend his hold on the government. <mark>No new seneschal was appointed for two years, and so the young and sickly king presided over burdensome High Court meetings when the regent was away on military duties or in Tripoli.</mark> <mark>Baldwin's mother, Agnes, returned to court when Raymond became regent.</mark> <mark>She is frequently accused by historians of exploiting her son's condition for self-gain, but the contemporary sources, including Baldwin's tutor, William of Tyre, are biased against her.</mark> <mark>Having grown up without her since the age of two, Baldwin IV had no memories of his mother, but she became devotedly kind to him and he developed a strong attachment to her.</mark> <mark>During the regency it became clear that the king was indeed affected by leprosy.</mark> It is not clear from whom he caught it, but it must have been someone with whom he spent a lot of time and who did not exhibit easily visible symptoms. Puberty may have accelerated the development of the lepromatous form of the illness. His condition worsened rapidly. Most severely affected were his limbs and face, which made his subjects uneasy when they approached him. Yet, contrary to the common practice and to the surprise of Muslim observers, Baldwin was never segregated. As a leper, Baldwin could not marry or expect to have children. <mark>It thus became a priority to arrange a marriage for Baldwin's sister and heir presumptive, Sibylla.</mark> <mark>Raymond's choice was William of Montferrat, son of Margrave William V of Montferrat in Piedmont, Italy, and cousin of both the Holy Roman Emperor Frederick Barbarossa and King Louis VII of France.</mark> <mark>On the second anniversary of his coronation, 15 July 1176, Baldwin reached the age of majority and Raymond's regency lapsed.</mark> <mark>At the suggestion of his mother, the king appointed his loyal and capable maternal uncle, Joscelin of Courtenay, to the office of seneschal and arranged for him to marry a rich heiress, Agnes of Milly.</mark> The change in government signalled a new Frankish approach to the Egyptian ruler Saladin, who had been allowed by Raymond to encircle the crusader states by conquering Muslim principalities in Syria. <mark>Baldwin did not ratify Raymond's peace treaty with Saladin, firmly agreeing with Joscelin that the sultan's power needed to be curbed.</mark> <mark>As soon as he took over the government, Baldwin began planning a full-scale attack on Egypt with his advisers.</mark> <mark>The king took advantage of Saladin's campaign in Aleppo to lead a raid around Damascus.</mark> This was his first experience of warfare. <mark>Despite having use of only one hand, he refused to delegate his military duties and took part in fighting.</mark> <mark>He and his advisers then decided to intervene in Saladin's war against the Order of Assassins.</mark> On 1 August, Baldwin and Raymond led the armies of Jerusalem and Tripoli, respectively, in a raid of the Beqaa Valley (modern-day Lebanon), where they defeated the garrison of Damascus, forcing Saladin to abandon his campaign. <mark>William of Montferrat married Baldwin's sister, Sibylla, in November 1176 despite misgivings of the nobles who no longer trusted his cousin Emperor Frederick's ability to aid the kingdom.</mark> Baldwin offered to resign the throne to William according to Sicard of Cremona; if he did, William declined because he knew he lacked the support of the nobility. In order to carry out his attack on Egypt, Baldwin needed naval support. <mark>He thus sent Raynald of Châtillon to lead an embassy to Emperor Manuel, Raynald's stepson-in-law, in Constantinople in the winter of 1176–77.</mark> <mark>Manuel agreed to take part in the invasion in return for the establishment of Byzantine protectorate over the kingdom and restoration of the Orthodox patriarch, Leontius II, in Jerusalem.</mark> <mark>As Raynald's mission was successful, Baldwin consented to his marriage with the lady of Oultrejordain, Stephanie of Milly.</mark> <mark>In April 1177, William of Monferrat fell sick with malaria in Ascalon, of which he had been made count on his marriage to the king's sister.</mark> Baldwin visited him and became gravely ill too. William died in June, leaving Sibylla pregnant and incapacitated Baldwin without a deputy ahead of a major war offensive. <mark>The king entrusted the government and military command to Raynald, snubbing the count of Tripoli.</mark> <mark>Baldwin's first cousin Count Philip I of Flanders arrived in the East in September.</mark> He brought to Baldwin financial aid from another cousin, King Henry II of England. Henry was invested because he and Baldwin both belonged to the Angevin family. <mark>Still in sickbed in Ascalon, the king had himself taken back to Jerusalem in a litter and convened a general council, on the advice of which he offered regency to Philip.</mark> Philip declined, and Raynald retained his post. <mark>The Byzantines sent a war fleet in preparation of the invasion of Egypt, but to Baldwin's regret, they withdrew due to uncooperativeness of Philip of Flanders, Bohemond of Antioch, Raymond of Tripoli, and the grand master of the Knights Hospitaller, Roger de Moulins.</mark> <mark>Saladin's power remained unchecked, and the Byzantine alliance collapsed.</mark> <mark>Despite the hostility of the Latin patriarch, Amalric of Nesle, Baldwin continued to court the Greek patriarch, Leontius, in hopes that the Byzantines would remain committed to his kingdom.</mark> Philip left the Kingdom of Jerusalem with his troops in late October 1177 to help Raymond of Tripoli attack the Muslim-held city of Hama. <mark>With the Frankish army in northern Syria, Saladin seized the opportunity to invade Baldwin's kingdom on 18 November.</mark> Though still recovering from malaria, Baldwin rode to meet the sultan, while the Knights Templar hurried to defend Gaza. <mark>The king took his humble host to Ascalon, where in desperation he issued an arrière-ban, summoning all able-bodied men.</mark> Saladin reached Ascalon on 22 November and Baldwin led the troops out to meet him. <mark>Seeing how drastically outnumbered he was, the king retreated into the city.</mark> Saladin too saw the strength in his numbers and confidently proceeded towards Jerusalem. Baldwin managed to contact the Templars, however, and ordered them to abandon Gaza and join him. <mark>Contrary to the sultan's expectation, Baldwin and Raynald then rode out of Ascalon, joined up with the Templars, and attacked his dispersed army at Montgisard.</mark> <mark>The young king was in the forefront.</mark> Saladin, who barely survived, suffered a crushing defeat. Not having enough men to launch an offensive on the retreating Muslims, Baldwin decided to fortify the Damascene frontier. The Templars convinced him to build a castle, Le Chastellet, on the upper River Jordan; he was reluctant because the Franks had promised not to mark that part of the border. <mark>After protests of local Muslims, Saladin offered money to Baldwin in exchange for aborting the construction, but the king refused.</mark> In 1178, Baldwin hosted the patriarch of the Syriac Orthodox Church, Michael the Syrian, in Jerusalem and won his lasting loyalty to Frankish cause. In April 1179, Baldwin intended to round up the sheep passing from Damascus to Banias. <mark>Saladin's nephew Farrukh Shah was sent to investigate the king's movement but suddenly ran into him, and a skirmish followed.</mark> <mark>The elderly but exceptionally able constable, Humphrey II of Toron, sustained fatal wounds while protecting the king.</mark> <mark>Weeks later Baldwin rode out to intercept Beduin raids of Beirut and Sidon, and in June Saladin's raiding party routed Baldwin's.</mark> <mark>The king was unhorsed and carried to safety on a knight's back because he could not remount on his own.</mark> <mark>In late August, Baldwin summoned a host to Tiberias to respond to Saladin's siege of Le Chastellet, but the castle fell before the relic of the True Cross could be fetched from Jerusalem to accompany the Christian troops.</mark> <mark>In the winter of 1177–78, the king's widowed sister, Sibylla, gave birth to a son, Baldwin, named after the king.</mark> <mark>A year of official mourning for the child's father, William, concluded in June 1178, and it became appropriate to seek another husband for her.</mark> <mark>Baldwin of Ibelin's suit was well known, but not entertained.</mark> <mark>In order to avoid antagonizing the Ibelins, however, Baldwin had allowed Balian of Ibelin to marry the king's stepmother, Queen Maria, in late 1177.</mark> In July 1178, King Baldwin began associating Sibylla with him in some public acts, thereby acknowledging her as next in line to the throne. <mark>He began contemplating her marriage to Duke Hugh III of Burgundy, and wrote to the king of France: \"To be deprived of the use of one's limbs is of little help to one in carrying out the work of government ...</mark> <mark>It is not fitting that a hand so weak as mine should hold power when fear of Arab aggression daily presses upon the Holy City and when my sickness increases the enemy's daring.\"</mark> During the Holy Week in 1180, the prince of Antioch and the count of Tripoli marched with their armies to Jerusalem. <mark>It is most likely that their intention was to force the king to have Sibylla marry Baldwin of Ibelin and to then abdicate.</mark> <mark>The king had never approved of Baldwin's ambition to marry his sister, and though he did wish to abdicate, he was not keen on having terms forced on him.</mark> <mark>Baldwin acted decisively before his kinsmen's armies reached Jerusalem: he arranged for Sibylla to marry a Poitevin knight, Guy of Lusignan.</mark> Raymond and Bohemond had no option but to accept the fait accompli, and the coup was foiled. <mark>Baldwin had hoped to abdicate, but was prevented by deep divisions within his court that emerged following Sibylla's marriage to Guy.</mark> He proposed a two-year truce with Saladin, who was glad to accept in order to campaign freely in northern Syria. <mark>Baldwin sent his uncle and chief minister, Joscelin, to assure the Byzantine court that Jerusalem still needed their protection.</mark> <mark>During Joscelin's absence, from mid-1180 to mid-1181, the full burden of government fell on the shoulders of the king, whose health was deteriorating.</mark> He relied chiefly on his mother in this period. <mark>To secure Guy's position and prevent the emergence of an alternative claimant, Baldwin had his 8-year-old half-sister, Isabella, solemnly betrothed to the teenaged lord of Toron, Humphrey IV, in October 1180.</mark> <mark>Isabella was then sent to live at Kerak Castle with the lady of Oultrejourdain, Humphrey's mother, as far as possible from her maternal kin and potential conspirators.</mark> <mark>By the terms of the marriage contract, Humphrey ceded Toron to Baldwin, who thus prevented the union of two great fiefs under one vassal and strengthened his position against the count of Tripoli.</mark> Baldwin made use of the truce with Saladin to strengthen the position of his maternal kin, granting Maron and Chastelneuf to Joscelin and usufruct of Toron to Agnes, while associating Guy and Sibylla with him in public acts. <mark>He remained unreconciled with Raymond, however, and forbade the count to enter the kingdom in early 1182 due to suspicions of another conspiracy.</mark> Baldwin likely intended to charge Raymond with treason and deprive him of the Principality of Galilee, a fief of Jerusalem held by Raymond through marriage to Eschiva of Bures. <mark>The law prevented the king from seizing the fief without the assent of the High Court, and the High Court urged the king to reconcile with Raymond.</mark> <mark>The king reluctantly heeded his vassals' advice.</mark> <mark>Baldwin's truce with Saladin was due to expire in May 1182, but was broken in mid-1181 by Raynald, who seized a merchant caravan on its way from Egypt to Damascus.</mark> <mark>Raynald ignored the king's request to make restitution to Saladin, who was then preparing to annex the Zengid-ruled Aleppo.</mark> <mark>The king, who consistently acted against Saladin's attempts to expand into northern Syria, decided to oppose him.</mark> The recent anti-Catholic coup in Constantinople gave Saladin confidence to attack the Kingdom of Jerusalem. In July, Baldwin marched with his host to relieve the Muslims' siege of Bethsan, and his outnumbered army won the Battle of Le Forbelet. Historian Bernard Hamilton attributes the victory to the respect and loyalty commanded by Baldwin, who stayed on the battlefield despite his illness and intense heat. <mark>The defeated sultan took his host to besiege Beirut, while another army from Egypt attacked the south of the kingdom.</mark> Baldwin knew that he was being provoked into dividing his forces. Deciding that Beirut was of a greater strategic importance, he ignored the southern attack and moved with his troops to Tyre. <mark>From there he procured assistance from the Italian maritime republics in lifting Saladin's naval blockade of Beirut.</mark> Saladin abandoned the siege, but declined to make a truce, worrying Baldwin and his advisers. <mark>He proceeded north to fight the Zengids, thereby expanding his realm, while Baldwin led an attack on Saladin's Damascene territory, then on Bosra, before finally laying siege and capturing Cave de Sueth.</mark> In the winter of 1182–3, after agreeing on a strategy with his council, Baldwin attacked Damascus again. He threatened to destroy a mosque in Darayya, but local Christians convinced him not to for fear of losing their churches in retaliation. Baldwin could not walk unsupported or use his hands from 1183. Due to an inability to blink, his cornea dried and he became blind. <mark>He nevertheless had to summon his troops in response to Saladin's march south following the Egyptian conquest of Aleppo in June.</mark> <mark>The king then developed a life-threatening fever.</mark> He was attended by his mother and the new patriarch, Heraclius, at nearby Nazareth. Having summoned the High Court to his bedside, Baldwin entrusted the government to his brother-in-law, Guy, who was next in line to succeed him. <mark>Guy's appointment to regency was meant to be permanent.</mark> <mark>Baldwin retained only the royal title and authority over the city of Jerusalem, but he had Guy swear that, while Baldwin lived, he would not make himself king or alienate parts of the royal demesne.</mark> Fearing discontent among his barons, Baldwin had failed to give Guy any experience in military leadership prior to making him regent. <mark>Indeed, the great lords of the kingdom, the independent rulers of Antioch and Tripoli, and the grand masters of the military orders refused to cooperate with Guy.</mark> Baldwin recovered unexpectedly and returned to Jerusalem. Having found that coastal climate suited his health, Baldwin offered Jerusalem to Guy in exchange for Tyre. Guy brusquely refused, possibly because Tyre was more lucrative, leaving Baldwin gravely insulted. <mark>The wedding of Baldwin's half-sister, Isabella, and Humphrey IV of Toron was celebrated in Kerak in late 1183.</mark> <mark>Saladin attacked during the festivities and laid siege to the castle, hoping to capture the king's half-sister and her husband.</mark> <mark>The retired king had gathered a council in Jerusalem to inform him about the government of the kingdom when news about the siege reached him.</mark> <mark>He immediately dismissed Guy from regency and resumed power, as the defense of such a vital fortress and the king's half-sister within it could not be entrusted to the man who had proven unable to command the troops.</mark> <mark>Guy's removal from regency was effectively disinheritance; at the council's insistence, deliberations about the succession followed.</mark> <mark>The proposal of the king's mother that Sibylla's five-year-old son, Baldwin, be made co-king was accepted, and the boy was crowned on 20 November.</mark> <mark>In late November, Baldwin IV ordered the lighting of a beacon on the Tower of David, which may have been the first in a chain of such beacons, in order to hearten the defenders of the intensely bombarded Kerak.</mark> Baldwin accompanied his troops again, but having become blind and immobile, this time he went in a litter slung between two horses. His presence was essential to unite the discordant barons. Even his humiliated brother-in-law led his men. <mark>Warned by his scouts about the king's approach and concerned about having left Egypt unguarded, Saladin abandoned the siege on 4 December.</mark> Baldwin entered Kerak triumphantly. The question of regency for his nephew troubled Baldwin. The only way to ensure that Guy could not claim it was to have his marriage to Sibylla annulled. Baldwin discussed this with the patriarch, Heraclius. <mark>Baldwin may have intended to claim that he had forced Sibylla to marry Guy and that the marriage was unlawful because of that.</mark> <mark>Sibylla's unwavering loyalty to Guy thwarted his plans, as the couple refused to appear at court.</mark> Early in 1184, Baldwin ordered Guy to attend him as vassal in Jerusalem. Guy declined, citing poor health, and this was repeated several times. Baldwin then had himself carried to Ascalon in the company of the High Court. Guy refused to let him into the city. <mark>From the battlements and towers the inhabitants witnessed the king ceremoniously knocking and demanding admission.</mark> He was welcomed in Jaffa, where he installed a governor, thereby depriving Guy of half of his county. <mark>In Acre, Baldwin summoned his council, probably to discuss the seizure of Guy's fief.</mark> The patriarch and the grand masters begged Baldwin to forgive Guy in order to avoid a civil war. <mark>This was as unacceptable to Baldwin as it would have been to any contemporary king.</mark> The patriarch and the grand masters stormed out of the council, swaying the rest of the assembly to withhold support for the action. <mark>Baldwin was reconciled with the patriarch and the grand masters by June, when he sent them to Europe on a diplomatic mission to seek aid for the kingdom, and informed them by letter that Saladin was once more besieging Kerak.</mark> <mark>Again, Saladin abandoned the siege when the litter-bound king approached with his army.</mark> Once in Kerak, Baldwin ordered and financed the reparations of the damaged castle. <mark>In late 1184, Baldwin was shocked to learn about Guy's massacre of the Beduin of the royal fief of Darum, who were under royal protection and who provided information about the Egyptians' movements.</mark> He soon developed a fever. <mark>When he returned to Jerusalem in late 1184 or early 1185, Baldwin bestowed regency on Raymond of Tripoli, the man whom he had never trusted, but to whom he could find no better alternative.</mark> <mark>At the time he expected to survive the illness, having done so twice before, but within weeks it became apparent that it would be his last.</mark> On his deathbed he summoned the High Court to appoint a permanent regent for his nephew, Baldwin V, and Raymond was chosen. <mark>The dying king then ordered that homage be rendered to his nephew as king and to Raymond as regent, to be followed by a solemn crown-wearing ceremony at the Church of the Holy Sepulchre.</mark> <mark>Baldwin died, attended by his vassals, in March 1185 or before 16 May 1185 at the latest, when his nephew is recorded as the sole king.</mark> He was buried in the Church of the Holy Sepulchre, close to his father, King Amalric. <mark>His tomb would remain untouched along with the other royal tombs of the kingdom until 1809–1810, when they were destroyed by the Othodox greeks, as said tombs layed in their section of the Church of the Holy Sepulchre.</mark> <mark>[106][107] It is unclear if the remains of those kings were exhumed; some researchers hypothesize that some of them may still be in unmarked pits under the church's pavement.</mark> [108]\n",
       "\n",
       "The young Baldwin V died the next year. <mark>Sibylla, who succeeded her son, made Guy king.</mark> <mark>Baldwin IV's realm was destroyed by Saladin following his decisive victory over Guy at the Horns of Hattin in 1187.</mark> <mark>Sibylla and their daughters died in 1190, leaving Isabella I as the heir to the defeated kingdom.</mark> <mark>Christian defeat at Hattin two years after Baldwin's death marred the king's legacy, with historians tracing fatal discord to Baldwin's reign.</mark> Yet, while Baldwin was on the throne, the kingdom lost no territory and flourished economically and spiritually. <mark>Baldwin understood the importance of curbing Saladin's power, which was reflected in his choice of ministers.</mark> He did not devise strategy or diplomacy alone, and delegated Church patronage and finances to his mother, Agnes, and uncle, Joscelin, respectively. <mark>His chief contribution was his determination not to abdicate before finding a suitable successor, despite leprosy making government an unbearable burden.</mark> <mark>As was clear during his reign and especially in its disastrous aftermath, Baldwin alone preserved unity in the kingdom.</mark> Contemporary Christian theologians were divided on the issue of leprosy. <mark>Pope Alexander III showed little sympathy when writing about Baldwin, declaring leprosy a \"just judgement of God\", but another school of thought encouraged the faithful to see Christ in the affected.</mark> <mark>Baldwin's reign may have led to a lesser stigmatization of the illness in the 13th-century Kingdom of Jerusalem.</mark> His subjects' acceptance of his illness confounded Muslims. <mark>Imad ad-Din al-Isfahani wrote:\n",
       "\n",
       "Baldwin's public image may have been aided by his chastity, seen as evidence of extraordinary sanctity, and his success against Saladin was interpreted as a sign of God's favour.</mark> After the disastrous Seventh Crusade, a crusader was told by an old man in Damascus:\n",
       "\n",
       "Along his perceived sanctity, Baldwin was primarily a knight, both in character and in upbringing, and to contemporaries his most distinctive traits were his courage and honourableness. <mark>• Kingdom of Heaven – film portraying King Baldwin (played by Edward Norton) as a fragile but courageous young king who mostly remains secluded in his palace and wears a silver mask to hide his leprosy, although he is shown leading his troops on horseback.</mark> There are no historical accounts of Baldwin actually wearing a mask to hide his leprosy. • None Hamilton, Bernard (2000). The Leper King and His Heirs: Baldwin IV and the Crusader Kingdom of Jerusalem. Cambridge University Press. ISBN . • None Mitchell, Piers D. (2000). \"An evaluation of the leprosy of King Baldwin IV of Jerusalem in the context of the medieval world\". The Leper King and His Heirs: Baldwin IV and the Crusader Kingdom of Jerusalem. By Hamilton, Bernard. Cambridge University Press. pp. 245–258. ISBN . • None Riley-Smith, Jonathan (1973). The feudal nobility and the kingdom of Jerusalem, 1147–1277. Macmillan. • None Runciman, Steven (1952). A History of the Crusades: The Kingdom of Jerusalem and the Frankish East, 1100–1187. Vol. 2. Cambridge University Press. ISBN . "
      ],
      "text/plain": [
       "<IPython.core.display.HTML object>"
      ]
     },
     "metadata": {},
     "output_type": "display_data"
    },
    {
     "data": {
      "text/html": [
       "<h1>Summary - Saladin - Wikipedia</h1>"
      ],
      "text/plain": [
       "<IPython.core.display.HTML object>"
      ]
     },
     "metadata": {},
     "output_type": "display_data"
    },
    {
     "data": {
      "text/html": [
       "  <mark>Salah al-Din Yusuf ibn Ayyub ( 1137 – 4 March 1193),[a] commonly known as Saladin ( 'Honour of the Faith'),[b] was the founder of the Ayyubid dynasty.</mark> Hailing from a Kurdish family, he was the first sultan of both Egypt and Syria. An important figure of the Third Crusade, he spearheaded the Muslim military effort against the Crusader states in the Levant. At the height of his power, the Ayyubid realm spanned Egypt, Syria, Upper Mesopotamia, the Hejaz, Yemen, and Nubia. Alongside his uncle Shirkuh, a general of the Zengid dynasty, Saladin was sent to Egypt under the Fatimid Caliphate in 1164, on the orders of Nur al-Din. <mark>With their original purpose being to help restore Shawar as the vizier to the teenage Fatimid caliph al-Adid, a power struggle ensued between Shirkuh and Shawar after the latter was reinstated.</mark> Saladin, meanwhile, climbed the ranks of the Fatimid government by virtue of his military successes against Crusader assaults as well as his personal closeness to al-Adid. After Shawar was assassinated and Shirkuh died in 1169, al-Adid appointed Saladin as vizier. <mark>During his tenure, Saladin, a Sunni Muslim, began to undermine the Fatimid establishment; following al-Adid's death in 1171, he abolished the Cairo-based Isma'ili Shia Muslim Fatimid Caliphate and realigned Egypt with the Baghdad-based Sunni Abbasid Caliphate.</mark> In the following years, he led forays against the Crusaders in Palestine, commissioned the successful conquest of Yemen, and staved off pro-Fatimid rebellions in Egypt. <mark>Not long after Nur al-Din's death in 1174, Saladin launched his conquest of Syria, peacefully entering Damascus at the request of its governor.</mark> <mark>By mid-1175, Saladin had conquered Hama and Homs, inviting the animosity of other Zengid lords, who were the official rulers of Syria's principalities; he subsequently defeated the Zengids at the Battle of the Horns of Hama in 1175, and was thereafter proclaimed the 'Sultan of Egypt and Syria' by the Abbasid caliph al-Mustadi.</mark> Saladin launched further conquests in northern Syria and Upper Mesopotamia, escaping two attempts on his life by the Assassins, before returning to Egypt in 1177 to address local issues there. By 1182, Saladin had completed the conquest of Islamic Syria after capturing Aleppo, but failed to take over the Zengid stronghold of Mosul. <mark>Under Saladin's command, the Ayyubid army defeated the Crusaders at the decisive Battle of Hattin in 1187, capturing Jerusalem and re-establishing Muslim military dominance in the Levant.</mark> <mark>Although the Crusaders' Kingdom of Jerusalem persisted until the late 13th century, the defeat in 1187 marked a turning point in the Christian military effort against Muslim powers in the region.</mark> Saladin died in Damascus in 1193, having given away much of his personal wealth to his subjects; he is buried in a mausoleum adjacent to the Umayyad Mosque. Alongside his significance to Muslim culture, Saladin is revered prominently in Kurdish, Turkic, and Arab culture. He has frequently been described as the most famous Kurdish figure in history. Saladin was born in Tikrit in present-day Iraq. <mark>His personal name was \"Yusuf\"; \"Salah ad-Din\" is a laqab, an honorific epithet, meaning \"Righteousness of the Faith\".</mark> <mark>[3] His family was most likely of Kurdish ancestry,[4][6][7][8] and had originated from the village of Ajdanakan near the city of Dvin in central Armenia.</mark> The Rawadiya tribe he hailed from had been partially assimilated into the Arabic-speaking world by this time. <mark>In Saladin's era, no scholar had more influence than sheikh Abdul Qadir Gilani, and Saladin was strongly influenced and aided by him and his pupils.</mark> <mark>[12][13] In 1132, the defeated army of Zengi, Atabeg of Mosul, found their retreat blocked by the Tigris River opposite the fortress of Tikrit, where Saladin's father, Najm ad-Din Ayyub served as the warden.</mark> <mark>Ayyub provided ferries for the army and gave them refuge in Tikrit.</mark> <mark>Mujahid al-Din Bihruz, a former Greek slave who had been appointed as the military governor of northern Mesopotamia for his service to the Seljuks, reprimanded Ayyub for giving Zengi refuge and in 1137 banished Ayyub from Tikrit after his brother Asad al-Din Shirkuh killed a friend of Bihruz.</mark> According to Baha ad-Din ibn Shaddad, Saladin was born on the same night that his family left Tikrit. In 1139, Ayyub and his family moved to Mosul, where Imad ad-Din Zengi acknowledged his debt and appointed Ayyub commander of his fortress in Baalbek. After the death of Zengi in 1146, his son, Nur ad-Din, became the regent of Aleppo and the leader of the Zengids. <mark>Saladin, who now lived in Damascus, was reported to have a particular fondness for the city, but information on his early childhood is scarce.</mark> <mark>About education, Saladin wrote \"children are brought up in the way in which their elders were brought up\".</mark> According to his biographers, Anne-Marie Eddé and al-Wahrani, Saladin was able to answer questions on Euclid, the Almagest, arithmetic, and law, but this was an academic ideal. <mark>It was his knowledge of the Qur'an and the \"sciences of religion\" that linked him to his contemporaries; several sources claim that during his studies he was more interested in religious studies than joining the military.</mark> [17] Another factor which may have affected his interest in religion was that, during the First Crusade, Jerusalem was taken by the Christians. [17] In addition to Islam, Saladin had a knowledge of the genealogies, biographies, and histories of the Arabs, as well as the bloodlines of Arabian horses. More significantly, he knew the Hamasah of Abu Tammam by heart. He spoke Kurdish and Arabic and knew Turkish and Persian. <mark>According to Baha ad-Din ibn Shaddad (one of Saladin's contemporary biographers), Saladin was a pious Muslim—he loved hearing Quran recitals, prayed punctually, and \"hated the philosophers, those that denied God's attributes, the materialists and those who stubbornly rejected the Holy Law.</mark> <mark>\"[20] He was also a supporter of Sufism and a patron of khanqahs (Sufi hostels) in Egypt and Syria, in addition to madrasas that provided orthodox Sunni teachings.</mark> [21][20] Above all else he was a devotee of jihad:[22]\n",
       "\n",
       "In 1174, Saladin ordered the arrest of a Sufi mystic, Qadid al-Qaffas (Arabic: قديد القفاص), in Alexandria. [20] In 1191, he ordered his son to execute the Sufi philosopher Yahya al-Suhrawardi, the founder of the Illuminationist current in Islamic philosophy, in Aleppo. <mark>Ibn Shaddad, who describes this event as part of his chapter on the sultan's piety, states that Al-Suhrawardi was said to have \"rejected the Holy Law and declared it invalid.\"</mark> <mark>After consulting with some of the ulama (religious scholars), Saladin ordered al-Suhrawardi's execution.</mark> [20] Saladin also opposed the Order of Assassins, an extremist Isma'ili Shi'i sect in Iran and Syria, seeing them as heretics and as being too close with the Crusaders. [20]\n",
       "\n",
       "Saladin welcomed Asiatic Sufis to Egypt and he and his followers founded and endowed many khanqahs and zawiyas of which al-Maqrizi gives a long list. <mark>[23] But it is not yet clear what Saladin's interests in the khanqah actually were and why he specifically wanted Sufis from outside Egypt.</mark> The answers to these questions lie in the kinds of Sufis he wished to attract. <mark>In addition to requiring that the Sufis come from outside Egypt, the waqfiyya seems to have specified that they be of a very particular type:[24]\n",
       "\n",
       "Saladin's military career began under the tutelage of his paternal uncle Asad al-Din Shirkuh, a prominent military commander under Nur ad-Din, the Zengid emir of Damascus and Aleppo and the most influential teacher of Saladin.</mark> In 1163, the vizier to the Fatimid caliph al-Adid, Shawar, had been driven out of Egypt by his rival Dirgham, a member of the powerful Banu Ruzzaik tribe. <mark>He asked for military backing from Nur ad-Din, who complied and, in 1164, sent Shirkuh to aid Shawar in his expedition against Dirgham.</mark> Saladin, at age 26, went along with them. <mark>After Shawar was successfully reinstated as vizier, he demanded that Shirkuh withdraw his army from Egypt for a sum of 30,000 gold dinars, but he refused, insisting it was Nur ad-Din's will that he remain.</mark> <mark>Saladin's role in this expedition was minor, and it is known that he was ordered by Shirkuh to collect stores from Bilbais prior to its siege by a combined force of Crusaders and Shawar's troops.</mark> <mark>After the sacking of Bilbais, the Crusader-Egyptian force and Shirkuh's army were to engage in the Battle of al-Babein on the desert border of the Nile, just west of Giza.</mark> <mark>Saladin played a major role, commanding the right-wing of the Zengid army, while a force of Kurds commanded the left, and Shirkuh was stationed in the centre.</mark> <mark>Muslim sources at the time, however, put Saladin in the \"baggage of the centre\" with orders to lure the enemy into a trap by staging a feigned retreat.</mark> <mark>The Crusader force enjoyed early success against Shirkuh's troops, but the terrain was too steep and sandy for their horses, and commander Hugh of Caesarea was captured while attacking Saladin's unit.</mark> <mark>After scattered fighting in little valleys to the south of the main position, the Zengid central force returned to the offensive; Saladin joined in from the rear.</mark> <mark>The battle ended in a Zengid victory, and Saladin is credited with having helped Shirkuh in one of the \"most remarkable victories in recorded history\", according to Ibn al-Athir, although more of Shirkuh's men were killed and the battle is considered by most sources as not a total victory.</mark> Saladin and Shirkuh moved towards Alexandria where they were welcomed, given money and arms, and provided a base. <mark>Faced by a superior Crusader–Egyptian force attempting to besiege the city, Shirkuh split his army.</mark> <mark>He and the bulk of his force withdrew from Alexandria, while Saladin was left with the task of guarding the city.</mark> <mark>Shirkuh was in a power struggle over Egypt with Shawar and Amalric I of Jerusalem in which Shawar requested Amalric's assistance.</mark> In 1169, Shawar was reportedly assassinated by Saladin, and Shirkuh died later that year. Following his death, a number of candidates were considered for the role of vizier to al-Adid, most of whom were ethnic Kurds. <mark>Their ethnic solidarity came to shape the Ayyubid family's actions in their political career.</mark> Saladin and his close associates were wary of Turkish influence. <mark>On one occasion Isa al-Hakkari, a Kurdish lieutenant of Saladin, urged a candidate for the viziership, Emir Qutb al-Din al-Hadhbani, to step aside by arguing that \"both you and Saladin are Kurds and you will not let the power pass into the hands of the Turks\".</mark> [31] Nur ad-Din chose a successor for Shirkuh, but al-Adid appointed Saladin to replace Shawar as vizier. <mark>The reasoning behind the Shia caliph al-Adid's selection of Saladin, a Sunni, varies.</mark> <mark>Ibn al-Athir claims that the caliph chose him after being told by his advisers that \"there is no one weaker or younger\" than Saladin, and \"not one of the emirs [commanders] obeyed him or served him\".</mark> However, according to this version, after some bargaining, he was eventually accepted by the majority of the emirs. <mark>Al-Adid's advisers were also suspected of promoting Saladin in an attempt to split the Syria-based Zengids.</mark> <mark>Al-Wahrani wrote that Saladin was selected because of the reputation of his family in their \"generosity and military prowess\".</mark> <mark>Imad ad-Din wrote that after the brief mourning period for Shirkuh, during which \"opinions differed\", the Zengid emirs decided upon Saladin and forced the caliph to \"invest him as vizier\".</mark> <mark>Although positions were complicated by rival Muslim leaders, the bulk of the Syrian commanders supported Saladin because of his role in the Egyptian expedition, in which he gained a record of military qualifications.</mark> <mark>Inaugurated as vizier on 26 March, Saladin repented \"wine-drinking and turned from frivolity to assume the dress of religion\", according to Arabic sources of the time.</mark> Having gained more power and independence than ever before in his career, he still faced the issue of ultimate loyalty between al-Adid and Nur ad-Din. <mark>Later in the year, a group of Egyptian soldiers and emirs attempted to assassinate Saladin, but having already known of their intentions thanks to his intelligence chief Ali ibn Safyan, he had the chief conspirator, Naji, Mu'tamin al-Khilafa—the civilian controller of the Fatimid Palace—arrested and killed.</mark> <mark>The day after, 50,000 Black African soldiers from the regiments of the Fatimid army opposed to Saladin's rule, along with Egyptian emirs and commoners, staged a revolt.</mark> By 23 August, Saladin had decisively quelled the uprising, and never again had to face a military challenge from Cairo. <mark>Towards the end of 1169, Saladin, with reinforcements from Nur ad-Din, defeated a massive Crusader-Byzantine force near Damietta.</mark> <mark>Afterwards, in the spring of 1170, Nur ad-Din sent Saladin's father to Egypt in compliance with Saladin's request, as well as encouragement from the Baghdad-based Abbasid caliph, al-Mustanjid, who aimed to pressure Saladin in deposing his rival caliph, al-Ad.</mark> Saladin himself had been strengthening his hold on Egypt and widening his support base there. <mark>He began granting his family members high-ranking positions in the region; he ordered the construction of a college for the Maliki branch of Sunni Islam in the city, as well as one for the Shafi'i denomination to which he belonged in al-Fustat.</mark> After establishing himself in Egypt, Saladin launched a campaign against the Crusaders, besieging Darum in 1170. <mark>Amalric withdrew his Templar garrison from Gaza to assist him in defending Darum, but Saladin evaded their force and captured Gaza in 1187.</mark> In 1191 Saladin destroyed the fortifications in Gaza built by King Baldwin III for the Knights Templar. It is unclear exactly when, but during that same year, he attacked and captured the Crusader castle of Eilat, built on an island off the head of the Gulf of Aqaba. It did not pose a threat to the passage of the Muslim navy but could harass smaller parties of Muslim ships, and Saladin decided to clear it from his path. <mark>According to Imad ad-Din, Nur ad-Din wrote to Saladin in June 1171, telling him to reestablish the Abbasid caliphate in Egypt, which Saladin coordinated two months later after additional encouragement by Najm ad-Din al-Khabushani, the Shafi'i faqih, who vehemently opposed Shia rule in the country.</mark> Several Egyptian emirs were thus killed, but al-Adid was told that they were killed for rebelling against him. <mark>He then fell ill or was poisoned according to one account.</mark> <mark>While ill, he asked Saladin to pay him a visit to request that he take care of his young children, but Saladin refused, fearing treachery against the Abbasids, and is said to have regretted his action after realizing what al-Adid had wanted.</mark> <mark>He died on 13 September, and five days later, the Abbasid khutba was pronounced in Cairo and al-Fustat, proclaiming al-Mustadi as caliph.</mark> <mark>On 25 September, Saladin left Cairo to take part in a joint attack on Kerak and Montréal, the desert castles of the Kingdom of Jerusalem, with Nur ad-Din who would attack from Syria.</mark> <mark>Prior to arriving at Montreal, Saladin however withdrew back to Cairo as he received the reports that in his absence the Crusader leaders had increased their support to the traitors inside Egypt to attack Saladin from within and lessen his power, especially the Fatimid who started plotting to restore their past glory.</mark> Because of this, Nur ad-Din went on alone. <mark>[42]\n",
       "\n",
       "During the summer of 1173, a Nubian army along with a contingent of Armenian former Fatimid troops were reported on the Egyptian border, preparing for a siege against Aswan.</mark> <mark>The emir of the city had requested Saladin's assistance and was given reinforcements under Turan-Shah, Saladin's brother.</mark> Consequently, the Nubians departed; but returned in 1173 and were again driven off. <mark>This time, Egyptian forces advanced from Aswan and captured the Nubian town of Ibrim.</mark> <mark>Saladin sent a gift to Nur ad-Din, who had been his friend and teacher, 60,000 dinars, \"wonderful manufactured goods\", some jewels, and an elephant.</mark> While transporting these goods to Damascus, Saladin took the opportunity to ravage the Crusader countryside. <mark>He did not press an attack against the desert castles but attempted to drive out the Muslim Bedouins who lived in Crusader territory with the aim of depriving the Franks of guides.</mark> <mark>On 31 July 1173, Saladin's father Ayyub was wounded in a horse-riding accident, ultimately causing his death on 9 August.</mark> In 1174, Saladin sent Turan-Shah to conquer Yemen to allocate it and its port Aden to the territories of the Ayyubid Dynasty. <mark>In the early summer of 1174, Nur ad-Din was mustering an army, sending summons to Mosul, Diyar Bakr, and the Jazira in an apparent preparation of an attack against Saladin's Egypt.</mark> <mark>The Ayyubids held a council upon the revelation of these preparations to discuss the possible threat and Saladin collected his own troops outside Cairo.</mark> On 15 May, Nur ad-Din died after falling ill the previous week and his power was handed to his eleven-year-old son as-Salih Ismail al-Malik. <mark>His death left Saladin with political independence and in a letter to as-Salih, he promised to \"act as a sword\" against his enemies and referred to the death of his father as an \"earthquake shock\".</mark> <mark>In the wake of Nur ad-Din's death, Saladin faced a difficult decision; he could move his army against the Crusaders from Egypt or wait until invited by as-Salih in Syria to come to his aid and launch a war from there.</mark> <mark>He could also take it upon himself to annex Syria before it could possibly fall into the hands of a rival, but he feared that attacking a land that formerly belonged to his master—forbidden in the Islamic principles in which he believed—could portray him as hypocritical, thus making him unsuitable for leading the war against the Crusaders.</mark> Saladin saw that in order to acquire Syria, he needed either an invitation from as-Salih or to warn him that potential anarchy could give rise to danger from the Crusaders. <mark>When as-Salih was removed to Aleppo in August, Gumushtigin, the emir of the city and a captain of Nur ad-Din's veterans assumed guardianship over him.</mark> The emir prepared to unseat all his rivals in Syria and the Jazira, beginning with Damascus. <mark>In this emergency, the emir of Damascus appealed to Saif al-Din of Mosul (a cousin of Gumushtigin) for assistance against Aleppo, but he refused, forcing the Syrians to request the aid of Saladin, who complied.</mark> Saladin rode across the desert with 700 picked horsemen, passing through al-Kerak then reaching Bosra. <mark>According to his own account, was joined by \"emirs, soldiers, and Bedouins—the emotions of their hearts to be seen on their faces.\"</mark> <mark>On 23 November, he arrived in Damascus amid general acclamation and rested at his father's old home there, until the gates of the Citadel of Damascus, whose commander Raihan initially refused to surrender, were opened to Saladin four days later, after a brief siege by his brother Tughtakin ibn Ayyub.</mark> He installed himself in the castle and received the homage and salutations of the inhabitants. <mark>Leaving his brother Tughtakin ibn Ayyub as Governor of Damascus, Saladin proceeded to reduce other cities that had belonged to Nur al-Din, but were now practically independent.</mark> <mark>His army conquered Hama with relative ease, but avoided attacking Homs because of the strength of its citadel.</mark> Saladin moved north towards Aleppo, besieging it on 30 December after Gumushtigin refused to abdicate his throne. <mark>As-Salih, fearing capture by Saladin, came out of his palace and appealed to the inhabitants not to surrender him and the city to the invading force.</mark> <mark>One of Saladin's chroniclers claimed \"the people came under his spell\".</mark> Gumushtigin requested Rashid ad-Din Sinan, chief da'i of the Assassins of Syria, who were already at odds with Saladin since he replaced the Fatimids of Egypt, to assassinate Saladin in his camp. <mark>On 11 May 1175, a group of thirteen Assassins easily gained admission into Saladin's camp, but were detected immediately before they carried out their attack by Nasih al-Din Khumartekin of Abu Qubays.</mark> <mark>One was killed by one of Saladin's generals and the others were slain while trying to escape.</mark> <mark>To deter Saladin's progress, Raymond of Tripoli gathered his forces by Nahr al-Kabir, where they were well placed for an attack on Muslim territory.</mark> <mark>Saladin later moved toward Homs instead, but retreated after being told a relief force was being sent to the city by Saif al-Din.</mark> <mark>Meanwhile, Saladin's rivals in Syria and Jazira waged a propaganda war against him, claiming he had \"forgotten his own condition [servant of Nur ad-Din]\" and showed no gratitude for his old master by besieging his son, rising \"in rebellion against his Lord\".</mark> <mark>Saladin aimed to counter this propaganda by ending the siege, claiming that he was defending Islam from the Crusaders; his army returned to Hama to engage a Crusader force there.</mark> <mark>The Crusaders withdrew beforehand and Saladin proclaimed it \"a victory opening the gates of men's hearts\".</mark> <mark>Soon after, Saladin entered Homs and captured its citadel in March 1175, after stubborn resistance from its defenders.</mark> <mark>Saladin's successes alarmed Saif al-Din.</mark> <mark>As head of the Zengids, including Gumushtigin, he regarded Syria and Mesopotamia as his family estate and was angered when Saladin attempted to usurp his dynasty's holdings.</mark> <mark>Saif al-Din mustered a large army and dispatched it to Aleppo, whose defenders anxiously had awaited them.</mark> The combined forces of Mosul and Aleppo marched against Saladin in Hama. <mark>Heavily outnumbered, Saladin initially attempted to make terms with the Zengids by abandoning all conquests north of the Damascus province, but they refused, insisting he returns to Egypt.</mark> Seeing that confrontation was unavoidable, Saladin prepared for battle, taking up a superior position at the Horns of Hama, hills by the gorge of the Orontes River. <mark>On 13 April 1175, the Zengid troops marched to attack his forces, but soon found themselves surrounded by Saladin's Ayyubid veterans, who crushed them.</mark> <mark>The battle ended in a decisive victory for Saladin, who pursued the Zengid fugitives to the gates of Aleppo, forcing as-Salih's advisers to recognize Saladin's control of the provinces of Damascus, Homs, and Hama, as well as a number of towns outside Aleppo such as Ma'arat al-Numan.</mark> After his victory against the Zengids, Saladin proclaimed himself king and suppressed the name of as-Salih in Friday prayers and Islamic coinage. <mark>From then on, he ordered prayers in all the mosques of Syria and Egypt as the sovereign king and he issued at the Cairo mint gold coins bearing his official title—al-Malik an-Nasir Yusuf Ayyub, ala ghaya \"the King Strong to Aid, Joseph son of Job; exalted be the standard.\"</mark> <mark>The Abbasid caliph in Baghdad graciously welcomed Saladin's assumption of power and declared him \"Sultan of Egypt and Syria\".</mark> The Battle of Hama did not end the contest for power between the Ayyubids and the Zengids, with the final confrontation occurring in the spring of 1176. Saladin had gathered massive reinforcements from Egypt while Saif al-Din was levying troops among the minor states of Diyarbakir and al-Jazira. When Saladin crossed the Orontes, leaving Hama, the sun was eclipsed. He viewed this as an omen, but he continued his march north. <mark>He reached the Sultan's Mound, roughly 25 km (16 mi) from Aleppo, where his forces encountered Saif al-Din's army.</mark> <mark>A hand-to-hand fight ensued and the Zengids managed to plough Saladin's left-wing, driving it before him when Saladin himself charged at the head of the Zengid guard.</mark> <mark>The Zengid forces panicked and most of Saif al-Din's officers ended up being killed or captured—Saif al-Din narrowly escaped.</mark> <mark>The Zengid army's camp, horses, baggage, tents, and stores were seized by the Ayyubids.</mark> The Zengid prisoners of war, however, were given gifts and freed. <mark>All of the booty from the Ayyubid victory was accorded to the army, Saladin not keeping anything himself.</mark> <mark>He continued towards Aleppo, which still closed its gates to him, halting before the city.</mark> <mark>On the way, his army took Buza'a and then captured Manbij.</mark> From there, they headed west to besiege the fortress of A'zaz on 15 May. <mark>Several days later, while Saladin was resting in one of his captain's tents, an Assassin rushed forward at him and struck at his head with a knife.</mark> <mark>The cap of his head armour was not penetrated and he managed to grip the Assassin's hand—the dagger only slashing his gambeson—and the assailant was soon killed.</mark> Saladin was unnerved at the attempt on his life, which he accused Gumushtugin and the Assassins of plotting, and so increased his efforts in the siege. A'zaz capitulated on 21 June, and Saladin then hurried his forces to Aleppo to punish Gumushtigin. <mark>His assaults were again resisted, but he managed to secure not only a truce, but a mutual alliance with Aleppo, in which Gumushtigin and as-Salih were allowed to continue their hold on the city, and in return, they recognized Saladin as the sovereign over all of the dominions he conquered.</mark> The emirs of Mardin and Keyfa, the Muslim allies of Aleppo, also recognised Saladin as the King of Syria. <mark>When the treaty was concluded, the younger sister of as-Salih came to Saladin and requested the return of the Fortress of A'zaz; he complied and escorted her back to the gates of Aleppo with numerous presents.</mark> <mark>Campaign against the Assassins\n",
       "\n",
       "Saladin had by now agreed to truces with his Zengid rivals and the Kingdom of Jerusalem (the latter occurred in the summer of 1175), but faced a threat from the Isma'ili sect known as the Assassins, led by Rashid ad-Din Sinan.</mark> Based in the an-Nusayriyah Mountains, they commanded nine fortresses, all built on high elevations. <mark>As soon as he dispatched the bulk of his troops to Egypt, Saladin led his army into the an-Nusayriyah range in August 1176.</mark> He retreated the same month, after laying waste to the countryside, but failing to conquer any of the forts. <mark>Most Muslim historians claim that Saladin's uncle, the governor of Hama, mediated a peace agreement between him and Sinan.</mark> Saladin had his guards supplied with link lights and had chalk and cinders strewed around his tent outside Masyaf—which he was besieging—to detect any footsteps by the Assassins. <mark>According to this version, one night Saladin's guards noticed a spark glowing down the hill of Masyaf and then vanishing among the Ayyubid tents.</mark> Presently, Saladin awoke to find a figure leaving the tent. He saw that the lamps were displaced and beside his bed laid hot scones of the shape peculiar to the Assassins with a note at the top pinned by a poisoned dagger. <mark>The note threatened that he would be killed if he did not withdraw from his assault.</mark> Saladin gave a loud cry, exclaiming that Sinan himself was the figure that had left the tent. <mark>Another version claims that Saladin hastily withdrew his troops from Masyaf because they were urgently needed to fend off a Crusader force in the vicinity of Mount Lebanon.</mark> In reality, Saladin sought to form an alliance with Sinan and his Assassins, consequently depriving the Crusaders of a potent ally against him. <mark>Viewing the expulsion of the Crusaders as a mutual benefit and priority, Saladin and Sinan maintained cooperative relations afterwards, the latter dispatching contingents of his forces to bolster Saladin's army in a number of decisive subsequent battlefronts.</mark> Return to Cairo and forays in Palestine\n",
       "\n",
       "After leaving the an-Nusayriyah Mountains, Saladin returned to Damascus and had his Syrian soldiers return home. He left Turan Shah in command of Syria and left for Egypt with only his personal followers, reaching Cairo on 22 September. Having been absent for roughly two years, he had much to organize and supervise in Egypt, namely fortifying and reconstructing Cairo. <mark>The city walls were repaired and their extensions laid out, while the construction of the Cairo Citadel was commenced.</mark> <mark>The 280 feet (85 m) deep Bir Yusuf (\"Joseph's Well\") was built on Saladin's orders.</mark> The chief public work he commissioned outside of Cairo was the large bridge at Giza, which was intended to form an outwork of defence against a potential Moorish invasion. Saladin remained in Cairo supervising its improvements, building colleges such as the Madrasa of the Sword Makers and ordering the internal administration of the country. <mark>In November 1177, he set out upon a raid into Palestine; the Crusaders had recently forayed into the territory of Damascus, so Saladin saw the truce as no longer worth preserving.</mark> <mark>The Christians sent a large portion of their army to besiege the fortress of Harim north of Aleppo, so southern Palestine bore few defenders.</mark> <mark>Saladin found the situation ripe and marched to Ascalon, which he referred to as the \"Bride of Syria\".</mark> <mark>William of Tyre recorded that the Ayyubid army consisted of 26,000 soldiers, of which 8,000 were elite forces and 18,000 were black soldiers from Sudan.</mark> <mark>This army proceeded to raid the countryside, sack Ramla and Lod, and disperse themselves as far as the Gates of Jerusalem.</mark> The Ayyubids allowed Baldwin IV of Jerusalem to enter Ascalon with his Gaza-based Knights Templar without taking any precautions against a sudden attack. Although the Crusader force consisted of only 375 knights, Saladin hesitated to ambush them because of the presence of highly skilled generals. <mark>On 25 November, while the greater part of the Ayyubid army was absent, Saladin and his men were surprised near Ramla in the battle of Montgisard (possibly at Gezer, also known as Tell Jezar).</mark> <mark>Before they could form up, the Templar force hacked the Ayyubid army down.</mark> <mark>Initially, Saladin attempted to organize his men into battle order, but as his bodyguards were being killed, he saw that defeat was inevitable and so with a small remnant of his troops mounted a swift camel, riding all the way to the territories of Egypt.</mark> Not discouraged by his defeat at Montgisard, Saladin was prepared to fight the Crusaders once again. <mark>In the spring of 1178, he was encamped under the walls of Homs, and a few skirmishes occurred between his generals and the Crusader army.</mark> <mark>His forces in Hama won a victory over their enemy and brought the spoils, together with many prisoners of war, to Saladin who ordered the captives to be beheaded for \"plundering and laying waste the lands of the Faithful\".</mark> He spent the rest of the year in Syria without a confrontation with his enemies. <mark>Saladin's intelligence services reported to him that the Crusaders were planning a raid into Syria.</mark> <mark>He ordered one of his generals, Farrukh-Shah, to guard the Damascus frontier with a thousand of his men to watch for an attack, then to retire, avoiding battle, and to light warning beacons on the hills, after which Saladin would march out.</mark> <mark>In April 1179, the Crusaders led by King Baldwin expected no resistance and waited to launch a surprise attack on Muslim herders grazing their herds and flocks east of the Golan Heights.</mark> <mark>Baldwin advanced too rashly in pursuit of Farrukh-Shah's force, which was concentrated southeast of Quneitra and was subsequently defeated by the Ayyubids.</mark> With this victory, Saladin decided to call in more troops from Egypt; he requested al-Adil to dispatch 1,500 horsemen. <mark>In the summer of 1179, King Baldwin had set up an outpost on the road to Damascus and aimed to fortify a passage over the Jordan River, known as Jacob's Ford, that commanded the approach to the Banias plain (the plain was divided by the Muslims and the Christians).</mark> Saladin had offered 100,000 gold pieces to Baldwin to abandon the project, which was particularly offensive to the Muslims, but to no avail. He then resolved to destroy the fortress, called Chastellet and defended by the Templars, moving his headquarters to Banias. <mark>As the Crusaders hurried down to attack the Muslim forces, they fell into disorder, with the infantry falling behind.</mark> <mark>Despite early success, they pursued the Muslims far enough to become scattered, and Saladin took advantage by rallying his troops and charging at the Crusaders.</mark> <mark>The engagement ended in a decisive Ayyubid victory, and many high-ranking knights were captured.</mark> Saladin then moved to besiege the fortress, which fell on 30 August 1179. In the spring of 1180, while Saladin was in the area of Safad, anxious to commence a vigorous campaign against the Kingdom of Jerusalem, King Baldwin sent messengers to him with proposals of peace. Because droughts and bad harvests hampered his commissariat, Saladin agreed to a truce. <mark>Raymond of Tripoli denounced the truce but was compelled to accept after an Ayyubid raid on his territory in May and upon the appearance of Saladin's naval fleet off the port of Tartus.</mark> <mark>In June 1180, Saladin hosted a reception for Nur al-Din Muhammad, the Artuqid emir of Keyfa, at Geuk Su, in which he presented him and his brother Abu Bakr with gifts, valued at over 100,000 dinars according to Imad al-Din.</mark> This was intended to cement an alliance with the Artuqids and to impress other emirs in Mesopotamia and Anatolia. Previously, Saladin offered to mediate relations between Nur al-Din and Kilij Arslan II—the Seljuk sultan of Rûm—after the two came into conflict. <mark>The latter demanded that Nur al-Din return the lands given to him as a dowry for marrying his daughter when he received reports that she was being abused and used to gain Seljuk territory.</mark> Nur al-Din asked Saladin to mediate the issue, but Arslan refused. <mark>After Nur al-Din and Saladin met at Geuk Su, the top Seljuk emir, Ikhtiyar al-Din al-Hasan, confirmed Arslan's submission, after which an agreement was drawn up.</mark> Saladin was later enraged when he received a message from Arslan accusing Nur al-Din of more abuses against his daughter. <mark>He threatened to attack the city of Malatya, saying, \"it is two days march for me and I shall not dismount [my horse] until I am in the city.\"</mark> Alarmed at the threat, the Seljuks pushed for negotiations. Saladin felt that Arslan was correct to care for his daughter, but Nur al-Din had taken refuge with him, and therefore he could not betray his trust. <mark>It was finally agreed that Arslan's daughter would be sent away for a year and if Nur al-Din failed to comply, Saladin would move to abandon his support for him.</mark> Leaving Farrukh-Shah in charge of Syria, Saladin returned to Cairo at the beginning of 1181. According to Abu Shama, he intended to spend the fast of Ramadan in Egypt and then make the hajj pilgrimage to Mecca in the summer. For an unknown reason, he apparently changed his plans regarding the pilgrimage and was seen inspecting the Nile River banks in June. He was again embroiled with the Bedouin; he removed two-thirds of their fiefs to use as compensation for the fief-holders at Fayyum. The Bedouin were also accused of trading with the Crusaders and, consequently, their grain was confiscated and they were forced to migrate westward. Later, Ayyubid warships were deployed against Bedouin river pirates, who were plundering the shores of Lake Tanis. <mark>In the summer of 1181, Saladin's former palace administrator Baha al-Din Qaraqush led a force to arrest Majd al-Din—a former deputy of Turan-Shah in the Yemeni town of Zabid—while he was entertaining Imad ad-Din al-Ishfahani at his estate in Cairo.</mark> <mark>Saladin's intimates accused Majd al-Din of misappropriating the revenues of Zabid, but Saladin himself believed there was no evidence to back the allegations.</mark> He had Majd al-Din released in return for a payment of 80,000 dinars. <mark>In addition, other sums were to be paid to Saladin's brothers al-Adil and Taj al-Muluk Buri.</mark> <mark>The controversial detainment of Majd al-Din was a part of the larger discontent associated with the aftermath of Turan-Shah's departure from Yemen.</mark> Although his deputies continued to send him revenues from the province, centralized authority was lacking and an internal quarrel arose between Izz al-Din Uthman of Aden and Hittan of Zabid. <mark>Saladin wrote in a letter to al-Adil: \"this Yemen is a treasure house ... We conquered it, but up to this day we have had no return and no advantage from it.</mark> There have been only innumerable expenses, the sending out of troops ... and expectations which did not produce what was hoped for in the end.\" Campaign against the Franks and War with the Zengids\n",
       "\n",
       "Saif al-Din had died earlier in June 1181 and his brother Izz al-Din inherited leadership of Mosul. On 4 December, the crown prince of the Zengids, as-Salih, died in Aleppo. Prior to his death, he had his chief officers swear an oath of loyalty to Izz al-Din, as he was the only Zengid ruler strong enough to oppose Saladin. Izz al-Din was welcomed in Aleppo, but possessing it and Mosul put too great of a strain on his abilities. He thus, handed Aleppo to his brother Imad al-Din Zangi, in exchange for Sinjar. Saladin offered no opposition to these transactions in order to respect the treaty he previously made with the Zengids. <mark>On 11 May 1182, Saladin, along with half of the Egyptian Ayyubid army and numerous non-combatants, left Cairo for Syria.</mark> <mark>On the evening before he departed, he sat with his companions and the tutor of one of his sons quoted a line of poetry: \"enjoy the scent of the ox-eye plant of Najd, for after this evening it will come no more\".</mark> Saladin took this as an evil omen and he never saw Egypt again. <mark>Knowing that Crusader forces were massed upon the frontier to intercept him, he took the desert route across the Sinai Peninsula to Ailah at the head of the Gulf of Aqaba.</mark> <mark>Meeting no opposition, Saladin ravaged the countryside of Montreal, whilst Baldwin's forces watched on, refusing to intervene.</mark> He arrived in Damascus in June to learn that Farrukh-Shah had attacked the Galilee, sacking Daburiyya and capturing Habis Jaldek, a fortress of great importance to the Crusaders. <mark>In July, Saladin led his army across the Jordan and into Galilee, where he marched south to sack Bethsan.</mark> <mark>He was met by a substantial Crusader force in an inconclusive battle near Belvoir Castle, but he was unable to destroy the Christian army and could not logistically sustain his own army any longer, so he withdrew across the river.</mark> <mark>In August, he passed through the Beqaa Valley to Beirut, where he rendezvoused with the Egyptian fleet and laid siege to the city.</mark> Failing to make any headway, he withdrew after a few days to deal with matters in Mesopotamia. Kukbary (Muzaffar ad-Din Gökböri), the emir of Harran, invited Saladin to occupy the Jazira region, making up northern Mesopotamia. He complied and the truce between him and the Zengids officially ended in September 1182. Prior to his march to Jazira, tensions had grown between the Zengid rulers of the region, primarily concerning their unwillingness to pay deference to Mosul. Before he crossed the Euphrates, Saladin besieged Aleppo for three days, signaling that the truce was over. <mark>Once he reached Bira, near the river, he was joined by Kukbary and Nur al-Din of Hisn Kayfa and the combined forces captured the cities of Jazira, one after the other.</mark> First, Edessa fell, followed by Saruj, then Raqqa, Qirqesiya and Nusaybin. Raqqa was an important crossing point and held by Qutb al-Din Inal, who had lost Manbij to Saladin in 1176. <mark>Upon seeing the large size of Saladin's army, he made little effort to resist and surrendered on the condition that he would retain his property.</mark> <mark>Saladin promptly impressed the inhabitants of the town by publishing a decree that ordered a number of taxes to be canceled and erased all mention of them from treasury records, stating \"the most miserable rulers are those whose purses are fat and their people thin\".</mark> From Raqqa, he moved to conquer al-Fudain, al-Husain, Maksim, Durain, 'Araban, and Khabur—all of which swore allegiance to him. Saladin proceeded to take Nusaybin which offered no resistance. A medium-sized town, Nusaybin was not of great importance, but it was located in a strategic position between Mardin and Mosul and within easy reach of Diyarbakir. In the midst of these victories, Saladin received word that the Crusaders were raiding the villages of Damascus. <mark>He replied, \"Let them... whilst they knock down villages, we are taking cities; when we come back, we shall have all the more strength to fight them.\"</mark> <mark>Meanwhile, in Aleppo, the emir of the city Zangi raided Saladin's cities to the north and east, such as Balis, Manbij, Saruj, Buza'a, al-Karzain.</mark> <mark>He also destroyed his own citadel at A'zaz to prevent it from being used by the Ayyubids if they were to conquer it.</mark> <mark>As Saladin approached Mosul, he faced the issue of taking over a large city and justifying the action.</mark> The Zengids of Mosul appealed to an-Nasir, the Abbasid caliph at Baghdad whose vizier favored them. An-Nasir sent Badr al-Badr (a high-ranking religious figure) to mediate between the two sides. <mark>Saladin arrived at the city on 10 November 1182.</mark> <mark>Izz al-Din would not accept his terms because he considered them disingenuous and extensive, and Saladin immediately laid siege to the heavily fortified city.</mark> <mark>After several minor skirmishes and a stalemate in the siege that was initiated by the caliph, Saladin intended to find a way to withdraw without damage to his reputation while still keeping up some military pressure.</mark> <mark>He decided to attack Sinjar, which was held by Izz al-Din's brother Sharaf al-Din.</mark> It fell after a 15-day siege on 30 December. <mark>Saladin's soldiers broke their discipline, plundering the city; Saladin managed to protect the governor and his officers only by sending them to Mosul.</mark> After establishing a garrison at Sinjar, he awaited a coalition assembled by Izz al-Din consisting of his forces, those from Aleppo, Mardin, and Armenia. <mark>Saladin and his army met the coalition at Harran in February 1183, but on hearing of his approach, the latter sent messengers to Saladin asking for peace.</mark> <mark>Each force returned to their cities and al-Fadil wrote: \"They [Izz al-Din's coalition] advanced like men, like women they vanished.</mark> <mark>\"[citation needed]\n",
       "\n",
       "On 2 March, al-Adil from Egypt wrote to Saladin that the Crusaders had struck the \"heart of Islam\".</mark> Raynald de Châtillon had sent ships to the Gulf of Aqaba to raid towns and villages off the coast of the Red Sea. It was not an attempt to extend the Crusader influence into that sea or to capture its trade routes, but merely a piratical move. Nonetheless, Imad al-Din writes the raid was alarming to the Muslims because they were not accustomed to attacks on that sea, and Ibn al-Athir adds that the inhabitants had no experience with the Crusaders either as fighters or traders. Ibn Jubair was told that sixteen Muslim ships were burnt by the Crusaders, who then captured a pilgrim ship and caravan at Aidab. <mark>He also reported that they intended to attack Medina and remove Muhammad's body.</mark> <mark>Al-Maqrizi added to the rumor by claiming Muhammad's tomb was going to be relocated to Crusader territory so Muslims would make pilgrimages there.</mark> Al-Adil had his warships moved from Fustat and Alexandria to the Red Sea under the command of an Armenian mercenary Lu'lu. They broke the Crusader blockade, destroyed most of their ships, and pursued and captured those who anchored and fled into the desert. The surviving Crusaders, numbered at 170, were ordered to be killed by Saladin in various Muslim cities. <mark>From the point of view of Saladin, in terms of territory, the war against Mosul was going well, but he still failed to achieve his objectives and his army was shrinking; Taqi al-Din took his men back to Hama, while Nasir al-Din Muhammad and his forces had left.</mark> This encouraged Izz al-Din and his allies to take the offensive. The previous coalition regrouped at Harzam some 140 km from Harran. In early April, without waiting for Nasir al-Din, Saladin and Taqi al-Din commenced their advance against the coalition, marching eastward to Ras al-Ein unhindered. <mark>By late April, after three days of \"actual fighting\", according to Saladin, the Ayyubids had captured Amid.</mark> <mark>He handed the city to Nur al-Din Muhammad together with its stores, which consisted of 80,000 candles, a tower full of arrowheads, and 1,040,000 books.</mark> <mark>In return for a diploma—granting him the city, Nur al-Din swore allegiance to Saladin, promising to follow him in every expedition in the war against the Crusaders, and repairing the damage done to the city.</mark> <mark>The fall of Amid, in addition to territory, convinced Il-Ghazi of Mardin to enter the service of Saladin, weakening Izz al-Din's coalition.</mark> <mark>Saladin attempted to gain the Caliph an-Nasir's support against Izz al-Din by sending him a letter requesting a document that would give him legal justification for taking over Mosul and its territories.</mark> <mark>Saladin aimed to persuade the caliph claiming that while he conquered Egypt and Yemen under the flag of the Abbasids, the Zengids of Mosul openly supported the Seljuks (rivals of the caliphate) and only came to the caliph when in need.</mark> <mark>He also accused Izz al-Din's forces of disrupting the Muslim \"Holy War\" against the Crusaders, stating \"they are not content not to fight, but they prevent those who can\".</mark> Saladin defended his own conduct claiming that he had come to Syria to fight the Crusaders, end the heresy of the Assassins, and stop the wrong-doing of the Muslims. <mark>He also promised that if Mosul was given to him, it would lead to the capture of Jerusalem, Constantinople, Georgia, and the lands of the Almohads in the Maghreb, \"until the word of God is supreme and the Abbasid caliphate has wiped the world clean, turning the churches into mosques\".</mark> <mark>Saladin stressed that all this would happen by the will of God, and instead of asking for financial or military support from the caliph, he would capture and give the caliph the territories of Tikrit, Daquq, Khuzestan, Kish Island, and Oman.</mark> <mark>Saladin turned his attention from Mosul to Aleppo, sending his brother Taj al-Muluk Buri to capture Tell Khalid, 130 km northeast of the city.</mark> <mark>A siege was set, but the governor of Tell Khalid surrendered upon the arrival of Saladin himself on 17 May before a siege could take place.</mark> <mark>According to Imad ad-Din, after Tell Khalid, Saladin took a detour northwards to Aintab, but he gained possession of it when his army turned towards it, allowing him to quickly move backward another c. 100 km towards Aleppo.</mark> <mark>On 21 May, he camped outside the city, positioning himself east of the Citadel of Aleppo, while his forces encircled the suburb of Banaqusa to the northeast and Bab Janan to the west.</mark> <mark>He stationed his men dangerously close to the city, hoping for an early success.</mark> Zangi did not offer long resistance. <mark>He was unpopular with his subjects and wished to return to his Sinjar, the city he governed previously.</mark> <mark>An exchange was negotiated where Zangi would hand over Aleppo to Saladin in return for the restoration of his control of Sinjar, Nusaybin, and Raqqa.</mark> <mark>Zangi would hold these territories as Saladin's vassals in terms of military service.</mark> On 12 June, Aleppo was formally placed in Ayyubid hands. <mark>The people of Aleppo had not known about these negotiations and were taken by surprise when Saladin's standard was hoisted over the citadel.</mark> Two emirs, including an old friend of Saladin, Izz al-Din Jurduk, welcomed and pledged their service to him. <mark>Saladin replaced the Hanafi courts with Shafi'i administration, despite a promise that he would not interfere in the religious leadership of the city.</mark> <mark>Although he was short of money, Saladin also allowed the departing Zangi to take all the stores of the citadel that he could travel with and to sell the remainder—which Saladin purchased himself.</mark> <mark>In spite of his earlier hesitation to go through with the exchange, he had no doubts about his success, stating that Aleppo was \"the key to the lands\" and \"this city is the eye of Syria and the citadel is its pupil\".</mark> <mark>For Saladin, the capture of the city marked the end of over eight years of waiting since he told Farrukh-Shah that \"we have only to do the milking and Aleppo will be ours\".</mark> <mark>After spending one night in Aleppo's citadel, Saladin marched to Harim, near the Crusader-held Antioch.</mark> <mark>The city was held by Surhak, a \"minor mamluk\".</mark> <mark>Saladin offered him the city of Busra and property in Damascus in exchange for Harim, but when Surhak asked for more, his own garrison in Harim forced him out.</mark> <mark>He was arrested by Saladin's deputy Taqi al-Din on allegations that he was planning to cede Harim to Bohemond III of Antioch.</mark> When Saladin received its surrender, he proceeded to arrange the defense of Harim from the Crusaders. <mark>He reported to the caliph and his own subordinates in Yemen and Baalbek that he was going to attack the Armenians.</mark> Before he could move, however, there were a number of administrative details to be settled. <mark>Saladin agreed to a truce with Bohemond in return for Muslim prisoners being held by him and then he gave A'zaz to Alam ad-Din Suleiman and Aleppo to Saif al-Din al-Yazkuj—the former was an emir of Aleppo who joined Saladin and the latter was a former mamluk of Shirkuh who helped rescue him from the assassination attempt at A'zaz.</mark> Crusader attacks provoked further responses by Saladin. Raynald of Châtillon, in particular, harassed Muslim trading and pilgrimage routes with a fleet on the Red Sea, a water route that Saladin needed to keep open. Raynald threatened to attack the holy cities of Mecca and Medina. On 29 September 1183, Saladin crossed the Jordan River to attack Beisan, which was found to be empty. <mark>The next day his forces sacked and burned the town and moved westwards.</mark> They intercepted Crusader reinforcements from Karak and Shaubak along the Nablus road and took prisoners. Meanwhile, the main Crusader force under Guy of Lusignan moved from Sepphoris to al-Fula. <mark>Saladin sent out 500 skirmishers to harass their forces, and he himself marched to Ain Jalut.</mark> When the Crusader force—reckoned to be the largest the kingdom ever produced from its own resources, but still outmatched by the Muslims—advanced, the Ayyubids unexpectedly moved down the stream of Ain Jalut. <mark>After a few Ayyubid raids—including attacks on Zir'in, Forbelet, and Mount Tabor—the Crusaders still were not tempted to attack their main force, and Saladin led his men back across the river once provisions and supplies ran low.</mark> <mark>Saladin still had to exact retribution on Raynald, so he twice besieged Kerak, Raynald's fortress in Oultrejordain.</mark> <mark>The first time was in 1183, following his unsuccessful campaign into Galilee, but a relief force caused him to withdraw.</mark> <mark>He opened his campaign of 1184 with a second siege of Kerak, hoping this time to draw the Crusader army into battle on open ground, but they outmaneuvered him and successfully relieved the fortress.</mark> <mark>Following the failure of his Kerak sieges, Saladin temporarily turned his attention back to another long-term project and resumed attacks on the territory of Izz ad-Din (Mas'ud ibn Mawdud ibn Zangi), around Mosul, which he had begun with some success in 1182.</mark> <mark>However, since then, Masʻūd had allied himself with the powerful governor of Azerbaijan and Jibal, who in 1185 began moving his troops across the Zagros Mountains, causing Saladin to hesitate in his attacks.</mark> <mark>The defenders of Mosul, when they became aware that help was on the way, increased their efforts, and Saladin subsequently fell ill, so in March 1186 a peace treaty was signed.</mark> Meanwhile, Raynald retaliated for the earlier sieges of Kerak by looting a caravan of pilgrims on the Hajj during the winter of 1186–87. <mark>According to the later 13th-century Old French Continuation of William of Tyre, Raynald captured Saladin's sister in a raid on a caravan; this claim is not attested in contemporary sources, Muslim or Frankish, however, instead stating that Raynald had attacked a preceding caravan, and Saladin set guards to ensure the safety of his sister and her son, who came to no harm.</mark> <mark>[citation needed] On hearing of the attack, Saladin vowed that he would personally slay Raynald for breaking the truce, a vow he would keep.</mark> <mark>The outrage also led Saladin to resolve to dispense with half-measures to rein in the unruly lord of Kerak, and to instead topple the entire edifice of the Christian Kingdom of Jerusalem, thus precipitating the invasion of the summer of 1187.</mark> <mark>On 4 July 1187, Saladin faced the combined forces of Guy of Lusignan, King Consort of Jerusalem, and Raymond III of Tripoli at the Battle of Hattin.</mark> <mark>In this battle alone the Crusader force was largely annihilated by Saladin's determined army.</mark> It was a major disaster for the Crusaders and a turning point in the history of the Crusades. Saladin captured Raynald and was personally responsible for his execution in retaliation for his attacks against Muslim caravans. The members of these caravans had, in vain, besought his mercy by reciting the truce between the Muslims and the Crusaders, but Raynald ignored this and insulted the Islamic prophet, Muhammad, before murdering and torturing some of them. Upon hearing this, Saladin swore an oath to personally execute Raynald. [106] Guy of Lusignan was also captured. Seeing the execution of Raynald, he feared he would be next. <mark>However, his life was spared by Saladin, who said of Raynald, \"[i]t is not the wont of kings, to kill kings; but that man had transgressed all bounds, and therefore did I treat him thus.</mark> <mark>\"[108]\n",
       "\n",
       "Saladin had captured almost every Crusader city.</mark> <mark>Saladin preferred to take Jerusalem without bloodshed and offered generous terms, but those inside refused to leave their holy city, vowing to destroy it in a fight to the death rather than see it handed over peacefully.</mark> <mark>Jerusalem capitulated to his forces on Friday, 2 October 1187, after a siege.</mark> When the siege had started, Saladin was unwilling to promise terms of quarter to the Frankish inhabitants of Jerusalem. <mark>Balian of Ibelin threatened to kill every Muslim hostage, estimated at 5,000, and to destroy Islam's holy shrines of the Dome of the Rock and the al-Aqsa Mosque if such quarter were not provided.</mark> Saladin consulted his council and the terms were accepted. The agreement was read out through the streets of Jerusalem so that everyone might within forty days provide for himself and pay to Saladin the agreed tribute for his freedom. <mark>[110] An unusually low ransom was to be paid for each Frank in the city, whether man, woman, or child, but Saladin, against the wishes of his treasurers, allowed many families who could not afford the ransom to leave.</mark> [112] Patriarch Heraclius of Jerusalem organised and contributed to a collection that paid the ransoms for about 18,000 of the poorer citizens, leaving another 15,000 to be enslaved. <mark>Saladin's brother al-Adil \"asked Saladin for a thousand of them for his own use and then released them on the spot.\"</mark> Most of the foot soldiers were sold into slavery. <mark>[113] Upon the capture of Jerusalem, Saladin summoned the Jews and permitted them to resettle in the city.</mark> In particular, the residents of Ascalon, a large Jewish settlement, responded to his request. The subject ordered the churches repurposed as horse stables and the church towers destroyed. <mark>Tyre, on the coast of modern-day Lebanon, was the last major Crusader city that was not captured by Muslim forces.</mark> <mark>Strategically, it would have made more sense for Saladin to capture Tyre before Jerusalem; Saladin, however, chose to pursue Jerusalem first because of the importance of the city to Islam.</mark> Tyre was commanded by Conrad of Montferrat, who strengthened its defences and withstood two sieges by Saladin. In 1188, at Tortosa, Saladin released Guy of Lusignan and returned him to his wife Sibylla of Jerusalem. They went first to Tripoli, then to Antioch. <mark>In 1189, they sought to reclaim Tyre for their kingdom but were refused admission by Conrad, who did not recognize Guy as king.</mark> Guy then set about besieging Acre. Saladin was on friendly terms with Queen Tamar of Georgia. <mark>Saladin's biographer Baha ad-Din ibn Shaddad reports that, after Saladin's conquest of Jerusalem, the Georgian Queen sent envoys to the sultan to request the return of confiscated possessions of the Georgian monasteries in Jerusalem.</mark> <mark>Saladin's response is not recorded, but the queen's efforts seem to have been successful as Jacques de Vitry, the Bishop of Acre, reports the Georgians were, in contrast to the other Christian pilgrims, allowed a free passage into the city with their banners unfurled.</mark> <mark>Ibn Šaddād furthermore claims that Queen Tamar outbid the Byzantine emperor in her efforts to obtain the relics of the True Cross, offering 200,000 gold pieces to Saladin who had taken the relics as booty at the battle of Hattin, but to no avail.</mark> <mark>[117][118]\n",
       "\n",
       "According to Baha ad-Din, after these victories, Saladin mused of invading Europe, saying: \"I think that when God grants me victory over the rest of Palestine I shall divide my territories, make a will stating my wishes, then set sail on this sea for their far-off lands in and pursue the Franks there, so as to free the earth of anyone who does not believe in God, or die in the attempt.”[119]\n",
       "\n",
       "Hattin and the fall of Jerusalem prompted the Third Crusade (1189–1192), which was partially financed by a special \"Saladin tithe\" in 1188.</mark> <mark>King Richard I led Guy's siege of Acre, conquered the city and executed almost 3,000 Muslim prisoners of war.</mark> <mark>[121] Baha ad-Din wrote:\n",
       "\n",
       "The armies of Saladin engaged in combat with the army of King Richard at the Battle of Arsuf on 7 September 1191, at which Saladin's forces suffered heavy losses and were forced to withdraw.</mark> <mark>After the battle of Arsuf, Richard occupied Jaffa, restoring the city's fortifications.</mark> <mark>Meanwhile, Saladin moved south, where he dismantled the fortifications of Ascalon to prevent this strategically important city, which lay at the junction between Egypt and Palestine, from falling into Crusader hands.</mark> [122]\n",
       "\n",
       "In October 1191, Richard began restoring the inland castles on the coastal plain beyond Jaffa in preparation for an advance on Jerusalem. During this period, Richard and Saladin passed envoys back and forth, negotiating the possibility of a truce. <mark>[123] Richard proposed that his sister Joan should marry Saladin's brother and that Jerusalem could be their wedding gift.</mark> <mark>[124] However, Saladin rejected this idea when Richard insisted that Saladin's brother convert to Christianity.</mark> Richard suggested that his niece Eleanor, Fair Maid of Brittany be the bride instead, an idea that Saladin also rejected. <mark>[125]\n",
       "\n",
       "In January 1192, Richard's army occupied Beit Nuba, just twelve miles from Jerusalem, but withdrew without attacking the Holy City.</mark> Instead, Richard advanced south on Ascalon, where he restored the fortifications. <mark>In July 1192, Saladin tried to threaten Richard's command of the coast by attacking Jaffa.</mark> <mark>The city was besieged, and Saladin very nearly captured it; however, Richard arrived a few days later and defeated Saladin's army in a battle outside the city.</mark> The Battle of Jaffa (1192) proved to be the last military engagement of the Third Crusade. After Richard reoccupied Jaffa and restored its fortifications, he and Saladin again discussed terms. At last Richard agreed to demolish the fortifications of Ascalon, while Saladin agreed to recognize Crusader control of the Palestinian coast from Tyre to Jaffa. <mark>The Christians would be allowed to travel as unarmed pilgrims to Jerusalem, and Saladin's kingdom would be at peace with the Crusader states for the following three years.</mark> <mark>Saladin died of a fever on 4 March 1193 (27 Safar 589 AH) at Damascus,[128] not long after King Richard's departure.</mark> <mark>In Saladin's possession at the time of his death were one piece of gold and forty pieces of silver.</mark> He had given away his great wealth to his poor subjects, leaving nothing to pay for his funeral. He was buried in a mausoleum in the garden outside the Umayyad Mosque in Damascus, Syria. Originally the tomb was part of a complex which also included a school, Madrassah al-Aziziah, of which little remains except a few columns and an internal arch. [131] Seven centuries later, Emperor Wilhelm II of Germany donated a new marble sarcophagus to the mausoleum. <mark>However, the original sarcophagus was not replaced; instead, the mausoleum, which is open to visitors, now has two sarcophagi: the marble one placed on the side and the original wooden one, which covers Saladin's tomb.</mark> <mark>Imad ad-Din al-Isfahani compiled a list of Saladin's sons along with their dates of birth, according to information provided by Saladin late in his reign.</mark> <mark>[132] Notable members of Saladin's progeny, as listed by Imad, include:\n",
       "• al-Ẓāhir Ghiyath al-Din Abu Mansur Ghazi, emir of Aleppo (b. mid-Ramadan 568 AH (May 1173) in Egypt)\n",
       "\n",
       "The sons listed by Imad number fifteen, but elsewhere he writes that Saladin was survived by seventeen sons and one daughter.</mark> <mark>Saladin's daughter is said to have married her cousin al-Kamil Muhammad ibn Adil.</mark> Saladin may also have had other children who died before him. <mark>One son, Al-Zahir Dawud, whom Imad listed eighth, is recorded as being Saladin's twelfth son in a letter written by his minister.</mark> <mark>[132]\n",
       "\n",
       "Not much is known of Saladin's wives or slave-women.</mark> He married Ismat al-Din Khatun, the widow of Nur al-Din Zengi, in 1176. She did not have children. One of his wives, Shamsah, is buried with her son al-Aziz in the tomb of al-Shafi'i. [133]\n",
       "\n",
       "Saladin was widely renowned in medieval Europe as a model of kingship, and in particular of the courtly virtue of regal generosity. <mark>As early as 1202/03, Walther von der Vogelweide urged the German King Philip of Swabia to be more like Saladin, who believed that a king's hands should have holes to let the gold fall through.</mark> <mark>[c] By the 1270s, Jans der Enikel was spreading the story of Saladin's table,[d] which presented him as both pious and wise to religious diversity.</mark> <mark>In The Divine Comedy (1308–1320), Dante mentiones him as one of the virtuous non-Christians in limbo,[136] and he is also depicted favorably in Boccaccio's The Decameron (1438–53).</mark> <mark>[137]\n",
       "\n",
       "Although Saladin faded into history after the Middle Ages, he appears in a sympathetic light in modern literature, first in Lessing's play Nathan the Wise (1779), which transfers the central idea of \"Saladin's table\" to the post-medieval world.</mark> <mark>He is a central character in Sir Walter Scott's novel The Talisman (1825), which more than any other single text influenced the romantic view of Saladin.</mark> <mark>Scott presented Saladin as a \"modern [19th-century] liberal European gentlemen, beside whom medieval Westerners would always have made a poor showing\".</mark> <mark>20th-century French author Albert Champdor described him as \"Le plus pur héros de l'Islam\" (English: The purest Hero of Islam).</mark> <mark>[139] Despite the Crusaders' slaughter when they originally conquered Jerusalem in 1099, Saladin granted amnesty and free passage to all common Catholics and even to the defeated Christian army, as long as they were able to pay the aforementioned ransom (the Greek Orthodox Christians were treated even better because they often opposed the western Crusaders).</mark> Notwithstanding the differences in beliefs, the Muslim Saladin was respected by Christian lords, Richard especially. Richard once praised Saladin as a great prince, saying that he was, without doubt, the greatest and most powerful leader in the Islamic world. Saladin, in turn, stated that there was not a more honorable Christian lord than Richard. After the treaty, Saladin and Richard sent each other many gifts as tokens of respect but never met face to face. <mark>In April 1191, a Frankish woman's three-month-old baby had been stolen from her camp and sold on the market.</mark> The Franks urged her to approach Saladin herself with her grievance. <mark>According to Baha ad-Din, Saladin used his own money to buy the child back:\n",
       "\n",
       "Saladin has become a prominent figure in Islamic, Arab, Turkish and Kurdish culture,[143] and he has been described as the most famous Kurd in history.</mark> [144][145][146][147] Historian Ibn Munqidh mentioned him as the person who revived the reign of Rashidun Caliphs. The Turkish writer Mehmet Akif Ersoy called him the most beloved Sultan of the Orient. <mark>[128]\n",
       "\n",
       "In 1898, German Emperor Wilhelm II visited Saladin's tomb to pay his respects.</mark> <mark>[148] The visit, coupled with anti-imperialist sentiments, encouraged the image in the Arab World of Saladin as a hero of the struggle against the West, building on was the romantic one created by Walter Scott and other Europeans in the West at the time.</mark> <mark>Saladin's reputation had previously been largely forgotten in the Muslim world, eclipsed by more successful figures, such as Baybars of Egypt.</mark> Modern Arab states have sought to commemorate Saladin through various measures, often based on the image created of him in the 19th-century west. <mark>[150] A governorate centered around Tikrit and Samarra in modern-day Iraq, Saladin Governorate, is named after him, as is Salahaddin University in Erbil, the largest city of Iraqi Kurdistan.</mark> A suburban community of Erbil, Masif Salahaddin, is also named after him. Few structures associated with Saladin survive within modern cities. Saladin first fortified the Citadel of Cairo (1175–1183), which had been a domed pleasure pavilion with a fine view in more peaceful times. <mark>In Syria, even the smallest city is centred on a defensible citadel, and Saladin introduced this essential feature to Egypt.</mark> <mark>Although the Ayyubid dynasty that he founded would outlive him by only 57 years, the legacy of Saladin within the Arab World continues to this day.</mark> <mark>With the rise of Arab nationalism in the 20th Century, particularly with regard to the Arab–Israeli conflict, Saladin's heroism and leadership gained a new significance.</mark> <mark>Saladin's recapture of Palestine from the European Crusaders is considered an inspiration for modern-day Arabs' opposition to Zionism.</mark> Moreover, the glory and comparative unity of the Arab World under Saladin was seen as the perfect symbol for the new unity sought by Arab nationalists, such as Gamal Abdel Nasser. For this reason, the Eagle of Saladin became the symbol of revolutionary Egypt, and was subsequently adopted by several other Arab states (the United Arab Republic, Iraq, Libya, the State of Palestine, and Yemen). <mark>Among Egyptian Shias, Saladin is dubbed as \"Kharab al-Din\", the destroyer of religion—a derisive play on the name \"Saladin.</mark> <mark>\"[151]\n",
       "• The Talisman by Walter Scott.</mark> Published in 1825 it is set during the Third Crusade and centres on the relationship between Richard I of England and Saladin. <mark>• The Crusades trilogy (1998–2000) by Jan Guillou is about a young nobleman from present-day Sweden who is exiled and forced to participate in the Crusades in the Middle East.</mark> <mark>In it he comes across Saladin who in the story has the role of a \"helper.\"</mark> <mark>• The Book of Saladin (1998) – A novel based on Saladin's life.</mark> <mark>[152]\n",
       "• Ghazi Salahuddin, a 1939 Indian drama film by I.</mark> A. Hafesjee. The first depiction of Saladin on film, it stars Ghulam Mohammed as the sultan, Ratan Bai as Rihana, Mazhar Khan as Richard, Lalita Devi as Isabella, Mohammed Ishaq as Saifuddin, Yakub as Conrad, Ishwarlal as Nooruddin, W.M. Khan as Humphrey, Bhupatrai as Frederick, and Mirza Musharraf as Yanoos. <mark>[153][154][155]\n",
       "• Saladin the Victorious – a 1963 Egyptian war drama film.</mark> Ahmed Mazhar as Saladin, Salah Zulfikar as Issa Al Awwam and Hamdy Gheith as Richard. <mark>• Doctor Who – Saladin is portrayed by Bernard Kay in the 1965 serial \"The Crusade\" opposite Julian Glover as Richard the Lionheart along with series regulars William Hartnell, William Russell, Jacqueline Hill and Maureen O'Brien as The First Doctor, Ian Chesterton, Barbara Wright and Vicki, respectively.</mark> <mark>• Kingdom of Heaven – Saladin's role was played by Ghassan Massoud.</mark> <mark>• King Richard and the Crusaders – Saladin's role was played by Rex Harrison.</mark> <mark>• Saladin: The Animated Series – an animated project inspired by the life of Salah ad-Din.</mark> <mark>• Selahaddin Eyyubi – Salahuddin al-Ayyubi to be portrayed in upcoming Turkish-Pakistani TV series.</mark> The show is expected to be released either during the spring or fall seasons in 2024. <mark>• Saladin appears as the leader of the Arabian civilization in several installments of Sid Meier's \"Civilization\" video game series.</mark> <mark>[156][157] He also appears as the leader of the Ayyubids in the \"Into the Renaissance\" scenario from the Gods & Kings expansion for Civilization V.[158]\n",
       "• Saladin is a playable character in the Mobile/PC Game Rise of Kingdoms.</mark> <mark>• The popular real-time strategy video game Age of Empires II: The Age of Kings features a campaign is based on the exploits of Saladin.</mark> <mark>• The Statue of Saladin is an oversize equestrian bronze statue depicting Saladin located in front of the 11th century Citadel of Damascus in the Ancient City of Damascus in Damascus, Syria.</mark> <mark>• None Baha ad-Din ibn Shaddad (2002).</mark> The Rare and Excellent History of Saladin . Translated by Richards, D.S. Ashgate. <mark>ISBN .</mark> <mark>• None Imad ad-Din al-Isfahani (1888).</mark> C. Landberg (ed.). Conquête de la Syrie et de la Palestine par Salâh ed-dîn (in French). Brill. <mark>• None Briggs, M. S. (1921).</mark> <mark>\"The Architecture of Saladin and the Influence of the Crusades (A.D. 1171–1250)\".</mark> The Burlington Magazine for Connoisseurs. 38 (214): 10–20. JSTOR 861268. <mark>• None Chase, Dan K. (1998).</mark> <mark>\"Saladin\".</mark> In Magill, Frank N. (ed.). Dictionary of World Biography: The Middle Ages. Abingdon and New York: Routledge. <mark>pp.</mark> 809–811. <mark>ISBN .</mark> <mark>• None Dunphy, Graeme (2003).</mark> History as Literature: German World Chronicles of the Thirteenth Century in Verse. Kalamazoo. <mark>• None Grousset, René (1970).</mark> The epic of the Crusades. tr. Lindsay, Noël. New York: Orion Press. <mark>• None Humphreys, R. Stephen (1991).</mark> . In Bosworth, C. E.; van Donzel, E. & Pellat, Ch. (eds.). Encyclopaedia of Islam. Volume VI: Mahk–Mid (2nd ed.). Leiden: E. J. Brill. <mark>pp.</mark> 780–782. <mark>ISBN .</mark> <mark>• None Lane-Poole, Stanley (1906).</mark> Saladin and the Fall of the Kingdom of Jerusalem. Heroes of the Nations. <mark>London: G. P. Putnam's Sons .</mark> <mark>• None Lyons, Malcolm Cameron; Jackson, D. E. P. (1982).</mark> Saladin: The Politics of the Holy War. Cambridge: Cambridge University Press. <mark>ISBN .</mark> <mark>• None Nicolle, David (2011).</mark> Saladin: The Background, Strategies, Tactics and Battlefield Experiences of the Greatest Commanders of History. Osprey Publishing. <mark>ISBN .</mark> <mark>• None Pringle, D. (1993).</mark> The Churches of the Crusader Kingdom of Jerusalem: A–K (excluding Acre and Jerusalem). Vol. I. Cambridge University Press. <mark>ISBN .</mark> • None Richards, D.S. (1995). <mark>\"Sālāḥ al-Dīn\".</mark> In Bosworth, C. E.; van Donzel, E.; Heinrichs, W. P. & Lecomte, G. (eds.). Encyclopaedia of Islam. Volume VIII: Ned–Sam (2nd ed.). Leiden: E. J. Brill. <mark>pp.</mark> 910–914. <mark>ISBN .</mark> <mark>• None Rossoff, David (2001).</mark> Linas, Eli (ed.). Where heaven touches earth: Jewish life in Jerusalem from medieval times to the present. Jerusalem: Guardian. <mark>ISBN .</mark> <mark>• None Şeşen, Ramazan (2009).</mark> <mark>\"Selâhaddîn-i Eyyûbî\".</mark> TDV Encyclopedia of Islam, Vol. 36 (Sakal – Sevm) (in Turkish). Istanbul: Turkiye Diyanet Foundation, Centre for Islamic Studies. <mark>pp.</mark> 337–340. <mark>ISBN .</mark> <mark>• None Runciman, Steven (1990).</mark> A History of the Crusades: The Kingdom of Jerusalem and the Frankish East 1100–1187. Vol. 2 (2nd ed.). London: Penguin. <mark>ISBN .</mark> <mark>• None Scharfstein, Sol; Gelabert, Dorcas (1997).</mark> Chronicle of Jewish history: from the patriarchs to the 21st century. Hoboken, NJ: KTAV Pub. House. <mark>ISBN .</mark> OCLC 38174402. <mark>• None Spevack, Aaron (2014) [2008].</mark> The Archetypal Sunni Scholar: Law, Theology, and Mysticism in the Synthesis of Al-Bajuri. State University of New York Press. p. 44. <mark>ISBN .</mark> <mark>• None Tabbaa, Yasser (1997).</mark> Constructions of Power and Piety in Medieval Aleppo. University Park: Pennsylvania State University Press. <mark>ISBN .</mark> <mark>• None Ter-Ghevondyan, Aram N. (1965).</mark> [The Arab Emirates in Bagratuni Armenia] (in Armenian). Yerevan: Armenian Academy of Sciences. <mark>• None Willey, Peter (2001).</mark> The Castles of the Assassins. Craven Street Books. <mark>ISBN .</mark> <mark>• None Duval, Ben (2022).</mark> Saladin the Strategist: How the Crusaders Lost the Holy Land. Byzantine Emporia, LLC. • None Gibb, H.A.R. (1973). The Life of Saladin: From the Works of Imad ad-Din and Baha ad-Din. Clarendon Press. <mark>ISBN .</mark> OCLC 674160. <mark>• None Husain, Shahnaz (1998).</mark> Muslim heroes of the crusades: Salahuddin and Nuruddin. London: Ta-Ha. <mark>ISBN .</mark> OCLC 40928075. <mark>• None Reston, James Jr. (2001).</mark> Warriors of God: Richard the Lionheart and Saladin in the Third Crusade. New York: Anchor Books. <mark>ISBN .</mark> OCLC 45283102. <mark>• None Phillips, Jonathan (2019).</mark> The Life and Legend of the Sultan Saladin. Yale University Press. <mark>[ ]\n",
       "• Stanley Lane-Poole, \"The Life of Saladin and the Fall of the Kingdom of Jerusalem\", in \"btm\" format\n",
       "• De expugnatione terrae sanctae per Saladinum A European account of Saladin's conquests of the Crusader states.</mark> <mark>• Saladin: The Sultan and His Times, 1138–1193 Archived 11 December 2012 at archive.today\n",
       "• Richard and Saladin: Warriors of the Third Crusade\n",
       "• Full transcript of: Lane-Poole, Stanley (1906).</mark> Saladin and the Fall of the Kingdom of Jerusalem. "
      ],
      "text/plain": [
       "<IPython.core.display.HTML object>"
      ]
     },
     "metadata": {},
     "output_type": "display_data"
    }
   ],
   "source": [
    "for url in article_list:\n",
    "    # print(url)\n",
    "    g = Goose()\n",
    "    article = g.extract(url)\n",
    "    sentence_list, best_sentences, _, _ = summarize(article.cleaned_text, 100,percentage = 0.5)\n",
    "    # print(len(sentence_list),len(best_sentences))\n",
    "    visualize(article.title,sentence_list,best_sentences)"
   ]
  }
 ],
 "metadata": {
  "kernelspec": {
   "display_name": "venv",
   "language": "python",
   "name": "python3"
  },
  "language_info": {
   "codemirror_mode": {
    "name": "ipython",
    "version": 3
   },
   "file_extension": ".py",
   "mimetype": "text/x-python",
   "name": "python",
   "nbconvert_exporter": "python",
   "pygments_lexer": "ipython3",
   "version": "3.11.4"
  },
  "orig_nbformat": 4
 },
 "nbformat": 4,
 "nbformat_minor": 2
}
