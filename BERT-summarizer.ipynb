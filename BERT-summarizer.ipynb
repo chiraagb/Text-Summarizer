{
 "cells": [
  {
   "cell_type": "code",
   "execution_count": 1,
   "metadata": {},
   "outputs": [
    {
     "name": "stderr",
     "output_type": "stream",
     "text": [
      "[nltk_data] Downloading package punkt to\n",
      "[nltk_data]     C:\\Users\\chirag\\AppData\\Roaming\\nltk_data...\n",
      "[nltk_data]   Package punkt is already up-to-date!\n"
     ]
    },
    {
     "data": {
      "text/plain": [
       "True"
      ]
     },
     "execution_count": 1,
     "metadata": {},
     "output_type": "execute_result"
    }
   ],
   "source": [
    "import re\n",
    "import nltk\n",
    "nltk.download('punkt')"
   ]
  },
  {
   "cell_type": "code",
   "execution_count": 2,
   "metadata": {},
   "outputs": [
    {
     "name": "stdout",
     "output_type": "stream",
     "text": [
      "Requirement already satisfied: goose3 in c:\\projects\\text-summarization\\venv\\lib\\site-packages (3.1.17)Note: you may need to restart the kernel to use updated packages.\n",
      "\n",
      "Requirement already satisfied: requests in c:\\projects\\text-summarization\\venv\\lib\\site-packages (from goose3) (2.31.0)\n",
      "Requirement already satisfied: Pillow in c:\\projects\\text-summarization\\venv\\lib\\site-packages (from goose3) (10.0.0)\n",
      "Requirement already satisfied: lxml in c:\\projects\\text-summarization\\venv\\lib\\site-packages (from goose3) (4.9.3)\n",
      "Requirement already satisfied: cssselect in c:\\projects\\text-summarization\\venv\\lib\\site-packages (from goose3) (1.2.0)\n",
      "Requirement already satisfied: beautifulsoup4 in c:\\projects\\text-summarization\\venv\\lib\\site-packages (from goose3) (4.12.2)\n",
      "Requirement already satisfied: python-dateutil in c:\\projects\\text-summarization\\venv\\lib\\site-packages (from goose3) (2.8.2)\n",
      "Requirement already satisfied: langdetect in c:\\projects\\text-summarization\\venv\\lib\\site-packages (from goose3) (1.0.9)\n",
      "Requirement already satisfied: pyahocorasick in c:\\projects\\text-summarization\\venv\\lib\\site-packages (from goose3) (2.0.0)\n",
      "Requirement already satisfied: soupsieve>1.2 in c:\\projects\\text-summarization\\venv\\lib\\site-packages (from beautifulsoup4->goose3) (2.4.1)\n",
      "Requirement already satisfied: six in c:\\projects\\text-summarization\\venv\\lib\\site-packages (from langdetect->goose3) (1.16.0)\n",
      "Requirement already satisfied: charset-normalizer<4,>=2 in c:\\projects\\text-summarization\\venv\\lib\\site-packages (from requests->goose3) (3.2.0)\n",
      "Requirement already satisfied: idna<4,>=2.5 in c:\\projects\\text-summarization\\venv\\lib\\site-packages (from requests->goose3) (3.4)\n",
      "Requirement already satisfied: urllib3<3,>=1.21.1 in c:\\projects\\text-summarization\\venv\\lib\\site-packages (from requests->goose3) (1.26.16)\n",
      "Requirement already satisfied: certifi>=2017.4.17 in c:\\projects\\text-summarization\\venv\\lib\\site-packages (from requests->goose3) (2023.7.22)\n"
     ]
    }
   ],
   "source": [
    "%pip install goose3"
   ]
  },
  {
   "cell_type": "code",
   "execution_count": 3,
   "metadata": {},
   "outputs": [],
   "source": [
    "from goose3 import Goose"
   ]
  },
  {
   "cell_type": "code",
   "execution_count": 4,
   "metadata": {},
   "outputs": [],
   "source": [
    "g = Goose()\n",
    "url = 'https://en.wikipedia.org/wiki/Baldwin_IV_of_Jerusalem'\n",
    "article = g.extract(url)"
   ]
  },
  {
   "cell_type": "code",
   "execution_count": 5,
   "metadata": {},
   "outputs": [
    {
     "data": {
      "text/plain": [
       "'Baldwin IV (French: Baudouin; 1161–1185), called the Leper King, was King of Jerusalem from 1174 until his death in 1185. He was admired by his contemporaries and later historians for his willpower and dedication to the Latin kingdom in the face of debilitating leprosy, which eventually left him blind and unable to use either his hands or his feet. Choosing competent advisers, Baldwin ruled a thriving realm and succeeded in protecting it from the Ayyubid Muslim ruler Saladin.\\n\\nBaldwin developed the first symptoms of his leprosy as a child but was only diagnosed after his accession on the death of his father, King Amalric. Thereafter his hands and face became increasingly disfigured. Count Raymond III of Tripoli ruled the kingdom in Baldwin\\'s name until the king reached the age of majority in 1176. As soon as he assumed government, Baldwin planned an invasion of Egypt, which fell through due to his vassals\\' uncooperativeness. Saladin in turn attacked Baldwin\\'s kingdom in 1177, but the king and the nobleman Raynald of Châtillon repelled him at Montgisard, earning Baldwin fame. The young king mastered horse riding despite gradually losing sensation in his extremities and was able to fight in battles until his last years.\\n\\nLeprosy precluded Baldwin from marrying. He hoped to abdicate when his sister, Sibylla, married William of Montferrat in 1176, but William died the next year. In 1180, in order to forestall a coup by Count Raymond III of Tripoli and Prince Bohemond III of Antioch, Baldwin had Sibylla marry Guy of Lusignan. Guy was opposed by a large fraction of the nobility, and soon permanently impaired his relationship with Baldwin. The internal discord that followed forced Baldwin to remain king, as only he was capable of uniting the quarreling nobility. Baldwin again repelled Saladin in 1182, but leprosy rendered him blind and unable to walk or use his hands in 1183. He disinherited Guy and had Sibylla\\'s son, Baldwin V, crowned co-king before having himself taken in a litter to lift Saladin\\'s siege of Kerak. Baldwin failed to have Sibylla\\'s marriage to Guy annulled and Guy\\'s fief of Ascalon confiscated. In early 1185, he arranged for Raymond to rule as regent for Sibylla\\'s son and died before 16 May.\\n\\nBaldwin was born in mid-1161. His parents were Amalric, then the count of Jaffa and Ascalon, and Agnes of Courtenay. Baldwin\\'s godfather was his paternal uncle, King Baldwin III, who joked that his christening present was the Kingdom of Jerusalem. The king was then young and recently married, so a nephew\\'s accession seemed unlikely, but he died childless in 1163. Amalric was his heir, but the nobles of the kingdom were strongly opposed to Amalric\\'s wife, Agnes; they were likely threatened by the prospect of her increased influence. The High Court forced Amalric to agree to an annulment of his marriage on the grounds of consanguinity in order to be accepted as king. Amalric succeeded in having his and Agnes\\'s children, Sibylla and Baldwin, declared legitimate despite the annulment. Baldwin grew up without a mother, who soon married the nobleman Hugh of Ibelin and only saw Baldwin on public occasions. He also seldom saw his sister, Sibylla, who was raised in the Convent of Saint Lazarus by their grandaunt Ioveta. At the age of six Baldwin gained a stepmother, Maria Komnene, with whom he was not close. The queen was an ambitious woman who likely saw Baldwin as an obstacle to her own children.\\n\\nThe Kingdom of Jerusalem and other crusader states were ruled by Franks, French-speaking Catholics who had arrived in the Levant from Western Europe and remained Western in culture. Amalric ensured that Baldwin, as the heir apparent, received a good education. The nine-year-old prince was sent to live with William of Tyre, a sophisticated and well-traveled cleric who was famed for his learning. William noticed that, unlike other children in the playground, Baldwin did not cry when pinched by his peers. After a while it became apparent to the tutor that Baldwin could feel no pain in his right arm. The king hired Arabs to treat Baldwin and to teach him horse riding, an essential skill for a Frankish nobleman. Having sensation in only one hand, Baldwin needed to learn to control the horse in battle using solely his knees, and mastered riding despite the handicap. Leprosy was suspected, but there were no visible symptoms yet and physicians hesitated to diagnose because of the stigma the boy would face. Had the diagnosis been made when he was a child, Baldwin might have been required by law to enter the Order of St Lazarus, a military order composed of affected knights and serjeants.\\n\\nAs an adolescent, Baldwin was precocious, determined, and optimistic in the face of his illness. He took after his father in good looks, body shape, and manner of walking and expressing himself. Baldwin was a quick learner, but he stuttered. He enjoyed listening to stories and history lessons. His tutor, William, remarked on Baldwin\\'s excellent memory, stating that he forgot neither kindness nor slights done to him by others.\\n\\nAmalric attempted to have Sibylla marry the French Count Stephen I of Sancerre, who would rule the kingdom as regent on Baldwin\\'s behalf if Amalric died early. When physicians informed him that Baldwin could develop leprosy, Amalric may have begun viewing Sibylla and Stephen as eventual monarchs instead of Baldwin, but the match fell through. In June 1174, the king came down with dysentery. He died on 11 July, leaving an underage heir, as he had feared might happen.\\n\\nUpon Amalric\\'s death, the High Court convened to discuss the succession. Though he had not yet been diagnosed, the High Court must have been aware of the royal physicians\\' suspicions that Baldwin had contracted leprosy. Yet there was no viable alternative. Baldwin was the king\\'s only son; from his second marriage Amalric had two daughters, of which only Isabella survived infancy. Female succession was expressly allowed, but Sibylla was an unmarried adolescent and Isabella only two years old. The male candidates, Amalric\\'s cousins Prince Bohemond III of Antioch, Baldwin of Antioch, and Count Raymond III of Tripoli, were politically unsuitable: Bohemond was bound to distant Antioch, Baldwin in the service of Byzantine Emperor Manuel I Komnenos, and Raymond virtually a stranger to the barons.\\n\\nAfter three days of deliberations, Baldwin IV was chosen, with the expectation that a husband would be found for Sibylla to succeed him if he proved to be affected. The young king\\'s coronation by the Latin patriarch of Jerusalem, Amalric of Nesle, took place immediately in the Church of the Holy Sepulchre. Medieval rulers were normally crowned on Sundays, but in Baldwin\\'s case 15 July 1174 was chosen instead because it was the 75th anniversary of the First Crusade\\'s seizure of Jerusalem.\\n\\nUntil he reached the age of majority, which was 15 in the Kingdom of Jerusalem, Baldwin needed a regent to rule in his name. The government was initially assumed by the seneschal, Miles of Plancy. Shortly thereafter Count Raymond III of Tripoli arrived in Jerusalem and succeeded in claiming regency as the king\\'s closest kinsman. Miles was murdered while trying to extend his hold on the government. No new seneschal was appointed for two years, and so the young and sickly king presided over burdensome High Court meetings when the regent was away on military duties or in Tripoli.\\n\\nBaldwin\\'s mother, Agnes, returned to court when Raymond became regent. She is frequently accused by historians of exploiting her son\\'s condition for self-gain, but the contemporary sources, including Baldwin\\'s tutor, William of Tyre, are biased against her. Having grown up without her since the age of two, Baldwin IV had no memories of his mother, but she became devotedly kind to him and he developed a strong attachment to her.\\n\\nDuring the regency it became clear that the king was indeed affected by leprosy. It is not clear from whom he caught it, but it must have been someone with whom he spent a lot of time and who did not exhibit easily visible symptoms. Puberty may have accelerated the development of the lepromatous form of the illness. His condition worsened rapidly. Most severely affected were his limbs and face, which made his subjects uneasy when they approached him. Yet, contrary to the common practice and to the surprise of Muslim observers, Baldwin was never segregated. As a leper, Baldwin could not marry or expect to have children. It thus became a priority to arrange a marriage for Baldwin\\'s sister and heir presumptive, Sibylla. Raymond\\'s choice was William of Montferrat, son of Margrave William V of Montferrat in Piedmont, Italy, and cousin of both the Holy Roman Emperor Frederick Barbarossa and King Louis VII of France.\\n\\nOn the second anniversary of his coronation, 15 July 1176, Baldwin reached the age of majority and Raymond\\'s regency lapsed. At the suggestion of his mother, the king appointed his loyal and capable maternal uncle, Joscelin of Courtenay, to the office of seneschal and arranged for him to marry a rich heiress, Agnes of Milly. The change in government signalled a new Frankish approach to the Egyptian ruler Saladin, who had been allowed by Raymond to encircle the crusader states by conquering Muslim principalities in Syria. Baldwin did not ratify Raymond\\'s peace treaty with Saladin, firmly agreeing with Joscelin that the sultan\\'s power needed to be curbed.\\n\\nAs soon as he took over the government, Baldwin began planning a full-scale attack on Egypt with his advisers. The king took advantage of Saladin\\'s campaign in Aleppo to lead a raid around Damascus. This was his first experience of warfare. Despite having use of only one hand, he refused to delegate his military duties and took part in fighting. He and his advisers then decided to intervene in Saladin\\'s war against the Order of Assassins. On 1 August, Baldwin and Raymond led the armies of Jerusalem and Tripoli, respectively, in a raid of the Beqaa Valley (modern-day Lebanon), where they defeated the garrison of Damascus, forcing Saladin to abandon his campaign.\\n\\nWilliam of Montferrat married Baldwin\\'s sister, Sibylla, in November 1176 despite misgivings of the nobles who no longer trusted his cousin Emperor Frederick\\'s ability to aid the kingdom. Baldwin offered to resign the throne to William according to Sicard of Cremona; if he did, William declined because he knew he lacked the support of the nobility.\\n\\nIn order to carry out his attack on Egypt, Baldwin needed naval support. He thus sent Raynald of Châtillon to lead an embassy to Emperor Manuel, Raynald\\'s stepson-in-law, in Constantinople in the winter of 1176–77. Manuel agreed to take part in the invasion in return for the establishment of Byzantine protectorate over the kingdom and restoration of the Orthodox patriarch, Leontius II, in Jerusalem. As Raynald\\'s mission was successful, Baldwin consented to his marriage with the lady of Oultrejordain, Stephanie of Milly.\\n\\nIn April 1177, William of Monferrat fell sick with malaria in Ascalon, of which he had been made count on his marriage to the king\\'s sister. Baldwin visited him and became gravely ill too. William died in June, leaving Sibylla pregnant and incapacitated Baldwin without a deputy ahead of a major war offensive. The king entrusted the government and military command to Raynald, snubbing the count of Tripoli. Baldwin\\'s first cousin Count Philip I of Flanders arrived in the East in September. He brought to Baldwin financial aid from another cousin, King Henry II of England. Henry was invested because he and Baldwin both belonged to the Angevin family. Still in sickbed in Ascalon, the king had himself taken back to Jerusalem in a litter and convened a general council, on the advice of which he offered regency to Philip. Philip declined, and Raynald retained his post.\\n\\nThe Byzantines sent a war fleet in preparation of the invasion of Egypt, but to Baldwin\\'s regret, they withdrew due to uncooperativeness of Philip of Flanders, Bohemond of Antioch, Raymond of Tripoli, and the grand master of the Knights Hospitaller, Roger de Moulins. Saladin\\'s power remained unchecked, and the Byzantine alliance collapsed. Despite the hostility of the Latin patriarch, Amalric of Nesle, Baldwin continued to court the Greek patriarch, Leontius, in hopes that the Byzantines would remain committed to his kingdom.\\n\\nPhilip left the Kingdom of Jerusalem with his troops in late October 1177 to help Raymond of Tripoli attack the Muslim-held city of Hama. With the Frankish army in northern Syria, Saladin seized the opportunity to invade Baldwin\\'s kingdom on 18 November. Though still recovering from malaria, Baldwin rode to meet the sultan, while the Knights Templar hurried to defend Gaza. The king took his humble host to Ascalon, where in desperation he issued an arrière-ban, summoning all able-bodied men. Saladin reached Ascalon on 22 November and Baldwin led the troops out to meet him. Seeing how drastically outnumbered he was, the king retreated into the city. Saladin too saw the strength in his numbers and confidently proceeded towards Jerusalem. Baldwin managed to contact the Templars, however, and ordered them to abandon Gaza and join him. Contrary to the sultan\\'s expectation, Baldwin and Raynald then rode out of Ascalon, joined up with the Templars, and attacked his dispersed army at Montgisard. The young king was in the forefront. Saladin, who barely survived, suffered a crushing defeat.\\n\\nNot having enough men to launch an offensive on the retreating Muslims, Baldwin decided to fortify the Damascene frontier. The Templars convinced him to build a castle, Le Chastellet, on the upper River Jordan; he was reluctant because the Franks had promised not to mark that part of the border. After protests of local Muslims, Saladin offered money to Baldwin in exchange for aborting the construction, but the king refused. In 1178, Baldwin hosted the patriarch of the Syriac Orthodox Church, Michael the Syrian, in Jerusalem and won his lasting loyalty to Frankish cause.\\n\\nIn April 1179, Baldwin intended to round up the sheep passing from Damascus to Banias. Saladin\\'s nephew Farrukh Shah was sent to investigate the king\\'s movement but suddenly ran into him, and a skirmish followed. The elderly but exceptionally able constable, Humphrey II of Toron, sustained fatal wounds while protecting the king. Weeks later Baldwin rode out to intercept Beduin raids of Beirut and Sidon, and in June Saladin\\'s raiding party routed Baldwin\\'s. The king was unhorsed and carried to safety on a knight\\'s back because he could not remount on his own. In late August, Baldwin summoned a host to Tiberias to respond to Saladin\\'s siege of Le Chastellet, but the castle fell before the relic of the True Cross could be fetched from Jerusalem to accompany the Christian troops.\\n\\nIn the winter of 1177–78, the king\\'s widowed sister, Sibylla, gave birth to a son, Baldwin, named after the king. A year of official mourning for the child\\'s father, William, concluded in June 1178, and it became appropriate to seek another husband for her. Baldwin of Ibelin\\'s suit was well known, but not entertained. In order to avoid antagonizing the Ibelins, however, Baldwin had allowed Balian of Ibelin to marry the king\\'s stepmother, Queen Maria, in late 1177. In July 1178, King Baldwin began associating Sibylla with him in some public acts, thereby acknowledging her as next in line to the throne. He began contemplating her marriage to Duke Hugh III of Burgundy, and wrote to the king of France: \"To be deprived of the use of one\\'s limbs is of little help to one in carrying out the work of government ... It is not fitting that a hand so weak as mine should hold power when fear of Arab aggression daily presses upon the Holy City and when my sickness increases the enemy\\'s daring.\"\\n\\nDuring the Holy Week in 1180, the prince of Antioch and the count of Tripoli marched with their armies to Jerusalem. It is most likely that their intention was to force the king to have Sibylla marry Baldwin of Ibelin and to then abdicate. The king had never approved of Baldwin\\'s ambition to marry his sister, and though he did wish to abdicate, he was not keen on having terms forced on him. Baldwin acted decisively before his kinsmen\\'s armies reached Jerusalem: he arranged for Sibylla to marry a Poitevin knight, Guy of Lusignan. Raymond and Bohemond had no option but to accept the fait accompli, and the coup was foiled.\\n\\nBaldwin had hoped to abdicate, but was prevented by deep divisions within his court that emerged following Sibylla\\'s marriage to Guy. He proposed a two-year truce with Saladin, who was glad to accept in order to campaign freely in northern Syria. Baldwin sent his uncle and chief minister, Joscelin, to assure the Byzantine court that Jerusalem still needed their protection. During Joscelin\\'s absence, from mid-1180 to mid-1181, the full burden of government fell on the shoulders of the king, whose health was deteriorating. He relied chiefly on his mother in this period.\\n\\nTo secure Guy\\'s position and prevent the emergence of an alternative claimant, Baldwin had his 8-year-old half-sister, Isabella, solemnly betrothed to the teenaged lord of Toron, Humphrey IV, in October 1180. Isabella was then sent to live at Kerak Castle with the lady of Oultrejourdain, Humphrey\\'s mother, as far as possible from her maternal kin and potential conspirators. By the terms of the marriage contract, Humphrey ceded Toron to Baldwin, who thus prevented the union of two great fiefs under one vassal and strengthened his position against the count of Tripoli.\\n\\nBaldwin made use of the truce with Saladin to strengthen the position of his maternal kin, granting Maron and Chastelneuf to Joscelin and usufruct of Toron to Agnes, while associating Guy and Sibylla with him in public acts. He remained unreconciled with Raymond, however, and forbade the count to enter the kingdom in early 1182 due to suspicions of another conspiracy. Baldwin likely intended to charge Raymond with treason and deprive him of the Principality of Galilee, a fief of Jerusalem held by Raymond through marriage to Eschiva of Bures. The law prevented the king from seizing the fief without the assent of the High Court, and the High Court urged the king to reconcile with Raymond. The king reluctantly heeded his vassals\\' advice.\\n\\nBaldwin\\'s truce with Saladin was due to expire in May 1182, but was broken in mid-1181 by Raynald, who seized a merchant caravan on its way from Egypt to Damascus. Raynald ignored the king\\'s request to make restitution to Saladin, who was then preparing to annex the Zengid-ruled Aleppo. The king, who consistently acted against Saladin\\'s attempts to expand into northern Syria, decided to oppose him. The recent anti-Catholic coup in Constantinople gave Saladin confidence to attack the Kingdom of Jerusalem. In July, Baldwin marched with his host to relieve the Muslims\\' siege of Bethsan, and his outnumbered army won the Battle of Le Forbelet. Historian Bernard Hamilton attributes the victory to the respect and loyalty commanded by Baldwin, who stayed on the battlefield despite his illness and intense heat.\\n\\nThe defeated sultan took his host to besiege Beirut, while another army from Egypt attacked the south of the kingdom. Baldwin knew that he was being provoked into dividing his forces. Deciding that Beirut was of a greater strategic importance, he ignored the southern attack and moved with his troops to Tyre. From there he procured assistance from the Italian maritime republics in lifting Saladin\\'s naval blockade of Beirut. Saladin abandoned the siege, but declined to make a truce, worrying Baldwin and his advisers. He proceeded north to fight the Zengids, thereby expanding his realm, while Baldwin led an attack on Saladin\\'s Damascene territory, then on Bosra, before finally laying siege and capturing Cave de Sueth. In the winter of 1182–3, after agreeing on a strategy with his council, Baldwin attacked Damascus again. He threatened to destroy a mosque in Darayya, but local Christians convinced him not to for fear of losing their churches in retaliation.\\n\\nBaldwin could not walk unsupported or use his hands from 1183. Due to an inability to blink, his cornea dried and he became blind. He nevertheless had to summon his troops in response to Saladin\\'s march south following the Egyptian conquest of Aleppo in June. The king then developed a life-threatening fever. He was attended by his mother and the new patriarch, Heraclius, at nearby Nazareth. Having summoned the High Court to his bedside, Baldwin entrusted the government to his brother-in-law, Guy, who was next in line to succeed him. Guy\\'s appointment to regency was meant to be permanent. Baldwin retained only the royal title and authority over the city of Jerusalem, but he had Guy swear that, while Baldwin lived, he would not make himself king or alienate parts of the royal demesne.\\n\\nFearing discontent among his barons, Baldwin had failed to give Guy any experience in military leadership prior to making him regent. Indeed, the great lords of the kingdom, the independent rulers of Antioch and Tripoli, and the grand masters of the military orders refused to cooperate with Guy. Baldwin recovered unexpectedly and returned to Jerusalem. Having found that coastal climate suited his health, Baldwin offered Jerusalem to Guy in exchange for Tyre. Guy brusquely refused, possibly because Tyre was more lucrative, leaving Baldwin gravely insulted.\\n\\nThe wedding of Baldwin\\'s half-sister, Isabella, and Humphrey IV of Toron was celebrated in Kerak in late 1183. Saladin attacked during the festivities and laid siege to the castle, hoping to capture the king\\'s half-sister and her husband. The retired king had gathered a council in Jerusalem to inform him about the government of the kingdom when news about the siege reached him. He immediately dismissed Guy from regency and resumed power, as the defense of such a vital fortress and the king\\'s half-sister within it could not be entrusted to the man who had proven unable to command the troops. Guy\\'s removal from regency was effectively disinheritance; at the council\\'s insistence, deliberations about the succession followed. The proposal of the king\\'s mother that Sibylla\\'s five-year-old son, Baldwin, be made co-king was accepted, and the boy was crowned on 20 November.\\n\\nIn late November, Baldwin IV ordered the lighting of a beacon on the Tower of David, which may have been the first in a chain of such beacons, in order to hearten the defenders of the intensely bombarded Kerak. Baldwin accompanied his troops again, but having become blind and immobile, this time he went in a litter slung between two horses. His presence was essential to unite the discordant barons. Even his humiliated brother-in-law led his men. Warned by his scouts about the king\\'s approach and concerned about having left Egypt unguarded, Saladin abandoned the siege on 4 December. Baldwin entered Kerak triumphantly.\\n\\nThe question of regency for his nephew troubled Baldwin. The only way to ensure that Guy could not claim it was to have his marriage to Sibylla annulled. Baldwin discussed this with the patriarch, Heraclius. Baldwin may have intended to claim that he had forced Sibylla to marry Guy and that the marriage was unlawful because of that. Sibylla\\'s unwavering loyalty to Guy thwarted his plans, as the couple refused to appear at court.\\n\\nEarly in 1184, Baldwin ordered Guy to attend him as vassal in Jerusalem. Guy declined, citing poor health, and this was repeated several times. Baldwin then had himself carried to Ascalon in the company of the High Court. Guy refused to let him into the city. From the battlements and towers the inhabitants witnessed the king ceremoniously knocking and demanding admission. He was welcomed in Jaffa, where he installed a governor, thereby depriving Guy of half of his county. In Acre, Baldwin summoned his council, probably to discuss the seizure of Guy\\'s fief. The patriarch and the grand masters begged Baldwin to forgive Guy in order to avoid a civil war. This was as unacceptable to Baldwin as it would have been to any contemporary king. The patriarch and the grand masters stormed out of the council, swaying the rest of the assembly to withhold support for the action.\\n\\nBaldwin was reconciled with the patriarch and the grand masters by June, when he sent them to Europe on a diplomatic mission to seek aid for the kingdom, and informed them by letter that Saladin was once more besieging Kerak. Again, Saladin abandoned the siege when the litter-bound king approached with his army. Once in Kerak, Baldwin ordered and financed the reparations of the damaged castle.\\n\\nIn late 1184, Baldwin was shocked to learn about Guy\\'s massacre of the Beduin of the royal fief of Darum, who were under royal protection and who provided information about the Egyptians\\' movements. He soon developed a fever. When he returned to Jerusalem in late 1184 or early 1185, Baldwin bestowed regency on Raymond of Tripoli, the man whom he had never trusted, but to whom he could find no better alternative. At the time he expected to survive the illness, having done so twice before, but within weeks it became apparent that it would be his last. On his deathbed he summoned the High Court to appoint a permanent regent for his nephew, Baldwin V, and Raymond was chosen. The dying king then ordered that homage be rendered to his nephew as king and to Raymond as regent, to be followed by a solemn crown-wearing ceremony at the Church of the Holy Sepulchre.\\n\\nBaldwin died, attended by his vassals, in March 1185 or before 16 May 1185 at the latest, when his nephew is recorded as the sole king. He was buried in the Church of the Holy Sepulchre, close to his father, King Amalric. His tomb would remain untouched along with the other royal tombs of the kingdom until 1809–1810, when they were destroyed by the Othodox greeks, as said tombs layed in their section of the Church of the Holy Sepulchre.[106][107] It is unclear if the remains of those kings were exhumed; some researchers hypothesize that some of them may still be in unmarked pits under the church\\'s pavement.[108]\\n\\nThe young Baldwin V died the next year. Sibylla, who succeeded her son, made Guy king. Baldwin IV\\'s realm was destroyed by Saladin following his decisive victory over Guy at the Horns of Hattin in 1187. Sibylla and their daughters died in 1190, leaving Isabella I as the heir to the defeated kingdom.\\n\\nChristian defeat at Hattin two years after Baldwin\\'s death marred the king\\'s legacy, with historians tracing fatal discord to Baldwin\\'s reign. Yet, while Baldwin was on the throne, the kingdom lost no territory and flourished economically and spiritually. Baldwin understood the importance of curbing Saladin\\'s power, which was reflected in his choice of ministers. He did not devise strategy or diplomacy alone, and delegated Church patronage and finances to his mother, Agnes, and uncle, Joscelin, respectively. His chief contribution was his determination not to abdicate before finding a suitable successor, despite leprosy making government an unbearable burden. As was clear during his reign and especially in its disastrous aftermath, Baldwin alone preserved unity in the kingdom.\\n\\nContemporary Christian theologians were divided on the issue of leprosy. Pope Alexander III showed little sympathy when writing about Baldwin, declaring leprosy a \"just judgement of God\", but another school of thought encouraged the faithful to see Christ in the affected. Baldwin\\'s reign may have led to a lesser stigmatization of the illness in the 13th-century Kingdom of Jerusalem. His subjects\\' acceptance of his illness confounded Muslims. Imad ad-Din al-Isfahani wrote:\\n\\nBaldwin\\'s public image may have been aided by his chastity, seen as evidence of extraordinary sanctity, and his success against Saladin was interpreted as a sign of God\\'s favour. After the disastrous Seventh Crusade, a crusader was told by an old man in Damascus:\\n\\nAlong his perceived sanctity, Baldwin was primarily a knight, both in character and in upbringing, and to contemporaries his most distinctive traits were his courage and honourableness.\\n• Kingdom of Heaven – film portraying King Baldwin (played by Edward Norton) as a fragile but courageous young king who mostly remains secluded in his palace and wears a silver mask to hide his leprosy, although he is shown leading his troops on horseback. There are no historical accounts of Baldwin actually wearing a mask to hide his leprosy.\\n• None Hamilton, Bernard (2000). The Leper King and His Heirs: Baldwin IV and the Crusader Kingdom of Jerusalem. Cambridge University Press. ISBN .\\n• None Mitchell, Piers D. (2000). \"An evaluation of the leprosy of King Baldwin IV of Jerusalem in the context of the medieval world\". The Leper King and His Heirs: Baldwin IV and the Crusader Kingdom of Jerusalem. By Hamilton, Bernard. Cambridge University Press. pp. 245–258. ISBN .\\n• None Riley-Smith, Jonathan (1973). The feudal nobility and the kingdom of Jerusalem, 1147–1277. Macmillan.\\n• None Runciman, Steven (1952). A History of the Crusades: The Kingdom of Jerusalem and the Frankish East, 1100–1187. Vol. 2. Cambridge University Press. ISBN .'"
      ]
     },
     "execution_count": 5,
     "metadata": {},
     "output_type": "execute_result"
    }
   ],
   "source": [
    "article.cleaned_text"
   ]
  },
  {
   "cell_type": "code",
   "execution_count": 6,
   "metadata": {},
   "outputs": [
    {
     "data": {
      "text/plain": [
       "['Baldwin IV (French: Baudouin; 1161–1185), called the Leper King, was King of Jerusalem from 1174 until his death in 1185.',\n",
       " 'He was admired by his contemporaries and later historians for his willpower and dedication to the Latin kingdom in the face of debilitating leprosy, which eventually left him blind and unable to use either his hands or his feet.',\n",
       " 'Choosing competent advisers, Baldwin ruled a thriving realm and succeeded in protecting it from the Ayyubid Muslim ruler Saladin.',\n",
       " 'Baldwin developed the first symptoms of his leprosy as a child but was only diagnosed after his accession on the death of his father, King Amalric.',\n",
       " 'Thereafter his hands and face became increasingly disfigured.',\n",
       " \"Count Raymond III of Tripoli ruled the kingdom in Baldwin's name until the king reached the age of majority in 1176.\",\n",
       " \"As soon as he assumed government, Baldwin planned an invasion of Egypt, which fell through due to his vassals' uncooperativeness.\",\n",
       " \"Saladin in turn attacked Baldwin's kingdom in 1177, but the king and the nobleman Raynald of Châtillon repelled him at Montgisard, earning Baldwin fame.\",\n",
       " 'The young king mastered horse riding despite gradually losing sensation in his extremities and was able to fight in battles until his last years.',\n",
       " 'Leprosy precluded Baldwin from marrying.',\n",
       " 'He hoped to abdicate when his sister, Sibylla, married William of Montferrat in 1176, but William died the next year.',\n",
       " 'In 1180, in order to forestall a coup by Count Raymond III of Tripoli and Prince Bohemond III of Antioch, Baldwin had Sibylla marry Guy of Lusignan.',\n",
       " 'Guy was opposed by a large fraction of the nobility, and soon permanently impaired his relationship with Baldwin.',\n",
       " 'The internal discord that followed forced Baldwin to remain king, as only he was capable of uniting the quarreling nobility.',\n",
       " 'Baldwin again repelled Saladin in 1182, but leprosy rendered him blind and unable to walk or use his hands in 1183.',\n",
       " \"He disinherited Guy and had Sibylla's son, Baldwin V, crowned co-king before having himself taken in a litter to lift Saladin's siege of Kerak.\",\n",
       " \"Baldwin failed to have Sibylla's marriage to Guy annulled and Guy's fief of Ascalon confiscated.\",\n",
       " \"In early 1185, he arranged for Raymond to rule as regent for Sibylla's son and died before 16 May.\",\n",
       " 'Baldwin was born in mid-1161.',\n",
       " 'His parents were Amalric, then the count of Jaffa and Ascalon, and Agnes of Courtenay.',\n",
       " \"Baldwin's godfather was his paternal uncle, King Baldwin III, who joked that his christening present was the Kingdom of Jerusalem.\",\n",
       " \"The king was then young and recently married, so a nephew's accession seemed unlikely, but he died childless in 1163.\",\n",
       " \"Amalric was his heir, but the nobles of the kingdom were strongly opposed to Amalric's wife, Agnes; they were likely threatened by the prospect of her increased influence.\",\n",
       " 'The High Court forced Amalric to agree to an annulment of his marriage on the grounds of consanguinity in order to be accepted as king.',\n",
       " \"Amalric succeeded in having his and Agnes's children, Sibylla and Baldwin, declared legitimate despite the annulment.\",\n",
       " 'Baldwin grew up without a mother, who soon married the nobleman Hugh of Ibelin and only saw Baldwin on public occasions.',\n",
       " 'He also seldom saw his sister, Sibylla, who was raised in the Convent of Saint Lazarus by their grandaunt Ioveta.',\n",
       " 'At the age of six Baldwin gained a stepmother, Maria Komnene, with whom he was not close.',\n",
       " 'The queen was an ambitious woman who likely saw Baldwin as an obstacle to her own children.',\n",
       " 'The Kingdom of Jerusalem and other crusader states were ruled by Franks, French-speaking Catholics who had arrived in the Levant from Western Europe and remained Western in culture.',\n",
       " 'Amalric ensured that Baldwin, as the heir apparent, received a good education.',\n",
       " 'The nine-year-old prince was sent to live with William of Tyre, a sophisticated and well-traveled cleric who was famed for his learning.',\n",
       " 'William noticed that, unlike other children in the playground, Baldwin did not cry when pinched by his peers.',\n",
       " 'After a while it became apparent to the tutor that Baldwin could feel no pain in his right arm.',\n",
       " 'The king hired Arabs to treat Baldwin and to teach him horse riding, an essential skill for a Frankish nobleman.',\n",
       " 'Having sensation in only one hand, Baldwin needed to learn to control the horse in battle using solely his knees, and mastered riding despite the handicap.',\n",
       " 'Leprosy was suspected, but there were no visible symptoms yet and physicians hesitated to diagnose because of the stigma the boy would face.',\n",
       " 'Had the diagnosis been made when he was a child, Baldwin might have been required by law to enter the Order of St Lazarus, a military order composed of affected knights and serjeants.',\n",
       " 'As an adolescent, Baldwin was precocious, determined, and optimistic in the face of his illness.',\n",
       " 'He took after his father in good looks, body shape, and manner of walking and expressing himself.',\n",
       " 'Baldwin was a quick learner, but he stuttered.',\n",
       " 'He enjoyed listening to stories and history lessons.',\n",
       " \"His tutor, William, remarked on Baldwin's excellent memory, stating that he forgot neither kindness nor slights done to him by others.\",\n",
       " \"Amalric attempted to have Sibylla marry the French Count Stephen I of Sancerre, who would rule the kingdom as regent on Baldwin's behalf if Amalric died early.\",\n",
       " 'When physicians informed him that Baldwin could develop leprosy, Amalric may have begun viewing Sibylla and Stephen as eventual monarchs instead of Baldwin, but the match fell through.',\n",
       " 'In June 1174, the king came down with dysentery.',\n",
       " 'He died on 11 July, leaving an underage heir, as he had feared might happen.',\n",
       " \"Upon Amalric's death, the High Court convened to discuss the succession.\",\n",
       " \"Though he had not yet been diagnosed, the High Court must have been aware of the royal physicians' suspicions that Baldwin had contracted leprosy.\",\n",
       " 'Yet there was no viable alternative.',\n",
       " \"Baldwin was the king's only son; from his second marriage Amalric had two daughters, of which only Isabella survived infancy.\",\n",
       " 'Female succession was expressly allowed, but Sibylla was an unmarried adolescent and Isabella only two years old.',\n",
       " \"The male candidates, Amalric's cousins Prince Bohemond III of Antioch, Baldwin of Antioch, and Count Raymond III of Tripoli, were politically unsuitable: Bohemond was bound to distant Antioch, Baldwin in the service of Byzantine Emperor Manuel I Komnenos, and Raymond virtually a stranger to the barons.\",\n",
       " 'After three days of deliberations, Baldwin IV was chosen, with the expectation that a husband would be found for Sibylla to succeed him if he proved to be affected.',\n",
       " \"The young king's coronation by the Latin patriarch of Jerusalem, Amalric of Nesle, took place immediately in the Church of the Holy Sepulchre.\",\n",
       " \"Medieval rulers were normally crowned on Sundays, but in Baldwin's case 15 July 1174 was chosen instead because it was the 75th anniversary of the First Crusade's seizure of Jerusalem.\",\n",
       " 'Until he reached the age of majority, which was 15 in the Kingdom of Jerusalem, Baldwin needed a regent to rule in his name.',\n",
       " 'The government was initially assumed by the seneschal, Miles of Plancy.',\n",
       " \"Shortly thereafter Count Raymond III of Tripoli arrived in Jerusalem and succeeded in claiming regency as the king's closest kinsman.\",\n",
       " 'Miles was murdered while trying to extend his hold on the government.',\n",
       " 'No new seneschal was appointed for two years, and so the young and sickly king presided over burdensome High Court meetings when the regent was away on military duties or in Tripoli.',\n",
       " \"Baldwin's mother, Agnes, returned to court when Raymond became regent.\",\n",
       " \"She is frequently accused by historians of exploiting her son's condition for self-gain, but the contemporary sources, including Baldwin's tutor, William of Tyre, are biased against her.\",\n",
       " 'Having grown up without her since the age of two, Baldwin IV had no memories of his mother, but she became devotedly kind to him and he developed a strong attachment to her.',\n",
       " 'During the regency it became clear that the king was indeed affected by leprosy.',\n",
       " 'It is not clear from whom he caught it, but it must have been someone with whom he spent a lot of time and who did not exhibit easily visible symptoms.',\n",
       " 'Puberty may have accelerated the development of the lepromatous form of the illness.',\n",
       " 'His condition worsened rapidly.',\n",
       " 'Most severely affected were his limbs and face, which made his subjects uneasy when they approached him.',\n",
       " 'Yet, contrary to the common practice and to the surprise of Muslim observers, Baldwin was never segregated.',\n",
       " 'As a leper, Baldwin could not marry or expect to have children.',\n",
       " \"It thus became a priority to arrange a marriage for Baldwin's sister and heir presumptive, Sibylla.\",\n",
       " \"Raymond's choice was William of Montferrat, son of Margrave William V of Montferrat in Piedmont, Italy, and cousin of both the Holy Roman Emperor Frederick Barbarossa and King Louis VII of France.\",\n",
       " \"On the second anniversary of his coronation, 15 July 1176, Baldwin reached the age of majority and Raymond's regency lapsed.\",\n",
       " 'At the suggestion of his mother, the king appointed his loyal and capable maternal uncle, Joscelin of Courtenay, to the office of seneschal and arranged for him to marry a rich heiress, Agnes of Milly.',\n",
       " 'The change in government signalled a new Frankish approach to the Egyptian ruler Saladin, who had been allowed by Raymond to encircle the crusader states by conquering Muslim principalities in Syria.',\n",
       " \"Baldwin did not ratify Raymond's peace treaty with Saladin, firmly agreeing with Joscelin that the sultan's power needed to be curbed.\",\n",
       " 'As soon as he took over the government, Baldwin began planning a full-scale attack on Egypt with his advisers.',\n",
       " \"The king took advantage of Saladin's campaign in Aleppo to lead a raid around Damascus.\",\n",
       " 'This was his first experience of warfare.',\n",
       " 'Despite having use of only one hand, he refused to delegate his military duties and took part in fighting.',\n",
       " \"He and his advisers then decided to intervene in Saladin's war against the Order of Assassins.\",\n",
       " 'On 1 August, Baldwin and Raymond led the armies of Jerusalem and Tripoli, respectively, in a raid of the Beqaa Valley (modern-day Lebanon), where they defeated the garrison of Damascus, forcing Saladin to abandon his campaign.',\n",
       " \"William of Montferrat married Baldwin's sister, Sibylla, in November 1176 despite misgivings of the nobles who no longer trusted his cousin Emperor Frederick's ability to aid the kingdom.\",\n",
       " 'Baldwin offered to resign the throne to William according to Sicard of Cremona; if he did, William declined because he knew he lacked the support of the nobility.',\n",
       " 'In order to carry out his attack on Egypt, Baldwin needed naval support.',\n",
       " \"He thus sent Raynald of Châtillon to lead an embassy to Emperor Manuel, Raynald's stepson-in-law, in Constantinople in the winter of 1176–77.\",\n",
       " 'Manuel agreed to take part in the invasion in return for the establishment of Byzantine protectorate over the kingdom and restoration of the Orthodox patriarch, Leontius II, in Jerusalem.',\n",
       " \"As Raynald's mission was successful, Baldwin consented to his marriage with the lady of Oultrejordain, Stephanie of Milly.\",\n",
       " \"In April 1177, William of Monferrat fell sick with malaria in Ascalon, of which he had been made count on his marriage to the king's sister.\",\n",
       " 'Baldwin visited him and became gravely ill too.',\n",
       " 'William died in June, leaving Sibylla pregnant and incapacitated Baldwin without a deputy ahead of a major war offensive.',\n",
       " 'The king entrusted the government and military command to Raynald, snubbing the count of Tripoli.',\n",
       " \"Baldwin's first cousin Count Philip I of Flanders arrived in the East in September.\",\n",
       " 'He brought to Baldwin financial aid from another cousin, King Henry II of England.',\n",
       " 'Henry was invested because he and Baldwin both belonged to the Angevin family.',\n",
       " 'Still in sickbed in Ascalon, the king had himself taken back to Jerusalem in a litter and convened a general council, on the advice of which he offered regency to Philip.',\n",
       " 'Philip declined, and Raynald retained his post.',\n",
       " \"The Byzantines sent a war fleet in preparation of the invasion of Egypt, but to Baldwin's regret, they withdrew due to uncooperativeness of Philip of Flanders, Bohemond of Antioch, Raymond of Tripoli, and the grand master of the Knights Hospitaller, Roger de Moulins.\",\n",
       " \"Saladin's power remained unchecked, and the Byzantine alliance collapsed.\",\n",
       " 'Despite the hostility of the Latin patriarch, Amalric of Nesle, Baldwin continued to court the Greek patriarch, Leontius, in hopes that the Byzantines would remain committed to his kingdom.',\n",
       " 'Philip left the Kingdom of Jerusalem with his troops in late October 1177 to help Raymond of Tripoli attack the Muslim-held city of Hama.',\n",
       " \"With the Frankish army in northern Syria, Saladin seized the opportunity to invade Baldwin's kingdom on 18 November.\",\n",
       " 'Though still recovering from malaria, Baldwin rode to meet the sultan, while the Knights Templar hurried to defend Gaza.',\n",
       " 'The king took his humble host to Ascalon, where in desperation he issued an arrière-ban, summoning all able-bodied men.',\n",
       " 'Saladin reached Ascalon on 22 November and Baldwin led the troops out to meet him.',\n",
       " 'Seeing how drastically outnumbered he was, the king retreated into the city.',\n",
       " 'Saladin too saw the strength in his numbers and confidently proceeded towards Jerusalem.',\n",
       " 'Baldwin managed to contact the Templars, however, and ordered them to abandon Gaza and join him.',\n",
       " \"Contrary to the sultan's expectation, Baldwin and Raynald then rode out of Ascalon, joined up with the Templars, and attacked his dispersed army at Montgisard.\",\n",
       " 'The young king was in the forefront.',\n",
       " 'Saladin, who barely survived, suffered a crushing defeat.',\n",
       " 'Not having enough men to launch an offensive on the retreating Muslims, Baldwin decided to fortify the Damascene frontier.',\n",
       " 'The Templars convinced him to build a castle, Le Chastellet, on the upper River Jordan; he was reluctant because the Franks had promised not to mark that part of the border.',\n",
       " 'After protests of local Muslims, Saladin offered money to Baldwin in exchange for aborting the construction, but the king refused.',\n",
       " 'In 1178, Baldwin hosted the patriarch of the Syriac Orthodox Church, Michael the Syrian, in Jerusalem and won his lasting loyalty to Frankish cause.',\n",
       " 'In April 1179, Baldwin intended to round up the sheep passing from Damascus to Banias.',\n",
       " \"Saladin's nephew Farrukh Shah was sent to investigate the king's movement but suddenly ran into him, and a skirmish followed.\",\n",
       " 'The elderly but exceptionally able constable, Humphrey II of Toron, sustained fatal wounds while protecting the king.',\n",
       " \"Weeks later Baldwin rode out to intercept Beduin raids of Beirut and Sidon, and in June Saladin's raiding party routed Baldwin's.\",\n",
       " \"The king was unhorsed and carried to safety on a knight's back because he could not remount on his own.\",\n",
       " \"In late August, Baldwin summoned a host to Tiberias to respond to Saladin's siege of Le Chastellet, but the castle fell before the relic of the True Cross could be fetched from Jerusalem to accompany the Christian troops.\",\n",
       " \"In the winter of 1177–78, the king's widowed sister, Sibylla, gave birth to a son, Baldwin, named after the king.\",\n",
       " \"A year of official mourning for the child's father, William, concluded in June 1178, and it became appropriate to seek another husband for her.\",\n",
       " \"Baldwin of Ibelin's suit was well known, but not entertained.\",\n",
       " \"In order to avoid antagonizing the Ibelins, however, Baldwin had allowed Balian of Ibelin to marry the king's stepmother, Queen Maria, in late 1177.\",\n",
       " 'In July 1178, King Baldwin began associating Sibylla with him in some public acts, thereby acknowledging her as next in line to the throne.',\n",
       " 'He began contemplating her marriage to Duke Hugh III of Burgundy, and wrote to the king of France: \"To be deprived of the use of one\\'s limbs is of little help to one in carrying out the work of government ...',\n",
       " 'It is not fitting that a hand so weak as mine should hold power when fear of Arab aggression daily presses upon the Holy City and when my sickness increases the enemy\\'s daring.\"',\n",
       " 'During the Holy Week in 1180, the prince of Antioch and the count of Tripoli marched with their armies to Jerusalem.',\n",
       " 'It is most likely that their intention was to force the king to have Sibylla marry Baldwin of Ibelin and to then abdicate.',\n",
       " \"The king had never approved of Baldwin's ambition to marry his sister, and though he did wish to abdicate, he was not keen on having terms forced on him.\",\n",
       " \"Baldwin acted decisively before his kinsmen's armies reached Jerusalem: he arranged for Sibylla to marry a Poitevin knight, Guy of Lusignan.\",\n",
       " 'Raymond and Bohemond had no option but to accept the fait accompli, and the coup was foiled.',\n",
       " \"Baldwin had hoped to abdicate, but was prevented by deep divisions within his court that emerged following Sibylla's marriage to Guy.\",\n",
       " 'He proposed a two-year truce with Saladin, who was glad to accept in order to campaign freely in northern Syria.',\n",
       " 'Baldwin sent his uncle and chief minister, Joscelin, to assure the Byzantine court that Jerusalem still needed their protection.',\n",
       " \"During Joscelin's absence, from mid-1180 to mid-1181, the full burden of government fell on the shoulders of the king, whose health was deteriorating.\",\n",
       " 'He relied chiefly on his mother in this period.',\n",
       " \"To secure Guy's position and prevent the emergence of an alternative claimant, Baldwin had his 8-year-old half-sister, Isabella, solemnly betrothed to the teenaged lord of Toron, Humphrey IV, in October 1180.\",\n",
       " \"Isabella was then sent to live at Kerak Castle with the lady of Oultrejourdain, Humphrey's mother, as far as possible from her maternal kin and potential conspirators.\",\n",
       " 'By the terms of the marriage contract, Humphrey ceded Toron to Baldwin, who thus prevented the union of two great fiefs under one vassal and strengthened his position against the count of Tripoli.',\n",
       " 'Baldwin made use of the truce with Saladin to strengthen the position of his maternal kin, granting Maron and Chastelneuf to Joscelin and usufruct of Toron to Agnes, while associating Guy and Sibylla with him in public acts.',\n",
       " 'He remained unreconciled with Raymond, however, and forbade the count to enter the kingdom in early 1182 due to suspicions of another conspiracy.',\n",
       " 'Baldwin likely intended to charge Raymond with treason and deprive him of the Principality of Galilee, a fief of Jerusalem held by Raymond through marriage to Eschiva of Bures.',\n",
       " 'The law prevented the king from seizing the fief without the assent of the High Court, and the High Court urged the king to reconcile with Raymond.',\n",
       " \"The king reluctantly heeded his vassals' advice.\",\n",
       " \"Baldwin's truce with Saladin was due to expire in May 1182, but was broken in mid-1181 by Raynald, who seized a merchant caravan on its way from Egypt to Damascus.\",\n",
       " \"Raynald ignored the king's request to make restitution to Saladin, who was then preparing to annex the Zengid-ruled Aleppo.\",\n",
       " \"The king, who consistently acted against Saladin's attempts to expand into northern Syria, decided to oppose him.\",\n",
       " 'The recent anti-Catholic coup in Constantinople gave Saladin confidence to attack the Kingdom of Jerusalem.',\n",
       " \"In July, Baldwin marched with his host to relieve the Muslims' siege of Bethsan, and his outnumbered army won the Battle of Le Forbelet.\",\n",
       " 'Historian Bernard Hamilton attributes the victory to the respect and loyalty commanded by Baldwin, who stayed on the battlefield despite his illness and intense heat.',\n",
       " 'The defeated sultan took his host to besiege Beirut, while another army from Egypt attacked the south of the kingdom.',\n",
       " 'Baldwin knew that he was being provoked into dividing his forces.',\n",
       " 'Deciding that Beirut was of a greater strategic importance, he ignored the southern attack and moved with his troops to Tyre.',\n",
       " \"From there he procured assistance from the Italian maritime republics in lifting Saladin's naval blockade of Beirut.\",\n",
       " 'Saladin abandoned the siege, but declined to make a truce, worrying Baldwin and his advisers.',\n",
       " \"He proceeded north to fight the Zengids, thereby expanding his realm, while Baldwin led an attack on Saladin's Damascene territory, then on Bosra, before finally laying siege and capturing Cave de Sueth.\",\n",
       " 'In the winter of 1182–3, after agreeing on a strategy with his council, Baldwin attacked Damascus again.',\n",
       " 'He threatened to destroy a mosque in Darayya, but local Christians convinced him not to for fear of losing their churches in retaliation.',\n",
       " 'Baldwin could not walk unsupported or use his hands from 1183.',\n",
       " 'Due to an inability to blink, his cornea dried and he became blind.',\n",
       " \"He nevertheless had to summon his troops in response to Saladin's march south following the Egyptian conquest of Aleppo in June.\",\n",
       " 'The king then developed a life-threatening fever.',\n",
       " 'He was attended by his mother and the new patriarch, Heraclius, at nearby Nazareth.',\n",
       " 'Having summoned the High Court to his bedside, Baldwin entrusted the government to his brother-in-law, Guy, who was next in line to succeed him.',\n",
       " \"Guy's appointment to regency was meant to be permanent.\",\n",
       " 'Baldwin retained only the royal title and authority over the city of Jerusalem, but he had Guy swear that, while Baldwin lived, he would not make himself king or alienate parts of the royal demesne.',\n",
       " 'Fearing discontent among his barons, Baldwin had failed to give Guy any experience in military leadership prior to making him regent.',\n",
       " 'Indeed, the great lords of the kingdom, the independent rulers of Antioch and Tripoli, and the grand masters of the military orders refused to cooperate with Guy.',\n",
       " 'Baldwin recovered unexpectedly and returned to Jerusalem.',\n",
       " 'Having found that coastal climate suited his health, Baldwin offered Jerusalem to Guy in exchange for Tyre.',\n",
       " 'Guy brusquely refused, possibly because Tyre was more lucrative, leaving Baldwin gravely insulted.',\n",
       " \"The wedding of Baldwin's half-sister, Isabella, and Humphrey IV of Toron was celebrated in Kerak in late 1183.\",\n",
       " \"Saladin attacked during the festivities and laid siege to the castle, hoping to capture the king's half-sister and her husband.\",\n",
       " 'The retired king had gathered a council in Jerusalem to inform him about the government of the kingdom when news about the siege reached him.',\n",
       " \"He immediately dismissed Guy from regency and resumed power, as the defense of such a vital fortress and the king's half-sister within it could not be entrusted to the man who had proven unable to command the troops.\",\n",
       " \"Guy's removal from regency was effectively disinheritance; at the council's insistence, deliberations about the succession followed.\",\n",
       " \"The proposal of the king's mother that Sibylla's five-year-old son, Baldwin, be made co-king was accepted, and the boy was crowned on 20 November.\",\n",
       " 'In late November, Baldwin IV ordered the lighting of a beacon on the Tower of David, which may have been the first in a chain of such beacons, in order to hearten the defenders of the intensely bombarded Kerak.',\n",
       " 'Baldwin accompanied his troops again, but having become blind and immobile, this time he went in a litter slung between two horses.',\n",
       " 'His presence was essential to unite the discordant barons.',\n",
       " 'Even his humiliated brother-in-law led his men.',\n",
       " \"Warned by his scouts about the king's approach and concerned about having left Egypt unguarded, Saladin abandoned the siege on 4 December.\",\n",
       " 'Baldwin entered Kerak triumphantly.',\n",
       " 'The question of regency for his nephew troubled Baldwin.',\n",
       " 'The only way to ensure that Guy could not claim it was to have his marriage to Sibylla annulled.',\n",
       " 'Baldwin discussed this with the patriarch, Heraclius.',\n",
       " 'Baldwin may have intended to claim that he had forced Sibylla to marry Guy and that the marriage was unlawful because of that.',\n",
       " \"Sibylla's unwavering loyalty to Guy thwarted his plans, as the couple refused to appear at court.\",\n",
       " 'Early in 1184, Baldwin ordered Guy to attend him as vassal in Jerusalem.',\n",
       " 'Guy declined, citing poor health, and this was repeated several times.',\n",
       " 'Baldwin then had himself carried to Ascalon in the company of the High Court.',\n",
       " 'Guy refused to let him into the city.',\n",
       " 'From the battlements and towers the inhabitants witnessed the king ceremoniously knocking and demanding admission.',\n",
       " 'He was welcomed in Jaffa, where he installed a governor, thereby depriving Guy of half of his county.',\n",
       " \"In Acre, Baldwin summoned his council, probably to discuss the seizure of Guy's fief.\",\n",
       " 'The patriarch and the grand masters begged Baldwin to forgive Guy in order to avoid a civil war.',\n",
       " 'This was as unacceptable to Baldwin as it would have been to any contemporary king.',\n",
       " 'The patriarch and the grand masters stormed out of the council, swaying the rest of the assembly to withhold support for the action.',\n",
       " 'Baldwin was reconciled with the patriarch and the grand masters by June, when he sent them to Europe on a diplomatic mission to seek aid for the kingdom, and informed them by letter that Saladin was once more besieging Kerak.',\n",
       " 'Again, Saladin abandoned the siege when the litter-bound king approached with his army.',\n",
       " 'Once in Kerak, Baldwin ordered and financed the reparations of the damaged castle.',\n",
       " \"In late 1184, Baldwin was shocked to learn about Guy's massacre of the Beduin of the royal fief of Darum, who were under royal protection and who provided information about the Egyptians' movements.\",\n",
       " 'He soon developed a fever.',\n",
       " 'When he returned to Jerusalem in late 1184 or early 1185, Baldwin bestowed regency on Raymond of Tripoli, the man whom he had never trusted, but to whom he could find no better alternative.',\n",
       " 'At the time he expected to survive the illness, having done so twice before, but within weeks it became apparent that it would be his last.',\n",
       " 'On his deathbed he summoned the High Court to appoint a permanent regent for his nephew, Baldwin V, and Raymond was chosen.',\n",
       " 'The dying king then ordered that homage be rendered to his nephew as king and to Raymond as regent, to be followed by a solemn crown-wearing ceremony at the Church of the Holy Sepulchre.',\n",
       " 'Baldwin died, attended by his vassals, in March 1185 or before 16 May 1185 at the latest, when his nephew is recorded as the sole king.',\n",
       " 'He was buried in the Church of the Holy Sepulchre, close to his father, King Amalric.',\n",
       " 'His tomb would remain untouched along with the other royal tombs of the kingdom until 1809–1810, when they were destroyed by the Othodox greeks, as said tombs layed in their section of the Church of the Holy Sepulchre.',\n",
       " \"[106][107] It is unclear if the remains of those kings were exhumed; some researchers hypothesize that some of them may still be in unmarked pits under the church's pavement.\",\n",
       " '[108]\\n\\nThe young Baldwin V died the next year.',\n",
       " 'Sibylla, who succeeded her son, made Guy king.',\n",
       " \"Baldwin IV's realm was destroyed by Saladin following his decisive victory over Guy at the Horns of Hattin in 1187.\",\n",
       " 'Sibylla and their daughters died in 1190, leaving Isabella I as the heir to the defeated kingdom.',\n",
       " \"Christian defeat at Hattin two years after Baldwin's death marred the king's legacy, with historians tracing fatal discord to Baldwin's reign.\",\n",
       " 'Yet, while Baldwin was on the throne, the kingdom lost no territory and flourished economically and spiritually.',\n",
       " \"Baldwin understood the importance of curbing Saladin's power, which was reflected in his choice of ministers.\",\n",
       " 'He did not devise strategy or diplomacy alone, and delegated Church patronage and finances to his mother, Agnes, and uncle, Joscelin, respectively.',\n",
       " 'His chief contribution was his determination not to abdicate before finding a suitable successor, despite leprosy making government an unbearable burden.',\n",
       " 'As was clear during his reign and especially in its disastrous aftermath, Baldwin alone preserved unity in the kingdom.',\n",
       " 'Contemporary Christian theologians were divided on the issue of leprosy.',\n",
       " 'Pope Alexander III showed little sympathy when writing about Baldwin, declaring leprosy a \"just judgement of God\", but another school of thought encouraged the faithful to see Christ in the affected.',\n",
       " \"Baldwin's reign may have led to a lesser stigmatization of the illness in the 13th-century Kingdom of Jerusalem.\",\n",
       " \"His subjects' acceptance of his illness confounded Muslims.\",\n",
       " \"Imad ad-Din al-Isfahani wrote:\\n\\nBaldwin's public image may have been aided by his chastity, seen as evidence of extraordinary sanctity, and his success against Saladin was interpreted as a sign of God's favour.\",\n",
       " 'After the disastrous Seventh Crusade, a crusader was told by an old man in Damascus:\\n\\nAlong his perceived sanctity, Baldwin was primarily a knight, both in character and in upbringing, and to contemporaries his most distinctive traits were his courage and honourableness.',\n",
       " '• Kingdom of Heaven – film portraying King Baldwin (played by Edward Norton) as a fragile but courageous young king who mostly remains secluded in his palace and wears a silver mask to hide his leprosy, although he is shown leading his troops on horseback.',\n",
       " 'There are no historical accounts of Baldwin actually wearing a mask to hide his leprosy.',\n",
       " '• None Hamilton, Bernard (2000).',\n",
       " 'The Leper King and His Heirs: Baldwin IV and the Crusader Kingdom of Jerusalem.',\n",
       " 'Cambridge University Press.',\n",
       " 'ISBN .',\n",
       " '• None Mitchell, Piers D. (2000).',\n",
       " '\"An evaluation of the leprosy of King Baldwin IV of Jerusalem in the context of the medieval world\".',\n",
       " 'The Leper King and His Heirs: Baldwin IV and the Crusader Kingdom of Jerusalem.',\n",
       " 'By Hamilton, Bernard.',\n",
       " 'Cambridge University Press.',\n",
       " 'pp.',\n",
       " '245–258.',\n",
       " 'ISBN .',\n",
       " '• None Riley-Smith, Jonathan (1973).',\n",
       " 'The feudal nobility and the kingdom of Jerusalem, 1147–1277.',\n",
       " 'Macmillan.',\n",
       " '• None Runciman, Steven (1952).',\n",
       " 'A History of the Crusades: The Kingdom of Jerusalem and the Frankish East, 1100–1187.',\n",
       " 'Vol.',\n",
       " '2.',\n",
       " 'Cambridge University Press.',\n",
       " 'ISBN .']"
      ]
     },
     "execution_count": 6,
     "metadata": {},
     "output_type": "execute_result"
    }
   ],
   "source": [
    "original_sentences = [sentence for sentence in nltk.sent_tokenize(article.cleaned_text)]\n",
    "original_sentences"
   ]
  },
  {
   "cell_type": "code",
   "execution_count": 7,
   "metadata": {},
   "outputs": [],
   "source": [
    "from IPython.core.display import HTML\n",
    "def visualize(title, sentence_list, best_sentences):\n",
    "  text = ''\n",
    "\n",
    "  display(HTML(f'<h1>Summary - {title}</h1>'))\n",
    "  for sentence in sentence_list:\n",
    "    if sentence in best_sentences:\n",
    "      text += ' ' + str(sentence).replace(sentence, f\"<mark>{sentence}</mark>\")\n",
    "    else:\n",
    "      text += ' ' + sentence\n",
    "  display(HTML(f\"\"\" {text} \"\"\"))"
   ]
  },
  {
   "cell_type": "code",
   "execution_count": 8,
   "metadata": {},
   "outputs": [],
   "source": [
    "# %pip install git+https://github.com/huggingface/transformers"
   ]
  },
  {
   "cell_type": "code",
   "execution_count": 9,
   "metadata": {},
   "outputs": [],
   "source": [
    "from transformers import BigBirdTokenizer"
   ]
  },
  {
   "cell_type": "code",
   "execution_count": 10,
   "metadata": {},
   "outputs": [],
   "source": [
    "import torch\n",
    "from summarizer.bert import Summarizer"
   ]
  },
  {
   "cell_type": "code",
   "execution_count": 12,
   "metadata": {},
   "outputs": [
    {
     "name": "stderr",
     "output_type": "stream",
     "text": [
      "c:\\Projects\\Text-Summarization\\venv\\Lib\\site-packages\\sklearn\\cluster\\_kmeans.py:1412: FutureWarning: The default value of `n_init` will change from 10 to 'auto' in 1.4. Set the value of `n_init` explicitly to suppress the warning\n",
      "  super()._check_params_vs_input(X, default_n_init=10)\n"
     ]
    }
   ],
   "source": [
    "summarizer = Summarizer()\n",
    "summary = summarizer(article.cleaned_text)"
   ]
  },
  {
   "cell_type": "code",
   "execution_count": 13,
   "metadata": {},
   "outputs": [
    {
     "data": {
      "text/plain": [
       "'Baldwin IV (French: Baudouin; 1161–1185), called the Leper King, was King of Jerusalem from 1174 until his death in 1185. He was admired by his contemporaries and later historians for his willpower and dedication to the Latin kingdom in the face of debilitating leprosy, which eventually left him blind and unable to use either his hands or his feet. Choosing competent advisers, Baldwin ruled a thriving realm and succeeded in protecting it from the Ayyubid Muslim ruler Saladin. Thereafter his hands and face became increasingly disfigured. Guy was opposed by a large fraction of the nobility, and soon permanently impaired his relationship with Baldwin. The internal discord that followed forced Baldwin to remain king, as only he was capable of uniting the quarreling nobility. The nine-year-old prince was sent to live with William of Tyre, a sophisticated and well-traveled cleric who was famed for his learning. The king hired Arabs to treat Baldwin and to teach him horse riding, an essential skill for a Frankish nobleman. Leprosy was suspected, but there were no visible symptoms yet and physicians hesitated to diagnose because of the stigma the boy would face. He took after his father in good looks, body shape, and manner of walking and expressing himself. Baldwin was a quick learner, but he stuttered. Upon Amalric\\'s death, the High Court convened to discuss the succession. Shortly thereafter Count Raymond III of Tripoli arrived in Jerusalem and succeeded in claiming regency as the king\\'s closest kinsman. Miles was murdered while trying to extend his hold on the government. This was his first experience of warfare. Despite having use of only one hand, he refused to delegate his military duties and took part in fighting. On 1 August, Baldwin and Raymond led the armies of Jerusalem and Tripoli, respectively, in a raid of the Beqaa Valley (modern-day Lebanon), where they defeated the garrison of Damascus, forcing Saladin to abandon his campaign. Baldwin visited him and became gravely ill too. He brought to Baldwin financial aid from another cousin, King Henry II of England. Still in sickbed in Ascalon, the king had himself taken back to Jerusalem in a litter and convened a general council, on the advice of which he offered regency to Philip. With the Frankish army in northern Syria, Saladin seized the opportunity to invade Baldwin\\'s kingdom on 18 November. In 1178, Baldwin hosted the patriarch of the Syriac Orthodox Church, Michael the Syrian, in Jerusalem and won his lasting loyalty to Frankish cause. In April 1179, Baldwin intended to round up the sheep passing from Damascus to Banias. The elderly but exceptionally able constable, Humphrey II of Toron, sustained fatal wounds while protecting the king. In late August, Baldwin summoned a host to Tiberias to respond to Saladin\\'s siege of Le Chastellet, but the castle fell before the relic of the True Cross could be fetched from Jerusalem to accompany the Christian troops. The king had never approved of Baldwin\\'s ambition to marry his sister, and though he did wish to abdicate, he was not keen on having terms forced on him. He relied chiefly on his mother in this period. Historian Bernard Hamilton attributes the victory to the respect and loyalty commanded by Baldwin, who stayed on the battlefield despite his illness and intense heat. Due to an inability to blink, his cornea dried and he became blind. The king then developed a life-threatening fever. Baldwin recovered unexpectedly and returned to Jerusalem. Guy brusquely refused, possibly because Tyre was more lucrative, leaving Baldwin gravely insulted. The proposal of the king\\'s mother that Sibylla\\'s five-year-old son, Baldwin, be made co-king was accepted, and the boy was crowned on 20 November. His presence was essential to unite the discordant barons. Even his humiliated brother-in-law led his men. Sibylla\\'s unwavering loyalty to Guy thwarted his plans, as the couple refused to appear at court. Guy declined, citing poor health, and this was repeated several times. Baldwin then had himself carried to Ascalon in the company of the High Court. This was as unacceptable to Baldwin as it would have been to any contemporary king. The patriarch and the grand masters stormed out of the council, swaying the rest of the assembly to withhold support for the action. Sibylla, who succeeded her son, made Guy king. Pope Alexander III showed little sympathy when writing about Baldwin, declaring leprosy a \"just judgement of God\", but another school of thought encouraged the faithful to see Christ in the affected. There are no historical accounts of Baldwin actually wearing a mask to hide his leprosy. The Leper King and His Heirs: Baldwin IV and the Crusader Kingdom of Jerusalem. An evaluation of the leprosy of King Baldwin IV of Jerusalem in the context of the medieval world\". A History of the Crusades: The Kingdom of Jerusalem and the Frankish East, 1100–1187.'"
      ]
     },
     "execution_count": 13,
     "metadata": {},
     "output_type": "execute_result"
    }
   ],
   "source": [
    "summary"
   ]
  },
  {
   "cell_type": "code",
   "execution_count": 14,
   "metadata": {},
   "outputs": [],
   "source": [
    "summary_tokenized = [sentence for sentence in nltk.sent_tokenize(summary)]"
   ]
  },
  {
   "cell_type": "code",
   "execution_count": 15,
   "metadata": {},
   "outputs": [
    {
     "data": {
      "text/plain": [
       "['Baldwin IV (French: Baudouin; 1161–1185), called the Leper King, was King of Jerusalem from 1174 until his death in 1185.',\n",
       " 'He was admired by his contemporaries and later historians for his willpower and dedication to the Latin kingdom in the face of debilitating leprosy, which eventually left him blind and unable to use either his hands or his feet.',\n",
       " 'Choosing competent advisers, Baldwin ruled a thriving realm and succeeded in protecting it from the Ayyubid Muslim ruler Saladin.',\n",
       " 'Thereafter his hands and face became increasingly disfigured.',\n",
       " 'Guy was opposed by a large fraction of the nobility, and soon permanently impaired his relationship with Baldwin.',\n",
       " 'The internal discord that followed forced Baldwin to remain king, as only he was capable of uniting the quarreling nobility.',\n",
       " 'The nine-year-old prince was sent to live with William of Tyre, a sophisticated and well-traveled cleric who was famed for his learning.',\n",
       " 'The king hired Arabs to treat Baldwin and to teach him horse riding, an essential skill for a Frankish nobleman.',\n",
       " 'Leprosy was suspected, but there were no visible symptoms yet and physicians hesitated to diagnose because of the stigma the boy would face.',\n",
       " 'He took after his father in good looks, body shape, and manner of walking and expressing himself.',\n",
       " 'Baldwin was a quick learner, but he stuttered.',\n",
       " \"Upon Amalric's death, the High Court convened to discuss the succession.\",\n",
       " \"Shortly thereafter Count Raymond III of Tripoli arrived in Jerusalem and succeeded in claiming regency as the king's closest kinsman.\",\n",
       " 'Miles was murdered while trying to extend his hold on the government.',\n",
       " 'This was his first experience of warfare.',\n",
       " 'Despite having use of only one hand, he refused to delegate his military duties and took part in fighting.',\n",
       " 'On 1 August, Baldwin and Raymond led the armies of Jerusalem and Tripoli, respectively, in a raid of the Beqaa Valley (modern-day Lebanon), where they defeated the garrison of Damascus, forcing Saladin to abandon his campaign.',\n",
       " 'Baldwin visited him and became gravely ill too.',\n",
       " 'He brought to Baldwin financial aid from another cousin, King Henry II of England.',\n",
       " 'Still in sickbed in Ascalon, the king had himself taken back to Jerusalem in a litter and convened a general council, on the advice of which he offered regency to Philip.',\n",
       " \"With the Frankish army in northern Syria, Saladin seized the opportunity to invade Baldwin's kingdom on 18 November.\",\n",
       " 'In 1178, Baldwin hosted the patriarch of the Syriac Orthodox Church, Michael the Syrian, in Jerusalem and won his lasting loyalty to Frankish cause.',\n",
       " 'In April 1179, Baldwin intended to round up the sheep passing from Damascus to Banias.',\n",
       " 'The elderly but exceptionally able constable, Humphrey II of Toron, sustained fatal wounds while protecting the king.',\n",
       " \"In late August, Baldwin summoned a host to Tiberias to respond to Saladin's siege of Le Chastellet, but the castle fell before the relic of the True Cross could be fetched from Jerusalem to accompany the Christian troops.\",\n",
       " \"The king had never approved of Baldwin's ambition to marry his sister, and though he did wish to abdicate, he was not keen on having terms forced on him.\",\n",
       " 'He relied chiefly on his mother in this period.',\n",
       " 'Historian Bernard Hamilton attributes the victory to the respect and loyalty commanded by Baldwin, who stayed on the battlefield despite his illness and intense heat.',\n",
       " 'Due to an inability to blink, his cornea dried and he became blind.',\n",
       " 'The king then developed a life-threatening fever.',\n",
       " 'Baldwin recovered unexpectedly and returned to Jerusalem.',\n",
       " 'Guy brusquely refused, possibly because Tyre was more lucrative, leaving Baldwin gravely insulted.',\n",
       " \"The proposal of the king's mother that Sibylla's five-year-old son, Baldwin, be made co-king was accepted, and the boy was crowned on 20 November.\",\n",
       " 'His presence was essential to unite the discordant barons.',\n",
       " 'Even his humiliated brother-in-law led his men.',\n",
       " \"Sibylla's unwavering loyalty to Guy thwarted his plans, as the couple refused to appear at court.\",\n",
       " 'Guy declined, citing poor health, and this was repeated several times.',\n",
       " 'Baldwin then had himself carried to Ascalon in the company of the High Court.',\n",
       " 'This was as unacceptable to Baldwin as it would have been to any contemporary king.',\n",
       " 'The patriarch and the grand masters stormed out of the council, swaying the rest of the assembly to withhold support for the action.',\n",
       " 'Sibylla, who succeeded her son, made Guy king.',\n",
       " 'Pope Alexander III showed little sympathy when writing about Baldwin, declaring leprosy a \"just judgement of God\", but another school of thought encouraged the faithful to see Christ in the affected.',\n",
       " 'There are no historical accounts of Baldwin actually wearing a mask to hide his leprosy.',\n",
       " 'The Leper King and His Heirs: Baldwin IV and the Crusader Kingdom of Jerusalem.',\n",
       " 'An evaluation of the leprosy of King Baldwin IV of Jerusalem in the context of the medieval world\".',\n",
       " 'A History of the Crusades: The Kingdom of Jerusalem and the Frankish East, 1100–1187.']"
      ]
     },
     "execution_count": 15,
     "metadata": {},
     "output_type": "execute_result"
    }
   ],
   "source": [
    "summary_tokenized"
   ]
  },
  {
   "cell_type": "code",
   "execution_count": 16,
   "metadata": {},
   "outputs": [
    {
     "data": {
      "text/html": [
       "<h1>Summary - Baldwin IV of Jerusalem - Wikipedia</h1>"
      ],
      "text/plain": [
       "<IPython.core.display.HTML object>"
      ]
     },
     "metadata": {},
     "output_type": "display_data"
    },
    {
     "data": {
      "text/html": [
       "  <mark>Baldwin IV (French: Baudouin; 1161–1185), called the Leper King, was King of Jerusalem from 1174 until his death in 1185.</mark> <mark>He was admired by his contemporaries and later historians for his willpower and dedication to the Latin kingdom in the face of debilitating leprosy, which eventually left him blind and unable to use either his hands or his feet.</mark> <mark>Choosing competent advisers, Baldwin ruled a thriving realm and succeeded in protecting it from the Ayyubid Muslim ruler Saladin.</mark> Baldwin developed the first symptoms of his leprosy as a child but was only diagnosed after his accession on the death of his father, King Amalric. <mark>Thereafter his hands and face became increasingly disfigured.</mark> Count Raymond III of Tripoli ruled the kingdom in Baldwin's name until the king reached the age of majority in 1176. As soon as he assumed government, Baldwin planned an invasion of Egypt, which fell through due to his vassals' uncooperativeness. Saladin in turn attacked Baldwin's kingdom in 1177, but the king and the nobleman Raynald of Châtillon repelled him at Montgisard, earning Baldwin fame. The young king mastered horse riding despite gradually losing sensation in his extremities and was able to fight in battles until his last years. Leprosy precluded Baldwin from marrying. He hoped to abdicate when his sister, Sibylla, married William of Montferrat in 1176, but William died the next year. In 1180, in order to forestall a coup by Count Raymond III of Tripoli and Prince Bohemond III of Antioch, Baldwin had Sibylla marry Guy of Lusignan. <mark>Guy was opposed by a large fraction of the nobility, and soon permanently impaired his relationship with Baldwin.</mark> <mark>The internal discord that followed forced Baldwin to remain king, as only he was capable of uniting the quarreling nobility.</mark> Baldwin again repelled Saladin in 1182, but leprosy rendered him blind and unable to walk or use his hands in 1183. He disinherited Guy and had Sibylla's son, Baldwin V, crowned co-king before having himself taken in a litter to lift Saladin's siege of Kerak. Baldwin failed to have Sibylla's marriage to Guy annulled and Guy's fief of Ascalon confiscated. In early 1185, he arranged for Raymond to rule as regent for Sibylla's son and died before 16 May. Baldwin was born in mid-1161. His parents were Amalric, then the count of Jaffa and Ascalon, and Agnes of Courtenay. Baldwin's godfather was his paternal uncle, King Baldwin III, who joked that his christening present was the Kingdom of Jerusalem. The king was then young and recently married, so a nephew's accession seemed unlikely, but he died childless in 1163. Amalric was his heir, but the nobles of the kingdom were strongly opposed to Amalric's wife, Agnes; they were likely threatened by the prospect of her increased influence. The High Court forced Amalric to agree to an annulment of his marriage on the grounds of consanguinity in order to be accepted as king. Amalric succeeded in having his and Agnes's children, Sibylla and Baldwin, declared legitimate despite the annulment. Baldwin grew up without a mother, who soon married the nobleman Hugh of Ibelin and only saw Baldwin on public occasions. He also seldom saw his sister, Sibylla, who was raised in the Convent of Saint Lazarus by their grandaunt Ioveta. At the age of six Baldwin gained a stepmother, Maria Komnene, with whom he was not close. The queen was an ambitious woman who likely saw Baldwin as an obstacle to her own children. The Kingdom of Jerusalem and other crusader states were ruled by Franks, French-speaking Catholics who had arrived in the Levant from Western Europe and remained Western in culture. Amalric ensured that Baldwin, as the heir apparent, received a good education. <mark>The nine-year-old prince was sent to live with William of Tyre, a sophisticated and well-traveled cleric who was famed for his learning.</mark> William noticed that, unlike other children in the playground, Baldwin did not cry when pinched by his peers. After a while it became apparent to the tutor that Baldwin could feel no pain in his right arm. <mark>The king hired Arabs to treat Baldwin and to teach him horse riding, an essential skill for a Frankish nobleman.</mark> Having sensation in only one hand, Baldwin needed to learn to control the horse in battle using solely his knees, and mastered riding despite the handicap. <mark>Leprosy was suspected, but there were no visible symptoms yet and physicians hesitated to diagnose because of the stigma the boy would face.</mark> Had the diagnosis been made when he was a child, Baldwin might have been required by law to enter the Order of St Lazarus, a military order composed of affected knights and serjeants. As an adolescent, Baldwin was precocious, determined, and optimistic in the face of his illness. <mark>He took after his father in good looks, body shape, and manner of walking and expressing himself.</mark> <mark>Baldwin was a quick learner, but he stuttered.</mark> He enjoyed listening to stories and history lessons. His tutor, William, remarked on Baldwin's excellent memory, stating that he forgot neither kindness nor slights done to him by others. Amalric attempted to have Sibylla marry the French Count Stephen I of Sancerre, who would rule the kingdom as regent on Baldwin's behalf if Amalric died early. When physicians informed him that Baldwin could develop leprosy, Amalric may have begun viewing Sibylla and Stephen as eventual monarchs instead of Baldwin, but the match fell through. In June 1174, the king came down with dysentery. He died on 11 July, leaving an underage heir, as he had feared might happen. <mark>Upon Amalric's death, the High Court convened to discuss the succession.</mark> Though he had not yet been diagnosed, the High Court must have been aware of the royal physicians' suspicions that Baldwin had contracted leprosy. Yet there was no viable alternative. Baldwin was the king's only son; from his second marriage Amalric had two daughters, of which only Isabella survived infancy. Female succession was expressly allowed, but Sibylla was an unmarried adolescent and Isabella only two years old. The male candidates, Amalric's cousins Prince Bohemond III of Antioch, Baldwin of Antioch, and Count Raymond III of Tripoli, were politically unsuitable: Bohemond was bound to distant Antioch, Baldwin in the service of Byzantine Emperor Manuel I Komnenos, and Raymond virtually a stranger to the barons. After three days of deliberations, Baldwin IV was chosen, with the expectation that a husband would be found for Sibylla to succeed him if he proved to be affected. The young king's coronation by the Latin patriarch of Jerusalem, Amalric of Nesle, took place immediately in the Church of the Holy Sepulchre. Medieval rulers were normally crowned on Sundays, but in Baldwin's case 15 July 1174 was chosen instead because it was the 75th anniversary of the First Crusade's seizure of Jerusalem. Until he reached the age of majority, which was 15 in the Kingdom of Jerusalem, Baldwin needed a regent to rule in his name. The government was initially assumed by the seneschal, Miles of Plancy. <mark>Shortly thereafter Count Raymond III of Tripoli arrived in Jerusalem and succeeded in claiming regency as the king's closest kinsman.</mark> <mark>Miles was murdered while trying to extend his hold on the government.</mark> No new seneschal was appointed for two years, and so the young and sickly king presided over burdensome High Court meetings when the regent was away on military duties or in Tripoli. Baldwin's mother, Agnes, returned to court when Raymond became regent. She is frequently accused by historians of exploiting her son's condition for self-gain, but the contemporary sources, including Baldwin's tutor, William of Tyre, are biased against her. Having grown up without her since the age of two, Baldwin IV had no memories of his mother, but she became devotedly kind to him and he developed a strong attachment to her. During the regency it became clear that the king was indeed affected by leprosy. It is not clear from whom he caught it, but it must have been someone with whom he spent a lot of time and who did not exhibit easily visible symptoms. Puberty may have accelerated the development of the lepromatous form of the illness. His condition worsened rapidly. Most severely affected were his limbs and face, which made his subjects uneasy when they approached him. Yet, contrary to the common practice and to the surprise of Muslim observers, Baldwin was never segregated. As a leper, Baldwin could not marry or expect to have children. It thus became a priority to arrange a marriage for Baldwin's sister and heir presumptive, Sibylla. Raymond's choice was William of Montferrat, son of Margrave William V of Montferrat in Piedmont, Italy, and cousin of both the Holy Roman Emperor Frederick Barbarossa and King Louis VII of France. On the second anniversary of his coronation, 15 July 1176, Baldwin reached the age of majority and Raymond's regency lapsed. At the suggestion of his mother, the king appointed his loyal and capable maternal uncle, Joscelin of Courtenay, to the office of seneschal and arranged for him to marry a rich heiress, Agnes of Milly. The change in government signalled a new Frankish approach to the Egyptian ruler Saladin, who had been allowed by Raymond to encircle the crusader states by conquering Muslim principalities in Syria. Baldwin did not ratify Raymond's peace treaty with Saladin, firmly agreeing with Joscelin that the sultan's power needed to be curbed. As soon as he took over the government, Baldwin began planning a full-scale attack on Egypt with his advisers. The king took advantage of Saladin's campaign in Aleppo to lead a raid around Damascus. <mark>This was his first experience of warfare.</mark> <mark>Despite having use of only one hand, he refused to delegate his military duties and took part in fighting.</mark> He and his advisers then decided to intervene in Saladin's war against the Order of Assassins. <mark>On 1 August, Baldwin and Raymond led the armies of Jerusalem and Tripoli, respectively, in a raid of the Beqaa Valley (modern-day Lebanon), where they defeated the garrison of Damascus, forcing Saladin to abandon his campaign.</mark> William of Montferrat married Baldwin's sister, Sibylla, in November 1176 despite misgivings of the nobles who no longer trusted his cousin Emperor Frederick's ability to aid the kingdom. Baldwin offered to resign the throne to William according to Sicard of Cremona; if he did, William declined because he knew he lacked the support of the nobility. In order to carry out his attack on Egypt, Baldwin needed naval support. He thus sent Raynald of Châtillon to lead an embassy to Emperor Manuel, Raynald's stepson-in-law, in Constantinople in the winter of 1176–77. Manuel agreed to take part in the invasion in return for the establishment of Byzantine protectorate over the kingdom and restoration of the Orthodox patriarch, Leontius II, in Jerusalem. As Raynald's mission was successful, Baldwin consented to his marriage with the lady of Oultrejordain, Stephanie of Milly. In April 1177, William of Monferrat fell sick with malaria in Ascalon, of which he had been made count on his marriage to the king's sister. <mark>Baldwin visited him and became gravely ill too.</mark> William died in June, leaving Sibylla pregnant and incapacitated Baldwin without a deputy ahead of a major war offensive. The king entrusted the government and military command to Raynald, snubbing the count of Tripoli. Baldwin's first cousin Count Philip I of Flanders arrived in the East in September. <mark>He brought to Baldwin financial aid from another cousin, King Henry II of England.</mark> Henry was invested because he and Baldwin both belonged to the Angevin family. <mark>Still in sickbed in Ascalon, the king had himself taken back to Jerusalem in a litter and convened a general council, on the advice of which he offered regency to Philip.</mark> Philip declined, and Raynald retained his post. The Byzantines sent a war fleet in preparation of the invasion of Egypt, but to Baldwin's regret, they withdrew due to uncooperativeness of Philip of Flanders, Bohemond of Antioch, Raymond of Tripoli, and the grand master of the Knights Hospitaller, Roger de Moulins. Saladin's power remained unchecked, and the Byzantine alliance collapsed. Despite the hostility of the Latin patriarch, Amalric of Nesle, Baldwin continued to court the Greek patriarch, Leontius, in hopes that the Byzantines would remain committed to his kingdom. Philip left the Kingdom of Jerusalem with his troops in late October 1177 to help Raymond of Tripoli attack the Muslim-held city of Hama. <mark>With the Frankish army in northern Syria, Saladin seized the opportunity to invade Baldwin's kingdom on 18 November.</mark> Though still recovering from malaria, Baldwin rode to meet the sultan, while the Knights Templar hurried to defend Gaza. The king took his humble host to Ascalon, where in desperation he issued an arrière-ban, summoning all able-bodied men. Saladin reached Ascalon on 22 November and Baldwin led the troops out to meet him. Seeing how drastically outnumbered he was, the king retreated into the city. Saladin too saw the strength in his numbers and confidently proceeded towards Jerusalem. Baldwin managed to contact the Templars, however, and ordered them to abandon Gaza and join him. Contrary to the sultan's expectation, Baldwin and Raynald then rode out of Ascalon, joined up with the Templars, and attacked his dispersed army at Montgisard. The young king was in the forefront. Saladin, who barely survived, suffered a crushing defeat. Not having enough men to launch an offensive on the retreating Muslims, Baldwin decided to fortify the Damascene frontier. The Templars convinced him to build a castle, Le Chastellet, on the upper River Jordan; he was reluctant because the Franks had promised not to mark that part of the border. After protests of local Muslims, Saladin offered money to Baldwin in exchange for aborting the construction, but the king refused. <mark>In 1178, Baldwin hosted the patriarch of the Syriac Orthodox Church, Michael the Syrian, in Jerusalem and won his lasting loyalty to Frankish cause.</mark> <mark>In April 1179, Baldwin intended to round up the sheep passing from Damascus to Banias.</mark> Saladin's nephew Farrukh Shah was sent to investigate the king's movement but suddenly ran into him, and a skirmish followed. <mark>The elderly but exceptionally able constable, Humphrey II of Toron, sustained fatal wounds while protecting the king.</mark> Weeks later Baldwin rode out to intercept Beduin raids of Beirut and Sidon, and in June Saladin's raiding party routed Baldwin's. The king was unhorsed and carried to safety on a knight's back because he could not remount on his own. <mark>In late August, Baldwin summoned a host to Tiberias to respond to Saladin's siege of Le Chastellet, but the castle fell before the relic of the True Cross could be fetched from Jerusalem to accompany the Christian troops.</mark> In the winter of 1177–78, the king's widowed sister, Sibylla, gave birth to a son, Baldwin, named after the king. A year of official mourning for the child's father, William, concluded in June 1178, and it became appropriate to seek another husband for her. Baldwin of Ibelin's suit was well known, but not entertained. In order to avoid antagonizing the Ibelins, however, Baldwin had allowed Balian of Ibelin to marry the king's stepmother, Queen Maria, in late 1177. In July 1178, King Baldwin began associating Sibylla with him in some public acts, thereby acknowledging her as next in line to the throne. He began contemplating her marriage to Duke Hugh III of Burgundy, and wrote to the king of France: \"To be deprived of the use of one's limbs is of little help to one in carrying out the work of government ... It is not fitting that a hand so weak as mine should hold power when fear of Arab aggression daily presses upon the Holy City and when my sickness increases the enemy's daring.\" During the Holy Week in 1180, the prince of Antioch and the count of Tripoli marched with their armies to Jerusalem. It is most likely that their intention was to force the king to have Sibylla marry Baldwin of Ibelin and to then abdicate. <mark>The king had never approved of Baldwin's ambition to marry his sister, and though he did wish to abdicate, he was not keen on having terms forced on him.</mark> Baldwin acted decisively before his kinsmen's armies reached Jerusalem: he arranged for Sibylla to marry a Poitevin knight, Guy of Lusignan. Raymond and Bohemond had no option but to accept the fait accompli, and the coup was foiled. Baldwin had hoped to abdicate, but was prevented by deep divisions within his court that emerged following Sibylla's marriage to Guy. He proposed a two-year truce with Saladin, who was glad to accept in order to campaign freely in northern Syria. Baldwin sent his uncle and chief minister, Joscelin, to assure the Byzantine court that Jerusalem still needed their protection. During Joscelin's absence, from mid-1180 to mid-1181, the full burden of government fell on the shoulders of the king, whose health was deteriorating. <mark>He relied chiefly on his mother in this period.</mark> To secure Guy's position and prevent the emergence of an alternative claimant, Baldwin had his 8-year-old half-sister, Isabella, solemnly betrothed to the teenaged lord of Toron, Humphrey IV, in October 1180. Isabella was then sent to live at Kerak Castle with the lady of Oultrejourdain, Humphrey's mother, as far as possible from her maternal kin and potential conspirators. By the terms of the marriage contract, Humphrey ceded Toron to Baldwin, who thus prevented the union of two great fiefs under one vassal and strengthened his position against the count of Tripoli. Baldwin made use of the truce with Saladin to strengthen the position of his maternal kin, granting Maron and Chastelneuf to Joscelin and usufruct of Toron to Agnes, while associating Guy and Sibylla with him in public acts. He remained unreconciled with Raymond, however, and forbade the count to enter the kingdom in early 1182 due to suspicions of another conspiracy. Baldwin likely intended to charge Raymond with treason and deprive him of the Principality of Galilee, a fief of Jerusalem held by Raymond through marriage to Eschiva of Bures. The law prevented the king from seizing the fief without the assent of the High Court, and the High Court urged the king to reconcile with Raymond. The king reluctantly heeded his vassals' advice. Baldwin's truce with Saladin was due to expire in May 1182, but was broken in mid-1181 by Raynald, who seized a merchant caravan on its way from Egypt to Damascus. Raynald ignored the king's request to make restitution to Saladin, who was then preparing to annex the Zengid-ruled Aleppo. The king, who consistently acted against Saladin's attempts to expand into northern Syria, decided to oppose him. The recent anti-Catholic coup in Constantinople gave Saladin confidence to attack the Kingdom of Jerusalem. In July, Baldwin marched with his host to relieve the Muslims' siege of Bethsan, and his outnumbered army won the Battle of Le Forbelet. <mark>Historian Bernard Hamilton attributes the victory to the respect and loyalty commanded by Baldwin, who stayed on the battlefield despite his illness and intense heat.</mark> The defeated sultan took his host to besiege Beirut, while another army from Egypt attacked the south of the kingdom. Baldwin knew that he was being provoked into dividing his forces. Deciding that Beirut was of a greater strategic importance, he ignored the southern attack and moved with his troops to Tyre. From there he procured assistance from the Italian maritime republics in lifting Saladin's naval blockade of Beirut. Saladin abandoned the siege, but declined to make a truce, worrying Baldwin and his advisers. He proceeded north to fight the Zengids, thereby expanding his realm, while Baldwin led an attack on Saladin's Damascene territory, then on Bosra, before finally laying siege and capturing Cave de Sueth. In the winter of 1182–3, after agreeing on a strategy with his council, Baldwin attacked Damascus again. He threatened to destroy a mosque in Darayya, but local Christians convinced him not to for fear of losing their churches in retaliation. Baldwin could not walk unsupported or use his hands from 1183. <mark>Due to an inability to blink, his cornea dried and he became blind.</mark> He nevertheless had to summon his troops in response to Saladin's march south following the Egyptian conquest of Aleppo in June. <mark>The king then developed a life-threatening fever.</mark> He was attended by his mother and the new patriarch, Heraclius, at nearby Nazareth. Having summoned the High Court to his bedside, Baldwin entrusted the government to his brother-in-law, Guy, who was next in line to succeed him. Guy's appointment to regency was meant to be permanent. Baldwin retained only the royal title and authority over the city of Jerusalem, but he had Guy swear that, while Baldwin lived, he would not make himself king or alienate parts of the royal demesne. Fearing discontent among his barons, Baldwin had failed to give Guy any experience in military leadership prior to making him regent. Indeed, the great lords of the kingdom, the independent rulers of Antioch and Tripoli, and the grand masters of the military orders refused to cooperate with Guy. <mark>Baldwin recovered unexpectedly and returned to Jerusalem.</mark> Having found that coastal climate suited his health, Baldwin offered Jerusalem to Guy in exchange for Tyre. <mark>Guy brusquely refused, possibly because Tyre was more lucrative, leaving Baldwin gravely insulted.</mark> The wedding of Baldwin's half-sister, Isabella, and Humphrey IV of Toron was celebrated in Kerak in late 1183. Saladin attacked during the festivities and laid siege to the castle, hoping to capture the king's half-sister and her husband. The retired king had gathered a council in Jerusalem to inform him about the government of the kingdom when news about the siege reached him. He immediately dismissed Guy from regency and resumed power, as the defense of such a vital fortress and the king's half-sister within it could not be entrusted to the man who had proven unable to command the troops. Guy's removal from regency was effectively disinheritance; at the council's insistence, deliberations about the succession followed. <mark>The proposal of the king's mother that Sibylla's five-year-old son, Baldwin, be made co-king was accepted, and the boy was crowned on 20 November.</mark> In late November, Baldwin IV ordered the lighting of a beacon on the Tower of David, which may have been the first in a chain of such beacons, in order to hearten the defenders of the intensely bombarded Kerak. Baldwin accompanied his troops again, but having become blind and immobile, this time he went in a litter slung between two horses. <mark>His presence was essential to unite the discordant barons.</mark> <mark>Even his humiliated brother-in-law led his men.</mark> Warned by his scouts about the king's approach and concerned about having left Egypt unguarded, Saladin abandoned the siege on 4 December. Baldwin entered Kerak triumphantly. The question of regency for his nephew troubled Baldwin. The only way to ensure that Guy could not claim it was to have his marriage to Sibylla annulled. Baldwin discussed this with the patriarch, Heraclius. Baldwin may have intended to claim that he had forced Sibylla to marry Guy and that the marriage was unlawful because of that. <mark>Sibylla's unwavering loyalty to Guy thwarted his plans, as the couple refused to appear at court.</mark> Early in 1184, Baldwin ordered Guy to attend him as vassal in Jerusalem. <mark>Guy declined, citing poor health, and this was repeated several times.</mark> <mark>Baldwin then had himself carried to Ascalon in the company of the High Court.</mark> Guy refused to let him into the city. From the battlements and towers the inhabitants witnessed the king ceremoniously knocking and demanding admission. He was welcomed in Jaffa, where he installed a governor, thereby depriving Guy of half of his county. In Acre, Baldwin summoned his council, probably to discuss the seizure of Guy's fief. The patriarch and the grand masters begged Baldwin to forgive Guy in order to avoid a civil war. <mark>This was as unacceptable to Baldwin as it would have been to any contemporary king.</mark> <mark>The patriarch and the grand masters stormed out of the council, swaying the rest of the assembly to withhold support for the action.</mark> Baldwin was reconciled with the patriarch and the grand masters by June, when he sent them to Europe on a diplomatic mission to seek aid for the kingdom, and informed them by letter that Saladin was once more besieging Kerak. Again, Saladin abandoned the siege when the litter-bound king approached with his army. Once in Kerak, Baldwin ordered and financed the reparations of the damaged castle. In late 1184, Baldwin was shocked to learn about Guy's massacre of the Beduin of the royal fief of Darum, who were under royal protection and who provided information about the Egyptians' movements. He soon developed a fever. When he returned to Jerusalem in late 1184 or early 1185, Baldwin bestowed regency on Raymond of Tripoli, the man whom he had never trusted, but to whom he could find no better alternative. At the time he expected to survive the illness, having done so twice before, but within weeks it became apparent that it would be his last. On his deathbed he summoned the High Court to appoint a permanent regent for his nephew, Baldwin V, and Raymond was chosen. The dying king then ordered that homage be rendered to his nephew as king and to Raymond as regent, to be followed by a solemn crown-wearing ceremony at the Church of the Holy Sepulchre. Baldwin died, attended by his vassals, in March 1185 or before 16 May 1185 at the latest, when his nephew is recorded as the sole king. He was buried in the Church of the Holy Sepulchre, close to his father, King Amalric. His tomb would remain untouched along with the other royal tombs of the kingdom until 1809–1810, when they were destroyed by the Othodox greeks, as said tombs layed in their section of the Church of the Holy Sepulchre. [106][107] It is unclear if the remains of those kings were exhumed; some researchers hypothesize that some of them may still be in unmarked pits under the church's pavement. [108]\n",
       "\n",
       "The young Baldwin V died the next year. <mark>Sibylla, who succeeded her son, made Guy king.</mark> Baldwin IV's realm was destroyed by Saladin following his decisive victory over Guy at the Horns of Hattin in 1187. Sibylla and their daughters died in 1190, leaving Isabella I as the heir to the defeated kingdom. Christian defeat at Hattin two years after Baldwin's death marred the king's legacy, with historians tracing fatal discord to Baldwin's reign. Yet, while Baldwin was on the throne, the kingdom lost no territory and flourished economically and spiritually. Baldwin understood the importance of curbing Saladin's power, which was reflected in his choice of ministers. He did not devise strategy or diplomacy alone, and delegated Church patronage and finances to his mother, Agnes, and uncle, Joscelin, respectively. His chief contribution was his determination not to abdicate before finding a suitable successor, despite leprosy making government an unbearable burden. As was clear during his reign and especially in its disastrous aftermath, Baldwin alone preserved unity in the kingdom. Contemporary Christian theologians were divided on the issue of leprosy. <mark>Pope Alexander III showed little sympathy when writing about Baldwin, declaring leprosy a \"just judgement of God\", but another school of thought encouraged the faithful to see Christ in the affected.</mark> Baldwin's reign may have led to a lesser stigmatization of the illness in the 13th-century Kingdom of Jerusalem. His subjects' acceptance of his illness confounded Muslims. Imad ad-Din al-Isfahani wrote:\n",
       "\n",
       "Baldwin's public image may have been aided by his chastity, seen as evidence of extraordinary sanctity, and his success against Saladin was interpreted as a sign of God's favour. After the disastrous Seventh Crusade, a crusader was told by an old man in Damascus:\n",
       "\n",
       "Along his perceived sanctity, Baldwin was primarily a knight, both in character and in upbringing, and to contemporaries his most distinctive traits were his courage and honourableness. • Kingdom of Heaven – film portraying King Baldwin (played by Edward Norton) as a fragile but courageous young king who mostly remains secluded in his palace and wears a silver mask to hide his leprosy, although he is shown leading his troops on horseback. <mark>There are no historical accounts of Baldwin actually wearing a mask to hide his leprosy.</mark> • None Hamilton, Bernard (2000). <mark>The Leper King and His Heirs: Baldwin IV and the Crusader Kingdom of Jerusalem.</mark> Cambridge University Press. ISBN . • None Mitchell, Piers D. (2000). \"An evaluation of the leprosy of King Baldwin IV of Jerusalem in the context of the medieval world\". <mark>The Leper King and His Heirs: Baldwin IV and the Crusader Kingdom of Jerusalem.</mark> By Hamilton, Bernard. Cambridge University Press. pp. 245–258. ISBN . • None Riley-Smith, Jonathan (1973). The feudal nobility and the kingdom of Jerusalem, 1147–1277. Macmillan. • None Runciman, Steven (1952). <mark>A History of the Crusades: The Kingdom of Jerusalem and the Frankish East, 1100–1187.</mark> Vol. 2. Cambridge University Press. ISBN . "
      ],
      "text/plain": [
       "<IPython.core.display.HTML object>"
      ]
     },
     "metadata": {},
     "output_type": "display_data"
    }
   ],
   "source": [
    "visualize(article.title,original_sentences,summary_tokenized)"
   ]
  },
  {
   "cell_type": "code",
   "execution_count": null,
   "metadata": {},
   "outputs": [],
   "source": []
  }
 ],
 "metadata": {
  "kernelspec": {
   "display_name": "venv",
   "language": "python",
   "name": "python3"
  },
  "language_info": {
   "codemirror_mode": {
    "name": "ipython",
    "version": 3
   },
   "file_extension": ".py",
   "mimetype": "text/x-python",
   "name": "python",
   "nbconvert_exporter": "python",
   "pygments_lexer": "ipython3",
   "version": "3.11.4"
  },
  "orig_nbformat": 4
 },
 "nbformat": 4,
 "nbformat_minor": 2
}
